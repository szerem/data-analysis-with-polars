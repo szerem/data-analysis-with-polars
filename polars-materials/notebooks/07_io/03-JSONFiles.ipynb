{
 "cells": [
  {
   "cell_type": "markdown",
   "id": "d5e1d8d8-7d1b-412c-8d7f-c99f44db57a3",
   "metadata": {},
   "source": [
    "# Read JSON and newline delimited JSON\n",
    "By the end of this lecture you will be able to:\n",
    "- read JSON\n",
    "- read newline delimited JSON\n",
    "- write newline delimited JSON\n",
    "- do lazy scans of newline delimited JSON\n",
    "\n",
    "A newline delimited JSON is a file with a valid JSON object per line. You can learn more about newline delimited JSON here: https://medium.com/@kandros/newline-delimited-json-is-awesome-8f6259ed4b4b\n"
   ]
  },
  {
   "cell_type": "code",
   "execution_count": null,
   "id": "4731cf26-7649-4d23-8fed-d3fcf78c7e84",
   "metadata": {
    "tags": []
   },
   "outputs": [],
   "source": [
    "from pathlib import Path\n",
    "\n",
    "import polars as pl"
   ]
  },
  {
   "cell_type": "markdown",
   "id": "75171cd3-7d91-4f67-b603-5b61b8a0aa99",
   "metadata": {},
   "source": [
    "We read the following valid JSON string. \n",
    "\n",
    "We convert the string to bytes with the `b` suffix to be read by `pl.read_json`"
   ]
  },
  {
   "cell_type": "code",
   "execution_count": null,
   "id": "a4be106a-988a-49c2-a196-4bfd4088e51f",
   "metadata": {
    "tags": []
   },
   "outputs": [],
   "source": [
    "jsonString = b\"\"\"\n",
    "    [\n",
    "        {\"id\":1,\"values\":\"a\"},\n",
    "        {\"id\":2,\"values\":\"b\"},\n",
    "        {\"id\":3,\"values\":null}\n",
    "    ]\n",
    "\"\"\""
   ]
  },
  {
   "cell_type": "code",
   "execution_count": null,
   "id": "d709c9e7-6cd0-4c57-bd28-d80501673520",
   "metadata": {
    "tags": []
   },
   "outputs": [],
   "source": [
    "pl.read_json(jsonString)"
   ]
  },
  {
   "cell_type": "markdown",
   "id": "8253857d-63b7-4e89-8003-0148d90ffaa0",
   "metadata": {},
   "source": [
    "Note that if you receive a JSON string (say from a `requests` library response) you can cast the string to bytes so Polars can read it with Python's built-in `bytes` function and the appropriate encoding (utf-8 in this example)"
   ]
  },
  {
   "cell_type": "code",
   "execution_count": null,
   "id": "134b5127-86b4-43fc-a712-5531b599952a",
   "metadata": {
    "tags": []
   },
   "outputs": [],
   "source": [
    "pl.read_json(bytes(\"\"\"\n",
    "    [\n",
    "        {\"id\":1,\"values\":\"a\"},\n",
    "        {\"id\":2,\"values\":\"b\"},\n",
    "        {\"id\":3,\"values\":null}\n",
    "    ]\n",
    "\"\"\",\"utf-8\"))"
   ]
  },
  {
   "cell_type": "markdown",
   "id": "aba5ef75-778f-4520-8c84-11e1c36d3948",
   "metadata": {},
   "source": [
    "### Writing JSON\n",
    "We can write a `DataFrame` to JSON with `write_json`"
   ]
  },
  {
   "cell_type": "code",
   "execution_count": null,
   "id": "69652990-d8e2-43bf-b207-c0cc07335d88",
   "metadata": {},
   "outputs": [],
   "source": [
    "df = pl.read_json(bytes(\"\"\"\n",
    "    [\n",
    "        {\"id\":1,\"values\":\"a\"},\n",
    "        {\"id\":2,\"values\":\"b\"},\n",
    "        {\"id\":3,\"values\":null}\n",
    "    ]\n",
    "\"\"\",\"utf-8\"))\n",
    "df.write_json()"
   ]
  },
  {
   "cell_type": "markdown",
   "id": "5956c056-0bb2-47bb-bc32-8477e1c927dc",
   "metadata": {},
   "source": [
    "By default this JSON has a column orientation. We can make this easier to read with `pretty=True`"
   ]
  },
  {
   "cell_type": "code",
   "execution_count": null,
   "id": "d5c5fd59-880c-4039-8341-ca2f2567c6b1",
   "metadata": {},
   "outputs": [],
   "source": [
    "print(df.write_json(pretty=True))"
   ]
  },
  {
   "cell_type": "markdown",
   "id": "ad7e0d66-c2ab-4a60-a4e4-8e452051dff1",
   "metadata": {},
   "source": [
    "We can instead write the output in a row-oriented with `row_oriented=True`"
   ]
  },
  {
   "cell_type": "code",
   "execution_count": null,
   "id": "c9a98eb2-d4d5-41c4-a8af-338114aaa272",
   "metadata": {},
   "outputs": [],
   "source": [
    "df.write_json(row_oriented=True)"
   ]
  },
  {
   "cell_type": "markdown",
   "id": "bc28c3b1-f240-4066-b646-dcc0726ea7b7",
   "metadata": {},
   "source": [
    "Writing in a row-oriented way is slower for large datasets as Polars must convert from its column-oriented data to row-oriented data."
   ]
  },
  {
   "cell_type": "markdown",
   "id": "7a01ef53-1e94-40f2-a7ff-6543543502e9",
   "metadata": {},
   "source": [
    "## Nested data\n",
    "\n",
    "JSON may contain arbitrarily nested structures. Polars tries to cast these nested structures to its own nested dtypes. \n",
    "\n",
    "### Nested key-value pairs\n",
    "Polars converts the key-value pair in `values` to a `pl.Struct` dtype *if the types in the nested structure are consistent*. Otherwise an `Exception` is raised"
   ]
  },
  {
   "cell_type": "code",
   "execution_count": null,
   "id": "1ac601ba-0c0c-48be-8710-cda2cdd91d0e",
   "metadata": {},
   "outputs": [],
   "source": [
    "nestedJsonString = b\"\"\"\n",
    "    [\n",
    "        {\"id\":1,\"values\":{\"a\":0,\"b\":1}},\n",
    "        {\"id\":2,\"values\":{\"a\":0,\"b\":1}},\n",
    "        {\"id\":3,\"values\":null}\n",
    "    ]\n",
    "\"\"\""
   ]
  },
  {
   "cell_type": "code",
   "execution_count": null,
   "id": "6be9557b-3052-494f-8023-dceabcfc5c80",
   "metadata": {},
   "outputs": [],
   "source": [
    "pl.read_json(nestedJsonString)"
   ]
  },
  {
   "cell_type": "markdown",
   "id": "c7b7be71-335f-45e2-91ce-93fbc929d8cb",
   "metadata": {},
   "source": [
    "### Nested arrays\n",
    "Polars attempts to convert arrays to a `pl.List` dtype"
   ]
  },
  {
   "cell_type": "code",
   "execution_count": null,
   "id": "8a4b9f07-9c1a-4ec0-a907-be8aa3e8d8c8",
   "metadata": {},
   "outputs": [],
   "source": [
    "nestedArrayJsonString = b\"\"\"\n",
    "    [\n",
    "        {\"id\":1,\"values\":[0,1]},\n",
    "        {\"id\":2,\"values\":[0,1.0]}\n",
    "    ]\n",
    "\"\"\""
   ]
  },
  {
   "cell_type": "code",
   "execution_count": null,
   "id": "4646be1c-0b5f-4a34-97d6-177dfcbe1dbc",
   "metadata": {},
   "outputs": [],
   "source": [
    "pl.read_json(nestedArrayJsonString)"
   ]
  },
  {
   "cell_type": "markdown",
   "id": "d159d500-0910-47b1-98b3-9415728dafdf",
   "metadata": {},
   "source": [
    "## Newline delimited JSON\n",
    "In a similar way we read newline delimited JSON with `pl.read_ndjson`"
   ]
  },
  {
   "cell_type": "code",
   "execution_count": null,
   "id": "5beedff5-8e79-4d7c-8655-d3c80fcf123c",
   "metadata": {},
   "outputs": [],
   "source": [
    "newlineDelimitedJsonString = b\"\"\"\n",
    "        {\"id\":1,\"values\":\"a\"}\\n\n",
    "        {\"id\":2,\"values\":\"b\"}\\n\n",
    "        {\"id\":3,\"values\":null}\\n\n",
    "\"\"\""
   ]
  },
  {
   "cell_type": "code",
   "execution_count": null,
   "id": "291c7f88-4381-4882-b540-d6d04f3eb7c4",
   "metadata": {},
   "outputs": [],
   "source": [
    "pl.read_ndjson(newlineDelimitedJsonString)"
   ]
  },
  {
   "cell_type": "markdown",
   "id": "a5c541e2-5d1a-4631-81ce-be95257c62e9",
   "metadata": {},
   "source": [
    "We can also do lazy scans of newline-delimited JSON. To show this we must first create a directory to hold an example newline-delimited JSON"
   ]
  },
  {
   "cell_type": "code",
   "execution_count": null,
   "id": "1bbcb2e1-5676-4e9e-856a-db7175794401",
   "metadata": {},
   "outputs": [],
   "source": [
    "# Specify a directory to hold the ndJSON file\n",
    "ndjson_dir = Path('data_files/ndjson')\n",
    "ndjson_file = \"example.json\"\n",
    "# Create the ndjson sub-directory if it doesn't exist already\n",
    "ndjson_dir.mkdir(parents=True,exist_ok=True)\n",
    "# Set the path to the ndJSON file\n",
    "ndjson_path = ndjson_dir / ndjson_file"
   ]
  },
  {
   "cell_type": "markdown",
   "id": "657aacb4-a7b0-4a65-b624-db7a554c84fe",
   "metadata": {},
   "source": [
    "Now we will create a `DataFrame` from the example above and write it to the example file"
   ]
  },
  {
   "cell_type": "code",
   "execution_count": null,
   "id": "b449f5c8-dc60-4743-b64e-3d62ec768c99",
   "metadata": {},
   "outputs": [],
   "source": [
    "df = pl.read_ndjson(newlineDelimitedJsonString)\n",
    "df.write_ndjson(ndjson_path)"
   ]
  },
  {
   "cell_type": "markdown",
   "id": "491b9223-9e56-4cc1-b259-bab2a09d3325",
   "metadata": {},
   "source": [
    "We can now start a lazy query by scanning the ndJSON file"
   ]
  },
  {
   "cell_type": "code",
   "execution_count": null,
   "id": "ac0fe991-a951-4800-aae0-4d304174279f",
   "metadata": {},
   "outputs": [],
   "source": [
    "print(\n",
    "    pl.scan_ndjson(ndjson_path)\n",
    "    .select(\"id\")\n",
    "    .explain()\n",
    ")"
   ]
  },
  {
   "cell_type": "markdown",
   "id": "2a9ad58b-d991-40a7-872f-9dc3d76592f9",
   "metadata": {},
   "source": [
    "At present `pl.scan_ndjson` does not work in streaming mode (as there is no `STREAMING` part of this query plan)"
   ]
  },
  {
   "cell_type": "code",
   "execution_count": null,
   "id": "a9f9cb1f-10b5-430b-ba2a-c361209e6258",
   "metadata": {},
   "outputs": [],
   "source": [
    "print(\n",
    "    pl.scan_ndjson(ndjson_path)\n",
    "    .select(\"id\")\n",
    "    .explain(streaming=True)\n",
    ")"
   ]
  },
  {
   "cell_type": "markdown",
   "id": "5b6bd748-7bb3-41b4-ae80-a8e9569df5b7",
   "metadata": {},
   "source": [
    "There are no exercises to this lecture"
   ]
  }
 ],
 "metadata": {
  "kernelspec": {
   "display_name": "Python 3 (ipykernel)",
   "language": "python",
   "name": "python3"
  },
  "language_info": {
   "codemirror_mode": {
    "name": "ipython",
    "version": 3
   },
   "file_extension": ".py",
   "mimetype": "text/x-python",
   "name": "python",
   "nbconvert_exporter": "python",
   "pygments_lexer": "ipython3",
   "version": "3.10.1"
  }
 },
 "nbformat": 4,
 "nbformat_minor": 5
}
