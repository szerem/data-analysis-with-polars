{
    "cells": [
        {
            "cell_type": "markdown",
            "id": "a5d136f7-d7a8-4111-a791-5ed2e0979b99",
            "metadata": {},
            "source": [
                "## Adjusting datetimes\n",
                "\n",
                "By the end of this lecture you will be able to:\n",
                "\n",
                "- add an offset to a datetime\n",
                "- truncate a datetime to the start of an interval\n",
                "- round a datetime to an interval"
            ]
        },
        {
            "cell_type": "code",
            "execution_count": null,
            "id": "92b337dd-849d-4897-997f-ff82dd87dcea",
            "metadata": {
                "tags": []
            },
            "outputs": [],
            "source": [
                "from datetime import date,datetime,timedelta\n",
                "\n",
                "import polars as pl"
            ]
        },
        {
            "cell_type": "markdown",
            "id": "2339b608-3401-4103-96e4-78b39993d218",
            "metadata": {},
            "source": [
                "We create a `DataFrame` with a monthly date range spanning 2020"
            ]
        },
        {
            "cell_type": "code",
            "execution_count": null,
            "id": "bf0877d2-bccb-474b-b0f2-90253d8661ae",
            "metadata": {
                "tags": []
            },
            "outputs": [],
            "source": [
                "start = datetime(2020,1,1)\n",
                "stop = datetime(2021,1,1)\n",
                "df = (\n",
                "    pl.DataFrame(\n",
                "        {\n",
                "            \"date\":pl.datetime_range(start,stop,interval=\"1mo\",eager=True)\n",
                "        }\n",
                "    )\n",
                ")\n",
                "df"
            ]
        },
        {
            "cell_type": "markdown",
            "id": "1a8583a2-f6ca-417a-b424-39ac3c19c2f8",
            "metadata": {},
            "source": [
                "See below for how to get this on a month-end basis"
            ]
        },
        {
            "cell_type": "markdown",
            "id": "bfa37a8b-86af-4afb-8ba8-058795eb93b5",
            "metadata": {},
            "source": [
                "For adjustments of days or less we can adjust a datetime using `pl.duration` in an expression"
            ]
        },
        {
            "cell_type": "code",
            "execution_count": null,
            "id": "3a1e5ac0-a255-493e-918b-a342b1cfe9e6",
            "metadata": {
                "tags": []
            },
            "outputs": [],
            "source": [
                "(\n",
                "    df\n",
                "    .with_columns(\n",
                "        (pl.col(\"date\") + pl.duration(hours=1,minutes=10)).alias(\"add_hour_ten\")\n",
                "    )\n",
                "    .head()\n",
                ")"
            ]
        },
        {
            "cell_type": "markdown",
            "id": "c22c3336-b0aa-4413-bd50-8396a2c2ef01",
            "metadata": {},
            "source": [
                "The largest unit supported by `pl.duration` is days and so it cannot, for example, move forward by a month."
            ]
        },
        {
            "cell_type": "markdown",
            "id": "9ecd944b-b47c-4ee0-aa5c-1ebd441dc2a4",
            "metadata": {},
            "source": [
                "A better way to adjust datetimes is to use `dt.offset_by` with a string interval offset"
            ]
        },
        {
            "cell_type": "code",
            "execution_count": null,
            "id": "eccb53fd-3996-490a-9046-2883eafcdc4e",
            "metadata": {
                "tags": []
            },
            "outputs": [],
            "source": [
                "(\n",
                "    df\n",
                "    .with_columns(\n",
                "        pl.col(\"date\").dt.offset_by(\"1mo\").alias(\"add_month\")\n",
                "    )\n",
                "    .head()\n",
                ")"
            ]
        },
        {
            "cell_type": "markdown",
            "id": "1ae66a40-8fc0-4b12-96b3-1b454770bcd9",
            "metadata": {},
            "source": [
                "The first row demonstrates that `dt.offset_by` can handle leap years.\n",
                "\n",
                "We use the standard interval strings for `dt.offset_by`\n",
                "- `\"1ns\"`:1 nanosecond\n",
                "- `\"1us\"`:1 microsecond\n",
                "- `\"1ms\"`:1 millisecond\n",
                "- `\"1s\"` :1 second\n",
                "- `\"1m\"` :1 minute\n",
                "- `\"1h\"` :1 hour\n",
                "- `\"1d\"` :1 day\n",
                "- `\"1w\"` :1 week\n",
                "- `\"1mo\"`:1 calendar month\n",
                "- `\"1y\"` :1 calendar year\n",
                "\n",
                "If we want to get a date series on a month-end basis we use `dt.month_end`"
            ]
        },
        {
            "cell_type": "code",
            "execution_count": null,
            "id": "f8374ece-dda2-423c-a794-ff0f4cf933ad",
            "metadata": {},
            "outputs": [],
            "source": [
                "start = datetime(2020,1,1)\n",
                "stop = datetime(2021,1,1)\n",
                "(\n",
                "    pl.DataFrame(\n",
                "        {\n",
                "            \"date\":pl.datetime_range(start,stop,interval=\"1mo\",eager=True)\n",
                "        }\n",
                "    )\n",
                "    .with_columns(\n",
                "        pl.col('date').dt.month_end()\n",
                "    )\n",
                ")"
            ]
        },
        {
            "cell_type": "markdown",
            "id": "ee2736d5-d64d-4ce1-8385-fd4921d451a7",
            "metadata": {},
            "source": [
                "## Truncating datetimes\n",
                "In this example we create a datetime series over one hour at 20 minute intervals.\n",
                "\n",
                "We truncate these to one hour bins with `dt.truncate`"
            ]
        },
        {
            "cell_type": "code",
            "execution_count": null,
            "id": "a7d8023d-db14-4750-a537-ce9422846c2f",
            "metadata": {
                "tags": []
            },
            "outputs": [],
            "source": [
                "start = datetime(2020,1,1)\n",
                "stop = datetime(2020,1,1,2)\n",
                "(\n",
                "    pl.DataFrame(\n",
                "        {\n",
                "            \"date\":pl.datetime_range(start,stop,interval=\"20m\",eager=True)\n",
                "        }\n",
                "    )\n",
                "    .with_columns(\n",
                "        pl.col(\"date\").dt.truncate(\"1h\").alias(\"truncate\")\n",
                "    )\n",
                "    .head()\n",
                ")"
            ]
        },
        {
            "cell_type": "markdown",
            "id": "505b4367-9941-4feb-b587-2d09c0b9f798",
            "metadata": {},
            "source": [
                "When we call `truncate` Polars bins the datetimes into windows with length of the truncate period.\n",
                "\n",
                "All datetimes in a window are mapped to the datetime **at the start of the window**.\n",
                "\n",
                "## How are the windows created?\n",
                "\n",
                "To illustrate how the windows are created we:\n",
                "- create a date range at 5 minute intervals over an hour\n",
                "- use a truncation period of 11 minutes that does not divide into 60 minutes\n",
                "- add the physical (microsecond) representation of the truncated datetime"
            ]
        },
        {
            "cell_type": "code",
            "execution_count": null,
            "id": "c8ac9c68-2c62-4c67-88cc-c38b3be8f21a",
            "metadata": {
                "tags": []
            },
            "outputs": [],
            "source": [
                "(\n",
                "    pl.DataFrame(\n",
                "        {\n",
                "            \"date\":pl.datetime_range(start,stop,interval=\"5m\",eager=True)\n",
                "        }\n",
                "    )\n",
                "    .with_columns(\n",
                "        pl.col(\"date\").dt.truncate(\"11m\").alias(\"truncate\")\n",
                "    )\n",
                "    .with_columns(\n",
                "        pl.col(\"truncate\").to_physical().alias(\"truncate_physical\")\n",
                "    )\n",
                "    .head()\n",
                ")"
            ]
        },
        {
            "cell_type": "markdown",
            "id": "1db12289-2660-4190-b3d2-35a1750d2eb3",
            "metadata": {},
            "source": [
                "We see that the first datetime of `00:00:00` in `date` is mapped to `23:51:00` by `dt.truncate`.\n",
                "\n",
                "If we divide the value in microseconds from the `truncate_physical` column by 11 minutes (in microseconds) we get an even division."
            ]
        },
        {
            "cell_type": "code",
            "execution_count": null,
            "id": "f940d123-b530-48df-8c39-e45c4e3b26a7",
            "metadata": {
                "tags": []
            },
            "outputs": [],
            "source": [
                "1577836260000000/(11*60*1e6)"
            ]
        },
        {
            "cell_type": "markdown",
            "id": "3189a288-72c5-4861-91e4-289b0fa5a52e",
            "metadata": {},
            "source": [
                "So `2019-12-31 23:51:00` is the last multiple of 11 minutes before `2020-01-01 00:00:00` when we start the 11 minute intervals from 0 in the Unix epoch.\n",
                "\n",
                "We can adjust the start of the windows with the `offset` argument. In this example we offset to start the first window at `00:00:00`"
            ]
        },
        {
            "cell_type": "code",
            "execution_count": null,
            "id": "f102aa51-03d5-4049-a59a-1295110411db",
            "metadata": {
                "tags": []
            },
            "outputs": [],
            "source": [
                "(\n",
                "    pl.DataFrame(\n",
                "        {\n",
                "            \"date\":pl.datetime_range(start,stop,interval=\"5m\",eager=True)\n",
                "        }\n",
                "    )\n",
                "    .with_columns(\n",
                "        pl.col(\"date\").dt.truncate(\"11m\").alias(\"truncate\")\n",
                "    )\n",
                "    .with_columns(\n",
                "        pl.col(\"date\").dt.truncate(\"11m\",offset=\"9m\").alias(\"truncate_offset\")\n",
                "    )\n",
                "    .head()\n",
                ")"
            ]
        },
        {
            "cell_type": "markdown",
            "id": "ab3eba80-ff1d-4a5c-9990-6daae6cb983d",
            "metadata": {},
            "source": [
                "## Rounding datetimes\n",
                "We use `dt.round` to do something similar except that datetimes are either rounded down to the start of the window or up to the end of the window.\n",
                "\n",
                "In this example we have a 10-minute interval and round to hourly intervals"
            ]
        },
        {
            "cell_type": "code",
            "execution_count": null,
            "id": "541f5ff7-39be-47c8-a30d-93aab96bebd4",
            "metadata": {},
            "outputs": [],
            "source": [
                "(\n",
                "    pl.DataFrame(\n",
                "        {\n",
                "            \"date\":pl.datetime_range(start,stop,interval=\"10m\",eager=True)\n",
                "        }\n",
                "    )\n",
                "    .with_columns(\n",
                "        pl.col(\"date\").dt.round(\"1h\").alias(\"round\")\n",
                "    )\n",
                "    .head()\n",
                ")"
            ]
        },
        {
            "cell_type": "markdown",
            "id": "eb9cade5-bdf5-4990-89aa-f337cf6059a9",
            "metadata": {},
            "source": [
                "We see that a datetime of `00:30:00` halfway through the window is rounded up the end of the window at `01:00:00`"
            ]
        },
        {
            "cell_type": "markdown",
            "id": "8ad7042e-39a3-445d-805f-8cf60229a1f3",
            "metadata": {},
            "source": [
                "## Exercises\n",
                "In the exercises you will develop your understanding of:\n",
                "- adding an offset to a datetime\n",
                "- truncating a datetime\n",
                "- rounding a datetime\n",
                "\n",
                "### Exercise 1\n",
                "Use `truncate` to map the values in the `pickup` column to the start of weekly intervals.\n",
                "\n",
                "Apply an `offset` to ensure that the first mapped datetime is `2021-12-31 00:00:00`"
            ]
        },
        {
            "cell_type": "code",
            "execution_count": null,
            "id": "f2b33bae-2688-4b97-9047-a8b1a728a57e",
            "metadata": {},
            "outputs": [],
            "source": [
                "csv_file = \"../data/nyc_trip_data_1k.csv\"\n",
                "(\n",
                "    <blank>\n",
                "    .head()\n",
                ")"
            ]
        },
        {
            "cell_type": "markdown",
            "id": "dfbaddf3-0885-458c-aa3d-810a380c0d1f",
            "metadata": {},
            "source": [
                "Map the values in the `pickup` column into weekly windows based on the closest window boundary using `round`"
            ]
        },
        {
            "cell_type": "code",
            "execution_count": null,
            "id": "d1682b0d-375c-4aed-95cf-b5596e9dd509",
            "metadata": {},
            "outputs": [],
            "source": [
                "csv_file = \"../data/nyc_trip_data_1k.csv\"\n",
                "(\n",
                "    <blank>\n",
                "    .head()\n",
                ")"
            ]
        },
        {
            "cell_type": "markdown",
            "id": "a82dc61b-e930-4a2c-9c97-460045808108",
            "metadata": {},
            "source": [
                "### Exercise 2\n",
                "Add 12 hours to each date so the datetimes are midday **on the last day of the month** instead of midnight"
            ]
        },
        {
            "cell_type": "code",
            "execution_count": null,
            "id": "ef908c4b-9b47-4c40-bb93-3cf16d910956",
            "metadata": {},
            "outputs": [],
            "source": [
                "start = datetime(2020,1,1)\n",
                "stop = datetime(2021,1,1)\n",
                "(\n",
                "    pl.DataFrame(\n",
                "        {\n",
                "            \"date\":pl.datetime_range(start,stop,interval=\"1mo\",eager=True)\n",
                "        }\n",
                "    )\n",
                "    <blank>\n",
                ")"
            ]
        },
        {
            "cell_type": "markdown",
            "id": "ebab2003-c7e3-4194-bec4-243573445330",
            "metadata": {},
            "source": [
                "## Solutions\n",
                "\n",
                "### Solution to exercise 1"
            ]
        },
        {
            "cell_type": "markdown",
            "id": "38e37d46-8671-4d33-9944-1bedfc3e556a",
            "metadata": {},
            "source": [
                "Map the values in the `pickup` column to weekly intervals where the values are mapped to the start of the interval.\n",
                "\n",
                "Ensure that the first mapped datetime is 2021-12-31 00:00:00"
            ]
        },
        {
            "cell_type": "code",
            "execution_count": null,
            "id": "2f0ec49e-e5a7-4631-8613-26c3ea7dc852",
            "metadata": {
                "jupyter": {
                    "source_hidden": true
                },
                "tags": []
            },
            "outputs": [],
            "source": [
                "csv_file = \"../data/nyc_trip_data_1k.csv\"\n",
                "(\n",
                "    pl.read_csv(csv_file,try_parse_dates=True)\n",
                "    .with_columns(\n",
                "        pl.col(\"pickup\").dt.truncate(\"1w\",offset=\"4d\")\n",
                "    )\n",
                "    .head(2)\n",
                ")"
            ]
        },
        {
            "cell_type": "markdown",
            "id": "937dd78c-1e9f-4c36-a3cf-49232c6a802d",
            "metadata": {},
            "source": [
                "Map the values in the `pickup` column into weekly windows based on the closest window boundary"
            ]
        },
        {
            "cell_type": "code",
            "execution_count": null,
            "id": "7ec17564-35b4-4177-83cb-ce666b999adf",
            "metadata": {
                "jupyter": {
                    "source_hidden": true
                },
                "tags": []
            },
            "outputs": [],
            "source": [
                "csv_file = \"../data/nyc_trip_data_1k.csv\"\n",
                "(\n",
                "    pl.read_csv(csv_file,try_parse_dates=True)\n",
                "    .with_columns(\n",
                "        pl.col(\"pickup\").dt.round(\"1w\")\n",
                "    )\n",
                "    .head(2)\n",
                ")"
            ]
        },
        {
            "cell_type": "markdown",
            "id": "b589451f-79c5-4d5c-b39c-ecafbf869844",
            "metadata": {},
            "source": [
                "### Solution to exercise 2\n",
                "Add 12 hours to each date so the datetimes are midday **on the last day of the month** instead of midnight"
            ]
        },
        {
            "cell_type": "code",
            "execution_count": null,
            "id": "a670646f-6a79-4e98-98a7-c20ec544af56",
            "metadata": {
                "jupyter": {
                    "source_hidden": true
                },
                "tags": []
            },
            "outputs": [],
            "source": [
                "start = datetime(2020,1,1)\n",
                "stop = datetime(2021,1,1)\n",
                "(\n",
                "    pl.DataFrame(\n",
                "        {\n",
                "            \"date\":pl.datetime_range(start,stop,interval=\"1mo\",eager=True)\n",
                "        }\n",
                "    )\n",
                "    .select(\n",
                "        pl.col(\"date\").dt.month_end().dt.offset_by(\"12h\")\n",
                "    )\n",
                ")"
            ]
        },
        {
            "cell_type": "code",
            "execution_count": null,
            "id": "0050737e-85e7-4832-8687-9ba2cf05d803",
            "metadata": {},
            "outputs": [],
            "source": []
        }
    ],
    "metadata": {
        "kernelspec": {
            "display_name": "Python 3 (ipykernel)",
            "language": "python",
            "name": "python3"
        },
        "language_info": {
            "codemirror_mode": {
                "name": "ipython",
                "version": 3
            },
            "file_extension": ".py",
            "mimetype": "text/x-python",
            "name": "python",
            "nbconvert_exporter": "python",
            "pygments_lexer": "ipython3",
            "version": "3.10.1"
        }
    },
    "nbformat": 4,
    "nbformat_minor": 5
}