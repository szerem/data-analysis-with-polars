{
 "cells": [
  {
   "cell_type": "markdown",
   "id": "7d3c5536-34c7-404f-b362-dab549c22b15",
   "metadata": {},
   "source": [
    "## Working with time zones\n",
    "\n",
    "By the end of this lecture you will be able to:\n",
    "- add a time zone to a datetime\n",
    "- change the time zone\n",
    "- explain the use case of the different time zone functions\n",
    "\n",
    "Working with time zones can be tricky. In this lecture we break it down to understand how the different time zone functions work."
   ]
  },
  {
   "cell_type": "code",
   "execution_count": null,
   "id": "54cf6c48-94dc-4fbc-a701-9028a83af5f9",
   "metadata": {
    "tags": []
   },
   "outputs": [],
   "source": [
    "from datetime import date,datetime\n",
    "\n",
    "import polars as pl"
   ]
  },
  {
   "cell_type": "markdown",
   "id": "c606776c-1ba9-4315-ba57-a41c5dca31a8",
   "metadata": {},
   "source": [
    "## Creating a simple `DataFrame`\n",
    "\n",
    "We create a `DataFrame` that has a single value in the `date` column - 1970/1/1 00:00:00\n",
    "\n",
    "This date is the origin point for Unix timestamps. If we instead use a contemporary datetime it can be tricky to track changes in the integer representations as we are looking for small differences in large numbers.\n",
    "\n",
    "To make things easier we will convert the integer representations from microseconds to hours with the following conversion factor"
   ]
  },
  {
   "cell_type": "code",
   "execution_count": null,
   "id": "eeecd8f4-fe84-4831-ac1f-2d02094c9aa2",
   "metadata": {
    "tags": []
   },
   "outputs": [],
   "source": [
    "# Conversion factor to convert integer timestamps to hours\n",
    "microseconds_per_hour = 3600 * 1e6"
   ]
  },
  {
   "cell_type": "markdown",
   "id": "acfed7a5-9c81-44aa-a830-5beb6ca0e77a",
   "metadata": {},
   "source": [
    "In the `DataFrame` we also add a column `hours` with the physical integer representation coverted from (integer) microseconds to (floating point) hours since the start of the epoch"
   ]
  },
  {
   "cell_type": "code",
   "execution_count": null,
   "id": "a0f876c4-867b-48ce-8bcf-6a3c82238c79",
   "metadata": {
    "tags": []
   },
   "outputs": [],
   "source": [
    "df = (\n",
    "    pl.DataFrame(\n",
    "        {\n",
    "            \"datetime\":[datetime(1970,1,1)]\n",
    "        }\n",
    "    )\n",
    "    .with_columns(\n",
    "        pl.col(\"datetime\").to_physical().alias(\"hours\")/microseconds_per_hour\n",
    "    )\n",
    ")\n",
    "df"
   ]
  },
  {
   "cell_type": "markdown",
   "id": "0fca234a-a2bd-4f9d-87b8-a700d447bfba",
   "metadata": {},
   "source": [
    "By default a `pl.Datetime` is **time zone-naive** - it has no time zone attached. Implicitly, however, a time zone-naive value is implicitly in the UTC time zone as 1970-01-01 00:00:00 as it corresponds to a timestamp of 0.\n",
    "\n",
    "## Specify a time zone for a given datetime\n",
    "If we know that the datetimes are not UTC but actually record a local datetime in a time zone we can specify the time zone with `dt.replace_time_zone`\n",
    "\n",
    "The names of the time zone locations come from the Rust library chrono-tz. <a href=\"https://docs.rs/chrono-tz/latest/chrono_tz/enum.Tz.html\" target=\"_blank\"> See here for the full list of supported time zone names and locations</a>.\n",
    "\n",
    "\n",
    "We tell Polars that this datetime is actually a local time in New York. We do this in a new column `tz_local` and also add the physical representation in `tz_local_hours`"
   ]
  },
  {
   "cell_type": "code",
   "execution_count": null,
   "id": "e183c2f9-8d65-4e3a-a316-6df339ce9c09",
   "metadata": {
    "tags": []
   },
   "outputs": [],
   "source": [
    "(\n",
    "    df\n",
    "    .with_columns(\n",
    "        [\n",
    "            pl.col(\"datetime\").dt.replace_time_zone(\"America/New_York\").alias(\"tz_local\"),\n",
    "            pl.col(\"datetime\").dt.replace_time_zone(\"America/New_York\").to_physical().alias(\"tz_local_hours\")/microseconds_per_hour\n",
    "        ]\n",
    "    )\n",
    ")"
   ]
  },
  {
   "cell_type": "markdown",
   "id": "1375cde8-fefd-4f47-af09-93147dacc3c7",
   "metadata": {},
   "source": [
    "By calling `dt.replace_time_zone`:\n",
    "- the datetime hasn't changed from 1970-01-01 00:00:00 but now has the EST timezone\n",
    "- the physical representation **has changed** from 0 to 5 hours\n",
    "\n",
    "The physical representation must change by 5 hours because 1970-01-01 00:00:00 EST occured 5 hours into the Unix epoch\n",
    "\n",
    "> Terminology: we refer to the difference in hours between timezones as the *offset*. For example the offset between 1970-01-01 00:00:00 UTC and 1969-12-31 19:00:00 EST is 5 hours.\n",
    "\n",
    "## Change the time zone for a given Unix timestamp \n",
    "In this scenario we know that the original data was recorded in Unix timestamps and so is in the UTC timezone. We now want to know what local time that UTC timestamp corresponds to in New York. \n",
    "\n",
    "In this case we use `df.convert_time_zone` (after we have applied an explicit UTC time zone)"
   ]
  },
  {
   "cell_type": "code",
   "execution_count": null,
   "id": "191d0d3d-3341-452b-a3d6-f67253b71a1a",
   "metadata": {
    "tags": []
   },
   "outputs": [],
   "source": [
    "(\n",
    "    df\n",
    "    .with_columns(\n",
    "        # Make UTC time zone explicit\n",
    "        pl.col(\"datetime\").dt.replace_time_zone(\"UTC\")\n",
    "    )\n",
    "    .with_columns(\n",
    "        [\n",
    "            pl.col(\"datetime\").dt.convert_time_zone(\"America/New_York\").alias(\"with_tz\"),\n",
    "            pl.col(\"datetime\").dt.convert_time_zone(\"America/New_York\").to_physical().alias(\"with_tz_hours\")/microseconds_per_hour\n",
    "        ]\n",
    "    )\n",
    ")"
   ]
  },
  {
   "cell_type": "markdown",
   "id": "17b9f1ff-0c8d-4204-acf1-85e2f82d245e",
   "metadata": {},
   "source": [
    "By calling `dt.convert_time_zone`:\n",
    "- the datetime **has been offset** by -5 hours to 1969-12-31 19:00:00 as EST is 5 hours behind UTC\n",
    "- the physical representation has not changed from 0\n"
   ]
  },
  {
   "cell_type": "markdown",
   "id": "457edbef-a16a-43ba-a075-ee4dac911391",
   "metadata": {},
   "source": [
    "We can remove a time zone by replacing the time zone with `None`"
   ]
  },
  {
   "cell_type": "code",
   "execution_count": null,
   "id": "b4e38330-9664-4e8c-be4a-272488a7ad89",
   "metadata": {
    "tags": []
   },
   "outputs": [],
   "source": [
    "(\n",
    "    df\n",
    "    .with_columns(\n",
    "        pl.col(\"datetime\").dt.replace_time_zone(\"UTC\")\n",
    "    )\n",
    "    # Remove the time zone\n",
    "    .with_columns(\n",
    "        [\n",
    "            pl.col(\"datetime\").dt.replace_time_zone(None).alias(\"no_tz\"),\n",
    "            pl.col(\"datetime\").dt.replace_time_zone(None).to_physical().alias(\"no_tz_hours\")/microseconds_per_hour\n",
    "        ]\n",
    "    )\n",
    ")"
   ]
  },
  {
   "cell_type": "markdown",
   "id": "8f981c02-ee3f-407b-8cb0-e710e5d9451a",
   "metadata": {},
   "source": [
    "### Summary of the methods\n",
    "We summarise these methods here. The Datetime column reflects whether the datetime changes e.g. 1970-01-01 00:00:00 to 1969-12-31 19:00:00\n",
    "\n",
    "| Method |Datetime | Timestamp|\n",
    "|---|---|---|\n",
    "| `dt.replace_time_zone` | No change | Changes timestamp |\n",
    "| `dt.convert_time_zone` | Changes by offset| No change |\n",
    "\n",
    "Example use cases:\n",
    "- `dt.replace_time_zone` when your datetimes record when things happened in local time and you want to capture the right time zone and Unix timestamp\n",
    "- `dt.convert_time_zone` when your data records when things happened in Unix timestamps and you want to know what this was in a local time zone\n"
   ]
  },
  {
   "cell_type": "markdown",
   "id": "2483708b-88e7-4708-8785-c3dc9c4039ac",
   "metadata": {},
   "source": [
    "## Filtering time zone datetimes\n",
    "To filter a datetime with a time zone we need to specify the time zone in the `filter`.\n",
    "\n",
    "We use the `zoneinfo` library that is built into Python to specify the time zone.\n",
    "\n",
    "In this example we create:\n",
    "- a `DataFrame` with the first few hours of the Unix epoch\n",
    "- add a `nyc` column in the New York time zone\n",
    "- filter times before 06:00 in the New York time zone"
   ]
  },
  {
   "cell_type": "code",
   "execution_count": null,
   "id": "9cb1a9b4-2bfd-4411-b734-307fc655cdd0",
   "metadata": {
    "tags": []
   },
   "outputs": [],
   "source": [
    "from zoneinfo import ZoneInfo\n",
    "start = datetime(1970,1,1)\n",
    "stop = datetime(1970,1,1,7)\n",
    "(\n",
    "    pl.DataFrame(\n",
    "        {\n",
    "            \"date\":pl.datetime_range(start,stop,\"1h\",eager=True)\n",
    "        }\n",
    "    )\n",
    "    .with_columns(pl.col(\"date\").dt.replace_time_zone(\"America/New_York\").alias(\"nyc\"))\n",
    "    .filter(\n",
    "        pl.col(\"nyc\") < datetime(1970,1,1,6,tzinfo=ZoneInfo(\"America/New_York\"))\n",
    "    )\n",
    ")"
   ]
  },
  {
   "cell_type": "markdown",
   "id": "8a0f0042-3b52-497c-8ab0-855db9f2b78c",
   "metadata": {},
   "source": [
    "### Extracting the date/time for a datetime with a timezone\n",
    "In the lecture on Timeseries Features later in this section we see how to extract the date/time from a datetime with a timezone with `dt.date` and `dt.time`\n",
    "\n",
    "## Exercises\n",
    "In the exercises you will develop your understanding of:\n",
    "- setting the time zone\n",
    "- changing the time zone\n",
    "- getting the time difference between time zones\n",
    "\n",
    "\n",
    "## Exercise 1\n",
    "Create a `DataFrame` with a `date` column at monthly intervals from 1st September 2020 to 1st December 2020"
   ]
  },
  {
   "cell_type": "code",
   "execution_count": null,
   "id": "600b129b-2050-4a30-9040-524d330f4fa1",
   "metadata": {},
   "outputs": [],
   "source": [
    "start = datetime(2020,9,1)\n",
    "stop = datetime(2020,12,1)\n",
    "(\n",
    "    pl.DataFrame(\n",
    "        {\n",
    "            \"date\":<blank>\n",
    "        }\n",
    "    )\n",
    ")"
   ]
  },
  {
   "cell_type": "markdown",
   "id": "6053972f-ee5b-4e61-8e69-0e700917cdd0",
   "metadata": {},
   "source": [
    "The dates in the `date` column record events that happened in an factory in Johannesburg in South Africa.\n",
    "\n",
    "Transform the `date` column so that the datetimes are local to Johannesburg.\n",
    "\n",
    "Continue with your query from above in each step of this exercise"
   ]
  },
  {
   "cell_type": "code",
   "execution_count": null,
   "id": "2a26d9ae-9874-4fea-ac1a-7e6fef556c1d",
   "metadata": {},
   "outputs": [],
   "source": []
  },
  {
   "cell_type": "markdown",
   "id": "629b08cb-c5fc-416b-82df-1c8139cfa738",
   "metadata": {},
   "source": [
    "Add a column with the integer representation called `date_p`"
   ]
  },
  {
   "cell_type": "code",
   "execution_count": null,
   "id": "3a0eeddd-17a3-4ae4-ab93-3272869d662e",
   "metadata": {},
   "outputs": [],
   "source": []
  },
  {
   "cell_type": "markdown",
   "id": "59e12391-0bb3-43fd-8459-0262a8d8ea4a",
   "metadata": {},
   "source": [
    "You want to know what time it was in the Dublin office when the events happened in Johannesburg. \n",
    "\n",
    "Add a column called `date_dublin` with the local time in Dublin for these events"
   ]
  },
  {
   "cell_type": "code",
   "execution_count": null,
   "id": "1949f6d9-eefe-4447-b78c-6207341c80eb",
   "metadata": {},
   "outputs": [],
   "source": []
  },
  {
   "cell_type": "markdown",
   "id": "8a7723a3-4828-458b-838a-db6da018af62",
   "metadata": {},
   "source": [
    "Add a column called `offset` that shows the offset between Johannesburg and Dublin. Do this by subtracting columns with the same datetimes but different timezones"
   ]
  },
  {
   "cell_type": "code",
   "execution_count": null,
   "id": "9d491d2e-ccf3-4324-9dcf-b1cf0618a029",
   "metadata": {},
   "outputs": [],
   "source": []
  },
  {
   "cell_type": "markdown",
   "id": "6101ee39-3cd7-4de5-ad05-d386d6abbd02",
   "metadata": {},
   "source": [
    "Why does the offset change over the months?\n",
    "\n",
    "### Exercise 2\n",
    "You have a weather station that records temperature at hourly intervals. The device records data in UTC."
   ]
  },
  {
   "cell_type": "code",
   "execution_count": null,
   "id": "0524e202-b58b-4151-9a71-1d9ea648d8ab",
   "metadata": {},
   "outputs": [],
   "source": [
    "pl.Config.set_tbl_rows(25)\n",
    "import numpy as np\n",
    "start = datetime(2020,9,1)\n",
    "stop = datetime(2020,9,2)\n",
    "(\n",
    "    pl.DataFrame(\n",
    "        {\n",
    "            \"date\": pl.datetime_range(start, stop, \"1h\",eager=True)\n",
    "        }\n",
    "    )\n",
    "    .with_columns(\n",
    "        # We use a cosine function with a period of 24 hours to generate a fake temperature cycle\n",
    "        (25 + 4*((2*np.pi*pl.col(\"date\").to_physical()/(24*60*60*1e6))).cos()).alias(\"temperature\")    \n",
    "    )\n",
    ")"
   ]
  },
  {
   "cell_type": "markdown",
   "id": "2110486a-a070-4c93-a7c3-3e9cff138e50",
   "metadata": {},
   "source": [
    "From the output we can see that the device is not located in the UTC time zone as the highest temperature is at night and the lowest is in the afternoon.\n",
    "\n",
    "Change the time zone to correspond with location that has higher temperatures in the late afternoon and lower temperatures in the early night (<a href=\"https://docs.rs/chrono-tz/latest/chrono_tz/enum.Tz.html\" target=\"_blank\">there are obviously many such locations, you mainly need to figure out whether to go east or west!</a>\n",
    ")."
   ]
  },
  {
   "cell_type": "code",
   "execution_count": null,
   "id": "b16d68e2-7477-43e1-83a7-d5533ca24e9f",
   "metadata": {},
   "outputs": [],
   "source": [
    "\n",
    "(\n",
    "    pl.DataFrame(\n",
    "        {\n",
    "            \"date\":pl.datetime_range(start,stop,\"1h\",eager=True)\n",
    "        }\n",
    "    )\n",
    "    .with_columns(\n",
    "        # Use a cosine function with a period of 24 hours to generate a fake temperature cycle\n",
    "        25 + 4*((2*np.pi*pl.col(\"date\").to_physical()/(24*60*60*1e6))).cos().alias(\"temperature\")\n",
    "    )\n",
    "    <blank>\n",
    ")"
   ]
  },
  {
   "cell_type": "code",
   "execution_count": null,
   "id": "dd5240b7-f257-47f1-a6da-de036c585112",
   "metadata": {},
   "outputs": [],
   "source": []
  },
  {
   "cell_type": "markdown",
   "id": "b9cd61d6-7602-41f4-a195-5ef4cf4d1dcc",
   "metadata": {},
   "source": [
    "## Solutions\n",
    "\n",
    "### Solution to Exercise 1"
   ]
  },
  {
   "cell_type": "markdown",
   "id": "883da362-00fb-437f-957e-36fb812f5b7a",
   "metadata": {},
   "source": [
    "Create a `DataFrame` with a `date` column at monthly intervals from 1st September 2020 to 1st December 2020"
   ]
  },
  {
   "cell_type": "code",
   "execution_count": null,
   "id": "f4810fd2-baac-4fb5-8948-0aa0f7c554b4",
   "metadata": {
    "jupyter": {
     "source_hidden": true
    },
    "tags": []
   },
   "outputs": [],
   "source": [
    "start = datetime(2020,9,1)\n",
    "stop = datetime(2020,12,1)\n",
    "(\n",
    "    pl.DataFrame(\n",
    "        {\n",
    "            \"date\":pl.datetime_range(start,stop,\"1mo\",eager=True)\n",
    "        }\n",
    "    )\n",
    ")"
   ]
  },
  {
   "cell_type": "markdown",
   "id": "e1eb7ca4-1d53-4c7c-b979-c2968e047d5a",
   "metadata": {},
   "source": [
    "The dates in the `date` column actually record events that happened in an factory in Johannesburg in South Africa.\n",
    "\n",
    "Transform the `date` column so that the datetimes are local to Johannesburg."
   ]
  },
  {
   "cell_type": "code",
   "execution_count": null,
   "id": "9e863257-d439-4d52-8d79-e13f96d4a171",
   "metadata": {
    "jupyter": {
     "source_hidden": true
    },
    "tags": []
   },
   "outputs": [],
   "source": [
    "(\n",
    "    pl.DataFrame(\n",
    "        {\n",
    "            \"date\":pl.datetime_range(start,stop,\"1mo\",eager=True)\n",
    "        }\n",
    "    )\n",
    "    .with_columns(\n",
    "        pl.col(\"date\").dt.replace_time_zone(\"Africa/Johannesburg\")\n",
    "    )\n",
    ")"
   ]
  },
  {
   "cell_type": "markdown",
   "id": "37c318f7-3864-49ab-840a-edaba8bfd1fd",
   "metadata": {},
   "source": [
    "Add a column with the integer representation called `date_p`"
   ]
  },
  {
   "cell_type": "code",
   "execution_count": null,
   "id": "0988d621-ff73-4b13-8756-393a43b250b3",
   "metadata": {
    "jupyter": {
     "source_hidden": true
    },
    "tags": []
   },
   "outputs": [],
   "source": [
    "(\n",
    "    pl.DataFrame(\n",
    "        {\n",
    "            \"date\":pl.datetime_range(start,stop,\"1mo\",eager=True)\n",
    "        }\n",
    "    )\n",
    "    .with_columns(\n",
    "        pl.col(\"date\").dt.replace_time_zone(\"Africa/Johannesburg\")\n",
    "    )\n",
    "    .with_columns(\n",
    "        pl.col(\"date\").to_physical().alias(\"date_p\")\n",
    "    )\n",
    ")"
   ]
  },
  {
   "cell_type": "markdown",
   "id": "5168dc07-e9ca-40ed-9391-82a918d5f480",
   "metadata": {
    "tags": []
   },
   "source": [
    "You want to know what time it was in the Dublin office when the events happened in Johannesburg. \n",
    "\n",
    "Add a column called `date_dublin` with the local time in Dublin for these events"
   ]
  },
  {
   "cell_type": "code",
   "execution_count": null,
   "id": "5247eec2-ff6d-4d2c-a19b-1a92a402a3d2",
   "metadata": {
    "jupyter": {
     "source_hidden": true
    },
    "tags": []
   },
   "outputs": [],
   "source": [
    "(\n",
    "    pl.DataFrame(\n",
    "        {\n",
    "            \"date\":pl.datetime_range(start,stop,\"1mo\",eager=True)\n",
    "        }\n",
    "    )\n",
    "    .with_columns(\n",
    "        pl.col(\"date\").dt.replace_time_zone(\"Africa/Johannesburg\")\n",
    "    )\n",
    "    .with_columns(\n",
    "        pl.col(\"date\").to_physical().alias(\"date_p\")\n",
    "    )\n",
    "    .with_columns(\n",
    "        pl.col(\"date\").dt.convert_time_zone(\"Europe/Dublin\").alias(\"date_dublin\")\n",
    "    )\n",
    ")"
   ]
  },
  {
   "cell_type": "markdown",
   "id": "083af864-8d5e-4607-b060-14ae61b0116c",
   "metadata": {},
   "source": [
    "Add a column called `offset` that shows the offset between Johannesburg and Dublin."
   ]
  },
  {
   "cell_type": "code",
   "execution_count": null,
   "id": "3718454e-4148-4685-937d-6b2a4cce1cc8",
   "metadata": {
    "jupyter": {
     "source_hidden": true
    },
    "tags": []
   },
   "outputs": [],
   "source": [
    "(\n",
    "    pl.DataFrame(\n",
    "        {\n",
    "            \"date\":pl.datetime_range(start,stop,\"1mo\",eager=True)\n",
    "        }\n",
    "    )\n",
    "    .with_columns(\n",
    "        pl.col(\"date\").dt.replace_time_zone(\"Africa/Johannesburg\")\n",
    "    )\n",
    "    .with_columns(\n",
    "        pl.col(\"date\").to_physical().alias(\"date_p\")\n",
    "    )\n",
    "    .with_columns(\n",
    "        pl.col(\"date\").dt.convert_time_zone(\"Europe/Dublin\").alias(\"date_dublin\")\n",
    "    )\n",
    "    .with_columns(\n",
    "        (pl.col(\"date\") - pl.col(\"date_dublin\").dt.replace_time_zone(\"Africa/Johannesburg\"))\n",
    "        .alias(\"offset\")\n",
    "    )\n",
    ")"
   ]
  },
  {
   "cell_type": "markdown",
   "id": "e6775ecd-c244-490d-aabc-45ab77ab48d2",
   "metadata": {},
   "source": [
    "Why does the offset change over the months?\n",
    "\n",
    "Because there is daylight savings time (Irish Summer Time IST) applied in Dublin in August and September."
   ]
  },
  {
   "cell_type": "markdown",
   "id": "927f73c2-53f7-4ec2-bcd4-a53a8b3c8228",
   "metadata": {},
   "source": [
    "### Solution to exercise 2\n",
    "You have a weather station that records temperature at hourly intervals. The device records data in UTC."
   ]
  },
  {
   "cell_type": "code",
   "execution_count": null,
   "id": "d8cbbc90-8252-4e37-a680-d51fe1ff8fe0",
   "metadata": {
    "jupyter": {
     "source_hidden": true
    },
    "tags": []
   },
   "outputs": [],
   "source": [
    "pl.Config.set_tbl_rows(25)\n",
    "import numpy as np\n",
    "start = datetime(2020,9,1)\n",
    "stop = datetime(2020,9,2)\n",
    "(\n",
    "    pl.DataFrame(\n",
    "        {\n",
    "            \"date\": pl.datetime_range(start, stop, \"1h\",eager=True)\n",
    "        }\n",
    "    )\n",
    "    .with_columns(\n",
    "        (25 + 4*((2*np.pi*pl.col(\"date\").to_physical()/(24*60*60*1e6))).cos()).alias(\"temperature\")    \n",
    "    )\n",
    ")"
   ]
  },
  {
   "cell_type": "markdown",
   "id": "4c98ce4e-aa1c-402c-8fdc-568f01d30453",
   "metadata": {},
   "source": [
    "From the output we can see that the device is not located in the UTC timezone as the highest temperature is at night and the lowest is in the afternoon.\n",
    "\n",
    "Change the timezone to a location that has higher temperatures in the late afternoon and lower temperatures in the early night (<a href=\"https://docs.rs/chrono-tz/latest/chrono_tz/enum.Tz.html\" target=\"_blank\">there are obviously many such locations, you mainly need to figure out whether to go east or west!</a>\n",
    ")."
   ]
  },
  {
   "cell_type": "code",
   "execution_count": null,
   "id": "ebc0c3da-e0f6-4906-91e7-0765ef106a09",
   "metadata": {
    "jupyter": {
     "source_hidden": true
    },
    "tags": []
   },
   "outputs": [],
   "source": [
    "(\n",
    "    pl.DataFrame(\n",
    "        {\n",
    "            \"date\": pl.datetime_range(start, stop, \"1h\",eager=True)\n",
    "        }\n",
    "    )\n",
    "    .with_columns(\n",
    "        (25 + 4*((2*np.pi*pl.col(\"date\").to_physical()/(24*60*60*1e6))).cos()).alias(\"temperature\")    \n",
    "    )\n",
    "    .with_columns(pl.col(\"date\").dt.replace_time_zone(\"UTC\").dt.convert_time_zone(\"Brazil/West\"))\n",
    ")"
   ]
  },
  {
   "cell_type": "code",
   "execution_count": null,
   "id": "4f5071c9-a991-4f85-9188-894ab655a108",
   "metadata": {},
   "outputs": [],
   "source": []
  }
 ],
 "metadata": {
  "kernelspec": {
   "display_name": "Python 3 (ipykernel)",
   "language": "python",
   "name": "python3"
  },
  "language_info": {
   "codemirror_mode": {
    "name": "ipython",
    "version": 3
   },
   "file_extension": ".py",
   "mimetype": "text/x-python",
   "name": "python",
   "nbconvert_exporter": "python",
   "pygments_lexer": "ipython3",
   "version": "3.10.1"
  }
 },
 "nbformat": 4,
 "nbformat_minor": 5
}
