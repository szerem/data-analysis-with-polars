{
 "cells": [
  {
   "cell_type": "markdown",
   "id": "2123c8e4-0c77-4fd8-b80a-055d58d4d623",
   "metadata": {},
   "source": [
    "## Date and time ranges\n",
    "By the end of this lecture you will be able to:\n",
    "- create a vertical datetime, date or time range\n",
    "- create a lazy datetime, date or time range\n",
    "- create a horizontal datetime, date or time range"
   ]
  },
  {
   "cell_type": "code",
   "execution_count": null,
   "id": "e5b89117-d86b-4eac-9e92-1a51066d25bb",
   "metadata": {},
   "outputs": [],
   "source": [
    "from datetime import datetime,date,time,timedelta\n",
    "\n",
    "import polars as pl"
   ]
  },
  {
   "cell_type": "code",
   "execution_count": null,
   "id": "1f31a69b-d15f-4052-acec-2c0cbfcfedde",
   "metadata": {},
   "outputs": [],
   "source": [
    "start_date = date(2020,1,1)\n",
    "end_date = date(2020,1,2)\n",
    "interval = timedelta(hours=3)"
   ]
  },
  {
   "cell_type": "markdown",
   "id": "b2853a2e-9fc7-4737-9166-70b3283eaa66",
   "metadata": {},
   "source": [
    "## Vertical ranges\n",
    "\n",
    "### Datetime\n",
    "\n",
    "As we have already seen we can create a datetime range with `pl.datetime`"
   ]
  },
  {
   "cell_type": "code",
   "execution_count": null,
   "id": "6199e5fa-2c12-4825-8c60-42a3146c48c6",
   "metadata": {},
   "outputs": [],
   "source": [
    "pl.datetime_range(\n",
    "    start=start_date,\n",
    "    end=end_date,\n",
    "    interval=interval,\n",
    "    eager=True\n",
    ").head(3)"
   ]
  },
  {
   "cell_type": "markdown",
   "id": "91bf9565-3380-4898-af99-a81928179586",
   "metadata": {},
   "source": [
    "### Date range\n",
    "We can also create a date range with `pl.date_range`"
   ]
  },
  {
   "cell_type": "code",
   "execution_count": null,
   "id": "0af0a0fc-5662-4579-874f-39c90fbe2e6c",
   "metadata": {},
   "outputs": [],
   "source": [
    "pl.date_range(\n",
    "    start=start_date,\n",
    "    end=end_date,\n",
    "    eager=True\n",
    ")"
   ]
  },
  {
   "cell_type": "markdown",
   "id": "24a73d66-7922-48bf-8e1f-481b74e1c939",
   "metadata": {},
   "source": [
    "A date range defaults to a one day interval but other intervals can be specified.\n",
    "\n",
    "### Time range\n",
    "We can also create a time range with `pl.time_range`"
   ]
  },
  {
   "cell_type": "code",
   "execution_count": null,
   "id": "ae741a6e-5e6a-432e-aab0-b78155ef9dca",
   "metadata": {},
   "outputs": [],
   "source": [
    "start_time = time(0)\n",
    "end_time = time(12)\n",
    "interval = timedelta(hours=3)\n",
    "pl.time_range(\n",
    "    start=start_time,\n",
    "    end=end_time,\n",
    "    interval=interval,\n",
    "    eager=True\n",
    ")"
   ]
  },
  {
   "cell_type": "markdown",
   "id": "5a06f3cf-c9a2-467b-81f4-eb990e36fda1",
   "metadata": {},
   "source": [
    "## Lazy datetime ranges\n",
    "In all of these examples we set `eager=True`. With this argument Polars evaluates the date range and creates a `Series`.\n",
    "\n",
    "If we instead set `eager=False` Polars does not evaluate the date range and create a `Series`. In this case we are in lazy mode"
   ]
  },
  {
   "cell_type": "code",
   "execution_count": null,
   "id": "f76e6e05-b53a-45c3-bda6-3a1feab438f7",
   "metadata": {},
   "outputs": [],
   "source": [
    "pl.datetime_range(\n",
    "    start=start_date,\n",
    "    end=end_date,\n",
    "    interval=interval,\n",
    ")"
   ]
  },
  {
   "cell_type": "markdown",
   "id": "ca172e75-8704-4bce-b1f9-921793a20715",
   "metadata": {},
   "source": [
    "The type of this output is an expression"
   ]
  },
  {
   "cell_type": "code",
   "execution_count": null,
   "id": "c37f3317-71aa-4171-843f-013cbf371687",
   "metadata": {},
   "outputs": [],
   "source": [
    "type(\n",
    "    pl.datetime_range(\n",
    "        start=start_date,\n",
    "        end=end_date,\n",
    "        interval=interval,\n",
    "        eager=False\n",
    "    )\n",
    ")"
   ]
  },
  {
   "cell_type": "markdown",
   "id": "0983a243-6405-4eb0-8b65-7fa4221c0403",
   "metadata": {},
   "source": [
    "The `eager=False` mode is primarily useful for creating datetime ranges in lazy mode. \n",
    "\n",
    "In my own pipelines I typically find that creating a date range is not something I need lazy mode for as the memory requirement is not large. \n",
    "\n",
    "A lazy date range could allow for lazy queries like the following (contrived) example"
   ]
  },
  {
   "cell_type": "code",
   "execution_count": null,
   "id": "4f772c0a-40e7-400c-8823-a001a1b7817a",
   "metadata": {},
   "outputs": [],
   "source": [
    "start_date = date(2020,1,1)\n",
    "end_date = datetime(2020,1,1,9)\n",
    "interval = timedelta(hours=3)\n",
    "(\n",
    "    # Create a lazy frame with some data\n",
    "    pl.LazyFrame(\n",
    "        {\n",
    "            \"index\":pl.arange(0,4,eager=True)\n",
    "        }\n",
    "    )\n",
    "    .with_columns(\n",
    "        # Add a datetime column\n",
    "        pl.datetime_range(\n",
    "            start=start_date,\n",
    "            end=end_date,\n",
    "            interval=interval,\n",
    "            eager=False\n",
    "        ).alias(\"datetime\")\n",
    "    )\n",
    "    # Evaluate the query\n",
    "    .collect()\n",
    ")"
   ]
  },
  {
   "cell_type": "markdown",
   "id": "fd9fec5b-7847-4001-846a-4b3eb3dc82c8",
   "metadata": {},
   "source": [
    "## Horizontal datetime ranges\n",
    "With `pl.datetime_range` we get a vertical range in a `Series`.\n",
    "\n",
    "We can also get a datetime range as a list in every row with `pl.datetime_ranges`.\n",
    "\n",
    "To show this we first create a `DataFrame` with:\n",
    "- an `id` column\n",
    "- a column for the start of the date range in that row\n",
    "- a column for the end of the date range in that row"
   ]
  },
  {
   "cell_type": "code",
   "execution_count": null,
   "id": "4cf1e747-cbfe-44b3-b693-8c7b376aec06",
   "metadata": {},
   "outputs": [],
   "source": [
    "df = pl.DataFrame(\n",
    "    {\n",
    "        \"id\":[\"A\",\"B\"],\n",
    "        \"start\": [datetime(2022, 1, 1), datetime(2022, 1, 2)],\n",
    "        \"end\": datetime(2022, 1, 3),\n",
    "    }\n",
    ")\n",
    "df"
   ]
  },
  {
   "cell_type": "markdown",
   "id": "546b52c3-5964-4eb1-92e0-292d7d5312ab",
   "metadata": {},
   "source": [
    "We can now create a column with the date range in each row from `start` to `end`"
   ]
  },
  {
   "cell_type": "code",
   "execution_count": null,
   "id": "4e80a5ed-04d3-4881-a23c-d9a84a283d4d",
   "metadata": {},
   "outputs": [],
   "source": [
    "(\n",
    "    df\n",
    "    .with_columns(\n",
    "        pl.datetime_ranges(\"start\",\"end\",interval=\"1mo\").alias(\"datetime_range\")\n",
    "    )\n",
    ")"
   ]
  },
  {
   "cell_type": "markdown",
   "id": "0123ebd0-611a-4b61-add7-b33b0c709693",
   "metadata": {},
   "source": [
    "We see a use case for horizontal ranges in the exercises.\n",
    "\n",
    "## Exercises\n",
    "In the exercises you will:\n",
    "- create a vertical time range\n",
    "- create a horizontal datetime range\n",
    "- join these ranges to other dataframes\n",
    "\n",
    "### Exercise 1 \n",
    "We have a short hourly temperature record with a gap at 2 am"
   ]
  },
  {
   "cell_type": "code",
   "execution_count": null,
   "id": "a34adc5a-6ebf-4dc9-a99d-0d3fe621de64",
   "metadata": {},
   "outputs": [],
   "source": [
    "df_weather = (\n",
    "    pl.DataFrame(\n",
    "        {\n",
    "            \"time\": [time(0), time(1), time(3)], \n",
    "            \"temperature\": [12.0, 11, 9]\n",
    "        }\n",
    "    )\n",
    ")\n",
    "df_weather"
   ]
  },
  {
   "cell_type": "markdown",
   "id": "057ae7ac-28df-4409-8bb6-783036c7aeaf",
   "metadata": {},
   "source": [
    "We want to create an hourly `DataFrame` with no time gaps.\n",
    "\n",
    "First create a `DataFrame` where the `time` column has no gaps"
   ]
  },
  {
   "cell_type": "code",
   "execution_count": null,
   "id": "7530f379-2660-48b1-9bd1-e7f788fe69c1",
   "metadata": {},
   "outputs": [],
   "source": [
    "df_time = pl.DataFrame(\n",
    "            {\n",
    "                \"time\":<blank>)\n",
    "            }\n",
    "        )\n",
    "df_time   "
   ]
  },
  {
   "cell_type": "markdown",
   "id": "662195a6-d826-4231-8d2c-b96f7d39f9ba",
   "metadata": {},
   "source": [
    "Now do a left join of `df_weather` to `df_time`"
   ]
  },
  {
   "cell_type": "code",
   "execution_count": null,
   "id": "34d22021-6e92-4f20-ac5e-36deb229a835",
   "metadata": {},
   "outputs": [],
   "source": []
  },
  {
   "cell_type": "markdown",
   "id": "c32ec055-ca66-4618-9b52-5ab1ca129c36",
   "metadata": {},
   "source": [
    "Fill the gaps in the `temperature` column with linear interpolation"
   ]
  },
  {
   "cell_type": "code",
   "execution_count": null,
   "id": "5dbc13a2-d021-4eff-80ec-dc8f001ff6e7",
   "metadata": {},
   "outputs": [],
   "source": []
  },
  {
   "cell_type": "markdown",
   "id": "188e3eda-de9f-43bc-9e64-46936d45c772",
   "metadata": {},
   "source": [
    "### Exercise 2\n",
    "Our client is a bike shop and wants to look at sales during their summer and halloween sale periods.\n",
    "\n",
    "The client provides you with the following data for the start and end of each sale period"
   ]
  },
  {
   "cell_type": "code",
   "execution_count": null,
   "id": "204d0b4f-d9cd-453b-98fb-80e63ce046a5",
   "metadata": {},
   "outputs": [],
   "source": [
    "df_sales_periods = pl.DataFrame(\n",
    "    {\n",
    "        \"sale\":[\"Summer\",\"Halloween\"],\n",
    "        \"start\": [date(2015, 6, 1), date(2015, 10, 15)],\n",
    "        \"end\": [date(2015, 9, 1),date(2015, 11, 15)]\n",
    "    }\n",
    ")\n",
    "df_sales_periods"
   ]
  },
  {
   "cell_type": "markdown",
   "id": "c80c8c11-3d6f-432f-bd65-0c2b55aee984",
   "metadata": {},
   "source": [
    "Add a `date` column that has the range of dates between `start` and `end` on each row"
   ]
  },
  {
   "cell_type": "code",
   "execution_count": null,
   "id": "b9b6c84a-a806-4fb8-886a-8281f5344b11",
   "metadata": {},
   "outputs": [],
   "source": []
  },
  {
   "cell_type": "markdown",
   "id": "2a45a3cd-f4d5-4973-8016-9f4c47e3e1ce",
   "metadata": {},
   "source": [
    "Expand the list column to have a row for each element of the list"
   ]
  },
  {
   "cell_type": "code",
   "execution_count": null,
   "id": "fc8ef9cc-48f7-418e-909c-12897e9f5a9c",
   "metadata": {},
   "outputs": [],
   "source": []
  },
  {
   "cell_type": "markdown",
   "id": "2b6b8c92-3b77-4ae0-bbbf-b1bbeb0a6f8b",
   "metadata": {},
   "source": [
    "The bike sales data is in the following `DataFrame`"
   ]
  },
  {
   "cell_type": "code",
   "execution_count": null,
   "id": "a589e201-8fcf-4104-bb77-3c681a0d3b3f",
   "metadata": {},
   "outputs": [],
   "source": [
    "df_sales = pl.read_parquet(\"../data/bike_sales.parquet\")\n",
    "df_sales.head(2)"
   ]
  },
  {
   "cell_type": "markdown",
   "id": "4e656f5d-1f44-43b0-9d96-526c6694ba40",
   "metadata": {},
   "source": [
    "Join the sale periods to the full sales dataframe. Ensure that only rows that fall inside either the Summer or Halloween sale period are kept"
   ]
  },
  {
   "cell_type": "code",
   "execution_count": null,
   "id": "e4f5dbdf-83a4-4233-89f1-9c999afc7419",
   "metadata": {},
   "outputs": [],
   "source": [
    "(\n",
    "    df_sales\n",
    "    .join(\n",
    "    <blank>\n",
    ")"
   ]
  },
  {
   "cell_type": "markdown",
   "id": "21980219-19e3-4b89-8d67-71dd21053953",
   "metadata": {},
   "source": [
    "Aggregate the data by sale period and get the total cost and revenue for each sale period. Sort by revenue"
   ]
  },
  {
   "cell_type": "code",
   "execution_count": null,
   "id": "7792a0f2-fd65-48bb-a944-284fcdec933f",
   "metadata": {},
   "outputs": [],
   "source": []
  },
  {
   "cell_type": "markdown",
   "id": "d41943cc-89f1-49fa-85a3-7d07f606af11",
   "metadata": {},
   "source": [
    "## Solutions\n",
    "\n",
    "### Solution to exercise 1"
   ]
  },
  {
   "cell_type": "markdown",
   "id": "4522c106-be44-4f66-a5d0-650ca6ca22e0",
   "metadata": {},
   "source": [
    "We have an hourly temperature record with a gap at 2 am"
   ]
  },
  {
   "cell_type": "code",
   "execution_count": null,
   "id": "2b1a4db2-c668-4151-a782-783610c0cecc",
   "metadata": {},
   "outputs": [],
   "source": [
    "df_weather = (\n",
    "    pl.DataFrame(\n",
    "        {\n",
    "            \"time\": [time(0), time(1), time(3)], \n",
    "            \"temperature\": [12.0, 11, 9]\n",
    "        }\n",
    "    )\n",
    ")\n",
    "df_weather"
   ]
  },
  {
   "cell_type": "markdown",
   "id": "02319747-aa3d-45ad-9dd2-6abe6dd3d6eb",
   "metadata": {},
   "source": [
    "We want to create a `DataFrame` with no time gaps.\n",
    "\n",
    "First create a `DataFrame` with a `time` column no gaps"
   ]
  },
  {
   "cell_type": "code",
   "execution_count": null,
   "id": "a87d704d-89d2-400c-92ef-b1b8fbff3b5c",
   "metadata": {
    "jupyter": {
     "source_hidden": true
    }
   },
   "outputs": [],
   "source": [
    "df_time = pl.DataFrame(\n",
    "            {\n",
    "                \"time\":pl.time_range(time(0),time(3),eager=True)\n",
    "            }\n",
    "        )\n",
    "df_time"
   ]
  },
  {
   "cell_type": "markdown",
   "id": "e039aafe-580b-451d-8531-1dfd086ed02f",
   "metadata": {},
   "source": [
    "Now do a left join of the original `DataFrame` to `df_time`"
   ]
  },
  {
   "cell_type": "code",
   "execution_count": null,
   "id": "1145daa8-2232-4efd-b08d-bee230656a81",
   "metadata": {
    "jupyter": {
     "source_hidden": true
    }
   },
   "outputs": [],
   "source": [
    "(\n",
    "    df_time\n",
    "    .join(\n",
    "        df_weather,on=\"time\",how=\"left\"\n",
    "    )\n",
    ")"
   ]
  },
  {
   "cell_type": "markdown",
   "id": "5543e006-6212-4bb7-818f-f4e047ae9017",
   "metadata": {},
   "source": [
    "Fill the gaps in the `temperature` column with linear interpolation"
   ]
  },
  {
   "cell_type": "code",
   "execution_count": null,
   "id": "b8d07eaf-8163-4384-92c4-e6b753e5c381",
   "metadata": {
    "jupyter": {
     "source_hidden": true
    }
   },
   "outputs": [],
   "source": [
    "(\n",
    "    df_time\n",
    "    .join(\n",
    "        df_weather,on=\"time\",how=\"left\"\n",
    "    )\n",
    "    .with_columns(\n",
    "        pl.col(\"temperature\").interpolate()\n",
    "    )\n",
    ")"
   ]
  },
  {
   "cell_type": "markdown",
   "id": "cb502134-3d06-4351-a715-d12ac738d613",
   "metadata": {},
   "source": [
    "Note - Polars has an `upsample` method that can also fills gaps in a time series. However, `upsample` only works in eager mode.\n",
    "\n",
    "In my time-series forecsating pipelines I use an approach based on this exercise where I use a `datetime_range` to create a gap-free time series and do a left-join of the data to this. The advantage of this approach is that it works in lazy mode and can use the streaming engine for large datasets."
   ]
  },
  {
   "cell_type": "markdown",
   "id": "47da6a19-18ca-4c3a-b85e-9f0cb7644156",
   "metadata": {},
   "source": [
    "### Solution to exercise 2\n",
    "Our client is a bike shop and wants to look at sales during their summer and halloween sale periods.\n",
    "\n",
    "The client provides you with the following data for the start and end of each sale period"
   ]
  },
  {
   "cell_type": "code",
   "execution_count": null,
   "id": "dc90ae57-37bf-4976-bc66-88a82055bb71",
   "metadata": {},
   "outputs": [],
   "source": [
    "df_sales_periods = pl.DataFrame(\n",
    "    {\n",
    "        \"sale\":[\"Summer\",\"Halloween\"],\n",
    "        \"start\": [date(2015, 6, 1), date(2015, 10, 15)],\n",
    "        \"end\": [date(2015, 9, 1),date(2015, 11, 15)]\n",
    "    }\n",
    ")\n",
    "df_sales_periods"
   ]
  },
  {
   "cell_type": "markdown",
   "id": "2d6bf62e-9df3-4800-9a85-6cf853104d7f",
   "metadata": {},
   "source": [
    "Add a `date` column that has the range of dates between `start` and `end` on each row"
   ]
  },
  {
   "cell_type": "code",
   "execution_count": null,
   "id": "9e18e987-7d8f-480d-9757-dc8902aa942f",
   "metadata": {
    "jupyter": {
     "source_hidden": true
    }
   },
   "outputs": [],
   "source": [
    "(\n",
    "    df_sales_periods\n",
    "    .with_columns(\n",
    "        date = pl.date_ranges(\"start\",\"end\")\n",
    "    )\n",
    ")"
   ]
  },
  {
   "cell_type": "markdown",
   "id": "4a24319b-b681-45a9-a0df-6ad5d8a13794",
   "metadata": {},
   "source": [
    "Expand the list column to have a row for each element of the list"
   ]
  },
  {
   "cell_type": "code",
   "execution_count": null,
   "id": "003d8f31-db92-485d-98c8-c275a00b2a8b",
   "metadata": {
    "jupyter": {
     "source_hidden": true
    }
   },
   "outputs": [],
   "source": [
    "(\n",
    "    df_sales_periods\n",
    "    .with_columns(\n",
    "        date = pl.date_ranges(\"start\",\"end\")\n",
    "    )\n",
    "    .explode(\"date\")\n",
    ")"
   ]
  },
  {
   "cell_type": "markdown",
   "id": "2a6ebd35-d1fa-48ca-8ad7-c5f36f7d6d59",
   "metadata": {},
   "source": [
    "The bike sales data is in the following `DataFrame`"
   ]
  },
  {
   "cell_type": "code",
   "execution_count": null,
   "id": "d76b85bf-5b6f-4a38-a87c-da96dfbd3912",
   "metadata": {},
   "outputs": [],
   "source": [
    "df_sales = pl.read_parquet(\"../data/bike_sales.parquet\")\n",
    "df_sales.head(2)"
   ]
  },
  {
   "cell_type": "markdown",
   "id": "3babe233-d70b-4e28-8e1e-727facd1311f",
   "metadata": {},
   "source": [
    "Join the sale periods to the full sales data. Ensure that only rows that fall inside either the Summer or Halloween sale period are kept"
   ]
  },
  {
   "cell_type": "code",
   "execution_count": null,
   "id": "9d9aa90c-30e6-41a5-b3ab-43247fe56f54",
   "metadata": {
    "jupyter": {
     "source_hidden": true
    }
   },
   "outputs": [],
   "source": [
    "(\n",
    "    df_sales\n",
    "    .join(\n",
    "    (\n",
    "        df_sales_periods\n",
    "        .with_columns(\n",
    "            date = pl.date_ranges(\"start\",\"end\")\n",
    "        )\n",
    "        .explode(\"date\")\n",
    "    ),\n",
    "    on=\"date\",\n",
    "    how=\"inner\"\n",
    "    )\n",
    ")"
   ]
  },
  {
   "cell_type": "markdown",
   "id": "de063ac1-641f-4ad1-82de-782ade5f76b8",
   "metadata": {},
   "source": [
    "Aggregate the data by sale period and get the total cost and revenue for each sale period. Sort by revenue"
   ]
  },
  {
   "cell_type": "code",
   "execution_count": null,
   "id": "62185d26-65ef-436a-9a05-9c1f0592d100",
   "metadata": {
    "jupyter": {
     "source_hidden": true
    }
   },
   "outputs": [],
   "source": [
    "(\n",
    "    df_sales\n",
    "    .join(\n",
    "    (\n",
    "        df_sales_periods\n",
    "        .with_columns(\n",
    "            date = pl.date_ranges(\"start\",\"end\")\n",
    "        )\n",
    "        .explode(\"date\")\n",
    "    ),\n",
    "    on=\"date\",\n",
    "    how=\"inner\"\n",
    "    )\n",
    "    .group_by(\"sale\")\n",
    "    .agg(\n",
    "        pl.col(\"cost\",\"revenue\").sum()\n",
    "    )\n",
    "    .sort(\"revenue\")\n",
    ")"
   ]
  },
  {
   "cell_type": "code",
   "execution_count": null,
   "id": "736605bb-8b01-4410-9cff-5b903c555d37",
   "metadata": {},
   "outputs": [],
   "source": []
  }
 ],
 "metadata": {
  "kernelspec": {
   "display_name": "Python 3 (ipykernel)",
   "language": "python",
   "name": "python3"
  },
  "language_info": {
   "codemirror_mode": {
    "name": "ipython",
    "version": 3
   },
   "file_extension": ".py",
   "mimetype": "text/x-python",
   "name": "python",
   "nbconvert_exporter": "python",
   "pygments_lexer": "ipython3",
   "version": "3.10.1"
  }
 },
 "nbformat": 4,
 "nbformat_minor": 5
}
