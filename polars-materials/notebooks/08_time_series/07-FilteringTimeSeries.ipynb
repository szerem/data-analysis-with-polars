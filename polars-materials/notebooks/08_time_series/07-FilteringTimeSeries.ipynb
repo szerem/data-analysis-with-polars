{
    "cells": [
        {
            "cell_type": "markdown",
            "id": "49bb2bad-c81a-4153-be93-e20782b1febb",
            "metadata": {},
            "source": [
                "# Filtering time series\n",
                "By the end of this lecture you will be able to:\n",
                "- filter by datetimes\n",
                "- filter by a date range\n",
                "- filter on a duration"
            ]
        },
        {
            "cell_type": "code",
            "execution_count": null,
            "id": "f32e2498-0ed1-4906-9409-75466f44d822",
            "metadata": {},
            "outputs": [],
            "source": [
                "from datetime import datetime,date,time\n",
                "\n",
                "import polars as pl"
            ]
        },
        {
            "cell_type": "code",
            "execution_count": null,
            "id": "f13427c6-847d-4b6c-8c27-2da067a31d5f",
            "metadata": {},
            "outputs": [],
            "source": [
                "csv_file = \"../data/nyc_trip_data_1k.csv\""
            ]
        },
        {
            "cell_type": "code",
            "execution_count": null,
            "id": "45a2ff92-dfc7-43d0-b694-cfadf515880a",
            "metadata": {},
            "outputs": [],
            "source": [
                "df = pl.read_csv(csv_file,try_parse_dates=True)\n",
                "df.head(2)"
            ]
        },
        {
            "cell_type": "markdown",
            "id": "d9aa9caf-62bf-4637-8565-1ce84d5ebaae",
            "metadata": {},
            "source": [
                "## Filtering by datetimes\n",
                "We filter by datetimes using python's built-in `datetime.datetime` object"
            ]
        },
        {
            "cell_type": "code",
            "execution_count": null,
            "id": "bf07fccb-d0aa-4896-b8a4-c8133d9c6acb",
            "metadata": {},
            "outputs": [],
            "source": [
                "(\n",
                "    df\n",
                "    .filter(\n",
                "        pl.col(\"pickup\") < datetime(2022, 1, 1, 1, 0),\n",
                "    )\n",
                ")"
            ]
        },
        {
            "cell_type": "markdown",
            "id": "f3f8952d-db33-4394-8401-f54144c86581",
            "metadata": {},
            "source": [
                "We can also filter a `pl.Datetime` by a `datetime.date` for inequalities"
            ]
        },
        {
            "cell_type": "code",
            "execution_count": null,
            "id": "ebc691b7-248c-41be-b228-b7028bd7b24c",
            "metadata": {},
            "outputs": [],
            "source": [
                "df.filter(\n",
                "    pl.col(\"pickup\") < date(2022, 1, 2),\n",
                ").head()"
            ]
        },
        {
            "cell_type": "markdown",
            "id": "bd9baeef-596f-433b-b51c-d47e56edb45f",
            "metadata": {},
            "source": [
                "We can only filter on a datetime string if we provide the datetime format"
            ]
        },
        {
            "cell_type": "code",
            "execution_count": null,
            "id": "d1a961f5-1c87-4582-8930-b73f1a821e89",
            "metadata": {},
            "outputs": [],
            "source": [
                "df.filter(\n",
                "    pl.col(\"pickup\") < pl.lit(\"2022-01-02\").str.strptime(pl.Date, format=\"%Y-%m-%d\")\n",
                ").head()"
            ]
        },
        {
            "cell_type": "markdown",
            "id": "d877c466-24de-47d6-bbc4-e669c15cd2d7",
            "metadata": {},
            "source": [
                "In the exercises we see how to filter by a time (e.g. after 2 PM).\n",
                "\n",
                "## Filtering on a datetime range\n",
                "\n",
                "We filter by a datetime range using the `is_between` expression"
            ]
        },
        {
            "cell_type": "code",
            "execution_count": null,
            "id": "f7e3b1b4-71c8-4cb3-9511-b677a12b758b",
            "metadata": {},
            "outputs": [],
            "source": [
                "df.filter(\n",
                "    pl.col(\"pickup\").is_between(\n",
                "        datetime(2021, 12, 31),datetime(2022, 1, 2)\n",
                "    )\n",
                ").head(2)"
            ]
        },
        {
            "cell_type": "markdown",
            "id": "90089972-b765-49af-9d69-ba1081e4d2d3",
            "metadata": {},
            "source": [
                "## Filtering datetimes in lazy mode\n",
                "We can filter datetimes in lazy mode"
            ]
        },
        {
            "cell_type": "code",
            "execution_count": null,
            "id": "d113c359-f43e-488e-840d-91b553565ca7",
            "metadata": {},
            "outputs": [],
            "source": [
                "print(\n",
                "    pl.scan_csv(csv_file,try_parse_dates=True)\n",
                "    .filter(\n",
                "        pl.col(\"pickup\") < date(2022, 1, 2),\n",
                "    )\n",
                "    .explain()\n",
                ")"
            ]
        },
        {
            "cell_type": "markdown",
            "id": "beb6a7bd-02fd-4a95-9c0a-f5abf6a93cec",
            "metadata": {},
            "source": [
                "Just as with non-datetime filters, the query optimiser applies the `filter` in `SELECTION` so the filter is applied when reading the CSV file. \n",
                "\n",
                "The datetime is expressed in microseconds in the query plan."
            ]
        },
        {
            "cell_type": "markdown",
            "id": "8d1e39af-f735-462b-a914-6900a2337748",
            "metadata": {},
            "source": [
                "## Filtering on a duration\n",
                "\n",
                "We create a duration for the length of the taxi trip"
            ]
        },
        {
            "cell_type": "code",
            "execution_count": null,
            "id": "ac97d770-8342-40e4-a62d-07b7f4cfe14d",
            "metadata": {},
            "outputs": [],
            "source": [
                "(\n",
                "    df\n",
                "    .select([\"pickup\",\"dropoff\"])\n",
                "    .with_columns(\n",
                "        (pl.col(\"dropoff\") - pl.col(\"pickup\")).alias(\"duration\")\n",
                "    )\n",
                "    .head()\n",
                ")"
            ]
        },
        {
            "cell_type": "markdown",
            "id": "57ff1ca0-399d-4b90-a2d0-3cf93b9c3a31",
            "metadata": {},
            "source": [
                "To filter on a duration we use `pl.duration` (note this function is different from the dtype `pl.Duration`)"
            ]
        },
        {
            "cell_type": "code",
            "execution_count": null,
            "id": "5dcd77df-1c1b-46d5-84fd-16d4de37d357",
            "metadata": {},
            "outputs": [],
            "source": [
                "(\n",
                "    df\n",
                "    .select([\"pickup\",\"dropoff\"])\n",
                "    .with_columns(\n",
                "        (pl.col(\"dropoff\") - pl.col(\"pickup\")).alias(\"duration\")\n",
                "    )\n",
                "    .filter(pl.col(\"duration\") < pl.duration(minutes=10))\n",
                "    .head(3)\n",
                ")"
            ]
        },
        {
            "cell_type": "markdown",
            "id": "81f539c9-c958-4bae-8be0-9a1fa2cb4048",
            "metadata": {},
            "source": [
                "We can also filter on a duration by getting the duration in the desired time unit. This is more expensive as it requires casting the entire left-hand column rather than the single duration on the right-hand side"
            ]
        },
        {
            "cell_type": "code",
            "execution_count": null,
            "id": "c873cf99-ba10-4edf-880f-f8c0129c3c30",
            "metadata": {
                "tags": []
            },
            "outputs": [],
            "source": [
                "(\n",
                "    df\n",
                "    .select([\"pickup\",\"dropoff\"])\n",
                "    .with_columns(\n",
                "        (pl.col(\"dropoff\") - pl.col(\"pickup\")).alias(\"duration\")\n",
                "    )\n",
                "    .filter(pl.col(\"duration\").dt.total_minutes() < 10)\n",
                "    .head(3)\n",
                ")"
            ]
        },
        {
            "cell_type": "markdown",
            "id": "83c430b5-870b-4f95-a845-69c863f755ab",
            "metadata": {},
            "source": [
                "# Exercises\n",
                "In the exercises you will develop your understanding of:\n",
                "- filtering by a date\n",
                "- filtering by a datetime\n",
                "- filtering by a time\n",
                "- filtering by a duration\n",
                "\n",
                "### Exercise 1\n",
                "Create a `DataFrame` with a daily interval that starts on 1st January 2020 and ends on 31st January 2020"
            ]
        },
        {
            "cell_type": "code",
            "execution_count": null,
            "id": "9ae1ad1d-6baf-414e-a7ea-8e4ae67d84fb",
            "metadata": {},
            "outputs": [],
            "source": [
                "(\n",
                "    <blank>\n",
                ")"
            ]
        },
        {
            "cell_type": "markdown",
            "id": "0f333ad8-0830-45be-81c2-19e55e12dec8",
            "metadata": {},
            "source": [
                "Find all dates on or after 15th January"
            ]
        },
        {
            "cell_type": "code",
            "execution_count": null,
            "id": "cc6ce3b4-8414-4c8e-a739-15c6870ba78d",
            "metadata": {},
            "outputs": [],
            "source": []
        },
        {
            "cell_type": "markdown",
            "id": "4780cea4-03e0-4098-b82f-eec5f98f8f0a",
            "metadata": {},
            "source": [
                "Find all dates between 15th and 20th January including the start date but excluding the end date. \n",
                "\n",
                "For a reminder on how to manage the bounds see the Lecture in Section 2 \"Filtering rows 2\" or the API docs for `is_between`"
            ]
        },
        {
            "cell_type": "code",
            "execution_count": null,
            "id": "0f849a97-a13a-47b6-9372-2c48901dfb3a",
            "metadata": {},
            "outputs": [],
            "source": []
        },
        {
            "cell_type": "markdown",
            "id": "f8cc69c6-bb5c-4fd4-a0e0-734efce1e9b0",
            "metadata": {},
            "source": [
                "### Exercise 2\n",
                "Read the NYC taxi dataset with automatic date parsing"
            ]
        },
        {
            "cell_type": "code",
            "execution_count": null,
            "id": "d0ca4330-6ef3-4fd6-a973-95bbb3ff16c1",
            "metadata": {},
            "outputs": [],
            "source": [
                "(\n",
                "    <blank>\n",
                "    .head(3)\n",
                ")"
            ]
        },
        {
            "cell_type": "code",
            "execution_count": null,
            "id": "ebc8e992-d7af-476d-a032-7ad60a3912e1",
            "metadata": {},
            "outputs": [],
            "source": []
        },
        {
            "cell_type": "markdown",
            "id": "c0dfbea4-6659-4cb6-9203-7c0fe2f22977",
            "metadata": {},
            "source": [
                "Filter to get all the records with a pickup after 10 PM.\n",
                "\n",
                "Expand the following collapsed cell if you want a hint."
            ]
        },
        {
            "cell_type": "code",
            "execution_count": null,
            "id": "f3981df5-2e20-448c-b298-71af4fc46c25",
            "metadata": {
                "jupyter": {
                    "source_hidden": true
                },
                "tags": []
            },
            "outputs": [],
            "source": [
                "# Hint: cast the pickup column to a pl.Time dtype first"
            ]
        },
        {
            "cell_type": "code",
            "execution_count": null,
            "id": "c96c214e-18e1-44ec-973e-a9ef1109a5d2",
            "metadata": {},
            "outputs": [],
            "source": []
        },
        {
            "cell_type": "markdown",
            "id": "4485e0f5-7d4c-429f-b5af-317e5bdfb99c",
            "metadata": {},
            "source": [
                "Add a column that calculates the difference in pickup time between successive rows called `pickup_delta`"
            ]
        },
        {
            "cell_type": "code",
            "execution_count": null,
            "id": "48d23e4a-9a18-40ae-8d69-c4d5e484b656",
            "metadata": {},
            "outputs": [],
            "source": []
        },
        {
            "cell_type": "markdown",
            "id": "493d2b38-99ae-44d5-b433-99374aadfbcd",
            "metadata": {},
            "source": [
                "Filter to find all records that started less than 3 minutes after the previous pickup"
            ]
        },
        {
            "cell_type": "code",
            "execution_count": null,
            "id": "1575494c-de1a-44db-91df-f089cd2168f3",
            "metadata": {},
            "outputs": [],
            "source": []
        },
        {
            "cell_type": "markdown",
            "id": "f38d180f-b2aa-4692-a63c-69af163b2963",
            "metadata": {},
            "source": [
                "## Solutions\n",
                "\n",
                "### Solution to exercise 1\n",
                "\n",
                "Create a `DataFrame` with a daily interval that starts on 1st January 2020 and ends on 31st January 2020"
            ]
        },
        {
            "cell_type": "code",
            "execution_count": null,
            "id": "22a55bcf-4579-4d9c-9184-5beb8edafff1",
            "metadata": {
                "jupyter": {
                    "source_hidden": true
                },
                "tags": []
            },
            "outputs": [],
            "source": [
                "pl.Config.set_tbl_rows(4)\n",
                "start = date(2020,1,1)\n",
                "stop = date(2020,1,31)\n",
                "df = pl.DataFrame(\n",
                "    {\n",
                "        \"date\":pl.date_range(start,stop,interval=\"1d\",eager=True)\n",
                "    }\n",
                ")\n",
                "df"
            ]
        },
        {
            "cell_type": "markdown",
            "id": "c34b4a1b-bc2b-4442-9738-5a0309db4637",
            "metadata": {},
            "source": [
                "Find all dates on or after 15th January"
            ]
        },
        {
            "cell_type": "code",
            "execution_count": null,
            "id": "71f65bba-9769-48e3-9a4a-02da150dd6bb",
            "metadata": {
                "jupyter": {
                    "source_hidden": true
                },
                "tags": []
            },
            "outputs": [],
            "source": [
                "(\n",
                "    df\n",
                "    .filter(\n",
                "        pl.col(\"date\") >= date(2020,1,15)\n",
                "    )\n",
                ")"
            ]
        },
        {
            "cell_type": "markdown",
            "id": "22fc0e43-bfbb-427f-9b64-10c25ed72a3d",
            "metadata": {},
            "source": [
                "Find all dates between 15th and 20th January including the start date but excluding the end date. \n",
                "\n",
                "For a reminder on how to manage the boundaries see the end of Lecture in the Section on \"Filtering rows 2\""
            ]
        },
        {
            "cell_type": "code",
            "execution_count": null,
            "id": "3b56e527-a6c6-41bd-82ca-2de99a5e75da",
            "metadata": {
                "jupyter": {
                    "source_hidden": true
                },
                "tags": []
            },
            "outputs": [],
            "source": [
                "(\n",
                "    df\n",
                "    .filter(\n",
                "        pl.col(\"date\").is_between(date(2020,1,15), date(2020,1,20),closed=\"left\")\n",
                "    )\n",
                ")"
            ]
        },
        {
            "cell_type": "markdown",
            "id": "72b5560c-43ef-4f68-94a1-82e6e12d9ef8",
            "metadata": {},
            "source": [
                "### Solution to exercise 2\n",
                "Read the NYC taxi dataset with automatic date parsing"
            ]
        },
        {
            "cell_type": "code",
            "execution_count": null,
            "id": "adb8b122-d716-44c4-845c-7afb6f169769",
            "metadata": {
                "jupyter": {
                    "source_hidden": true
                },
                "tags": []
            },
            "outputs": [],
            "source": [
                "(\n",
                "    pl.read_csv(csv_file,try_parse_dates=True)\n",
                "    .head(3)\n",
                ")"
            ]
        },
        {
            "cell_type": "markdown",
            "id": "ac662ea1-2608-478f-91c7-099ed9c85768",
            "metadata": {},
            "source": [
                "Filter to get all the records with a pickup on or after 22:00:00 (10 PM).\n",
                "\n",
                "Expand the following collapsed cell if you want a hint."
            ]
        },
        {
            "cell_type": "code",
            "execution_count": null,
            "id": "1f661659-60b0-46cc-860b-1161ac282329",
            "metadata": {
                "jupyter": {
                    "source_hidden": true
                },
                "tags": []
            },
            "outputs": [],
            "source": [
                "# Hint: cast the pickup column to a pl.Time dtype first"
            ]
        },
        {
            "cell_type": "code",
            "execution_count": null,
            "id": "4ccdbcd6-b7c9-4a47-911e-83050d61cabc",
            "metadata": {
                "jupyter": {
                    "source_hidden": true
                },
                "tags": []
            },
            "outputs": [],
            "source": [
                "(\n",
                "    pl.read_csv(csv_file,try_parse_dates=True)\n",
                "    .filter(\n",
                "        pl.col(\"pickup\").cast(pl.Time) >= time(22)\n",
                "    )\n",
                "    .head(3)\n",
                ")"
            ]
        },
        {
            "cell_type": "markdown",
            "id": "c6d66684-ba83-4659-9be4-0f147626695d",
            "metadata": {},
            "source": [
                "Add a column that calculates the difference in pickup time between successive rows called `pickup_delta`"
            ]
        },
        {
            "cell_type": "code",
            "execution_count": null,
            "id": "28d55421-316e-4b22-9b4c-a4a3d9d1f347",
            "metadata": {
                "jupyter": {
                    "source_hidden": true
                },
                "tags": []
            },
            "outputs": [],
            "source": [
                "(\n",
                "    pl.read_csv(csv_file,try_parse_dates=True)\n",
                "    .with_columns(\n",
                "        (pl.col(\"pickup\").diff()).alias(\"pickup_delta\")\n",
                "    )\n",
                "    .head(3)    \n",
                ")"
            ]
        },
        {
            "cell_type": "markdown",
            "id": "c49ab807-883f-4db5-acdd-2fca811628f9",
            "metadata": {},
            "source": [
                "Filter to find all records that started less than 3 minutes after the previous pickup"
            ]
        },
        {
            "cell_type": "code",
            "execution_count": null,
            "id": "49012e68-ec47-4eae-afc9-7a45c8d10a01",
            "metadata": {
                "jupyter": {
                    "source_hidden": true
                },
                "tags": []
            },
            "outputs": [],
            "source": [
                "(\n",
                "    pl.read_csv(csv_file,try_parse_dates=True)\n",
                "    .with_columns(\n",
                "        (pl.col(\"pickup\").diff()).alias(\"pickup_delta\")\n",
                "    )\n",
                "    .filter(\n",
                "        pl.col(\"pickup_delta\") < pl.duration(minutes=3) \n",
                "    )\n",
                ")"
            ]
        }
    ],
    "metadata": {
        "kernelspec": {
            "display_name": "Python 3 (ipykernel)",
            "language": "python",
            "name": "python3"
        },
        "language_info": {
            "codemirror_mode": {
                "name": "ipython",
                "version": 3
            },
            "file_extension": ".py",
            "mimetype": "text/x-python",
            "name": "python",
            "nbconvert_exporter": "python",
            "pygments_lexer": "ipython3",
            "version": "3.10.1"
        }
    },
    "nbformat": 4,
    "nbformat_minor": 5
}