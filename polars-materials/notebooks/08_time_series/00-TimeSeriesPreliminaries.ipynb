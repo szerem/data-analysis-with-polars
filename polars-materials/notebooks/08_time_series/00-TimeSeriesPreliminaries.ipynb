{
 "cells": [
  {
   "cell_type": "markdown",
   "id": "cc56da49-453a-4d6f-9fbf-e868d8002cb1",
   "metadata": {},
   "source": [
    "## Time series preliminaries\n",
    "By the end of this lecture you will be able to:\n",
    "- create python `datetime` objects\n",
    "- create a date range in Polars\n",
    "\n",
    "Specifying dates and times as strings is failure-prone as a given string can map too different dates depending on the formatting used. As such the Polars developers have decided to not allow strings to be used in the library.\n",
    "\n",
    "Instead in Polars dates and times are specified using python's built-in `datetime` module. We import these from the `datetime` module"
   ]
  },
  {
   "cell_type": "code",
   "execution_count": 1,
   "id": "89f8d8a8-9a51-44c0-ab84-a6876149b268",
   "metadata": {},
   "outputs": [],
   "source": [
    "from datetime import datetime,date,time,timedelta\n",
    "\n",
    "import polars as pl"
   ]
  },
  {
   "cell_type": "markdown",
   "id": "d152a07e-bbf5-401a-b820-84f427d47262",
   "metadata": {},
   "source": [
    "### Datetime\n",
    "A datetime is a combination of a date and a time that can be specified down to microseconds.\n",
    "\n",
    "We create a `datetime` object by specifying at least the year, month and day and optionally the hour, minute, second and microsecond.  Here we create a datetime for 2023/02/02 12:00:03.000001"
   ]
  },
  {
   "cell_type": "code",
   "execution_count": 2,
   "id": "b4f98247-3eef-4c09-b427-5836c35b9e32",
   "metadata": {},
   "outputs": [
    {
     "data": {
      "text/plain": [
       "datetime.datetime(2023, 2, 1, 12, 0, 3, 1)"
      ]
     },
     "execution_count": 2,
     "metadata": {},
     "output_type": "execute_result"
    }
   ],
   "source": [
    "dtime = datetime(2023,2,1,12,0,3,1)\n",
    "dtime"
   ]
  },
  {
   "cell_type": "markdown",
   "id": "31501ca9-863f-441e-86d0-ba311f0ffe13",
   "metadata": {},
   "source": [
    "We can extract components of the datetime from the object. For example to extract the date component we use the `date` method"
   ]
  },
  {
   "cell_type": "code",
   "execution_count": 3,
   "id": "00da1cef-e0ae-4812-96af-5d19972b3a74",
   "metadata": {},
   "outputs": [
    {
     "data": {
      "text/plain": [
       "datetime.date(2023, 2, 1)"
      ]
     },
     "execution_count": 3,
     "metadata": {},
     "output_type": "execute_result"
    }
   ],
   "source": [
    "dtime.date()"
   ]
  },
  {
   "cell_type": "markdown",
   "id": "85892397-4816-4d92-a18e-0037c04cdf13",
   "metadata": {},
   "source": [
    "All datetime objects are stored internally as counts from the start of some period. We can get this underlying representation for a `datetime` object with the `timestamp` method."
   ]
  },
  {
   "cell_type": "code",
   "execution_count": 4,
   "id": "bab92589-13c8-48c3-b03d-5ac141362328",
   "metadata": {},
   "outputs": [
    {
     "data": {
      "text/plain": [
       "1675252803.000001"
      ]
     },
     "execution_count": 4,
     "metadata": {},
     "output_type": "execute_result"
    }
   ],
   "source": [
    "dtime.timestamp()"
   ]
  },
  {
   "cell_type": "markdown",
   "id": "df68dd39-4cdd-4041-af94-bd8dbfc963c3",
   "metadata": {},
   "source": [
    "This `datetime` is a count since the start of the UNIX/POSIX epoch on 1st January 1970"
   ]
  },
  {
   "cell_type": "markdown",
   "id": "9b544aa2-d4fa-4b26-9140-eb2b1c194bb4",
   "metadata": {},
   "source": [
    "### Date\n",
    "We create a `date` object by specifying the year, month and day"
   ]
  },
  {
   "cell_type": "code",
   "execution_count": 5,
   "id": "e00c3fc5-783b-455c-9545-4890c1c1d0f2",
   "metadata": {},
   "outputs": [
    {
     "data": {
      "text/plain": [
       "datetime.date(2023, 2, 1)"
      ]
     },
     "execution_count": 5,
     "metadata": {},
     "output_type": "execute_result"
    }
   ],
   "source": [
    "date(2023,2,1)"
   ]
  },
  {
   "cell_type": "markdown",
   "id": "a251de1b-beac-4543-8cac-a3a0075f37bd",
   "metadata": {},
   "source": [
    "### Time\n",
    "We create a `time` object by specifying the hour and optionally the minute, second and microsecond"
   ]
  },
  {
   "cell_type": "code",
   "execution_count": 6,
   "id": "a0ea30d9-7aaa-43c1-bf50-f1b8f6ca089a",
   "metadata": {},
   "outputs": [
    {
     "data": {
      "text/plain": [
       "datetime.time(14, 2)"
      ]
     },
     "execution_count": 6,
     "metadata": {},
     "output_type": "execute_result"
    }
   ],
   "source": [
    "time(14,2)"
   ]
  },
  {
   "cell_type": "markdown",
   "id": "363bcab6-6c58-4e38-8918-226fe32a50da",
   "metadata": {},
   "source": [
    "### Duration / time difference\n",
    "We create a `timedelta` object by specifying the time difference in days, seconds, microseconds, milliseconds, minutes, hours or weeks"
   ]
  },
  {
   "cell_type": "code",
   "execution_count": 7,
   "id": "2ec2079e-fcf8-45b8-9c07-19396777cb7c",
   "metadata": {},
   "outputs": [
    {
     "data": {
      "text/plain": [
       "datetime.timedelta(days=1, seconds=7200)"
      ]
     },
     "execution_count": 7,
     "metadata": {},
     "output_type": "execute_result"
    }
   ],
   "source": [
    "timedelta(days=1,hours=2)"
   ]
  },
  {
   "cell_type": "markdown",
   "id": "f448f322-0c12-43d5-adcf-b32c585183a6",
   "metadata": {},
   "source": [
    "We can do arithmetic with `timedeltas`.\n",
    "\n",
    "Here we define a half-hourly timedelta and then multiply it by 2"
   ]
  },
  {
   "cell_type": "code",
   "execution_count": 8,
   "id": "9ad1db7e-46ab-4660-a389-431b54ea1e5c",
   "metadata": {},
   "outputs": [],
   "source": [
    "dt = timedelta(minutes = 30)"
   ]
  },
  {
   "cell_type": "code",
   "execution_count": 9,
   "id": "88036d58-04c5-4884-a6cf-3489870f5841",
   "metadata": {},
   "outputs": [
    {
     "data": {
      "text/plain": [
       "datetime.timedelta(seconds=3600)"
      ]
     },
     "execution_count": 9,
     "metadata": {},
     "output_type": "execute_result"
    }
   ],
   "source": [
    "dt * 2"
   ]
  },
  {
   "cell_type": "markdown",
   "id": "2f3e00ba-2f92-4683-a156-1cdf97007dde",
   "metadata": {},
   "source": [
    "Note that the largest interval in `timedelta` is days. This means `timedelta` does not have to deal with tricky things like months. For example, consider that if we added one month to 1st February we would expect to get 1st March. But if we add one month to 28th February do we expect to get 28th March or 31st March. Polars has ways to deal with this ambiguity that we see later."
   ]
  },
  {
   "cell_type": "markdown",
   "id": "6ea544d7-ced4-42b2-a407-3165a845f76b",
   "metadata": {},
   "source": [
    "Polars also has its own string intervals:\n",
    "- \"ns\"\n",
    "- \"us\"\n",
    "- \"ms\"\n",
    "- \"s\"\n",
    "- \"m\"\n",
    "- \"h\"\n",
    "- \"d\"\n",
    "- \"w\"\n",
    "- \"mo\"\n",
    "- \"y\"\n",
    "\n",
    "So one week would be \"1w\".\n",
    "\n",
    "These can also be concatenated so 1 day 3 hours is \"1d3h\"\n",
    "\n",
    "We learn more about these intervals later in the time series section."
   ]
  },
  {
   "cell_type": "markdown",
   "id": "e2a3bc93-d87d-434b-9799-815e581ce1b2",
   "metadata": {},
   "source": [
    "## Creating a datetime range\n",
    "There are a number of ways to create a datetime range in Polars. We introduce the simplest way here.\n",
    "\n",
    "We first specify our start, end and interval with `datetime` module objects"
   ]
  },
  {
   "cell_type": "code",
   "execution_count": 10,
   "id": "7eae0759-c709-46c4-9177-d5cb535a3413",
   "metadata": {},
   "outputs": [],
   "source": [
    "start_datetime = datetime(2023,1,1)\n",
    "end_datetime = datetime(2023,1,1,4)\n",
    "hourly_interval = timedelta(hours=1)"
   ]
  },
  {
   "cell_type": "markdown",
   "id": "05c6b168-747e-4414-8157-e0db72d543fc",
   "metadata": {},
   "source": [
    "We create a datetime range `Series` using `pl.datetime_range`. Note that we have to specify `eager=True` for this to be evaluated - we explore why this is in a later lecture on date ranges"
   ]
  },
  {
   "cell_type": "code",
   "execution_count": 11,
   "id": "ccac5a29-e11b-4d90-ab47-7d9f60d14ad3",
   "metadata": {},
   "outputs": [
    {
     "data": {
      "text/html": [
       "<div><style>\n",
       ".dataframe > thead > tr > th,\n",
       ".dataframe > tbody > tr > td {\n",
       "  text-align: right;\n",
       "  white-space: pre-wrap;\n",
       "}\n",
       "</style>\n",
       "<small>shape: (5,)</small><table border=\"1\" class=\"dataframe\"><thead><tr><th>datetime</th></tr><tr><td>datetime[μs]</td></tr></thead><tbody><tr><td>2023-01-01 00:00:00</td></tr><tr><td>2023-01-01 01:00:00</td></tr><tr><td>2023-01-01 02:00:00</td></tr><tr><td>2023-01-01 03:00:00</td></tr><tr><td>2023-01-01 04:00:00</td></tr></tbody></table></div>"
      ],
      "text/plain": [
       "shape: (5,)\n",
       "Series: 'datetime' [datetime[μs]]\n",
       "[\n",
       "\t2023-01-01 00:00:00\n",
       "\t2023-01-01 01:00:00\n",
       "\t2023-01-01 02:00:00\n",
       "\t2023-01-01 03:00:00\n",
       "\t2023-01-01 04:00:00\n",
       "]"
      ]
     },
     "execution_count": 11,
     "metadata": {},
     "output_type": "execute_result"
    }
   ],
   "source": [
    "pl.datetime_range(\n",
    "    start=start_datetime,\n",
    "    end=end_datetime,\n",
    "    interval=hourly_interval,\n",
    "    eager=True\n",
    ")"
   ]
  },
  {
   "cell_type": "markdown",
   "id": "60945e6f-c064-43a8-9518-403c0c8cc3f0",
   "metadata": {},
   "source": [
    "The output is a Polars `Series`. The dtype in this case is `pl.Datetime`. We learn more about Polars datetime dtypes in the next lecture.\n",
    "\n",
    "There are other options we can pass to `pl.datetime_range` including:\n",
    "- how the date range is closed (on both sides by default) and\n",
    "- whether to specify a time zone"
   ]
  },
  {
   "cell_type": "code",
   "execution_count": 12,
   "id": "59cfda73-2504-4643-833d-09e768fb05c0",
   "metadata": {
    "scrolled": true
   },
   "outputs": [
    {
     "data": {
      "text/html": [
       "<div><style>\n",
       ".dataframe > thead > tr > th,\n",
       ".dataframe > tbody > tr > td {\n",
       "  text-align: right;\n",
       "  white-space: pre-wrap;\n",
       "}\n",
       "</style>\n",
       "<small>shape: (4,)</small><table border=\"1\" class=\"dataframe\"><thead><tr><th>datetime</th></tr><tr><td>datetime[μs]</td></tr></thead><tbody><tr><td>2023-01-01 00:00:00</td></tr><tr><td>2023-01-01 01:00:00</td></tr><tr><td>2023-01-01 02:00:00</td></tr><tr><td>2023-01-01 03:00:00</td></tr></tbody></table></div>"
      ],
      "text/plain": [
       "shape: (4,)\n",
       "Series: 'datetime' [datetime[μs]]\n",
       "[\n",
       "\t2023-01-01 00:00:00\n",
       "\t2023-01-01 01:00:00\n",
       "\t2023-01-01 02:00:00\n",
       "\t2023-01-01 03:00:00\n",
       "]"
      ]
     },
     "execution_count": 12,
     "metadata": {},
     "output_type": "execute_result"
    }
   ],
   "source": [
    "pl.datetime_range(\n",
    "    start=start_datetime,\n",
    "    end=end_datetime,\n",
    "    interval=hourly_interval,\n",
    "    eager=True,\n",
    "    closed=\"left\",\n",
    ")"
   ]
  },
  {
   "cell_type": "markdown",
   "id": "6d785772-d3a3-44de-b0bc-8fd750126d60",
   "metadata": {},
   "source": [
    "We can also create a date range with dates rather than datetimes if the interval is even days"
   ]
  },
  {
   "cell_type": "code",
   "execution_count": 13,
   "id": "85f793c9-057c-4f88-a640-e800b961425c",
   "metadata": {},
   "outputs": [],
   "source": [
    "start_date = date(2023,1,1)\n",
    "end_date = date(2023,1,23)\n",
    "weekly_interval = timedelta(weeks=1)"
   ]
  },
  {
   "cell_type": "code",
   "execution_count": 14,
   "id": "d8165031-b773-4ca7-b333-6dfcbd0d0fa3",
   "metadata": {},
   "outputs": [
    {
     "data": {
      "text/html": [
       "<div><style>\n",
       ".dataframe > thead > tr > th,\n",
       ".dataframe > tbody > tr > td {\n",
       "  text-align: right;\n",
       "  white-space: pre-wrap;\n",
       "}\n",
       "</style>\n",
       "<small>shape: (4,)</small><table border=\"1\" class=\"dataframe\"><thead><tr><th>datetime</th></tr><tr><td>datetime[μs]</td></tr></thead><tbody><tr><td>2023-01-01 00:00:00</td></tr><tr><td>2023-01-08 00:00:00</td></tr><tr><td>2023-01-15 00:00:00</td></tr><tr><td>2023-01-22 00:00:00</td></tr></tbody></table></div>"
      ],
      "text/plain": [
       "shape: (4,)\n",
       "Series: 'datetime' [datetime[μs]]\n",
       "[\n",
       "\t2023-01-01 00:00:00\n",
       "\t2023-01-08 00:00:00\n",
       "\t2023-01-15 00:00:00\n",
       "\t2023-01-22 00:00:00\n",
       "]"
      ]
     },
     "execution_count": 14,
     "metadata": {},
     "output_type": "execute_result"
    }
   ],
   "source": [
    "pl.datetime_range(\n",
    "    start=start_date,\n",
    "    end=end_date,\n",
    "    interval=weekly_interval,\n",
    "    eager=True,\n",
    "\n",
    ")"
   ]
  },
  {
   "cell_type": "markdown",
   "id": "cec9db8a-22ec-44a3-9e9d-7ae5f2abb534",
   "metadata": {},
   "source": [
    "## Exercises\n",
    "In the exercises you will learn to:\n",
    "- use `datetime` objects\n",
    "- create a date range in Polars\n",
    "\n",
    "### Exercise 1\n",
    "Create `date` objects for the 1st and 2nd January 2020 along with a 3 hour time interval using a `timedelta`"
   ]
  },
  {
   "cell_type": "code",
   "execution_count": null,
   "id": "700e196c-fbcb-4ec1-a488-8d2104b7d88d",
   "metadata": {},
   "outputs": [],
   "source": []
  },
  {
   "cell_type": "markdown",
   "id": "9f267dcd-ab50-4653-94fc-773e2fe1f6b6",
   "metadata": {},
   "source": [
    "Create a `DataFrame` with a date range column called `date` using these parameters"
   ]
  },
  {
   "cell_type": "code",
   "execution_count": 15,
   "id": "29cb1e82-b2d9-4eb6-810a-1c61ccc55959",
   "metadata": {},
   "outputs": [
    {
     "ename": "SyntaxError",
     "evalue": "invalid syntax (718083251.py, line 3)",
     "output_type": "error",
     "traceback": [
      "\u001b[0;36m  Cell \u001b[0;32mIn[15], line 3\u001b[0;36m\u001b[0m\n\u001b[0;31m    <blank>\u001b[0m\n\u001b[0m    ^\u001b[0m\n\u001b[0;31mSyntaxError\u001b[0m\u001b[0;31m:\u001b[0m invalid syntax\n"
     ]
    }
   ],
   "source": [
    "df = pl.DataFrame(\n",
    "    {\n",
    "        <blank>\n",
    "    }\n",
    ")\n",
    "df"
   ]
  },
  {
   "cell_type": "markdown",
   "id": "a0f8aca1-e58a-43f5-9430-d3d489d8747b",
   "metadata": {},
   "source": [
    "Create the `DataFrame` again using Polars string intervals at 2 hour 30 minute intervals"
   ]
  },
  {
   "cell_type": "code",
   "execution_count": null,
   "id": "e92d6cc4-0fbe-42bd-a3d2-f5895f651cf8",
   "metadata": {},
   "outputs": [],
   "source": []
  },
  {
   "cell_type": "markdown",
   "id": "571e2b18-d3ce-47af-9382-d72ae14a089d",
   "metadata": {},
   "source": [
    "## Solutions\n",
    "\n",
    "### Solution to exericise 1"
   ]
  },
  {
   "cell_type": "markdown",
   "id": "0271295a-b44a-4a82-8aab-e2df7e7fdc71",
   "metadata": {},
   "source": [
    "Create `date` objects for the 1st and 2nd January 2020 along with a 3 hour time interval"
   ]
  },
  {
   "cell_type": "code",
   "execution_count": null,
   "id": "f2fc9521-c809-443b-a218-5aec72e0f430",
   "metadata": {
    "jupyter": {
     "source_hidden": true
    }
   },
   "outputs": [],
   "source": [
    "start_date = date(2020,1,1)\n",
    "end_date = date(2020,1,2)\n",
    "interval = timedelta(hours=3)"
   ]
  },
  {
   "cell_type": "markdown",
   "id": "22a28eb4-b9e0-43ea-8836-d406da92b309",
   "metadata": {},
   "source": [
    "Create a `DataFrame` with a date range column called `date` using these parameters"
   ]
  },
  {
   "cell_type": "code",
   "execution_count": null,
   "id": "178b22d8-4c6a-4d45-b8c4-c3c5fd58238f",
   "metadata": {
    "jupyter": {
     "source_hidden": true
    },
    "scrolled": true
   },
   "outputs": [],
   "source": [
    "df = pl.DataFrame(\n",
    "    {\n",
    "        \"date\":pl.datetime_range(\n",
    "            start=start_date,\n",
    "            end=end_date,\n",
    "            interval=interval,\n",
    "            eager=True\n",
    "        )\n",
    "    }\n",
    ")\n",
    "df"
   ]
  },
  {
   "cell_type": "markdown",
   "id": "9a75cbcd-a017-4815-af49-9d9d24120f27",
   "metadata": {},
   "source": [
    "Note the `eager=True` argument that is not the default for `pl.datetime_range`!\n",
    "\n",
    "Create the `DataFrame` again using Polars string intervals at 2 hour 30 minute intervals"
   ]
  },
  {
   "cell_type": "code",
   "execution_count": null,
   "id": "3bcc8957-ce77-41d1-ad2e-d09ae65ed35d",
   "metadata": {
    "jupyter": {
     "source_hidden": true
    }
   },
   "outputs": [],
   "source": [
    "df = pl.DataFrame(\n",
    "    {\n",
    "        \"date\":pl.datetime_range(\n",
    "            start=start_date,\n",
    "            end=end_date,\n",
    "            interval=\"2h30m\",\n",
    "            eager=True\n",
    "        )\n",
    "    }\n",
    ")\n",
    "df"
   ]
  },
  {
   "cell_type": "code",
   "execution_count": null,
   "id": "7b2a1a73-c79b-4e67-ae32-902239708e81",
   "metadata": {},
   "outputs": [],
   "source": []
  }
 ],
 "metadata": {
  "kernelspec": {
   "display_name": "Python 3 (ipykernel)",
   "language": "python",
   "name": "python3"
  },
  "language_info": {
   "codemirror_mode": {
    "name": "ipython",
    "version": 3
   },
   "file_extension": ".py",
   "mimetype": "text/x-python",
   "name": "python",
   "nbconvert_exporter": "python",
   "pygments_lexer": "ipython3",
   "version": "3.10.1"
  }
 },
 "nbformat": 4,
 "nbformat_minor": 5
}
