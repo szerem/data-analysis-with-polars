{
 "cells": [
  {
   "cell_type": "markdown",
   "id": "49bb2bad-c81a-4153-be93-e20782b1febb",
   "metadata": {},
   "source": [
    "# Parsing datetime strings\n",
    "By the end of this lecture you will be able to:\n",
    "- parse datetime strings from a file\n",
    "- convert datetime strings into time series dtypes\n",
    "- saving datetime dtypes to a file\n"
   ]
  },
  {
   "cell_type": "code",
   "execution_count": null,
   "id": "f32e2498-0ed1-4906-9409-75466f44d822",
   "metadata": {
    "tags": []
   },
   "outputs": [],
   "source": [
    "import polars as pl"
   ]
  },
  {
   "cell_type": "markdown",
   "id": "332b91ab-c79b-49d8-b1d0-6bc89ed6f8a4",
   "metadata": {},
   "source": [
    "In this lecture we work with a 1,000 row extract of the NYC taxi dataset"
   ]
  },
  {
   "cell_type": "code",
   "execution_count": null,
   "id": "f13427c6-847d-4b6c-8c27-2da067a31d5f",
   "metadata": {
    "tags": []
   },
   "outputs": [],
   "source": [
    "csv_file = \"../data/nyc_trip_data_1k.csv\""
   ]
  },
  {
   "cell_type": "markdown",
   "id": "d506d9bd-b4e2-4aa3-b481-e4faec06a4e8",
   "metadata": {},
   "source": [
    "## Reading datetime strings from a CSV\n",
    "Polars does not try to parse datetimes from strings by default"
   ]
  },
  {
   "cell_type": "code",
   "execution_count": null,
   "id": "45a2ff92-dfc7-43d0-b694-cfadf515880a",
   "metadata": {
    "tags": []
   },
   "outputs": [],
   "source": [
    "pl.Config.set_fmt_str_lengths(100)\n",
    "df = (\n",
    "    pl.read_csv(\n",
    "        csv_file,\n",
    "    )\n",
    ")\n",
    "df.head(2)"
   ]
  },
  {
   "cell_type": "markdown",
   "id": "d847ede9-55b9-4f71-91d4-5dcf50b50573",
   "metadata": {},
   "source": [
    "Polars will try to do this if we set the `try_parse_dates` argument"
   ]
  },
  {
   "cell_type": "code",
   "execution_count": null,
   "id": "1c460757-f9eb-4914-ac99-acaf37e42720",
   "metadata": {
    "tags": []
   },
   "outputs": [],
   "source": [
    "df = (\n",
    "    pl.read_csv(\n",
    "        csv_file,\n",
    "        try_parse_dates=True\n",
    "    )\n",
    ")\n",
    "df.head(2)"
   ]
  },
  {
   "cell_type": "markdown",
   "id": "9f9331d8-6e3d-4514-8771-f47fe3493915",
   "metadata": {},
   "source": [
    "If you want to see the range of datetime string regex patterns supported by `try_parse_dates` [see the Rust code](https://github.com/pola-rs/polars/blob/master/polars/polars-time/src/chunkedarray/utf8/patterns.rs)."
   ]
  },
  {
   "cell_type": "markdown",
   "id": "0b1d31e2-c754-47c3-a232-e5214ca24bc0",
   "metadata": {},
   "source": [
    "For more control we can also pass the `dtypes` argument"
   ]
  },
  {
   "cell_type": "code",
   "execution_count": null,
   "id": "dc70fede-c3ba-4afb-8642-2e3cebecc24e",
   "metadata": {
    "tags": []
   },
   "outputs": [],
   "source": [
    "df = (\n",
    "    pl.read_csv(\n",
    "        csv_file,\n",
    "        dtypes={\n",
    "            \"pickup\":pl.Datetime,\n",
    "            \"dropoff\":pl.Datetime\n",
    "        }\n",
    "    )\n",
    ")\n",
    "df.head(2)"
   ]
  },
  {
   "cell_type": "markdown",
   "id": "16f57b42-3629-4835-ba6f-4ba153aa9a51",
   "metadata": {},
   "source": [
    "## Reading datetime strings from a CSV in lazy mode\n",
    "We can apply the `parse_dates` and `dtypes` arguments in lazy mode"
   ]
  },
  {
   "cell_type": "code",
   "execution_count": null,
   "id": "0244354c-1791-4d30-81ec-ab9bd0d73a40",
   "metadata": {
    "tags": []
   },
   "outputs": [],
   "source": [
    "print(\n",
    "    pl.scan_csv(csv_file,try_parse_dates=True)\n",
    "    .explain()\n",
    ")"
   ]
  },
  {
   "cell_type": "markdown",
   "id": "4cb2e265-d4dc-45f8-b362-77da64891113",
   "metadata": {},
   "source": [
    "### Other file types\n",
    "CSV files store all data as strings and so do not preserve datetime dtypes. However, IPC (Arrow) and Parquet files store the dtypes. If the `DataFrame` is saved with datetime dtypes for these file formats it will be loaded with datetime dtypes.\n",
    "\n",
    "For JSON there is no `parse_dates` argument and the conversion from strings to datetime must be done manually after the JSON is read. "
   ]
  },
  {
   "cell_type": "markdown",
   "id": "2ff11a1f-0ea2-4b16-9a9e-d3c79bb79f68",
   "metadata": {},
   "source": [
    "## Parsing dates manually"
   ]
  },
  {
   "cell_type": "markdown",
   "id": "413369cf-9ce1-47cd-80bd-057a8d5a9107",
   "metadata": {},
   "source": [
    "We convert date strings to datetime dtypes using `.str.strptime` (string-parse-time).\n",
    "\n",
    "First we read the CSV again without automatic date parsing"
   ]
  },
  {
   "cell_type": "code",
   "execution_count": null,
   "id": "9cbcab44-6517-4369-a4d6-cc9ad6d80e7e",
   "metadata": {
    "tags": []
   },
   "outputs": [],
   "source": [
    "df = pl.read_csv(csv_file)\n",
    "df.head(2)"
   ]
  },
  {
   "cell_type": "markdown",
   "id": "3769528b-4b96-4013-b373-18a4b799f7cf",
   "metadata": {},
   "source": [
    "To parse the date string in `str.strptime` for this data we pass:\n",
    "- the target dtype e.g. `pl.Datetime` or `pl.Date` and\n",
    "- the format of the string (possibly including characters such as a `T` before the time)\n",
    "- the number of decimal places (6) in the fractional seconds"
   ]
  },
  {
   "cell_type": "code",
   "execution_count": null,
   "id": "cbcd8067-065e-43a6-8f0d-49f9765ebeda",
   "metadata": {
    "tags": []
   },
   "outputs": [],
   "source": [
    "(\n",
    "    df\n",
    "    .with_columns(\n",
    "        pl.col(\"pickup\").str.strptime(pl.Datetime, format=\"%Y-%m-%dT%H:%M:%S%.6f\"),\n",
    "        pl.col(\"dropoff\").str.strptime(pl.Datetime, format=\"%Y-%m-%dT%H:%M:%S%.6f\"),\n",
    "    )\n",
    "   .head(2)   \n",
    ")"
   ]
  },
  {
   "cell_type": "markdown",
   "id": "572a7d26-9937-4994-a791-5e3f114929c6",
   "metadata": {},
   "source": [
    "The format follows the convention of the Rust strftime module: https://docs.rs/chrono/latest/chrono/format/strftime/index.html\n",
    "\n",
    "There are also some short-cut formats e.g. `%F` for `%Y-%m-%d` and `%T` for `%H:%M:%S`"
   ]
  },
  {
   "cell_type": "code",
   "execution_count": null,
   "id": "14b98686-75eb-4f7c-9d28-42a6a15cf344",
   "metadata": {
    "tags": []
   },
   "outputs": [],
   "source": [
    "(\n",
    "    df\n",
    "    .with_columns(\n",
    "        pl.col(\"pickup\").str.strptime(pl.Datetime, format=\"%FT%T%.6f\"),\n",
    "  )\n",
    "   .head(2)\n",
    ")"
   ]
  },
  {
   "cell_type": "markdown",
   "id": "2bf7a72f-9450-4c4e-a193-35d067080091",
   "metadata": {},
   "source": [
    "It is easy to get the formats wrong - pay particular attention to uppercase and lowercase letters"
   ]
  },
  {
   "cell_type": "markdown",
   "id": "5cb92244-46fb-4722-a99e-07bdf2b7d4dd",
   "metadata": {},
   "source": [
    "## Saving datetimes\n",
    "If we write a datetime dtype to IPC or Parquet file types the dtype will be preserved.\n",
    "\n",
    "If we write to a CSV then the datetime is converted back to a string"
   ]
  },
  {
   "cell_type": "code",
   "execution_count": null,
   "id": "5bdb8049-e21c-46da-9a1b-89809057aa1e",
   "metadata": {},
   "outputs": [],
   "source": [
    "df = pl.read_csv(csv_file)\n",
    "df_formatted = (\n",
    "    df\n",
    "     .with_columns(\n",
    "      pl.col(\"pickup\").str.strptime(pl.Datetime, format=\"%Y-%m-%dT%H:%M:%S%.6f\"),\n",
    "      pl.col(\"dropoff\").str.strptime(pl.Datetime, format=\"%Y-%m-%dT%H:%M:%S%.6f\"),\n",
    "  )\n",
    ")\n",
    "df_formatted.head(2)"
   ]
  },
  {
   "cell_type": "markdown",
   "id": "3d2f5570-b201-4102-8636-77e7248d7b7b",
   "metadata": {},
   "source": [
    "If we want to adjust the formatting of the `pl.Datetime`/`pl.Date`/`pl.Time` before saving it we can use the corresponding arguments in `write_csv`.\n",
    "\n",
    "In this example we replace the empty space between the date and time with a `T`"
   ]
  },
  {
   "cell_type": "code",
   "execution_count": null,
   "id": "ef30e366-faf9-4aef-893f-031f67ad36e8",
   "metadata": {},
   "outputs": [],
   "source": [
    "df_formatted.write_csv(\"test.csv\",datetime_format=\"%Y-%m-%d%T%H:%M:%S\")"
   ]
  },
  {
   "cell_type": "markdown",
   "id": "906138df-2db3-4e32-84b8-3874e060bf26",
   "metadata": {},
   "source": [
    "## Duration dtype\n",
    "We cannot write a `pl.Duration` type to CSV directly.\n",
    "\n",
    "Instead we extract the underlying integer representation in microseconds.\n",
    "\n",
    "In this example we convert the microseconds to seconds and change the column name to reflect this"
   ]
  },
  {
   "cell_type": "code",
   "execution_count": null,
   "id": "32df508f-523a-4e8a-857d-85c788cf8562",
   "metadata": {},
   "outputs": [],
   "source": [
    "(\n",
    "    df_formatted\n",
    "    .with_columns(\n",
    "        ((pl.col(\"dropoff\")-pl.col(\"pickup\")).dt.total_seconds()).alias(\"trip_length_seconds\")\n",
    "    )\n",
    ").head(2)"
   ]
  },
  {
   "cell_type": "markdown",
   "id": "c4c55215-f87f-472f-bdff-c5699b2e777e",
   "metadata": {},
   "source": [
    "## Exercises\n",
    "In the exercises you will develop your understanding of:\n",
    "- manually converting datetime strings to a datetime dtype\n",
    "- writing datetime dtypes to a CSV\n",
    "\n",
    "### Exercise 1\n",
    "\n",
    "Parse the dates\n",
    "\n",
    "Convert the `date` strings to `pl.Date` dtype"
   ]
  },
  {
   "cell_type": "code",
   "execution_count": null,
   "id": "22a55bcf-4579-4d9c-9184-5beb8edafff1",
   "metadata": {},
   "outputs": [],
   "source": [
    "df = pl.DataFrame(\n",
    "    {'date':['31-01-2020','28-02-2020','31-03-2020']}\n",
    ")\n",
    "(\n",
    "    df\n",
    "    .with_columns(\n",
    "        pl.col('date')<blank>\n",
    "    )\n",
    ")"
   ]
  },
  {
   "cell_type": "markdown",
   "id": "e5b3eb54-78ee-407e-974c-2adf7e7a852b",
   "metadata": {},
   "source": [
    "With YMD format"
   ]
  },
  {
   "cell_type": "code",
   "execution_count": null,
   "id": "21fa5d71-3e0c-46bf-b367-838903570848",
   "metadata": {},
   "outputs": [],
   "source": [
    "df = pl.DataFrame(\n",
    "    {'date':['2020-01-31','2020-02-28','2020-03-31']}\n",
    ")\n",
    "(\n",
    "    df\n",
    "    .with_columns(\n",
    "        pl.col('date')<blank>\n",
    "    )\n",
    ")"
   ]
  },
  {
   "cell_type": "markdown",
   "id": "728f841f-375f-47ed-9ab5-aea79dea2cdf",
   "metadata": {},
   "source": [
    "With forward-slashes"
   ]
  },
  {
   "cell_type": "code",
   "execution_count": null,
   "id": "9024f0dd-99ee-475b-b435-a2bffb3673c6",
   "metadata": {},
   "outputs": [],
   "source": [
    "df = pl.DataFrame(\n",
    "    {'date':['31/01/2020','28/02/2020','31/03/2020']}\n",
    ")\n",
    "(\n",
    "    df\n",
    "    .with_columns(\n",
    "        pl.col('date')<blank>\n",
    "    )\n",
    ")"
   ]
  },
  {
   "cell_type": "markdown",
   "id": "050df06a-cbdf-4efa-8c6a-c99f173bddf7",
   "metadata": {},
   "source": [
    "With month names.\n",
    "\n",
    "Recall the formats are here: https://docs.rs/chrono/latest/chrono/format/strftime/index.html"
   ]
  },
  {
   "cell_type": "code",
   "execution_count": null,
   "id": "8a2064f5-2f12-4efa-92b4-dd47ec66838d",
   "metadata": {},
   "outputs": [],
   "source": [
    "df = pl.DataFrame({\n",
    "    'date': [\"27 July 2020\", \"31 December 2020\"]\n",
    "})\n",
    "(\n",
    "    df\n",
    "    .with_columns(\n",
    "        pl.col('date')<blank>\n",
    "    )\n",
    ")"
   ]
  },
  {
   "cell_type": "markdown",
   "id": "72b5560c-43ef-4f68-94a1-82e6e12d9ef8",
   "metadata": {},
   "source": [
    "### Exercise 2 \n",
    "\n",
    "Parse the datetimes\n",
    "\n",
    "Convert the `date` column from string to `pl.Datetime` dtype"
   ]
  },
  {
   "cell_type": "code",
   "execution_count": null,
   "id": "adb8b122-d716-44c4-845c-7afb6f169769",
   "metadata": {},
   "outputs": [],
   "source": [
    "df = pl.DataFrame(\n",
    "    {'date':['31-01-2020 00:00:00','28-02-2020 00:00:00','31-03-2020 00:00:00']}\n",
    ")\n",
    "(\n",
    "    df\n",
    "    .with_columns(\n",
    "        pl.col('date')<blank>\n",
    "    )\n",
    ")"
   ]
  },
  {
   "cell_type": "markdown",
   "id": "55244dc1-d903-4a4d-91d1-6a406515aeb4",
   "metadata": {},
   "source": [
    "Convert to `pl.Datetime` preserving the milliseconds\n",
    "\n",
    "Hint: find formats for fractional seconds: https://docs.rs/chrono/latest/chrono/format/strftime/index.html"
   ]
  },
  {
   "cell_type": "code",
   "execution_count": null,
   "id": "11d99213-31c9-4dfb-9895-5e7c5713589a",
   "metadata": {},
   "outputs": [],
   "source": [
    "df = pl.DataFrame(\n",
    "    {'date':['31-01-2020 00:00:00.500','31-01-2020 00:00:00.600','31-01-2020 00:00:00.700']}\n",
    ")\n",
    "(\n",
    "    df\n",
    "    .with_columns(\n",
    "        pl.col('date')<blank>\n",
    "    )\n",
    ")"
   ]
  },
  {
   "cell_type": "markdown",
   "id": "01c28689-ff17-4657-9e2f-3e29693d0d8d",
   "metadata": {},
   "source": [
    "Convert strings with AM/PM to `pl.Datetime` dtype"
   ]
  },
  {
   "cell_type": "code",
   "execution_count": null,
   "id": "5e7b0610-1def-4636-a9cd-36c4fc9056f5",
   "metadata": {},
   "outputs": [],
   "source": [
    "df = pl.DataFrame(\n",
    "    {'date':['01-01-2020 01:00 AM','01-02-2020 01:00 AM','01-03-2020 02:00 AM']}\n",
    ")\n",
    "(\n",
    "    df\n",
    "    .with_columns(\n",
    "        pl.col('date')<blank>\n",
    "    )\n",
    ")"
   ]
  },
  {
   "cell_type": "markdown",
   "id": "6311c17f-d566-4935-9897-f00659e83b10",
   "metadata": {},
   "source": [
    "### Exercise 3 \n",
    "\n",
    "Parse datetimes from a CSV.\n",
    "\n",
    "Read in the NYC taxi dataset from the CSV file. Use `read_csv` to parse the dates automatically"
   ]
  },
  {
   "cell_type": "code",
   "execution_count": null,
   "id": "dcbe409c-3c57-439a-a587-ed6106a89a9a",
   "metadata": {},
   "outputs": [],
   "source": [
    "dfNYC = pl.read_csv(csv_file,<blank>)"
   ]
  },
  {
   "cell_type": "markdown",
   "id": "e80d4d00-6d6a-4a46-97c5-fabf1fc0e482",
   "metadata": {},
   "source": [
    "Change the pickup and dropoff columns to be `pl.Date` (and not `pl.Datetime`)\n",
    "\n",
    "Challenge: do this in a single expression using `with_column`"
   ]
  },
  {
   "cell_type": "code",
   "execution_count": null,
   "id": "c9d4abf4-80f8-409f-af67-ba8b7a61de96",
   "metadata": {},
   "outputs": [],
   "source": [
    "dfNYC = (\n",
    "    pl.read_csv(csv_file,<blank>)\n",
    "    <blank>\n",
    ")"
   ]
  },
  {
   "cell_type": "markdown",
   "id": "1d50ad1c-9ed0-4170-b0bd-3ce436a99235",
   "metadata": {},
   "source": [
    "Count how many trips had a pickup on each date with the output sorted by the number of trips"
   ]
  },
  {
   "cell_type": "markdown",
   "id": "ae22a2e2-3dfe-4361-ab23-c072ab7e155c",
   "metadata": {},
   "source": [
    "## Solutions\n",
    "\n",
    "### Solution to exercise 1"
   ]
  },
  {
   "cell_type": "code",
   "execution_count": null,
   "id": "962c1945-7182-4402-9a07-e11226bb1af0",
   "metadata": {
    "jupyter": {
     "source_hidden": true
    },
    "tags": []
   },
   "outputs": [],
   "source": [
    "df = pl.DataFrame(\n",
    "    {'date':['31-01-2020','28-02-2020','31-03-2020']}\n",
    ")\n",
    "(\n",
    "    df\n",
    "    .with_columns(\n",
    "        pl.col('date').str.strptime(pl.Date,format='%d-%m-%Y')\n",
    "    )\n",
    ")"
   ]
  },
  {
   "cell_type": "markdown",
   "id": "7cb9acf5-a3c8-4b31-b441-a573115eab1d",
   "metadata": {},
   "source": [
    "With YMD format"
   ]
  },
  {
   "cell_type": "code",
   "execution_count": null,
   "id": "568a2382-2c12-45df-9189-6384f358d19c",
   "metadata": {
    "jupyter": {
     "source_hidden": true
    },
    "tags": []
   },
   "outputs": [],
   "source": [
    "df = pl.DataFrame(\n",
    "    {'date':['2020-01-31','2020-02-28','2020-03-31']}\n",
    ")\n",
    "(\n",
    "    df\n",
    "    .with_columns(\n",
    "        pl.col('date').str.strptime(pl.Date,format='%Y-%m-%d')\n",
    "    )\n",
    ")"
   ]
  },
  {
   "cell_type": "markdown",
   "id": "2b19d1f1-6dd4-4ef4-8340-5df5d899044c",
   "metadata": {},
   "source": [
    "With forward-slashes"
   ]
  },
  {
   "cell_type": "code",
   "execution_count": null,
   "id": "5d64a933-36c2-4ccd-bf91-1f22af49450f",
   "metadata": {
    "jupyter": {
     "source_hidden": true
    },
    "tags": []
   },
   "outputs": [],
   "source": [
    "df = pl.DataFrame(\n",
    "    {'date':['31/01/2020','28/02/2020','31/03/2020']}\n",
    ")\n",
    "(\n",
    "    df\n",
    "    .with_columns(\n",
    "        pl.col('date').str.strptime(pl.Date,format='%d/%m/%Y')\n",
    "    )\n",
    ")"
   ]
  },
  {
   "cell_type": "markdown",
   "id": "d658765e-baaa-457a-a482-4b9b774cf39a",
   "metadata": {},
   "source": [
    "With month names"
   ]
  },
  {
   "cell_type": "code",
   "execution_count": null,
   "id": "5b0c4c46-0ee9-4514-b5dc-e61bcba388a3",
   "metadata": {
    "jupyter": {
     "source_hidden": true
    },
    "tags": []
   },
   "outputs": [],
   "source": [
    "df = pl.DataFrame({\n",
    "    'date': [\"27 July 2020\", \"31 December 2020\"]\n",
    "})\n",
    "(\n",
    "    df\n",
    "    .with_columns(\n",
    "        pl.col('date').str.strptime(pl.Date, format='%d %B %Y').cast(pl.Datetime)\n",
    "    )\n",
    ")"
   ]
  },
  {
   "cell_type": "markdown",
   "id": "cdb7d50c-efb9-4563-b82f-9804ebd4b0ee",
   "metadata": {},
   "source": [
    "### Solution to exercise 2 - Datetimes"
   ]
  },
  {
   "cell_type": "markdown",
   "id": "9c2bc699-d776-433b-af4d-c1fdfda9e834",
   "metadata": {},
   "source": [
    "Convert the `date` column from string to `pl.Datetime` dtype"
   ]
  },
  {
   "cell_type": "code",
   "execution_count": null,
   "id": "b6ad2dd8-da98-410e-ac24-8341c23d21dd",
   "metadata": {
    "jupyter": {
     "source_hidden": true
    },
    "tags": []
   },
   "outputs": [],
   "source": [
    "df = pl.DataFrame(\n",
    "    {'date':['31-01-2020 00:00:00','28-02-2020 00:00:00','31-03-2020 00:00:00']}\n",
    ")\n",
    "(\n",
    "    df\n",
    "    .with_columns(\n",
    "        pl.col('date').str.strptime(pl.Datetime,format='%d-%m-%Y %H:%M:%S')\n",
    "    )\n",
    ")"
   ]
  },
  {
   "cell_type": "markdown",
   "id": "6dcac841-2ee7-4100-b2b1-64a132b37037",
   "metadata": {},
   "source": [
    "Cast to `pl.Datetime` preserving fractional seconds"
   ]
  },
  {
   "cell_type": "code",
   "execution_count": null,
   "id": "2b7e9169-c74c-43c6-8cc1-39973a7e235b",
   "metadata": {
    "jupyter": {
     "source_hidden": true
    },
    "tags": []
   },
   "outputs": [],
   "source": [
    "df = pl.DataFrame(\n",
    "    {'date':['31-01-2020 00:00:00.500','31-01-2020 00:00:00.600','31-01-2020 00:00:00.700']}\n",
    ")\n",
    "(\n",
    "    df\n",
    "    .with_columns(\n",
    "        pl.col('date').str.strptime(pl.Datetime,format='%d-%m-%Y %H:%M:%S%.3f')\n",
    "    )\n",
    ")"
   ]
  },
  {
   "cell_type": "markdown",
   "id": "a26d8b26-cd43-4709-bad0-bafcc6d62592",
   "metadata": {},
   "source": [
    "Cast to `pl.Datetime` with AM/PM"
   ]
  },
  {
   "cell_type": "code",
   "execution_count": null,
   "id": "2355fd56-ef49-4942-9b38-8e0fa50a4de9",
   "metadata": {
    "jupyter": {
     "source_hidden": true
    },
    "tags": []
   },
   "outputs": [],
   "source": [
    "df = pl.DataFrame(\n",
    "    {'date':['01-01-2020 01:00 AM','01-02-2020 01:00 AM','01-03-2020 02:00 AM']}\n",
    ")\n",
    "(\n",
    "    df\n",
    "    .with_columns(\n",
    "        pl.col('date').str.strptime(pl.Datetime,format='%d-%m-%Y %I:%M %p')\n",
    "    )\n",
    ")"
   ]
  },
  {
   "cell_type": "markdown",
   "id": "a764bcfe-bf8c-45bc-9ab1-a13c9060d9c8",
   "metadata": {},
   "source": [
    "### Solution to exercise 3 - read from CSV\n",
    "Read in the NYC taxi dataset from the CSV file. Use `read_csv` to parse the dates automatically"
   ]
  },
  {
   "cell_type": "code",
   "execution_count": null,
   "id": "b73b7797-1cd4-478f-baca-1a56f6121f5c",
   "metadata": {
    "tags": []
   },
   "outputs": [],
   "source": [
    "dfNYC = pl.read_csv(csv_file,try_parse_dates=True)"
   ]
  },
  {
   "cell_type": "markdown",
   "id": "54178951-412d-4f44-a4bb-3e89bd767292",
   "metadata": {},
   "source": [
    "Change the pickup and dropoff columns to be `pl.Date` (and not `pl.Datetime`)"
   ]
  },
  {
   "cell_type": "code",
   "execution_count": null,
   "id": "4b9af066-3d92-477f-8e5d-008a0dfbef37",
   "metadata": {
    "tags": []
   },
   "outputs": [],
   "source": [
    "dfNYC = (\n",
    "    dfNYC\n",
    "    .with_columns(\n",
    "        pl.col(pl.Datetime).cast(pl.Date)\n",
    "    )\n",
    ")"
   ]
  },
  {
   "cell_type": "markdown",
   "id": "e6dfc075-abce-4863-a677-52227a1a4f77",
   "metadata": {},
   "source": [
    "Count how many trips had a pickup on each date. Sort the output"
   ]
  },
  {
   "cell_type": "code",
   "execution_count": null,
   "id": "15e749b2-a221-40d3-92ad-264ff433c66a",
   "metadata": {
    "jupyter": {
     "source_hidden": true
    },
    "tags": []
   },
   "outputs": [],
   "source": [
    "dfNYC[\"pickup\"].value_counts(sort=True)"
   ]
  },
  {
   "cell_type": "code",
   "execution_count": null,
   "id": "6310b939-a46d-4c52-bf1a-f7ec669cb05e",
   "metadata": {},
   "outputs": [],
   "source": []
  }
 ],
 "metadata": {
  "kernelspec": {
   "display_name": "Python 3 (ipykernel)",
   "language": "python",
   "name": "python3"
  },
  "language_info": {
   "codemirror_mode": {
    "name": "ipython",
    "version": 3
   },
   "file_extension": ".py",
   "mimetype": "text/x-python",
   "name": "python",
   "nbconvert_exporter": "python",
   "pygments_lexer": "ipython3",
   "version": "3.10.1"
  }
 },
 "nbformat": 4,
 "nbformat_minor": 5
}
