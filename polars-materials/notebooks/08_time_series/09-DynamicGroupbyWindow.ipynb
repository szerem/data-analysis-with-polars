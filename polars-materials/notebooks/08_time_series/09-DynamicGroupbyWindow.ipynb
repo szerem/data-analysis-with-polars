{
 "cells": [
  {
   "cell_type": "markdown",
   "id": "057fc15a-eecc-407a-96f8-13398032c721",
   "metadata": {},
   "source": [
    "# The `group_by_dynamic` window\n",
    "By the end of this lecture you will be able to:\n",
    "\n",
    "- set the frequency, length and offset of windows\n",
    "- control the closure of windows\n",
    "- set the displayed datetime value for each window"
   ]
  },
  {
   "cell_type": "code",
   "execution_count": null,
   "id": "30707ebc-2b0e-4cfb-baff-ab17c65d83cb",
   "metadata": {
    "tags": []
   },
   "outputs": [],
   "source": [
    "from datetime import datetime\n",
    "\n",
    "import polars as pl"
   ]
  },
  {
   "cell_type": "markdown",
   "id": "e7f9b3d6-64f9-456e-ba36-491191786122",
   "metadata": {},
   "source": [
    "We create a `DataFrame` with hourly data over one day. We add a row number column that we can do aggregations on"
   ]
  },
  {
   "cell_type": "code",
   "execution_count": null,
   "id": "70d1ec96-d563-4d21-a3cb-8e52512a2e11",
   "metadata": {
    "tags": []
   },
   "outputs": [],
   "source": [
    "start = datetime(2022,1,1)\n",
    "stop = datetime(2022,1,2)\n",
    "\n",
    "df = (\n",
    "    pl.DataFrame(\n",
    "        {\n",
    "            'date':pl.datetime_range(start,stop,interval='1h',eager=True),\n",
    "        }\n",
    "    )\n",
    "    .with_row_index(\"index\")\n",
    ")\n",
    "df.head()"
   ]
  },
  {
   "cell_type": "markdown",
   "id": "1249fdf7-ae2b-4b91-9be2-8a9ca2e879b6",
   "metadata": {},
   "source": [
    "Note that when we create a date range column Polars sets the sorted flag to `True` automatically"
   ]
  },
  {
   "cell_type": "code",
   "execution_count": null,
   "id": "661bec55-eee2-466e-ba0f-afd995b17296",
   "metadata": {
    "tags": []
   },
   "outputs": [],
   "source": [
    "df[\"date\"].flags"
   ]
  },
  {
   "cell_type": "markdown",
   "id": "6bedcab6-ad86-48f7-a4b0-ccfb4e1d7fb1",
   "metadata": {},
   "source": [
    "### Specifying the window with `group_by_dynamic`\n",
    "A dynamic window in `group_by_dynamic` is defined by:\n",
    "\n",
    "- `every`: how often a window starts\n",
    "- `period`: how long a window lasts\n",
    "- `offset`: when the first window starts\n",
    "\n",
    "The role of the `offset` is easier to understand once we see how the default behaviour works later in this lecture. "
   ]
  },
  {
   "cell_type": "markdown",
   "id": "2bad263e-e511-45ad-9e9d-cf257dda379f",
   "metadata": {},
   "source": [
    "In this example\n",
    "```python\n",
    "(\n",
    "    df\n",
    "    .group_by_dynamic(\n",
    "        \"pickup\", \n",
    "        every=\"2h\"\n",
    "    )\n",
    ")\n",
    "```\n",
    "\n",
    "we set `every = \"2h\"` and:\n",
    "- a window starts every 2 hours \n",
    "- each window lasts 2 hours and \n",
    "- the first window starts at 0000 (midnight)\n",
    "\n",
    "If `period` is not set then it defaults to the same value as `every`"
   ]
  },
  {
   "cell_type": "code",
   "execution_count": null,
   "id": "edaba285-e1f3-425c-ac68-c85fd4c5c05a",
   "metadata": {
    "tags": []
   },
   "outputs": [],
   "source": [
    "(\n",
    "    df\n",
    "    .group_by_dynamic('date',every='2h')\n",
    "    .agg(\n",
    "        pl.col('index').count()\n",
    "    )\n",
    "    .head(3)\n",
    ")"
   ]
  },
  {
   "cell_type": "markdown",
   "id": "a5d4105a-13d9-496f-86fd-850b60f6bb35",
   "metadata": {},
   "source": [
    "To help understand the window bounds we add the `include_boundaries=True` argument to see the upper and lower boundary for each window"
   ]
  },
  {
   "cell_type": "code",
   "execution_count": null,
   "id": "b9bc6416-d1b4-49bc-8fcd-e4494e2b5d7a",
   "metadata": {
    "tags": []
   },
   "outputs": [],
   "source": [
    "(\n",
    "    df\n",
    "    .group_by_dynamic('date',every='2h',include_boundaries=True)\n",
    "    .agg(\n",
    "        pl.col('index').count()\n",
    "    )\n",
    "    .head(3)\n",
    ")"
   ]
  },
  {
   "cell_type": "markdown",
   "id": "63f3de6a-0c9a-4d40-9e7b-7f5e59fef0b8",
   "metadata": {},
   "source": [
    "- The `include_boundaries` argument does not affect whether boundary values are included in a window - see the section on closure for that below\n",
    "- The `include_boundaries = True` argument affects performance because it makes parallelism more difficult. Only use it if you need to understand the windows\n",
    "\n",
    "In this example\n",
    "```python\n",
    "(\n",
    "    df\n",
    "    .group_by_dynamic(\n",
    "        \"pickup\", \n",
    "        every = \"2h\",\n",
    "        period = \"4h\"\n",
    "    )\n",
    ")\n",
    "```\n",
    "\n",
    "\n",
    "we set `every = \"2h\", period = \"4h\"` and:\n",
    "- a window starts every 2 hours \n",
    "- each window lasts 4 hours and \n",
    "- the first window starts at 2200 (two hours before midnight)\n",
    "\n",
    "Because `period` is longer than `every` the windows are overlapping and we get 4 records per window"
   ]
  },
  {
   "cell_type": "code",
   "execution_count": null,
   "id": "4c4964db-81dd-47e3-896f-0c62f8288883",
   "metadata": {
    "tags": []
   },
   "outputs": [],
   "source": [
    "(\n",
    "    df\n",
    "    .group_by_dynamic('date',every='2h', period='4h',include_boundaries=True)\n",
    "    .agg(\n",
    "        pl.col('index').count()\n",
    "    )\n",
    "    .head(3)\n",
    ")"
   ]
  },
  {
   "cell_type": "markdown",
   "id": "a362fb3c-b227-424d-b81a-02c630f0ef2d",
   "metadata": {},
   "source": [
    "In this example\n",
    "```python\n",
    "(\n",
    "    df\n",
    "    .group_by_dynamic(\n",
    "        \"pickup\", \n",
    "        every=\"2h\",\n",
    "        period = \"4h\",\n",
    "        offset = \"6h\"\n",
    "    )\n",
    ")\n",
    "```\n",
    "\n",
    "\n",
    "we set `every = \"2h\", period = \"4h\", offset = \"6h\"` and:\n",
    "- a window starts every 2 hours \n",
    "- each window lasts 2 hours and \n",
    "- the first window starts at 0600 (6 AM)\n"
   ]
  },
  {
   "cell_type": "code",
   "execution_count": null,
   "id": "0e3d9223-fca1-411d-99d7-fdb0f2ab928e",
   "metadata": {
    "tags": []
   },
   "outputs": [],
   "source": [
    "(\n",
    "    df\n",
    "    .group_by_dynamic('date',every='2h', period='4h',offset = \"6h\",include_boundaries=True)\n",
    "    .agg(\n",
    "        pl.col('index').count()\n",
    "    )\n",
    "    .head(3)\n",
    ")"
   ]
  },
  {
   "cell_type": "markdown",
   "id": "91e284ce-5ffd-4f62-9c92-c75255b711a1",
   "metadata": {},
   "source": [
    "So the `offset` applies an offset to the start of the windows. It can be positive or negative."
   ]
  },
  {
   "cell_type": "markdown",
   "id": "0f02e9a9-15cc-4e46-96a4-27af391263df",
   "metadata": {},
   "source": [
    "Sometimes it can be confusing to understand which rows end up in which window.\n",
    "\n",
    "One way to clarify this is to do an `agg` with `pl.col(\"row_nr\")`. With this you can inspect which rows are in which window"
   ]
  },
  {
   "cell_type": "code",
   "execution_count": null,
   "id": "589abf62-5af9-4fd3-9956-b30885df13e5",
   "metadata": {
    "tags": []
   },
   "outputs": [],
   "source": [
    "(\n",
    "    df\n",
    "    .group_by_dynamic('date',every='2h', period='4h',offset = \"6h\",include_boundaries=True)\n",
    "    .agg(\n",
    "            pl.col('index'),\n",
    "    )\n",
    "    .head(3)\n",
    ")"
   ]
  },
  {
   "cell_type": "markdown",
   "id": "e5a5622d-1a2a-4e26-8605-5bddcf18d467",
   "metadata": {},
   "source": [
    "In this example we can see that rows 0 to 5 are excluded (because of the `offset` and rows 8 and 9 are in both the first and second window.\n",
    "\n",
    "### Closure and boundaries of windows\n",
    "By default the windows are closed on the `left` - datetimes on the left boundary are included while datetimes on the right boundary are not included"
   ]
  },
  {
   "cell_type": "code",
   "execution_count": null,
   "id": "1813819e-5fea-48fa-acfb-b3a87d2e195a",
   "metadata": {
    "tags": []
   },
   "outputs": [],
   "source": [
    "(\n",
    "    df\n",
    "    .group_by_dynamic('date',every='2h',include_boundaries=True)\n",
    "    .agg(\n",
    "            pl.col('index'),\n",
    "    )\n",
    "    .head(3)\n",
    ")"
   ]
  },
  {
   "cell_type": "markdown",
   "id": "5768b692-58ea-48dc-b91e-1bad4bdac468",
   "metadata": {},
   "source": [
    "We can vary closure with the `closed` argument.\n",
    "\n",
    "If we set `closed=both` we get:\n",
    "- an additional window with just the first value as the right boundary\n",
    "- each even-numbered row appears in successive windows"
   ]
  },
  {
   "cell_type": "code",
   "execution_count": null,
   "id": "affeb7a2-7633-4a21-b1c7-451e266c392c",
   "metadata": {
    "tags": []
   },
   "outputs": [],
   "source": [
    "(\n",
    "    df\n",
    "    .group_by_dynamic('date',every='2h',closed=\"both\",include_boundaries=True)\n",
    "    .agg(\n",
    "        pl.col('index'),\n",
    "    )\n",
    "    .head(3)\n",
    ")"
   ]
  },
  {
   "cell_type": "markdown",
   "id": "2c7a19d4-e79b-45d0-b0ea-14eee08ce923",
   "metadata": {},
   "source": [
    "## Setting the first window"
   ]
  },
  {
   "cell_type": "markdown",
   "id": "9f3a2dac-f497-477c-805b-e602fc7f294c",
   "metadata": {},
   "source": [
    "So far we have had neat hourly data and hourly windows. To understand how the window intervals are set it is better to use a less neat example.\n",
    "\n",
    "In this example we use a window length of 55 minutes which is not a multiple of the hourly data interval to see the consequences"
   ]
  },
  {
   "cell_type": "code",
   "execution_count": null,
   "id": "cae066ad-e5f9-4d70-965b-f0a13a61fdc3",
   "metadata": {
    "tags": []
   },
   "outputs": [],
   "source": [
    "(\n",
    "    df\n",
    "    .group_by_dynamic('date',every='55m')\n",
    "    .agg(\n",
    "            pl.col('index'),\n",
    "    )\n",
    "    .head(3)\n",
    ")"
   ]
  },
  {
   "cell_type": "markdown",
   "id": "67065eed-5950-42c7-b31b-ac4863bde7dc",
   "metadata": {},
   "source": [
    "The first window starts at 2021-12-31 23:45:00 whereas the first time point in `df` is 2022-01-01 00:00:00.\n",
    "\n",
    "Why does the first window start at 2021-12-31 23:45:00?\n",
    "\n",
    "If we were to move forward from time 0 through the Unix epoch in 55 minute intervals then 2021-12-31 23:45:00 is the last point before we reach 2022-01-01 00:00:00. By default Polars starts the first window there.\n",
    "\n",
    "If we want to move the start of the first window we can use the `offset` argument to `group_by_dynamic`.\n",
    "\n",
    "In this example we move the start of the first window forward by 15 minutes to 00:00:00"
   ]
  },
  {
   "cell_type": "code",
   "execution_count": null,
   "id": "edc99011-e241-49e0-8136-4d50a8bc9731",
   "metadata": {
    "tags": []
   },
   "outputs": [],
   "source": [
    "(\n",
    "    df\n",
    "    .group_by_dynamic('date',every='55m',offset=\"15m\",include_boundaries=True)\n",
    "    .agg(\n",
    "            pl.col('index'),\n",
    "    )\n",
    "    .head(5)\n",
    ")"
   ]
  },
  {
   "cell_type": "markdown",
   "id": "5a59f5c9-1427-4eb1-99af-bab62166bdcc",
   "metadata": {},
   "source": [
    "## Controlling the displayed datetime\n",
    "In the output of `group_by_dynamic` there is a datetime on each row for each window.\n",
    "\n",
    "By default Polars uses the lower bound of each window as the date for that window.\n",
    "\n",
    "In this example the lower bound is shown in the `date` column"
   ]
  },
  {
   "cell_type": "code",
   "execution_count": null,
   "id": "71f40d4d-8d1f-49a6-afd2-ac4cddc60f3b",
   "metadata": {
    "tags": []
   },
   "outputs": [],
   "source": [
    "(\n",
    "    df\n",
    "    .group_by_dynamic('date',every='55m',include_boundaries=True)\n",
    "    .agg(\n",
    "            pl.col('index'),\n",
    "    )\n",
    "    .head(3)\n",
    ")"
   ]
  },
  {
   "cell_type": "markdown",
   "id": "ef0c10a8-c714-4d6a-9be4-3473495f7bd4",
   "metadata": {},
   "source": [
    "We use the `label` argument to control what datetime value is used to label the window.\n",
    "\n",
    "- `label = \"left\"` uses the lower bound of the window\n",
    "- `label = \"right\"` uses the upper bound of the window\n",
    "- `label = \"datapoint\"` uses the first datapoint in the window\n",
    "\n",
    "In this example the `date` column equals the `upper_boundary` column as we set `label = \"right\"` "
   ]
  },
  {
   "cell_type": "code",
   "execution_count": null,
   "id": "be7e4468-d461-458e-9f00-bb735e94b774",
   "metadata": {
    "tags": []
   },
   "outputs": [],
   "source": [
    "(\n",
    "    df\n",
    "    .group_by_dynamic('date',every='55m',include_boundaries=True,label=\"right\")\n",
    "    .agg(\n",
    "            pl.col('index'),\n",
    "    )\n",
    "    .head(2)\n",
    ")"
   ]
  },
  {
   "cell_type": "markdown",
   "id": "3339016a-d2f4-4380-a54a-728253f1a1c8",
   "metadata": {},
   "source": [
    "## Exercises\n",
    "In the exercises you will develop your understanding of:\n",
    "- setting the interval of the window\n",
    "- setting the length of the window\n",
    "- setting the offset of the window\n",
    "- controlling closure of the window\n",
    "- setting the displayed datetime for the window\n",
    "\n",
    "### Exercise 1\n",
    "Create a `DataFrame` that runs over 2020 at 2 minute intervals. Add a column for the row count"
   ]
  },
  {
   "cell_type": "code",
   "execution_count": null,
   "id": "dfd7f896-7c0e-484c-8ee9-39475404cf03",
   "metadata": {},
   "outputs": [],
   "source": [
    "start = <blank>\n",
    "stop = <blank>\n",
    "(\n",
    "    <blank>\n",
    "    .head()\n",
    ")"
   ]
  },
  {
   "cell_type": "markdown",
   "id": "ad4cca94-06fc-4a11-aad6-3b93b19fffdf",
   "metadata": {},
   "source": [
    "Do a dynamic groupby with windows that start every hour and last one hour. Aggregate the `row_nr` column into the list of row indices for each window"
   ]
  },
  {
   "cell_type": "code",
   "execution_count": null,
   "id": "5409b79e-2bef-41fb-8e57-931a28f783a4",
   "metadata": {},
   "outputs": [],
   "source": []
  },
  {
   "cell_type": "markdown",
   "id": "78456239-8d08-4159-8669-fdbb1b36d4ee",
   "metadata": {},
   "source": [
    "Do a dynamic groupby again with windows that start every hour and last two hours. "
   ]
  },
  {
   "cell_type": "code",
   "execution_count": null,
   "id": "d6b7dda0-c34a-474f-9cf2-c30d8a05b678",
   "metadata": {},
   "outputs": [],
   "source": []
  },
  {
   "cell_type": "markdown",
   "id": "0a32652c-6042-4748-a343-1be792164f28",
   "metadata": {},
   "source": [
    "Offset the start of the first window to 30 minutes *before* midnight"
   ]
  },
  {
   "cell_type": "code",
   "execution_count": null,
   "id": "ca1555fd-f396-461d-9e4f-598aa7a5addb",
   "metadata": {},
   "outputs": [],
   "source": []
  },
  {
   "cell_type": "markdown",
   "id": "4053fa2f-516b-4a81-b949-2ec574168172",
   "metadata": {},
   "source": [
    "Adapt the earlier steps to:\n",
    "- create the `DataFrame` over 2020 again but this time at **7 minute intervals** (chosen as a number that doesn't divide 60)\n",
    "- add a row count columns\n",
    "- do a groupby with one-hour windows\n",
    "- set the displayed date for each window to be the first datapoint in the window"
   ]
  },
  {
   "cell_type": "code",
   "execution_count": null,
   "id": "703b6dc8-7d5e-4ab8-86f2-f8bfacfd761c",
   "metadata": {},
   "outputs": [],
   "source": []
  },
  {
   "cell_type": "markdown",
   "id": "a0021d49-4cee-4041-b502-518bc404ce88",
   "metadata": {},
   "source": [
    "Set the windows of this `DataFrame` to be closed on the right"
   ]
  },
  {
   "cell_type": "code",
   "execution_count": null,
   "id": "fee516dd-4f45-4b7c-acc6-e3c5ccda235a",
   "metadata": {},
   "outputs": [],
   "source": []
  },
  {
   "cell_type": "markdown",
   "id": "e99ed1d4-eaad-44fc-b3ad-72343492a573",
   "metadata": {},
   "source": [
    "### Exercise 2\n",
    "Create the query to generate the following optimised plan with a groupby window that is one week long\n",
    "\n",
    "Note that the `group_by_dynamic` arguments do not appear in the optimised plan\n",
    "\n",
    "```python\n",
    "SORT BY [col(\"mean\")]\n",
    "  AGGREGATE\n",
    "  \t[col(\"trip_distance\").count().alias(\"count\"), col(\"trip_distance\").mean().alias(\"mean\"), col(\"trip_distance\").max().alias(\"max\")] BY [] FROM\n",
    "     WITH_COLUMNS:\n",
    "     [col(\"pickup\").set_sorted()]\n",
    "\n",
    "        Csv SCAN ../data/nyc_trip_data_1k.csv\n",
    "        PROJECT 2/7 COLUMNS\n",
    "```"
   ]
  },
  {
   "cell_type": "code",
   "execution_count": null,
   "id": "2ce38b98-9fdb-4772-acca-5b1f365a7426",
   "metadata": {},
   "outputs": [],
   "source": [
    "csv_file = \"../data/nyc_trip_data_1k.csv\"\n",
    "print(\n",
    "    <blank>\n",
    "    .explain()\n",
    ")    "
   ]
  },
  {
   "cell_type": "markdown",
   "id": "325671c3-63ea-451c-948f-5addbe7ae905",
   "metadata": {},
   "source": [
    "Evaluate the full query and inspect the data. Modify the query so the first date is 2022-01-01 00:00:00.\n",
    "\n",
    "You will need to `collect()` the query to view the data to for the second point.\n"
   ]
  },
  {
   "cell_type": "code",
   "execution_count": null,
   "id": "0bf51463-dd69-4daa-b3f9-1bcad3b679ea",
   "metadata": {},
   "outputs": [],
   "source": []
  },
  {
   "cell_type": "markdown",
   "id": "5ae56877-f617-488c-98c2-8891102d888f",
   "metadata": {},
   "source": [
    "## Solutions\n",
    "\n",
    "### Solution to exercise 1\n",
    "Create a `DataFrame` that runs over 2020 at 2 minute intervals. Add a column for the row count"
   ]
  },
  {
   "cell_type": "code",
   "execution_count": null,
   "id": "8b62e26a-72bd-445d-87e1-751bb80c06c2",
   "metadata": {
    "jupyter": {
     "source_hidden": true
    },
    "tags": []
   },
   "outputs": [],
   "source": [
    "start = datetime(2020,1,1)\n",
    "stop = datetime(2021,1,1)\n",
    "(\n",
    "    pl.DataFrame(\n",
    "        {\n",
    "            \"date\":pl.datetime_range(start,stop,interval=\"2m\",eager=True)\n",
    "        }\n",
    "    ).with_row_index()\n",
    "    .head()\n",
    ")"
   ]
  },
  {
   "cell_type": "markdown",
   "id": "4f537431-5af0-44d8-b874-f9cb4e022fe7",
   "metadata": {},
   "source": [
    "Do a dynamic groupby with windows that start every hour and last one hour. Aggregate the `row_nr` column into the list of row indices for each window"
   ]
  },
  {
   "cell_type": "code",
   "execution_count": null,
   "id": "97a2a097-f4b0-4ab9-8668-ff0680771e95",
   "metadata": {
    "jupyter": {
     "source_hidden": true
    },
    "tags": []
   },
   "outputs": [],
   "source": [
    "start = datetime(2020,1,1)\n",
    "stop = datetime(2021,1,1)\n",
    "(\n",
    "    pl.DataFrame(\n",
    "        {\n",
    "            \"date\":pl.datetime_range(start,stop,interval=\"2m\",eager=True)\n",
    "        }\n",
    "    ).with_row_index()\n",
    "    \n",
    "    .group_by_dynamic(\n",
    "        \"date\",\n",
    "        every = \"1h\",\n",
    "    )\n",
    "    .agg(\n",
    "        pl.col(\"index\"),\n",
    "    )\n",
    "    .head()\n",
    ")"
   ]
  },
  {
   "cell_type": "markdown",
   "id": "dcbdfeb7-85ee-436a-8990-07bc61bc195c",
   "metadata": {},
   "source": [
    "Do a dynamic groupby again with windows that start every hour and last two hours. "
   ]
  },
  {
   "cell_type": "code",
   "execution_count": null,
   "id": "8fec8ca3-dfc8-4326-b3f4-12dd2af8569b",
   "metadata": {
    "jupyter": {
     "source_hidden": true
    },
    "tags": []
   },
   "outputs": [],
   "source": [
    "start = datetime(2020,1,1)\n",
    "stop = datetime(2021,1,1)\n",
    "(\n",
    "    pl.DataFrame(\n",
    "        {\n",
    "            \"date\":pl.datetime_range(start,stop,interval=\"2m\",eager=True)\n",
    "        }\n",
    "    )\n",
    "    .with_row_index()\n",
    "    .group_by_dynamic(\n",
    "        \"date\",\n",
    "        every = \"1h\",\n",
    "        period = \"2h\",\n",
    "    )\n",
    "    .agg(\n",
    "        pl.col(\"index\"),\n",
    "    )\n",
    "    .head()\n",
    ")"
   ]
  },
  {
   "cell_type": "markdown",
   "id": "c0441387-72d1-4461-bba2-695ae4861c37",
   "metadata": {},
   "source": [
    "Offset the start of the first window to 30 minutes *before* midnight"
   ]
  },
  {
   "cell_type": "code",
   "execution_count": null,
   "id": "07783ed9-8d9f-4513-a2f6-69cfa848764d",
   "metadata": {
    "jupyter": {
     "source_hidden": true
    },
    "tags": []
   },
   "outputs": [],
   "source": [
    "start = datetime(2020,1,1)\n",
    "stop = datetime(2021,1,1)\n",
    "(\n",
    "    pl.DataFrame(\n",
    "        {\n",
    "            \"date\":pl.datetime_range(start,stop,interval=\"2m\",eager=True)\n",
    "        }\n",
    "    )\n",
    "    .with_row_index()\n",
    "    .group_by_dynamic(\n",
    "        \"date\",\n",
    "        every = \"1h\",\n",
    "        period = \"2h\",\n",
    "        offset = \"-30m\"\n",
    "    )\n",
    "    .agg(\n",
    "        pl.col(\"index\"),\n",
    "    )\n",
    "    .head()\n",
    ")"
   ]
  },
  {
   "cell_type": "markdown",
   "id": "3f938287-7cf6-425d-85b4-cdf338fa6e23",
   "metadata": {},
   "source": [
    "Adapt the earlier steps to:\n",
    "- create the `DataFrame` over 2020 again but this time at **7 minute intervals** (chosen as a number that doesn't divide 60)\n",
    "- add a row count columns\n",
    "- do a groupby with one-hour windows\n",
    "- set the displayed date for each window to be the first datapoint in the window"
   ]
  },
  {
   "cell_type": "code",
   "execution_count": null,
   "id": "a7068ac7-6dce-4bf6-910b-14a10f4243f8",
   "metadata": {
    "jupyter": {
     "source_hidden": true
    },
    "tags": []
   },
   "outputs": [],
   "source": [
    "(\n",
    "    pl.DataFrame(\n",
    "        {\n",
    "            \"date\":pl.datetime_range(start,stop,interval=\"7m\",eager=True)\n",
    "        }\n",
    "    )\n",
    "    .with_row_index()\n",
    "    .group_by_dynamic(\n",
    "        \"date\",\n",
    "        every = \"1h\",\n",
    "        label = \"datapoint\",\n",
    "    )\n",
    "    .agg(\n",
    "        pl.col(\"index\"),\n",
    "    )\n",
    "    .head()\n",
    ")"
   ]
  },
  {
   "cell_type": "markdown",
   "id": "ab6a9839-4632-496b-b670-5986c66b737d",
   "metadata": {},
   "source": [
    "Set the windows of this `DataFrame` to be closed on the right"
   ]
  },
  {
   "cell_type": "code",
   "execution_count": null,
   "id": "34088914-68fc-4917-afaa-085e2de2f4f3",
   "metadata": {
    "jupyter": {
     "source_hidden": true
    },
    "tags": []
   },
   "outputs": [],
   "source": [
    "(\n",
    "    pl.DataFrame(\n",
    "        {\n",
    "            \"date\":pl.datetime_range(start,stop,interval=\"2m\",eager=True)\n",
    "        }\n",
    "    )\n",
    "    .with_row_index()\n",
    "    .group_by_dynamic(\n",
    "        \"date\",\n",
    "        every = \"1h\",\n",
    "        label = \"datapoint\",\n",
    "        closed = \"right\"\n",
    "    )\n",
    "    .agg(\n",
    "        pl.col(\"index\"),\n",
    "    )\n",
    "    .head()\n",
    ")"
   ]
  },
  {
   "cell_type": "markdown",
   "id": "6945820d-8d33-4cc2-bdd2-a413880c6a2d",
   "metadata": {},
   "source": [
    "### Solution to exercise 2\n",
    "Create the query to generate the following optimised plan with a groupby window that is one week long\n",
    "\n",
    "Note that the `group_by_dynamic` arguments do not appear in the optimised plan\n",
    "\n",
    "```python\n",
    "SORT BY [col(\"mean\")]\n",
    "  AGGREGATE\n",
    "  \t[col(\"trip_distance\").count().alias(\"count\"), col(\"trip_distance\").mean().alias(\"mean\"), col(\"trip_distance\").max().alias(\"max\")] BY [] FROM\n",
    "     WITH_COLUMNS:\n",
    "     [col(\"pickup\").set_sorted()]\n",
    "\n",
    "        Csv SCAN ../data/nyc_trip_data_1k.csv\n",
    "        PROJECT 2/7 COLUMNS\n",
    "```"
   ]
  },
  {
   "cell_type": "code",
   "execution_count": null,
   "id": "baf6cdf8-1345-41be-8a5f-4eaeddb96df3",
   "metadata": {
    "jupyter": {
     "source_hidden": true
    },
    "tags": []
   },
   "outputs": [],
   "source": [
    "csv_file = \"../data/nyc_trip_data_1k.csv\"\n",
    "print(\n",
    "    pl.scan_csv(csv_file,try_parse_dates=True)\n",
    "    .with_columns(\n",
    "        pl.col(\"pickup\").set_sorted()\n",
    "    )\n",
    "    .group_by_dynamic(\"pickup\",every=\"1d\")\n",
    "    .agg(\n",
    "        [\n",
    "            pl.col(\"trip_distance\").count().alias(\"count\"),\n",
    "            pl.col(\"trip_distance\").mean().alias(\"mean\"),\n",
    "            pl.col(\"trip_distance\").max().alias(\"max\"),\n",
    "        ]\n",
    "    )\n",
    "    .sort(\"mean\",descending=True)\n",
    "    .explain()\n",
    ")\n",
    "    "
   ]
  },
  {
   "cell_type": "markdown",
   "id": "52a0336c-7327-4eb4-9b5c-0e777ec0529f",
   "metadata": {},
   "source": [
    "Evaluate the full query and inspect the data. Modify the query so the first date is 2022-01-01 00:00:00.\n",
    "\n",
    "You will need to `collect()` the query to view the data to for the second point.\n"
   ]
  },
  {
   "cell_type": "code",
   "execution_count": null,
   "id": "e442b46f-0102-463d-b154-ae8027044d7f",
   "metadata": {
    "jupyter": {
     "source_hidden": true
    },
    "tags": []
   },
   "outputs": [],
   "source": [
    "csv_file = \"../data/nyc_trip_data_1k.csv\"\n",
    "(\n",
    "    pl.scan_csv(csv_file,try_parse_dates=True)\n",
    "    .with_columns(\n",
    "            pl.col(\"pickup\").set_sorted()\n",
    "    )\n",
    "    .filter(pl.col(\"pickup\") < datetime(2022,1,15))\n",
    "    .group_by_dynamic(\"pickup\",every=\"1w\",offset = \"5d\")\n",
    "    .agg(\n",
    "        [\n",
    "            pl.col(\"trip_distance\").count().alias(\"count\"),\n",
    "            pl.col(\"trip_distance\").mean().alias(\"mean\"),\n",
    "            pl.col(\"trip_distance\").max().alias(\"max\"),\n",
    "        ]\n",
    "    )\n",
    "    .sort(\"mean\",descending=True)\n",
    "    .collect()\n",
    ")"
   ]
  },
  {
   "cell_type": "code",
   "execution_count": null,
   "id": "51b62ca7-5672-4c83-8ece-48b9b3c631f9",
   "metadata": {
    "tags": []
   },
   "outputs": [],
   "source": []
  }
 ],
 "metadata": {
  "kernelspec": {
   "display_name": "Python 3 (ipykernel)",
   "language": "python",
   "name": "python3"
  },
  "language_info": {
   "codemirror_mode": {
    "name": "ipython",
    "version": 3
   },
   "file_extension": ".py",
   "mimetype": "text/x-python",
   "name": "python",
   "nbconvert_exporter": "python",
   "pygments_lexer": "ipython3",
   "version": "3.10.1"
  }
 },
 "nbformat": 4,
 "nbformat_minor": 5
}
