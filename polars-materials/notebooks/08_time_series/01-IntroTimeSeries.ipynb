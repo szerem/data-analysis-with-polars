{
    "cells": [
        {
            "cell_type": "markdown",
            "id": "fbdb88a1-5750-47d4-bc27-3418beafb62b",
            "metadata": {},
            "source": [
                "## Introduction to datetime dtypes\n",
                "By the end of this lecture you will be able to:\n",
                "- explain the difference between Polars datetime dtypes\n",
                "- extract the integer representation underlying datetime dtypes\n",
                "\n",
                "Time series analysis is easier if you have a good understanding of the datetime dtypes and their underlying representation. We get to know the dtypes here.\n",
                "\n",
                "Time series dtypes behave in some ways like a categorical dtype with an underlying integer representation that maps to a more interpretable datetime representation. I recommend that you do the String and categorical dtypes lecture in Section 3 before doing this lecture.    "
            ]
        },
        {
            "cell_type": "code",
            "execution_count": null,
            "id": "5b084b17-bece-4e91-a635-6b6bd4e2a29d",
            "metadata": {
                "tags": []
            },
            "outputs": [],
            "source": [
                "from datetime import date,datetime\n",
                "\n",
                "import polars as pl\n",
                "import pandas as pd"
            ]
        },
        {
            "cell_type": "markdown",
            "id": "4a3be8b1-db4f-4187-b2e1-efc113b74f50",
            "metadata": {},
            "source": [
                "Before looking at the dtypes we create a datetime range in Polars with `pl.datetime_range`. \n",
                "\n",
                "In this example we create an hourly datetime range where we specify the start and stop dates with Python `datetime.date` objects"
            ]
        },
        {
            "cell_type": "code",
            "execution_count": null,
            "id": "19341ecc-0371-4a63-aa02-59584c67784a",
            "metadata": {
                "tags": []
            },
            "outputs": [],
            "source": [
                "pl.Config.set_tbl_rows(4)\n",
                "start = date(2022,1,1)\n",
                "stop = date(2022,1,2)\n",
                "df = pl.DataFrame(\n",
                "    {\n",
                "        'date':pl.datetime_range(\n",
                "            start = start,\n",
                "            end = stop,\n",
                "            interval='1h',\n",
                "            eager=True\n",
                "        ),\n",
                "    }\n",
                ")\n",
                "df"
            ]
        },
        {
            "cell_type": "markdown",
            "id": "6ca33029-3303-447e-8b97-70a02cace1c9",
            "metadata": {},
            "source": [
                "The dtype of this column is `datetime[μs]`. This means it has a `pl.Datetime` dtype where the underlying representation is microseconds since the start of the Unix epoch on 1st January 1970."
            ]
        },
        {
            "cell_type": "markdown",
            "id": "2a07187b-efdf-4a8d-90da-3b928a0507de",
            "metadata": {},
            "source": [
                "## Datetime dtypes\n",
                "As well as `pl.Datetime` Polars has `pl.Date`,`pl.Time` and `pl.Duration` dtypes. In this table we set out key characteristics of each\n",
                "\n",
                "\n",
                "| dtype|Example |Time unit | Internal dtype |\n",
                "---|---|---|---|\n",
                "|`pl.Datetime` | 2020-01-01 01:00:00 |Microseconds since UNIX epoch | 64-bit signed integer |\n",
                "|`pl.Date` |2020-01-01 |Days since UNIX epoch | 32-bit signed integer |\n",
                "| `pl.Time` | 01:00:00 | Nanoseconds since midnight | 64-bit signed integer |\n",
                "|`pl.Duration` |1d 1h |Microseconds |  64-bit signed integer  |\n"
            ]
        },
        {
            "cell_type": "markdown",
            "id": "6c35143a-7121-46d3-be6f-11199286e7d1",
            "metadata": {},
            "source": [
                "> In Pandas and Numpy the Datetime objects use nanoseconds rather than microseconds by default. We cover conversion from Pandas and Numpy below.\n",
                "\n",
                "In the `DataFrame` below we create a date range at 6-hour intervals. We then cast this date range to the other datetime dtypes to see how it changes.\n",
                "\n"
            ]
        },
        {
            "cell_type": "code",
            "execution_count": null,
            "id": "b9b9f7b7-6341-4627-b3f8-85e41f212f20",
            "metadata": {
                "tags": []
            },
            "outputs": [],
            "source": [
                "start = datetime(2020,1,1)\n",
                "stop = datetime(2020,1,2)\n",
                "interval = \"6h\"\n",
                "pl.Config.set_tbl_rows(5)\n",
                "df_datetimes = (\n",
                "    pl.DataFrame(\n",
                "        {\n",
                "            # Create a date range\n",
                "            \"datetime\":pl.datetime_range(start,stop,interval=interval,eager=True)\n",
                "        }\n",
                "    ).with_columns(\n",
                "        # Cast it to other dtypes\n",
                "        pl.col(\"datetime\").cast(pl.Date).alias(\"date\"),\n",
                "        pl.col(\"datetime\").cast(pl.Time).alias(\"time\"),        \n",
                "    )\n",
                "\n",
                ")\n",
                "df_datetimes"
            ]
        },
        {
            "cell_type": "markdown",
            "id": "84187d77-5854-4cb7-9254-01b15fec0f8f",
            "metadata": {},
            "source": [
                "We see that casting the datetime to `pl.Date` extracts the date and similiarly for time.\n",
                "\n",
                "To get a `pl.Duration` we subtract successive values in the column of datetimes with the `diff` expression"
            ]
        },
        {
            "cell_type": "code",
            "execution_count": null,
            "id": "b5359a2e-514c-40b4-a429-735d2a640559",
            "metadata": {},
            "outputs": [],
            "source": [
                "df_datetimes = (\n",
                "    df_datetimes\n",
                "    .with_columns(\n",
                "        pl.col(\"datetime\").diff().alias(\"duration\"),        \n",
                "    )\n",
                ")"
            ]
        },
        {
            "cell_type": "markdown",
            "id": "8d92d8e0-f48e-4577-b3f4-a7ed50e32792",
            "metadata": {},
            "source": [
                "### Integer representations\n",
                "Internally each datetime dtype is an integer count (see the table above for details of what). When you find a time series operation behaving in an unexpected way it can be useful to look at what is going on with these underlying integers.\n",
                "\n",
                "We get the underlying integer representations with the `to_physical` expression"
            ]
        },
        {
            "cell_type": "code",
            "execution_count": null,
            "id": "a67ea3b4-bc64-450c-b4fb-617787b2177f",
            "metadata": {
                "tags": []
            },
            "outputs": [],
            "source": [
                "df_datetimes_physical = (\n",
                "    df_datetimes\n",
                "    .select(\n",
                "        pl.col(\"datetime\").to_physical().name.suffix(\"_us\"),\n",
                "        pl.col(\"date\").to_physical().name.suffix(\"_days\"),\n",
                "        pl.col(\"duration\").to_physical().name.suffix(\"_us\"),\n",
                "        pl.col(\"time\").to_physical().name.suffix(\"_ns\"),            \n",
                "    )\n",
                ")\n",
                "df_datetimes_physical"
            ]
        },
        {
            "cell_type": "markdown",
            "id": "55aa5096-3c5d-4c55-b50b-d69a8156e825",
            "metadata": {},
            "source": [
                "With a 64-bit integer we can represent a datetime range of 584 billion years at microsecond intervals!"
            ]
        },
        {
            "cell_type": "markdown",
            "id": "b0f5fa33-07b2-4c85-b71b-a8f9b3ae8204",
            "metadata": {},
            "source": [
                "### Changing the underlying time unit & conversion from Pandas/Numpy\n",
                "In Polars a `pl.Datetime` is represented as microseconds by default. However, in Pandas and Numpy the underling representation is nanoseconds.\n",
                "\n",
                "In this example we create a *Pandas* `DataFrame` and check the dtype"
            ]
        },
        {
            "cell_type": "code",
            "execution_count": null,
            "id": "167a7a36-e03a-4d6c-9dd9-aa00b5744f41",
            "metadata": {},
            "outputs": [],
            "source": [
                "df_datetimes_pandas = (\n",
                "    pd.DataFrame(\n",
                "        {\n",
                "            # Create a Pandas date range\n",
                "            \"datetime\":pd.date_range(start,stop,freq=\"6h\",)\n",
                "        }\n",
                "    )\n",
                ")\n",
                "df_datetimes_pandas.dtypes"
            ]
        },
        {
            "cell_type": "markdown",
            "id": "c8d36e3f-3a83-4099-a41a-84f5a911b3c5",
            "metadata": {},
            "source": [
                "We see the dtype is `datetime64[ns]`\n",
                "\n",
                "If we convert this to Pandas `DataFrame` to a Polars `DataFrame` we still have a `pl.Datetime` with nanoseconds as the underlying representation"
            ]
        },
        {
            "cell_type": "code",
            "execution_count": null,
            "id": "c73c26d5-6a1c-406d-8f9e-5c6334a641be",
            "metadata": {},
            "outputs": [],
            "source": [
                "(\n",
                "    pl.from_pandas(\n",
                "        df_datetimes_pandas\n",
                "    )\n",
                "    .head(2)\n",
                ")"
            ]
        },
        {
            "cell_type": "markdown",
            "id": "bacba9a8-c8f9-4cfa-a977-65f5c53d65b8",
            "metadata": {},
            "source": [
                "This nanosecond representation can stop you from joining to another Polars `DataFrame` that has a microsecond representation. To address this we can cast the `pl.Datetime` column from nanoseconds to microseconds with `dt.cast_time_unit`"
            ]
        },
        {
            "cell_type": "code",
            "execution_count": null,
            "id": "f622a441-383a-4453-8aca-699799f6ad77",
            "metadata": {},
            "outputs": [],
            "source": [
                "(\n",
                "    pl.from_pandas(\n",
                "        df_datetimes_pandas\n",
                "    )\n",
                "    .with_columns(\n",
                "        pl.col(\"datetime\").dt.cast_time_unit(\"us\")\n",
                "    )\n",
                "    .head(2)\n",
                ")"
            ]
        },
        {
            "cell_type": "markdown",
            "id": "5604ecf5-80fc-48f1-a5df-c18d85578cc9",
            "metadata": {},
            "source": [
                "### Timestamp\n",
                "The integer representation of a datetime is sometimes referred to as the timestamp. \n",
                "\n",
                "In Polars we have a `.dt.timestamp` expression that gives the integer representation in a given unit - similar to `to_physical` above. We can also change the time unit of the integers.\n",
                "\n",
                "In this example we get the integer representation of the datetime column in the default microseconds and in nanoseconds"
            ]
        },
        {
            "cell_type": "code",
            "execution_count": null,
            "id": "dd9f4149-db03-4b79-a304-7a315df4a8db",
            "metadata": {
                "tags": []
            },
            "outputs": [],
            "source": [
                "(\n",
                "    df_datetimes\n",
                "    .select(\n",
                "        pl.col(\"datetime\"),\n",
                "        pl.col(\"datetime\").to_physical().alias(\"datetime_to_phys\"),\n",
                "        pl.col(\"datetime\").dt.timestamp().alias(\"timestamp_us\"),\n",
                "        pl.col(\"datetime\").dt.timestamp(time_unit=\"ns\").alias(\"timestamp_ns\"),\n",
                "    )\n",
                ")"
            ]
        },
        {
            "cell_type": "markdown",
            "id": "b82b5125-e354-4631-b05e-e4d9b503d9aa",
            "metadata": {},
            "source": [
                "There is also a `.dt.epoch` expression that is an alias for `.dt.timestamp`"
            ]
        },
        {
            "cell_type": "markdown",
            "id": "31f1cb1c-7c2a-4ed6-9ec4-b5f2bb7f0f81",
            "metadata": {},
            "source": [
                "## Exercises\n",
                "In the exercises you will develop your understanding of:\n",
                "- creating a date range\n",
                "- converting datetime dtypes\n",
                "- extracting the integer representation\n",
                " \n",
                "### Exercise 1\n",
                "Create a `DataFrame` with a column called `datetime` that has datetimes from the start of 2020 to 30th June 2022 at 6-monthly intervals"
            ]
        },
        {
            "cell_type": "code",
            "execution_count": null,
            "id": "716ac879-ec02-4354-8c61-da2dd1087d6d",
            "metadata": {},
            "outputs": [],
            "source": []
        },
        {
            "cell_type": "markdown",
            "id": "c40306d5-2b6a-439b-8c21-881d4d33ec4c",
            "metadata": {},
            "source": [
                "Extend your query by copying your existing code in each subsequent part of this exercise.\n",
                "\n",
                "Create this date range again but including the end date and excluding the start date"
            ]
        },
        {
            "cell_type": "code",
            "execution_count": null,
            "id": "4d8a18d4-900f-4d36-8810-e9abb6a19195",
            "metadata": {},
            "outputs": [],
            "source": []
        },
        {
            "cell_type": "markdown",
            "id": "b3c5c2b8-5b1a-43ba-9bd5-00d2874b7ac3",
            "metadata": {},
            "source": [
                "Add columns that encode the `datetime` column as a:\n",
                "- date\n",
                "- time"
            ]
        },
        {
            "cell_type": "code",
            "execution_count": null,
            "id": "95c9fe29-4a43-4fc4-bfa9-c4570d6e9919",
            "metadata": {},
            "outputs": [],
            "source": []
        },
        {
            "cell_type": "markdown",
            "id": "abb7ca1c-8f6d-4a16-9fba-01cbd4adb8f2",
            "metadata": {},
            "source": [
                "Add three new columns that have the physical representation for the `datetime`, `date` and `time` columns. Each new column name should end with `_physical`.\n",
                "\n",
                "Challenge: do this as a single expression inside an additional `with_column`"
            ]
        },
        {
            "cell_type": "code",
            "execution_count": null,
            "id": "8e25c5c0-8bb3-40ad-a78c-c5e2973c0db5",
            "metadata": {},
            "outputs": [],
            "source": []
        },
        {
            "cell_type": "markdown",
            "id": "b10dfe90-7d0d-4c7b-957a-44fe76467e3c",
            "metadata": {},
            "source": [
                "Add a new column that calculates the differences between the `datetime` column entries"
            ]
        },
        {
            "cell_type": "code",
            "execution_count": null,
            "id": "77c74b11-6edb-4969-a348-110faf462ce6",
            "metadata": {},
            "outputs": [],
            "source": []
        },
        {
            "cell_type": "markdown",
            "id": "671d9703-dd7f-46d1-bcff-4af4d80ac96e",
            "metadata": {},
            "source": [
                "## Solutions\n",
                "\n",
                "### Solution to Exercise 1"
            ]
        },
        {
            "cell_type": "markdown",
            "id": "52664028-ec01-452c-b899-099d53d95e26",
            "metadata": {},
            "source": [
                "Create a `DataFrame` with a column called `datetime` that has datetimes from the start of 2020 to 30th June 2022 at 6-monthly intervals"
            ]
        },
        {
            "cell_type": "code",
            "execution_count": null,
            "id": "831662b0-7018-475c-8b0d-9d00c36cb9be",
            "metadata": {
                "jupyter": {
                    "source_hidden": true
                },
                "tags": []
            },
            "outputs": [],
            "source": [
                "start = datetime(2020,1,1)\n",
                "stop = datetime(2022,6,30)\n",
                "df = (\n",
                "        pl.DataFrame(\n",
                "            {\n",
                "                \"datetime\":pl.datetime_range(\n",
                "                    start=start,\n",
                "                    end=stop,\n",
                "                    interval=\"6mo\",\n",
                "                    eager=True\n",
                "                )\n",
                "            }\n",
                "        )\n",
                ")\n",
                "df"
            ]
        },
        {
            "cell_type": "markdown",
            "id": "5a25c5e5-48ee-430c-8604-4c41a43a5420",
            "metadata": {},
            "source": [
                "Create this date range again but including the end date and excluding the start date"
            ]
        },
        {
            "cell_type": "code",
            "execution_count": null,
            "id": "ab189e7b-7c9e-4c3e-b0c9-a7e081dedcb4",
            "metadata": {
                "jupyter": {
                    "source_hidden": true
                },
                "tags": []
            },
            "outputs": [],
            "source": [
                "df = (\n",
                "        pl.DataFrame(\n",
                "            {\n",
                "                \"datetime\":pl.datetime_range(\n",
                "                    start=start,\n",
                "                    end=stop,\n",
                "                    interval=\"6mo\",\n",
                "                    closed=\"right\",\n",
                "\n",
                "                    eager=True\n",
                "                )\n",
                "            }\n",
                "        )\n",
                ")\n",
                "df"
            ]
        },
        {
            "cell_type": "markdown",
            "id": "138fbf61-cb2e-48a8-97d7-caa0c5b6714b",
            "metadata": {},
            "source": [
                "Add columns that encode the `datetime` column as a:\n",
                "- date\n",
                "- time"
            ]
        },
        {
            "cell_type": "code",
            "execution_count": null,
            "id": "47ecd4ac-fcca-4b0f-993a-cd2664d6e489",
            "metadata": {
                "jupyter": {
                    "source_hidden": true
                },
                "tags": []
            },
            "outputs": [],
            "source": [
                "df = (\n",
                "        pl.DataFrame(\n",
                "            {\n",
                "                \"datetime\":pl.datetime_range(\n",
                "                    start=start,\n",
                "                    end=stop,\n",
                "                    interval=\"6mo\",\n",
                "                    closed=\"right\",\n",
                "\n",
                "                    eager=True\n",
                "                )\n",
                "            }\n",
                "        )\n",
                "    .with_columns(\n",
                "        [\n",
                "            pl.col(\"datetime\").cast(pl.Date).alias(\"date\"),\n",
                "            pl.col(\"datetime\").cast(pl.Time).alias(\"time\")\n",
                "        ]\n",
                "    )\n",
                "\n",
                ")\n",
                "df"
            ]
        },
        {
            "cell_type": "markdown",
            "id": "0e1d0194-2ded-46ad-83e3-de34fab973cc",
            "metadata": {},
            "source": [
                "Add three new columns that have the physical representation for the `datetime`, `date` and `time` columns. "
            ]
        },
        {
            "cell_type": "code",
            "execution_count": null,
            "id": "eb75d3e3-61ef-4d28-911b-2226cf7018e2",
            "metadata": {
                "jupyter": {
                    "source_hidden": true
                },
                "tags": []
            },
            "outputs": [],
            "source": [
                "df = (\n",
                "        pl.DataFrame(\n",
                "            {\n",
                "                \"datetime\":pl.datetime_range(\n",
                "                    start=start,\n",
                "                    end=stop,\n",
                "                    interval=\"6mo\",\n",
                "                    closed=\"right\",\n",
                "                    eager=True\n",
                "                )\n",
                "            }\n",
                "        )\n",
                "    .with_columns(\n",
                "        [\n",
                "            pl.col(\"datetime\").cast(pl.Date).alias(\"date\"),\n",
                "            pl.col(\"datetime\").cast(pl.Time).alias(\"time\")\n",
                "        ]\n",
                "    )\n",
                "    .with_columns(\n",
                "        pl.all().to_physical().name.suffix(\"_physical\")\n",
                "    )\n",
                "\n",
                ")\n",
                "df"
            ]
        },
        {
            "cell_type": "markdown",
            "id": "ad42cf70-de2c-4ba6-814e-395e0e045394",
            "metadata": {},
            "source": [
                "Add a new column that calculates the differences between the `datetime` column entries"
            ]
        },
        {
            "cell_type": "code",
            "execution_count": null,
            "id": "722d57f8-dac1-4ceb-8af6-e6b125c8dfb3",
            "metadata": {
                "jupyter": {
                    "source_hidden": true
                }
            },
            "outputs": [],
            "source": [
                "df = (\n",
                "        pl.DataFrame(\n",
                "            {\n",
                "                \"datetime\":pl.datetime_range(\n",
                "                    start=start,\n",
                "                    end=stop,\n",
                "                    interval=\"6mo\",\n",
                "                    closed=\"right\",\n",
                "                    eager=True\n",
                "                )\n",
                "            }\n",
                "        )\n",
                "    .with_columns(\n",
                "        [\n",
                "            pl.col(\"datetime\").cast(pl.Date).alias(\"date\"),\n",
                "            pl.col(\"datetime\").cast(pl.Time).alias(\"time\")\n",
                "        ]\n",
                "    )\n",
                "    .with_columns(\n",
                "        pl.all().to_physical().name.suffix(\"_physical\"),\n",
                "        pl.col(\"datetime\").diff().alias(\"duration\")\n",
                "    )\n",
                "\n",
                ")\n",
                "df"
            ]
        },
        {
            "cell_type": "code",
            "execution_count": null,
            "id": "d6ffc800-504a-4b0d-ad1d-289961ba484d",
            "metadata": {},
            "outputs": [],
            "source": []
        }
    ],
    "metadata": {
        "kernelspec": {
            "display_name": "Python 3 (ipykernel)",
            "language": "python",
            "name": "python3"
        },
        "language_info": {
            "codemirror_mode": {
                "name": "ipython",
                "version": 3
            },
            "file_extension": ".py",
            "mimetype": "text/x-python",
            "name": "python",
            "nbconvert_exporter": "python",
            "pygments_lexer": "ipython3",
            "version": "3.10.1"
        }
    },
    "nbformat": 4,
    "nbformat_minor": 5
}