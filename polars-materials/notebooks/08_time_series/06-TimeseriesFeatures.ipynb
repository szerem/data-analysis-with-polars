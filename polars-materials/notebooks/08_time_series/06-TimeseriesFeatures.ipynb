{
 "cells": [
  {
   "cell_type": "markdown",
   "id": "c18d5212-9fdf-4cb3-a606-e34c5400c4c2",
   "metadata": {},
   "source": [
    "## Extracting datetime components\n",
    "By the end of this lecture you will be able to:\n",
    "- extract date components from a datetime dtype\n",
    "- extract week-of-year and day-of-year from a datetime dtype\n",
    "- extract time components from a datetime dtype\n"
   ]
  },
  {
   "cell_type": "code",
   "execution_count": null,
   "id": "13dd980e-735c-454d-a1b9-ca9f87f187be",
   "metadata": {
    "tags": []
   },
   "outputs": [],
   "source": [
    "from datetime import datetime\n",
    "\n",
    "import polars as pl"
   ]
  },
  {
   "cell_type": "code",
   "execution_count": null,
   "id": "d91b48a4-a344-4c67-9a94-d7618277ccda",
   "metadata": {
    "tags": []
   },
   "outputs": [],
   "source": [
    "csv_file = \"../data/nyc_trip_data_1k.csv\""
   ]
  },
  {
   "cell_type": "code",
   "execution_count": null,
   "id": "6ae39c34-9950-421d-923d-41f83dbd283f",
   "metadata": {
    "tags": []
   },
   "outputs": [],
   "source": [
    "df = pl.read_csv(csv_file,try_parse_dates=True)\n",
    "df.head()"
   ]
  },
  {
   "cell_type": "markdown",
   "id": "53b42096-2aa9-458c-a8b2-85251495ca35",
   "metadata": {},
   "source": [
    "## Extracting date and time\n",
    "We extract the date from a `pl.Datetime` dtype by casting it to `pl.Date`"
   ]
  },
  {
   "cell_type": "code",
   "execution_count": null,
   "id": "44c20bbe-c19b-4a80-ae1b-6842d9849fa3",
   "metadata": {
    "tags": []
   },
   "outputs": [],
   "source": [
    "(\n",
    "    df\n",
    "    .with_columns(\n",
    "        pl.col(\"pickup\").cast(pl.Date)\n",
    "    )\n",
    ").head(3)"
   ]
  },
  {
   "cell_type": "markdown",
   "id": "1dc1bc83-8319-455c-8a91-cebb39db4caa",
   "metadata": {},
   "source": [
    "We can also use the `dt.date` expression to get the date from a `pl.Datetime`"
   ]
  },
  {
   "cell_type": "code",
   "execution_count": null,
   "id": "f1cf24e7-697e-4e08-9293-0f8e6c66fa9f",
   "metadata": {
    "tags": []
   },
   "outputs": [],
   "source": [
    "(\n",
    "    df\n",
    "    .select('pickup')\n",
    "    .with_columns(\n",
    "        pl.col(\"pickup\").dt.date()\n",
    "    )\n",
    ").head(3)"
   ]
  },
  {
   "cell_type": "markdown",
   "id": "9c5a922b-9a44-4728-90a0-cc3abd856719",
   "metadata": {},
   "source": [
    "We extract the time from a `pl.Datetime` dtype by casting it to `pl.Time` or using `dt.time`"
   ]
  },
  {
   "cell_type": "code",
   "execution_count": null,
   "id": "77263502-736c-49c0-ac8b-657a1460ca88",
   "metadata": {
    "tags": []
   },
   "outputs": [],
   "source": [
    "(\n",
    "    df\n",
    "    .select('pickup')\n",
    "    .with_columns(\n",
    "        pl.col(\"pickup\").cast(pl.Time).alias('cast_time'),\n",
    "        pl.col(\"pickup\").dt.time().alias('dt.time')\n",
    "\n",
    "    )\n",
    ").head(3)"
   ]
  },
  {
   "cell_type": "markdown",
   "id": "668fdaf1-4964-4f4a-9b7e-6d33990d3db5",
   "metadata": {},
   "source": [
    "Note that the `dt.date` and `dt.time` methods give a different result from `cast(pl.Date)` and `cast(pl.Time)` when a timezone is specified!\n",
    "\n",
    "In the example below:\n",
    "- we first tell Polars that the `pickup` column is in the New York timezone\n",
    "- we then extract the time from both the original (no-timezone) `pickup` column and the new `local_datetime` column"
   ]
  },
  {
   "cell_type": "code",
   "execution_count": null,
   "id": "409542e5-41b8-444b-bcf6-39eed7e64962",
   "metadata": {
    "tags": []
   },
   "outputs": [],
   "source": [
    "(\n",
    "    df\n",
    "    # We only need the pickup columm so only select pickup\n",
    "    .select(\"pickup\")\n",
    "    # Add a local_datetime column that has a timezone specified\n",
    "    .with_columns(\n",
    "       pl.col(\"pickup\").dt.replace_time_zone(\"America/New_York\").alias(\"local_datetime\")\n",
    "    )\n",
    "    .with_columns(\n",
    "        pl.col(\"pickup\").dt.time().alias(\"pickup_date\"),\n",
    "        pl.col(\"local_datetime\").dt.time().alias(\"local_datetime_date\"),\n",
    "        pl.col(\"local_datetime\").cast(pl.Time).alias(\"cast_local_datetime_date\")\n",
    "    )\n",
    ").head(1)"
   ]
  },
  {
   "cell_type": "markdown",
   "id": "424aac00-9351-4bf4-bf5d-8e75a5066800",
   "metadata": {},
   "source": [
    "We see in the first row that the `dt.time` expression takes the local time (00:04:14 ) from the datetime. However, `cast(pl.Time`) takes the time from the underlying UTC timestamp at 05:04:14 hours "
   ]
  },
  {
   "cell_type": "markdown",
   "id": "0175a0c7-9bab-45e3-aaea-35784bbcfc81",
   "metadata": {},
   "source": [
    "## Extracting datetime features\n",
    "We use expressions in the `dt` namespace to extract date features"
   ]
  },
  {
   "cell_type": "code",
   "execution_count": null,
   "id": "8c9eeefa-ed48-4da3-b27f-5c0f708ee084",
   "metadata": {
    "tags": []
   },
   "outputs": [],
   "source": [
    "(\n",
    "    df\n",
    "    .select(\n",
    "        pl.col(\"pickup\"),\n",
    "        pl.col(\"pickup\").dt.quarter().alias(\"quarter\"),\n",
    "        pl.col(\"pickup\").dt.month().alias(\"month\"),\n",
    "        pl.col(\"pickup\").dt.day().alias(\"day\"),\n",
    "        pl.col(\"pickup\").dt.hour().alias(\"hour\"),\n",
    "        pl.col(\"pickup\").dt.minute().alias(\"minute\"),\n",
    "        pl.col(\"pickup\").dt.second().alias(\"second\"),\n",
    "        pl.col(\"pickup\").dt.millisecond().alias(\"millisecond\"),\n",
    "        pl.col(\"pickup\").dt.microsecond().alias(\"microsecond\"),\n",
    "        pl.col(\"pickup\").dt.nanosecond().alias(\"nanosecond\"),\n",
    "    )\n",
    "    .sample(5)\n",
    "    .sort(\"pickup\")\n",
    ")"
   ]
  },
  {
   "cell_type": "markdown",
   "id": "352110a6-1352-4f2a-b73e-03094bcc9a8e",
   "metadata": {},
   "source": [
    "For the year there is both `year` and `iso_year`. \n",
    "\n",
    "- The `year` is the literal year from the calendar year\n",
    "- The `iso_year` is the year according to the ISO defintion which is based on 52 full weeks for a year\n",
    "\n",
    "For datetimes in the first few days of a year these values may be different (see the first row below)"
   ]
  },
  {
   "cell_type": "code",
   "execution_count": null,
   "id": "8276837b-5766-40e0-a1c1-dfc8b0725505",
   "metadata": {},
   "outputs": [],
   "source": [
    "(\n",
    "    df\n",
    "    .select(\n",
    "        pl.col(\"pickup\"),\n",
    "        pl.col(\"pickup\").dt.year().alias(\"year\"),\n",
    "        pl.col(\"pickup\").dt.iso_year().alias(\"iso_year\"),\n",
    "    )\n",
    "    .sort(\"pickup\")\n",
    "    .head(3)\n",
    ")"
   ]
  },
  {
   "cell_type": "markdown",
   "id": "9da56c9d-e357-4078-a78e-0756f8d1be1b",
   "metadata": {},
   "source": [
    "The dtype for the `year` and `iso_year` columns is a signed 32-bit integer. All other columns are unsigned 32-bit integers."
   ]
  },
  {
   "cell_type": "markdown",
   "id": "ce71b4ab-fce0-45ac-bd21-f76586ae66d1",
   "metadata": {},
   "source": [
    "## Ordinal week and day numbers\n",
    "\n",
    "We can also extract week and day feaures:\n",
    "- `.dt.week` gives the <a href=\"https://en.wikipedia.org/wiki/ISO_week_date\" target=\"_blank\">ISO week of the year</a>\n",
    "- `.dt.weekday` gives the day of week where monday = 0 and sunday = 6\n",
    "- `.dt.day` gives the day of month from 1-31\n",
    "- `.dt.ordinal_day` gives the day of year from 1-365/366"
   ]
  },
  {
   "cell_type": "code",
   "execution_count": null,
   "id": "289828a6-15b0-4a54-9786-cf1d2156a359",
   "metadata": {},
   "outputs": [],
   "source": [
    "(\n",
    "    df\n",
    "    .select(\n",
    "        pl.col(\"pickup\"),\n",
    "        pl.col(\"pickup\").dt.week().alias(\"week\"),\n",
    "        pl.col(\"pickup\").dt.weekday().alias(\"weekday\"),\n",
    "        pl.col(\"pickup\").dt.day().alias(\"day_of_month\"),\n",
    "        pl.col(\"pickup\").dt.ordinal_day().alias(\"ordinal_day\"),\n",
    "    )\n",
    "    .head(2)\n",
    "    .sort(\"pickup\")\n",
    ")"
   ]
  },
  {
   "cell_type": "markdown",
   "id": "d9d7334c-934b-42fa-bf75-94bc43e429ac",
   "metadata": {},
   "source": [
    "In the ISO system the first two days of 2022 are in week 52 of 2021."
   ]
  },
  {
   "cell_type": "markdown",
   "id": "f6490307-e144-4242-a4b5-7803abb0a4e1",
   "metadata": {},
   "source": [
    "## Extracting datetime components in lazy mode\n",
    "We do the same query in lazy mode to see how Polars extracts datetime components in lazy mode"
   ]
  },
  {
   "cell_type": "code",
   "execution_count": null,
   "id": "d4eef250-f82e-44da-9571-5a61e7211be5",
   "metadata": {},
   "outputs": [],
   "source": [
    "print(\n",
    "    pl.scan_csv(csv_file,try_parse_dates=True)\n",
    "    .select(\n",
    "        pl.col(\"pickup\"),\n",
    "        pl.col(\"pickup\").dt.week().alias(\"week\"),\n",
    "        pl.col(\"pickup\").dt.weekday().alias(\"weekday\"),\n",
    "        pl.col(\"pickup\").dt.day().alias(\"day_of_month\"),\n",
    "        pl.col(\"pickup\").dt.ordinal_day().alias(\"ordinal_day\"),\n",
    "    )\n",
    "    .explain()\n",
    ")"
   ]
  },
  {
   "cell_type": "markdown",
   "id": "152ef7b7-f19b-4d5e-8795-e140523db94b",
   "metadata": {},
   "source": [
    "The datetime extraction happens in a `SELECT...FROM` block in the optimized query plan above.\n",
    "\n",
    "This means that Polars first reads in the datetime column from the CSV and then does the conversion once the column is in a `DataFrame` in memory.\n",
    "\n",
    "\n",
    "## Exercises\n",
    "In the exercises you will develop your understanding of:\n",
    "- extracting datetime components\n",
    "- extracting ordinal components\n",
    "- doing these operations in lazy mode\n",
    "\n",
    "### Exercise 1\n",
    "Count the number of records for each date (by pickup)"
   ]
  },
  {
   "cell_type": "code",
   "execution_count": null,
   "id": "ab9b0eb1-4807-41d2-a181-cc7e8b21807b",
   "metadata": {},
   "outputs": [],
   "source": [
    "(\n",
    "    pl.read_csv(csv_file,try_parse_dates=True)\n",
    "    <blank>\n",
    ")"
   ]
  },
  {
   "cell_type": "markdown",
   "id": "722e58c6-1019-4e36-8e06-083f7863032b",
   "metadata": {},
   "source": [
    "### Exercise 2\n",
    "\n",
    "Add a `day_of_year` column to get the number of records per ordinal day of the year"
   ]
  },
  {
   "cell_type": "code",
   "execution_count": null,
   "id": "88d78371-886e-4ac2-b701-a2f75ab52d7b",
   "metadata": {},
   "outputs": [],
   "source": [
    "(\n",
    "    pl.read_csv(csv_file,try_parse_dates=True)\n",
    "    <blank>\n",
    ")\n"
   ]
  },
  {
   "cell_type": "markdown",
   "id": "919aa3aa-f7f2-4d12-9891-7b28c4b58241",
   "metadata": {},
   "source": [
    "Continue by counting how many records there are for each day-of-year"
   ]
  },
  {
   "cell_type": "code",
   "execution_count": null,
   "id": "e8bc8798-2b0b-46b2-b809-5e3fdcfa63f4",
   "metadata": {},
   "outputs": [],
   "source": []
  },
  {
   "cell_type": "markdown",
   "id": "eb457822-f3d1-4cf2-97a4-92870b20d55f",
   "metadata": {},
   "source": [
    "Add columns with the day-of-week and hour of the day based on the pickup time"
   ]
  },
  {
   "cell_type": "code",
   "execution_count": null,
   "id": "66e3d4e4-accd-400f-a15c-680fdf5dcca6",
   "metadata": {},
   "outputs": [],
   "source": [
    "(\n",
    "    pl.read_csv(csv_file,try_parse_dates=True)\n",
    "    .select(\"pickup\")\n",
    "    <blank>\n",
    "    .head()\n",
    ")"
   ]
  },
  {
   "cell_type": "markdown",
   "id": "4021bae9-b750-442c-96f2-d96a4da39c1f",
   "metadata": {},
   "source": [
    "Continue by counting the number of records for each (day-of-week,hour-of-the-day) pair.\n",
    "\n",
    "Sort the output from largest number of records to smallest"
   ]
  },
  {
   "cell_type": "code",
   "execution_count": null,
   "id": "59f8734e-38d0-4309-87bc-1134021e2410",
   "metadata": {},
   "outputs": [],
   "source": []
  },
  {
   "cell_type": "markdown",
   "id": "f8347bc5-76b9-4716-9024-79d8f41c30f6",
   "metadata": {},
   "source": [
    "Do the count of records by (day-of-week,hour-of-the-day) again, but this time extract the day-of-week & hour-of-the-day **inside the `groupby`**"
   ]
  },
  {
   "cell_type": "code",
   "execution_count": null,
   "id": "f23ae53c-1879-4fca-a2fb-952f10081cb7",
   "metadata": {},
   "outputs": [],
   "source": []
  },
  {
   "cell_type": "markdown",
   "id": "99fe92bd-c82e-4ff7-93f0-efa8f985d6d5",
   "metadata": {},
   "source": [
    "Do the same operation but this time in lazy mode"
   ]
  },
  {
   "cell_type": "code",
   "execution_count": null,
   "id": "5dc045c2-f3e9-4cee-9a73-ea6624ea37c6",
   "metadata": {},
   "outputs": [],
   "source": []
  },
  {
   "cell_type": "markdown",
   "id": "0d17b839-bf91-458b-9eb2-37dc217bed42",
   "metadata": {},
   "source": [
    "## Solutions\n",
    "\n",
    "### Solution to exercise 1\n",
    "Count the number of records for each date (by pickup).\n",
    "\n",
    "This can be done either with `groupby` (first cell) or `value_counts` (second cell)"
   ]
  },
  {
   "cell_type": "code",
   "execution_count": null,
   "id": "7cb87f52-9f3a-4ab2-aab7-ec498fc5bac8",
   "metadata": {
    "jupyter": {
     "source_hidden": true
    },
    "tags": []
   },
   "outputs": [],
   "source": [
    "(\n",
    "    pl.read_csv(csv_file,try_parse_dates=True)\n",
    "    .group_by(\n",
    "        pl.col(\"pickup\").cast(pl.Date)\n",
    "    )\n",
    "    .len()    \n",
    ")"
   ]
  },
  {
   "cell_type": "code",
   "execution_count": null,
   "id": "3673913a-61d0-415d-bc92-4a8f08440f50",
   "metadata": {
    "jupyter": {
     "source_hidden": true
    },
    "tags": []
   },
   "outputs": [],
   "source": [
    "(\n",
    "    pl.read_csv(csv_file,try_parse_dates=True)\n",
    "    .with_columns(\n",
    "        pl.col(\"pickup\").cast(pl.Date)\n",
    "    )\n",
    "    [\"pickup\"]\n",
    "    .value_counts()\n",
    ")"
   ]
  },
  {
   "cell_type": "markdown",
   "id": "bc1df335-24b1-42f3-ae56-7d2366163b92",
   "metadata": {},
   "source": [
    "### Solution to exercise 2\n",
    "Add a `day_of_year` column to get the number of records per ordinal day of the year"
   ]
  },
  {
   "cell_type": "code",
   "execution_count": null,
   "id": "b1314f74-97e0-4518-affb-ccac5c5473a4",
   "metadata": {
    "jupyter": {
     "source_hidden": true
    },
    "tags": []
   },
   "outputs": [],
   "source": [
    "(\n",
    "    pl.read_csv(csv_file,try_parse_dates=True)\n",
    "    .with_columns(\n",
    "        pl.col(\"pickup\").dt.ordinal_day().alias(\"day_of_year\")\n",
    "    )\n",
    ")"
   ]
  },
  {
   "cell_type": "markdown",
   "id": "1f458361-39e2-4dae-a918-5f739e43d264",
   "metadata": {},
   "source": [
    "Count how many records there are for each day-of-year"
   ]
  },
  {
   "cell_type": "code",
   "execution_count": null,
   "id": "51a440ef-994f-433c-94ee-55525f6df21b",
   "metadata": {
    "jupyter": {
     "source_hidden": true
    },
    "tags": []
   },
   "outputs": [],
   "source": [
    "(\n",
    "    pl.read_csv(csv_file,try_parse_dates=True)\n",
    "    .with_columns(\n",
    "        pl.col(\"pickup\").dt.ordinal_day().alias(\"day_of_year\")\n",
    "    )\n",
    "    [\"day_of_year\"]\n",
    "    .value_counts()\n",
    ")"
   ]
  },
  {
   "cell_type": "markdown",
   "id": "be76c384-92c8-444a-abbd-e8c5284fbaab",
   "metadata": {},
   "source": [
    "Add columns with the day-of-week and hour of the day based on the pickup time"
   ]
  },
  {
   "cell_type": "code",
   "execution_count": null,
   "id": "3917dd03-cc94-4837-8277-fcda06ec18a3",
   "metadata": {
    "jupyter": {
     "source_hidden": true
    },
    "tags": []
   },
   "outputs": [],
   "source": [
    "(\n",
    "    pl.read_csv(csv_file,try_parse_dates=True)\n",
    "    .select(\"pickup\")\n",
    "    .with_columns(\n",
    "        pl.col(\"pickup\").dt.weekday().alias(\"day_of_week\"),\n",
    "        pl.col(\"pickup\").dt.hour().alias(\"hour\")\n",
    "    )\n",
    "    .head(3)\n",
    ")"
   ]
  },
  {
   "cell_type": "markdown",
   "id": "9ef1cbcf-8b2d-4372-9bdf-8ad3e9e7f9a9",
   "metadata": {},
   "source": [
    "Count the number of records for each (day-of-week,hour-of-the-day) pair.\n",
    "\n",
    "Sort the output from largest number of records to smallest"
   ]
  },
  {
   "cell_type": "code",
   "execution_count": null,
   "id": "90b88f80-8e53-4bb3-a203-be8743b45933",
   "metadata": {
    "jupyter": {
     "source_hidden": true
    },
    "tags": []
   },
   "outputs": [],
   "source": [
    "(\n",
    "    pl.read_csv(csv_file,try_parse_dates=True)\n",
    "    .select(\"pickup\")\n",
    "    .with_columns(\n",
    "        pl.col(\"pickup\").dt.weekday().alias(\"day_of_week\"),\n",
    "        pl.col(\"pickup\").dt.hour().alias(\"hour\")\n",
    "    )\n",
    "    .group_by(\"day_of_week\",\"hour\")\n",
    "    .len()\n",
    "    .sort(\"len\",descending=True)\n",
    ")"
   ]
  },
  {
   "cell_type": "markdown",
   "id": "98c9c2c0-eb03-44d7-bcc2-a07ff3072e3b",
   "metadata": {},
   "source": [
    "Do the count of records by (day-of-week,hour-of-the-day) again, but this time extract the day-of-week & hour-of-the-day inside the `groupby`"
   ]
  },
  {
   "cell_type": "code",
   "execution_count": null,
   "id": "a7947aed-a4fa-4ab8-8047-1cfb60d5d697",
   "metadata": {
    "jupyter": {
     "source_hidden": true
    },
    "tags": []
   },
   "outputs": [],
   "source": [
    "(\n",
    "    pl.read_csv(csv_file,try_parse_dates=True)\n",
    "    .select(\"pickup\")\n",
    "    .group_by(\n",
    "        pl.col(\"pickup\").dt.weekday().alias(\"day_of_week\"),\n",
    "        pl.col(\"pickup\").dt.hour().alias(\"hour\")\n",
    "    )\n",
    "    .len()\n",
    "    .sort(\"len\",descending=True)\n",
    ")"
   ]
  },
  {
   "cell_type": "markdown",
   "id": "8a7ddedc-92fb-406e-90f9-49b28cde9d1c",
   "metadata": {},
   "source": [
    "Do the same operation in lazy mode"
   ]
  },
  {
   "cell_type": "code",
   "execution_count": null,
   "id": "682d2fed-97a3-448f-a510-e1cf1cc81e21",
   "metadata": {
    "jupyter": {
     "source_hidden": true
    },
    "tags": []
   },
   "outputs": [],
   "source": [
    "(\n",
    "    pl.scan_csv(csv_file,try_parse_dates=True)\n",
    "    .select(\"pickup\",\"dropoff\")\n",
    "    .group_by(\n",
    "        pl.col(\"pickup\").dt.weekday().alias(\"day_of_week\"),\n",
    "        pl.col(\"pickup\").dt.hour().alias(\"hour\")\n",
    "    )\n",
    "    .agg(\n",
    "        pl.col(\"dropoff\").count().alias(\"count\")\n",
    "    )\n",
    "    .sort(\"count\",descending=True)\n",
    "    .collect()\n",
    ")"
   ]
  },
  {
   "cell_type": "markdown",
   "id": "dd9f74f5-7754-4cbd-9428-df73efb74bc4",
   "metadata": {},
   "source": [
    "We cannot call `len` on a `LazyGroupBy`, we must use `agg`. I recommend just using `agg` when doing any `groupby` to make the conversion to lazy mode easier."
   ]
  },
  {
   "cell_type": "code",
   "execution_count": null,
   "id": "6a15715c-d39a-48d4-b27e-83008719b332",
   "metadata": {},
   "outputs": [],
   "source": []
  }
 ],
 "metadata": {
  "kernelspec": {
   "display_name": "Python 3 (ipykernel)",
   "language": "python",
   "name": "python3"
  },
  "language_info": {
   "codemirror_mode": {
    "name": "ipython",
    "version": 3
   },
   "file_extension": ".py",
   "mimetype": "text/x-python",
   "name": "python",
   "nbconvert_exporter": "python",
   "pygments_lexer": "ipython3",
   "version": "3.10.1"
  }
 },
 "nbformat": 4,
 "nbformat_minor": 5
}
