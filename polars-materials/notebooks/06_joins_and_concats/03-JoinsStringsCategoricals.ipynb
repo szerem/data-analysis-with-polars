{
 "cells": [
  {
   "cell_type": "markdown",
   "id": "671195e9-a1e7-4862-a3f5-0fb8349d72ec",
   "metadata": {},
   "source": [
    "## Join on string and categorical columns\n",
    "By the end of this lecture you will be able to:\n",
    "- join on string columns\n",
    "- join on categorical columns\n",
    "- do fast-track joins on string columns using categoricals\n",
    "\n",
    "I recommended that you do the lectures on \"String and categorical dtypes\" and \"Categoricals and the string cache\" in Section 3 before doing this lecture."
   ]
  },
  {
   "cell_type": "code",
   "execution_count": null,
   "id": "e6a99d7e-d287-4fbf-ac1b-a3c8148b21b2",
   "metadata": {},
   "outputs": [],
   "source": [
    "import polars as pl\n",
    "import numpy as np\n",
    "np.random.seed(0)"
   ]
  },
  {
   "cell_type": "markdown",
   "id": "0a4c5b7b-bb98-4255-826f-faddfacf2abf",
   "metadata": {},
   "source": [
    "## Joins on string dtype\n",
    "\n",
    "We first create a short array with some integers"
   ]
  },
  {
   "cell_type": "code",
   "execution_count": null,
   "id": "ca4f497f-c67a-455b-b183-5eada8b639bf",
   "metadata": {},
   "outputs": [],
   "source": [
    "integer_array = np.array([3,3,1,2])\n",
    "integer_array"
   ]
  },
  {
   "cell_type": "markdown",
   "id": "2d27e583-75e3-4673-895d-49eee4eea316",
   "metadata": {},
   "source": [
    "For the left `DataFrame` we convert each of the integers to an `id` string that starts with `\"id\"`. We keep the integers in the `values` column"
   ]
  },
  {
   "cell_type": "code",
   "execution_count": null,
   "id": "679a5c6a-c46a-44a9-a1aa-fec6101bf2f0",
   "metadata": {},
   "outputs": [],
   "source": [
    "df_left = (\n",
    "    pl.DataFrame(\n",
    "        {\n",
    "            \"id\":[f\"id{i}\" for i in integer_array],\n",
    "            \"values\":integer_array\n",
    "        }\n",
    "    )\n",
    ")\n",
    "df_left"
   ]
  },
  {
   "cell_type": "markdown",
   "id": "57ab286c-9273-4e30-a947-27d9eb3a28f6",
   "metadata": {},
   "source": [
    "We then create the right `DataFrame` that has metadata about each `id`"
   ]
  },
  {
   "cell_type": "code",
   "execution_count": null,
   "id": "5ee9694e-52e8-4204-b451-b2a321a206f6",
   "metadata": {},
   "outputs": [],
   "source": [
    "df_right = (\n",
    "    pl.DataFrame(\n",
    "        {\n",
    "            \"id\":[f\"id{i}\" for i in range(1,4)],\n",
    "            \"metadata\":[i for i in range(1,4)]\n",
    "        }\n",
    "    )\n",
    ")\n",
    "df_right"
   ]
  },
  {
   "cell_type": "markdown",
   "id": "438b16be-c1b1-4b36-bc57-d440d5ab330b",
   "metadata": {},
   "source": [
    "When the `id` column is a string dtype we can join these `DataFrames` in the standard way "
   ]
  },
  {
   "cell_type": "code",
   "execution_count": null,
   "id": "07582d6f-9252-4451-9d89-2b4726f69bcc",
   "metadata": {},
   "outputs": [],
   "source": [
    "(\n",
    "    df_left.join(df_right,on=\"id\")\n",
    ")"
   ]
  },
  {
   "cell_type": "markdown",
   "id": "947e4923-85ae-47d9-8589-6ac4bf8c24f4",
   "metadata": {},
   "source": [
    "Polars cannot use the fast-track algorithm for joining string columns as the algorithm works on integers.\n",
    "\n",
    "To use the fast-track algorithm the string column must be cast to categorical dtype"
   ]
  },
  {
   "cell_type": "markdown",
   "id": "23809c88-8c35-4166-a093-aa5202a7614e",
   "metadata": {},
   "source": [
    "## Joins on categorical dtype\n",
    "We cast the `id` column to categorical dtype"
   ]
  },
  {
   "cell_type": "code",
   "execution_count": null,
   "id": "bcda36a6-915b-4003-9fcc-52b137693093",
   "metadata": {},
   "outputs": [],
   "source": [
    "df_left = (\n",
    "    pl.DataFrame(\n",
    "        {\n",
    "            \"id\":[f\"id{i}\" for i in integer_array],\n",
    "            \"values\":integer_array\n",
    "        }\n",
    "    )\n",
    "    .with_columns(\n",
    "        pl.col(\"id\").cast(pl.Categorical)\n",
    "    )\n",
    ")\n",
    "df_left"
   ]
  },
  {
   "cell_type": "markdown",
   "id": "3d9e1eb7-8aa6-4826-8bd4-33d51fa78015",
   "metadata": {},
   "source": [
    "And we cast the `id` column to categorical for the right `DataFrame`"
   ]
  },
  {
   "cell_type": "code",
   "execution_count": null,
   "id": "048b27ac-771e-459b-9de4-341011c1b818",
   "metadata": {},
   "outputs": [],
   "source": [
    "df_right = (\n",
    "    pl.DataFrame(\n",
    "        {\n",
    "            \"id\":[f\"id{i}\" for i in range(1,4)],\n",
    "            \"metadata\":[i for i in range(1,4)]\n",
    "        }\n",
    "    )\n",
    "    .with_columns(\n",
    "        pl.col(\"id\").cast(pl.Categorical)\n",
    "    )\n",
    ")\n",
    "df_right"
   ]
  },
  {
   "cell_type": "markdown",
   "id": "f3bd839b-4cf7-48cf-a404-719b35b288d4",
   "metadata": {},
   "source": [
    "If we try to join them on the categorical column we get a warning"
   ]
  },
  {
   "cell_type": "code",
   "execution_count": null,
   "id": "4a2eb609-7785-4805-ac62-979d9e819c68",
   "metadata": {},
   "outputs": [],
   "source": [
    "(\n",
    "    df_left.join(df_right,on=\"id\")\n",
    ")"
   ]
  },
  {
   "cell_type": "markdown",
   "id": "dcb528f5-e597-420c-a5f3-3cd46e91658e",
   "metadata": {},
   "source": [
    "We get an warning because we didn't cast to categorical for both `DataFrames` inside a `StringCache`. \n",
    "\n",
    "As we are not inside a `StringCache` Polars can't be sure if the left and right `DataFrames` use the same mapping from strings to integers and so does a re-mapping. This re-mapping can be expensive for large `DataFrames`\n",
    "\n",
    "We try casting to categorical again inside a `StringCache`"
   ]
  },
  {
   "cell_type": "code",
   "execution_count": null,
   "id": "653d5d98-44f0-4c62-aa01-03a5bb4d2f6e",
   "metadata": {},
   "outputs": [],
   "source": [
    "with pl.StringCache():\n",
    "    df_left = (\n",
    "        pl.DataFrame(\n",
    "            {\n",
    "                \"id\":[f\"id{i}\" for i in integer_array],\n",
    "                \"values\":integer_array\n",
    "            }\n",
    "        )\n",
    "        .with_columns(\n",
    "            pl.col(\"id\").cast(pl.Categorical)\n",
    "        )\n",
    "    )\n",
    "    \n",
    "    df_right = (\n",
    "        pl.DataFrame(\n",
    "            {\n",
    "                \"id\":[f\"id{i}\" for i in range(1,4)],\n",
    "                \"metadata\":[i for i in range(1,4)]\n",
    "            }\n",
    "        )\n",
    "        .with_columns(\n",
    "            pl.col(\"id\").cast(pl.Categorical)\n",
    "        )\n",
    "    )"
   ]
  },
  {
   "cell_type": "markdown",
   "id": "fe697351-29c2-4009-9fb8-ace8113d0414",
   "metadata": {},
   "source": [
    "We can now join the `DataFrames` in the standard way"
   ]
  },
  {
   "cell_type": "code",
   "execution_count": null,
   "id": "536eddfd-3152-440a-afc2-a3ef28eaf378",
   "metadata": {},
   "outputs": [],
   "source": [
    "(\n",
    "    df_left.join(df_right,on=\"id\")\n",
    ")"
   ]
  },
  {
   "cell_type": "markdown",
   "id": "6258246d-a231-4cf9-a2f0-2fe0e7a65f02",
   "metadata": {},
   "source": [
    "We can also do the `join` or any other operations inside the `StringCache` block. \n",
    "\n",
    "## Fast-track joins\n",
    "We can do fast-track joins on **sorted** categorical columns as these are integer columns underneath-the-hood.\n",
    "\n",
    "**Key point**: the categorical join columns must be sorted based on their `physical` integer representation and not their `lexical` alphanumeric representation.\n",
    "\n",
    "To illustrate this we create `df_left` and `df_right` each with a `physical` integer column"
   ]
  },
  {
   "cell_type": "code",
   "execution_count": null,
   "id": "708d086a-e8cf-439f-b363-37bd48b2c28f",
   "metadata": {},
   "outputs": [],
   "source": [
    "with pl.StringCache():\n",
    "    df_left = (\n",
    "        pl.DataFrame(\n",
    "            {\n",
    "                \"id\":[f\"id{i}\" for i in integer_array],\n",
    "                \"values\":integer_array\n",
    "            }\n",
    "        )\n",
    "        .with_columns(\n",
    "            pl.col(\"id\").cast(pl.Categorical)\n",
    "        )\n",
    "        .with_columns(\n",
    "            pl.col(\"id\").to_physical().alias(\"physical_left\")\n",
    "        )\n",
    "    )\n",
    "    df_right = (\n",
    "        pl.DataFrame(\n",
    "            {\n",
    "                \"id\":[f\"id{i}\" for i in range(1,4)],\n",
    "                \"metadata\":[i for i in range(1,4)]\n",
    "            }\n",
    "        )\n",
    "        .with_columns(\n",
    "            pl.col(\"id\").cast(pl.Categorical)\n",
    "        )\n",
    "        .with_columns(\n",
    "            pl.col(\"id\").to_physical().alias(\"physical_right\")\n",
    "        )\n",
    "    )"
   ]
  },
  {
   "cell_type": "markdown",
   "id": "98ec5459-8f34-4ae4-816d-83aa8ae83890",
   "metadata": {},
   "source": [
    "We inspect the new left and right `DataFrames` with the `physical` column"
   ]
  },
  {
   "cell_type": "code",
   "execution_count": null,
   "id": "a00a84d2-8b5a-45a5-984d-3990d2b3e6a1",
   "metadata": {},
   "outputs": [],
   "source": [
    "df_left"
   ]
  },
  {
   "cell_type": "code",
   "execution_count": null,
   "id": "1702d63b-82ac-45bb-ad73-088f998835a5",
   "metadata": {},
   "outputs": [],
   "source": [
    "df_right"
   ]
  },
  {
   "cell_type": "markdown",
   "id": "af095fac-443b-40cd-9e9d-f3b03e22c9f7",
   "metadata": {},
   "source": [
    "From the `physical` columns we can see that:\n",
    "- `df_left` *looks* unsorted (from the alphabetic values in `id`) but is actually sorted (from the integer values in `physical_left`) while \n",
    "- `df_right` *looks* sorted but is actually unsorted!\n",
    "\n",
    "If we inspect the `flags` we see that Polars doesn't think either is sorted"
   ]
  },
  {
   "cell_type": "code",
   "execution_count": null,
   "id": "bcfed3e7-749c-4a4f-92e6-7601354bad7d",
   "metadata": {},
   "outputs": [],
   "source": [
    "print(df_left[\"id\"].flags)\n",
    "print(df_right[\"id\"].flags)"
   ]
  },
  {
   "cell_type": "markdown",
   "id": "f8a0f827-b1ae-4365-8bd9-5773a66fdf47",
   "metadata": {},
   "source": [
    "We can use `set_sorted` to tell Polars that `df_left` is sorted.\n",
    "\n",
    "We need to sort `df_right` by `id`. Recall that by default when we sort a categorical column we sort by the `physical` integer representation.\n",
    "\n",
    "We create new `DataFrames` here to avoid confusion if cells in this notebook are executed out-of-order"
   ]
  },
  {
   "cell_type": "code",
   "execution_count": null,
   "id": "be29dd55-75c0-4b12-babf-682083eaf134",
   "metadata": {},
   "outputs": [],
   "source": [
    "df_left_sorted = (\n",
    "    df_left\n",
    "    .with_columns(\n",
    "        pl.col(\"id\").set_sorted()\n",
    "    )\n",
    ")\n",
    "df_right_sorted = (\n",
    "    df_right\n",
    "    .sort(\"id\")\n",
    ")\n",
    "df_right_sorted"
   ]
  },
  {
   "cell_type": "markdown",
   "id": "09303276-d5d1-42b3-abe8-abe46737d35a",
   "metadata": {},
   "source": [
    "We can now join the sorted `DataFrames` and Polars will use the fast-track algorithm"
   ]
  },
  {
   "cell_type": "code",
   "execution_count": null,
   "id": "0a1c8939-c8b9-4f7a-a7ab-961a3a0c9953",
   "metadata": {},
   "outputs": [],
   "source": [
    "(\n",
    "    df_left_sorted.join(df_right_sorted,on=\"id\")\n",
    ")"
   ]
  },
  {
   "cell_type": "markdown",
   "id": "3a8f9996-08ce-4f45-a08b-b036586336c7",
   "metadata": {},
   "source": [
    "## Are fast-track joins worthwhile?\n",
    "A fast-track join may or may not speed up your overall query - you have to check the performance for your data. Factors that affect the performance include:\n",
    "- size of the `DataFrames` and\n",
    "- cardinality of the join column as fast-track is more worthwhile with high cardinality - see exercise 2\n",
    "\n",
    "## Getting fast-track joins on categoricals right\n",
    "\n",
    "To get fast-track joins right ensure that the categorical column in both the left and right `DataFrames` are sorted.\n",
    "\n",
    "\n",
    "In the example above the left `DataFrame` was sorted but the right `DataFrame` was not. This is not true in general.\n",
    "\n",
    "We can check if the join column is sorted by calling `is_sorted` on the `id` column as a `Series`"
   ]
  },
  {
   "cell_type": "code",
   "execution_count": null,
   "id": "163c0467-3254-4f03-83e3-ed4efde289fa",
   "metadata": {},
   "outputs": [],
   "source": [
    "df_left[\"id\"].is_sorted()"
   ]
  },
  {
   "cell_type": "markdown",
   "id": "e64b1d46-44a0-44d5-b6b4-4483c942b2d3",
   "metadata": {},
   "source": [
    "We check that the `id` column for the right `DataFrame` is not sorted"
   ]
  },
  {
   "cell_type": "code",
   "execution_count": null,
   "id": "c9f7197f-f123-480a-a1db-395976443fe2",
   "metadata": {},
   "outputs": [],
   "source": [
    "df_right[\"id\"].is_sorted()"
   ]
  },
  {
   "cell_type": "markdown",
   "id": "b5be0593-f7a7-47d8-905a-639b2e7e3ec3",
   "metadata": {},
   "source": [
    "So in this case we can call `set_sorted` on the `id` column of the left `DataFrame` but we would have to sort the `id` column of the right `DataFrame` to ensure both `DataFrames` are sorted."
   ]
  },
  {
   "cell_type": "markdown",
   "id": "358815df-bece-4746-8944-4bcb30d26133",
   "metadata": {},
   "source": [
    "## Exercises\n",
    "In the exercises you will develop your understanding of:\n",
    "- joining on categorical columns\n",
    "- joining on string columns\n",
    "- doing fast-track joins on categorical columns\n",
    "\n",
    "## Exercise 1\n",
    "The CITES and ISO CSV files are here "
   ]
  },
  {
   "cell_type": "code",
   "execution_count": null,
   "id": "36050717-2bac-4f2f-9a1e-fae4fc82d93d",
   "metadata": {},
   "outputs": [],
   "source": [
    "cites_csv_file = \"../data/cites_extract.csv\"\n",
    "iso_csv_file = \"../data/countries_extract.csv\""
   ]
  },
  {
   "cell_type": "markdown",
   "id": "a2d8cb42-e455-4086-8a46-53bb4c7f7358",
   "metadata": {},
   "source": [
    "We want to join the ISO data for importers and exporters.\n",
    "\n",
    "- create `DataFrames` from the CITES trade data and ISO country data in the following CSVs\n",
    "- cast the join columns to categorical"
   ]
  },
  {
   "cell_type": "code",
   "execution_count": null,
   "id": "71b77d8a-8d46-4732-9961-7cd093e1a4e9",
   "metadata": {},
   "outputs": [],
   "source": []
  },
  {
   "cell_type": "markdown",
   "id": "66484d90-47a4-4202-b3de-d59460b02859",
   "metadata": {},
   "source": [
    "Join the ISO data for both importers and exporters"
   ]
  },
  {
   "cell_type": "code",
   "execution_count": null,
   "id": "ba0e1db7-28ad-4713-a136-a14376625a80",
   "metadata": {},
   "outputs": [],
   "source": []
  },
  {
   "cell_type": "markdown",
   "id": "a010254e-3757-4190-9472-13b0f6ab7bf9",
   "metadata": {},
   "source": [
    "Q: Could Polars do a fast-track join on `Importer` in `dfCites` if `set_sorted` was used?\n",
    "\n",
    "Hint: Add a `physical` column to `dfCites`"
   ]
  },
  {
   "cell_type": "code",
   "execution_count": null,
   "id": "1403ebee-562d-4006-a9d1-6f22341ece29",
   "metadata": {},
   "outputs": [],
   "source": []
  },
  {
   "cell_type": "markdown",
   "id": "70a819d9-9e3c-4336-9a52-5d3282a7a768",
   "metadata": {},
   "source": [
    "Do a fast-track join with ISO data on the `Importer` and `Exporter` columns (combine and modify your code from the first and second parts of this exercise)"
   ]
  },
  {
   "cell_type": "code",
   "execution_count": null,
   "id": "a757ec46-e028-46ae-af3e-f1af4d5c8f76",
   "metadata": {},
   "outputs": [],
   "source": []
  },
  {
   "cell_type": "markdown",
   "id": "9f7ed78f-b778-466d-be41-ad2cb53e1caa",
   "metadata": {},
   "source": [
    "## Exercise 2\n",
    "\n",
    "We compare the performance of sorted and unsorted joins on strings and categoricals. \n",
    "\n",
    "We create the left `DataFrame` with length `N` and random `id` strings in this function"
   ]
  },
  {
   "cell_type": "code",
   "execution_count": null,
   "id": "2fd982b4-b689-43f9-8335-464e92a3cfba",
   "metadata": {},
   "outputs": [],
   "source": [
    "N = 100_000\n",
    "# cardinality is number of unique values\n",
    "cardinality = N // 2\n",
    "def createLeftDataFrame(N:int,cardinality:int):\n",
    "    \"\"\"\n",
    "    Create the left dataframe with columns:\n",
    "    id - random strings of the form idX where X is between 0 and 0\n",
    "    values - the integer X value\n",
    "    physical - the physical integers underlying the categorical id column\n",
    "    \"\"\"\n",
    "    # create the random integer array\n",
    "    integer_array = np.random.randint(0,cardinality,N)\n",
    "    return (\n",
    "    pl.DataFrame(\n",
    "        {\n",
    "            \"id\":[f\"id{i}\" for i in integer_array],\n",
    "            \"values\":integer_array\n",
    "        }\n",
    "    )\n",
    "    .with_columns(\n",
    "        pl.col(\"id\").cast(pl.Categorical)\n",
    "    )\n",
    "    .with_columns(\n",
    "        pl.col(\"id\").to_physical().alias(\"physical\")\n",
    "    )\n",
    ")\n",
    "df_left = createLeftDataFrame(N = N,cardinality=cardinality)\n",
    "df_left.head()"
   ]
  },
  {
   "cell_type": "markdown",
   "id": "2afd6658-7a21-4d4a-855c-f4de0ba3e245",
   "metadata": {},
   "source": [
    "We create the right `DataFrame` with metadata about each `id` in this function"
   ]
  },
  {
   "cell_type": "code",
   "execution_count": null,
   "id": "f42d99e8-f674-45c6-8dda-5a0d7dbaa291",
   "metadata": {},
   "outputs": [],
   "source": [
    "def createRightDataFrame(N:int,cardinality:int):\n",
    "    \"\"\"\n",
    "    Create the right dataframe with columns:\n",
    "    id - the string ids covering the same range as the left dataframe\n",
    "    meta - a metadata column that has the integer number from the id\n",
    "    physical - the physical integers underlying the categorical id column\n",
    "    \"\"\"\n",
    "    return (\n",
    "    pl.DataFrame(\n",
    "        {\n",
    "            \"id\":[f\"id{i}\" for i in range(cardinality)],\n",
    "            \"meta\":[i for i in range(cardinality)]\n",
    "        }\n",
    "    )\n",
    "    .with_columns(\n",
    "        pl.col(\"id\").cast(pl.Categorical)\n",
    "    )\n",
    "    .with_columns(\n",
    "        pl.col(\"id\").to_physical().alias(\"physical\")\n",
    "    )\n",
    "\n",
    ")\n",
    "df_right = createRightDataFrame(N = N,cardinality=cardinality)\n",
    "df_right.head(3)"
   ]
  },
  {
   "cell_type": "markdown",
   "id": "166f66d6-a27c-4205-85d4-1761b85dd0c2",
   "metadata": {},
   "source": [
    "Create `df_left` and `df_right` inside a `StringCache`"
   ]
  },
  {
   "cell_type": "code",
   "execution_count": null,
   "id": "699eb370-aa88-4ce6-83eb-f379463b4a50",
   "metadata": {},
   "outputs": [],
   "source": [
    "N = 10_000_000\n",
    "cardinality = 10\n",
    "<blank>"
   ]
  },
  {
   "cell_type": "markdown",
   "id": "c67984a6-290a-4b66-a6d3-8de851c7e0cb",
   "metadata": {},
   "source": [
    "Time how long it takes to join on unsorted categorical columns"
   ]
  },
  {
   "cell_type": "code",
   "execution_count": null,
   "id": "f53bb52d-22c8-414f-a3fc-2ee49a0a5135",
   "metadata": {},
   "outputs": [],
   "source": [
    "%%timeit -n1 -r1 \n",
    "(\n",
    "    <blank>\n",
    ")"
   ]
  },
  {
   "cell_type": "markdown",
   "id": "c52d0174-d91d-41e7-9a15-063090afb14f",
   "metadata": {},
   "source": [
    "Sort the categorical columns in new `DataFrames`"
   ]
  },
  {
   "cell_type": "code",
   "execution_count": null,
   "id": "d94eedc5-3504-4fa3-91d9-015f82cefb03",
   "metadata": {},
   "outputs": [],
   "source": [
    "df_left_sorted = <blank>\n",
    "df_right_sorted = <blank>"
   ]
  },
  {
   "cell_type": "markdown",
   "id": "3cecd870-44bd-406e-9b1b-89add725f383",
   "metadata": {},
   "source": [
    "Time how long it takes to join on sorted categorical columns (see the discussion on the results in the solutions)"
   ]
  },
  {
   "cell_type": "code",
   "execution_count": null,
   "id": "2d02b02c-611d-48a7-adec-8b0cc6509ebc",
   "metadata": {},
   "outputs": [],
   "source": []
  },
  {
   "cell_type": "markdown",
   "id": "585c92ff-f184-4063-a21d-a769f708f603",
   "metadata": {},
   "source": [
    "Cast the categorical columns to strings in new `DataFrames`"
   ]
  },
  {
   "cell_type": "code",
   "execution_count": null,
   "id": "50f9b4a6-66c0-4e1b-9afc-5abe75e03b79",
   "metadata": {},
   "outputs": [],
   "source": [
    "df_left_string = (df_left.<blank>)\n",
    "df_right_string = (df_right.<blank>)"
   ]
  },
  {
   "cell_type": "markdown",
   "id": "7034887a-7f98-4055-a7fa-99b0215b4bc0",
   "metadata": {},
   "source": [
    "Time how long it takes to join on string columns"
   ]
  },
  {
   "cell_type": "code",
   "execution_count": null,
   "id": "37e95697-a69a-4dbb-b8ef-11065ec3aa5f",
   "metadata": {},
   "outputs": [],
   "source": []
  },
  {
   "cell_type": "markdown",
   "id": "15509a96-ddfd-470e-a92b-20285c235bef",
   "metadata": {},
   "source": [
    "Do these comparisons again with higher cardinality e.g. `cardinality > 1000` and lower cardinality e.g. `cardinality = 10`"
   ]
  },
  {
   "cell_type": "markdown",
   "id": "85c045a9-0a41-464c-88bf-32a7af4e38c9",
   "metadata": {},
   "source": [
    "## Solutions\n",
    "\n",
    "### Solution to Exercise 1\n",
    "\n",
    "We want to join the ISO data for importers and exporters.\n",
    "\n",
    "In a single query:\n",
    "- create `DataFrames` from the CITES trade data and ISO country data in the following CSVs\n",
    "- cast the relevant columns to categorical"
   ]
  },
  {
   "cell_type": "code",
   "execution_count": null,
   "id": "98f1b33d-ef96-4530-ab2e-4ae320f79f8f",
   "metadata": {},
   "outputs": [],
   "source": [
    "cites_csv_file = \"../data/cites_extract.csv\"\n",
    "iso_csv_file = \"../data/countries_extract.csv\""
   ]
  },
  {
   "cell_type": "code",
   "execution_count": null,
   "id": "ca84ef71-de93-44ba-832b-ec0263b09604",
   "metadata": {
    "jupyter": {
     "source_hidden": true
    },
    "tags": []
   },
   "outputs": [],
   "source": [
    "with pl.StringCache():\n",
    "    df_CITES = (\n",
    "        pl.read_csv(cites_csv_file)\n",
    "        .with_columns(\n",
    "            pl.col(\"Importer\").cast(pl.Categorical),\n",
    "            pl.col(\"Exporter\").cast(pl.Categorical),\n",
    "        )\n",
    "    )\n",
    "    df_ISO = (\n",
    "        pl.read_csv(iso_csv_file)\n",
    "        .with_columns(\n",
    "                pl.col(\"alpha-2\").cast(pl.Categorical)\n",
    "        )\n",
    "    )"
   ]
  },
  {
   "cell_type": "markdown",
   "id": "f2bef9f8-bcba-4bfc-aafc-78dd5ce9dc60",
   "metadata": {},
   "source": [
    "Join the ISO data for importers and exporters"
   ]
  },
  {
   "cell_type": "code",
   "execution_count": null,
   "id": "fdcb5126-2d5d-422f-929f-4a89b6979b84",
   "metadata": {
    "jupyter": {
     "source_hidden": true
    },
    "tags": []
   },
   "outputs": [],
   "source": [
    "with pl.StringCache():\n",
    "    df_CITES = (\n",
    "        pl.read_csv(cites_csv_file)\n",
    "        .with_columns(\n",
    "            pl.col(\"Importer\").cast(pl.Categorical),\n",
    "            pl.col(\"Exporter\").cast(pl.Categorical),\n",
    "        )\n",
    "    )\n",
    "    df_ISO = (\n",
    "        pl.read_csv(iso_csv_file)\n",
    "        .with_columns(\n",
    "                pl.col(\"alpha-2\").cast(pl.Categorical)\n",
    "        )\n",
    "    )\n",
    "    \n",
    "(\n",
    "    df_CITES\n",
    "        .join(df_ISO,left_on=\"Importer\",right_on=\"alpha-2\", how=\"left\")\n",
    "        .rename({\"name\":\"name_importer\",\"region\":\"region_importer\"})\n",
    "        .join(df_ISO,left_on=\"Exporter\",right_on=\"alpha-2\", how=\"left\")\n",
    "        .rename({\"name\":\"name_exporter\",\"region\":\"region_exporter\"})\n",
    ")"
   ]
  },
  {
   "cell_type": "markdown",
   "id": "43d38ae4-4e1a-45e9-87a4-84afbf833460",
   "metadata": {},
   "source": [
    "Q: Could Polars do a fast-track join with `dfCites` on `Importer` if `set_sorted` was used?\n",
    "\n",
    "Note: this now raises an exception, I'm looking into it"
   ]
  },
  {
   "cell_type": "code",
   "execution_count": null,
   "id": "7a8ed7fb-c1d9-4bb3-ae18-4725ddece632",
   "metadata": {
    "tags": []
   },
   "outputs": [],
   "source": [
    "# df_CITES[\"Importer\"].is_sorted()"
   ]
  },
  {
   "cell_type": "markdown",
   "id": "cb4d168b-776d-4e27-946c-41bbc043f414",
   "metadata": {},
   "source": [
    "No, the column is not sorted"
   ]
  },
  {
   "cell_type": "markdown",
   "id": "263e1755-e33b-4037-83b6-34189ebd5c31",
   "metadata": {},
   "source": [
    "Do a fast-track join on the `Importer` and `Exporter` columns (copy your code from above)\n",
    "\n",
    "See:\n",
    "- the sorting on `df_ISO`\n",
    "- the two sort calls on `dfCites` in the join query"
   ]
  },
  {
   "cell_type": "code",
   "execution_count": null,
   "id": "1809f486-d942-41ad-9db5-23102468c329",
   "metadata": {
    "jupyter": {
     "source_hidden": true
    },
    "tags": []
   },
   "outputs": [],
   "source": [
    "with pl.StringCache():\n",
    "    df_CITES = (\n",
    "        pl.read_csv(cites_csv_file)\n",
    "        .with_columns(\n",
    "            pl.col(\"Importer\").cast(pl.Categorical),\n",
    "            pl.col(\"Exporter\").cast(pl.Categorical),\n",
    "        )\n",
    "    )\n",
    "    df_ISO = (\n",
    "        pl.read_csv(iso_csv_file)\n",
    "        .with_columns(\n",
    "                pl.col(\"alpha-2\").cast(pl.Categorical)\n",
    "        )\n",
    "        ### Sorting on df_ISO!\n",
    "        .sort(\"alpha-2\")\n",
    "    )\n",
    "(\n",
    "    df_CITES\n",
    "        .sort(\"Importer\")\n",
    "        .join(df_ISO,left_on=\"Importer\",right_on=\"alpha-2\", how=\"left\")\n",
    "        .rename({\"name\":\"name_importer\",\"region\":\"region_importer\"})\n",
    "        .sort(\"Exporter\")\n",
    "        .join(df_ISO,left_on=\"Exporter\",right_on=\"alpha-2\", how=\"left\")\n",
    "        .rename({\"name\":\"name_exporter\",\"region\":\"region_exporter\"})\n",
    ")"
   ]
  },
  {
   "cell_type": "markdown",
   "id": "7f0a9937-bebd-4d87-8237-18f4c21b6d6b",
   "metadata": {},
   "source": [
    "### Solution to Exercise 2"
   ]
  },
  {
   "cell_type": "markdown",
   "id": "1a7232f7-185d-4451-b277-8519a077f6c7",
   "metadata": {},
   "source": [
    "Create `df_left` and `df_right` inside a `StringCache`"
   ]
  },
  {
   "cell_type": "code",
   "execution_count": null,
   "id": "5308bd89-dd1d-408e-b1ca-1b47290ea2bd",
   "metadata": {
    "tags": []
   },
   "outputs": [],
   "source": [
    "N = 10_000_000\n",
    "cardinality = 10000\n",
    "with pl.StringCache():\n",
    "    df_left = createLeftDataFrame(N = N,cardinality=cardinality)\n",
    "    df_right = createRightDataFrame(N = N,cardinality=cardinality)"
   ]
  },
  {
   "cell_type": "markdown",
   "id": "b9306e57-332f-4dbc-8313-9012eccf3484",
   "metadata": {},
   "source": [
    "Time how long it takes to join on unsorted categorical columns"
   ]
  },
  {
   "cell_type": "code",
   "execution_count": null,
   "id": "0b5f1877-03ed-4499-80bc-603af30ab788",
   "metadata": {},
   "outputs": [],
   "source": [
    "df_left.head()"
   ]
  },
  {
   "cell_type": "code",
   "execution_count": null,
   "id": "c5d9d42a-de0a-45a9-b47e-5ff1ae7c9ccc",
   "metadata": {
    "jupyter": {
     "source_hidden": true
    },
    "tags": []
   },
   "outputs": [],
   "source": [
    "%%timeit -n1 -r3\n",
    "(\n",
    "    df_left.join(df_right,on=\"id\")\n",
    ")"
   ]
  },
  {
   "cell_type": "markdown",
   "id": "2d1f4ad6-bb37-4d5f-8662-dd94bd3bfde2",
   "metadata": {},
   "source": [
    "Sort the categorical columns"
   ]
  },
  {
   "cell_type": "code",
   "execution_count": null,
   "id": "1498c44a-9e00-42f6-ab30-4f024929eab3",
   "metadata": {
    "jupyter": {
     "source_hidden": true
    },
    "tags": []
   },
   "outputs": [],
   "source": [
    "df_left_sorted = df_left.sort(\"id\")\n",
    "df_right_sorted = df_right.sort(\"id\")"
   ]
  },
  {
   "cell_type": "markdown",
   "id": "ce06176c-ae87-4fd1-955f-09d6ff486b65",
   "metadata": {},
   "source": [
    "Time how long it takes to join on sorted categorical columns"
   ]
  },
  {
   "cell_type": "code",
   "execution_count": null,
   "id": "df278904-bf69-48f0-bed0-5e2d8f1ebd24",
   "metadata": {
    "jupyter": {
     "source_hidden": true
    },
    "tags": []
   },
   "outputs": [],
   "source": [
    "%%timeit -n1 -r3\n",
    "(\n",
    "    df_left_sorted.join(df_right_sorted,on=\"id\")\n",
    ")"
   ]
  },
  {
   "cell_type": "markdown",
   "id": "471a48a4-08c4-44b4-ab52-ead6a02a9a82",
   "metadata": {},
   "source": [
    "I get a **small** speed-up with the sorted data when cardinality is high. However, the relative performance varies from comparison-to-comparison and with different versions of Polars. Check this for your own data to see if you get a useful speed-up. \n",
    "\n",
    "Cast the categorical columns to strings and compare how long it takes to join on string columns "
   ]
  },
  {
   "cell_type": "code",
   "execution_count": null,
   "id": "b0b03b32-173a-41ee-a62e-a47ae91c8775",
   "metadata": {
    "jupyter": {
     "source_hidden": true
    },
    "tags": []
   },
   "outputs": [],
   "source": [
    "df_left_string = df_left.with_columns(pl.col(\"id\").cast(pl.Utf8))\n",
    "df_right_string = df_right.with_columns(pl.col(\"id\").cast(pl.Utf8))"
   ]
  },
  {
   "cell_type": "code",
   "execution_count": null,
   "id": "04e7c99a-ac71-4125-9187-c09f37a157a6",
   "metadata": {
    "jupyter": {
     "source_hidden": true
    },
    "tags": []
   },
   "outputs": [],
   "source": [
    "%%timeit -n1 -r1\n",
    "(\n",
    "    df_left_string.join(df_right_string,on=\"id\")\n",
    ")"
   ]
  },
  {
   "cell_type": "markdown",
   "id": "98c192b7-d7c2-43d7-8099-76de221df4f8",
   "metadata": {},
   "source": [
    "So the string join is indeed much slower.\n",
    "\n",
    "The `id` column has high cardinality because we set the range of `id` values to be `N // 2` in `createLeftDataFrame` and `createRightDataFrame`. \n",
    "\n",
    "Do these comparisons again with higher and lower cardinality."
   ]
  },
  {
   "cell_type": "code",
   "execution_count": null,
   "id": "438f8f02-8636-4d45-bb54-933468bf312f",
   "metadata": {},
   "outputs": [],
   "source": []
  }
 ],
 "metadata": {
  "kernelspec": {
   "display_name": "Python 3 (ipykernel)",
   "language": "python",
   "name": "python3"
  },
  "language_info": {
   "codemirror_mode": {
    "name": "ipython",
    "version": 3
   },
   "file_extension": ".py",
   "mimetype": "text/x-python",
   "name": "python",
   "nbconvert_exporter": "python",
   "pygments_lexer": "ipython3",
   "version": "3.10.1"
  }
 },
 "nbformat": 4,
 "nbformat_minor": 5
}
