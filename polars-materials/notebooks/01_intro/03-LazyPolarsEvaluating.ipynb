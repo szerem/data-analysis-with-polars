{
 "cells": [
  {
   "cell_type": "markdown",
   "id": "c8eddcf7-b0c9-4749-aa22-84472316b681",
   "metadata": {},
   "source": [
    "# Lazy mode 2: evaluating queries\n",
    "\n",
    "By the end of this lecture you will be able to:\n",
    "- trigger evaluation of a `LazyFrame`\n",
    "- evaluate a `LazyFrame` in streaming mode\n",
    "- convert a `DataFrame` to a `LazyFrame`\n",
    "\n",
    "We can also evaluate a `LazyFrame` and profile how long each part of the query takes. We cover this in the lecture on `LazyGroupby` in Section 6."
   ]
  },
  {
   "cell_type": "code",
   "execution_count": 4,
   "id": "35ac8a3e-bb6e-41db-a3c1-93bb7bda3b3d",
   "metadata": {
    "tags": []
   },
   "outputs": [],
   "source": [
    "import polars as pl"
   ]
  },
  {
   "cell_type": "code",
   "execution_count": 5,
   "id": "5bcf6a0c-81a7-4dc5-add5-451b3ee33442",
   "metadata": {
    "tags": []
   },
   "outputs": [],
   "source": [
    "csv_file = \"../data/titanic.csv\""
   ]
  },
  {
   "cell_type": "markdown",
   "id": "ba4290cd-9941-4a8e-bbcc-0067b975a412",
   "metadata": {},
   "source": [
    "Create a `LazyFrame` with `pl.scan_csv`"
   ]
  },
  {
   "cell_type": "code",
   "execution_count": 6,
   "id": "ee9c9dd2-0d62-481e-bce7-11fa498c316a",
   "metadata": {
    "tags": []
   },
   "outputs": [
    {
     "data": {
      "text/html": [
       "<i>naive plan: (run <b>LazyFrame.explain(optimized=True)</b> to see the optimized plan)</i>\n",
       "    <p></p>\n",
       "    <div><p></p>  Csv SCAN ../data/titanic.csv<p></p>  PROJECT */12 COLUMNS</div>"
      ],
      "text/plain": [
       "<LazyFrame [12 cols, {\"PassengerId\": Int64 … \"Embarked\": Utf8}] at 0x7F34021218D0>"
      ]
     },
     "execution_count": 6,
     "metadata": {},
     "output_type": "execute_result"
    }
   ],
   "source": [
    "df = pl.scan_csv(csv_file)\n",
    "df"
   ]
  },
  {
   "cell_type": "markdown",
   "id": "c19b0814-af01-4c72-a471-489f4554db1c",
   "metadata": {},
   "source": [
    "## Triggering evaluation of a `LazyFrame`\n",
    "\n",
    "\n",
    "When we trigger evaluation we convert `LazyFrame` to `DataFrame`.\n",
    "\n",
    "### Full evaluation\n",
    "\n",
    "To trigger evaluation of the full output we call `.collect` "
   ]
  },
  {
   "cell_type": "code",
   "execution_count": 7,
   "id": "1d5eaf68-cb55-4613-adab-40da50e548e2",
   "metadata": {
    "tags": []
   },
   "outputs": [
    {
     "data": {
      "text/html": [
       "<div><style>\n",
       ".dataframe > thead > tr > th,\n",
       ".dataframe > tbody > tr > td {\n",
       "  text-align: right;\n",
       "}\n",
       "</style>\n",
       "<small>shape: (5, 12)</small><table border=\"1\" class=\"dataframe\"><thead><tr><th>PassengerId</th><th>Survived</th><th>Pclass</th><th>Name</th><th>Sex</th><th>Age</th><th>SibSp</th><th>Parch</th><th>Ticket</th><th>Fare</th><th>Cabin</th><th>Embarked</th></tr><tr><td>i64</td><td>i64</td><td>i64</td><td>str</td><td>str</td><td>f64</td><td>i64</td><td>i64</td><td>str</td><td>f64</td><td>str</td><td>str</td></tr></thead><tbody><tr><td>1</td><td>0</td><td>3</td><td>&quot;Braund, Mr. Ow…</td><td>&quot;male&quot;</td><td>22.0</td><td>1</td><td>0</td><td>&quot;A/5 21171&quot;</td><td>7.25</td><td>null</td><td>&quot;S&quot;</td></tr><tr><td>2</td><td>1</td><td>1</td><td>&quot;Cumings, Mrs. …</td><td>&quot;female&quot;</td><td>38.0</td><td>1</td><td>0</td><td>&quot;PC 17599&quot;</td><td>71.2833</td><td>&quot;C85&quot;</td><td>&quot;C&quot;</td></tr><tr><td>3</td><td>1</td><td>3</td><td>&quot;Heikkinen, Mis…</td><td>&quot;female&quot;</td><td>26.0</td><td>0</td><td>0</td><td>&quot;STON/O2. 31012…</td><td>7.925</td><td>null</td><td>&quot;S&quot;</td></tr><tr><td>4</td><td>1</td><td>1</td><td>&quot;Futrelle, Mrs.…</td><td>&quot;female&quot;</td><td>35.0</td><td>1</td><td>0</td><td>&quot;113803&quot;</td><td>53.1</td><td>&quot;C123&quot;</td><td>&quot;S&quot;</td></tr><tr><td>5</td><td>0</td><td>3</td><td>&quot;Allen, Mr. Wil…</td><td>&quot;male&quot;</td><td>35.0</td><td>0</td><td>0</td><td>&quot;373450&quot;</td><td>8.05</td><td>null</td><td>&quot;S&quot;</td></tr></tbody></table></div>"
      ],
      "text/plain": [
       "shape: (5, 12)\n",
       "┌─────────────┬──────────┬────────┬───────────────────┬───┬───────────┬─────────┬───────┬──────────┐\n",
       "│ PassengerId ┆ Survived ┆ Pclass ┆ Name              ┆ … ┆ Ticket    ┆ Fare    ┆ Cabin ┆ Embarked │\n",
       "│ ---         ┆ ---      ┆ ---    ┆ ---               ┆   ┆ ---       ┆ ---     ┆ ---   ┆ ---      │\n",
       "│ i64         ┆ i64      ┆ i64    ┆ str               ┆   ┆ str       ┆ f64     ┆ str   ┆ str      │\n",
       "╞═════════════╪══════════╪════════╪═══════════════════╪═══╪═══════════╪═════════╪═══════╪══════════╡\n",
       "│ 1           ┆ 0        ┆ 3      ┆ Braund, Mr. Owen  ┆ … ┆ A/5 21171 ┆ 7.25    ┆ null  ┆ S        │\n",
       "│             ┆          ┆        ┆ Harris            ┆   ┆           ┆         ┆       ┆          │\n",
       "│ 2           ┆ 1        ┆ 1      ┆ Cumings, Mrs.     ┆ … ┆ PC 17599  ┆ 71.2833 ┆ C85   ┆ C        │\n",
       "│             ┆          ┆        ┆ John Bradley      ┆   ┆           ┆         ┆       ┆          │\n",
       "│             ┆          ┆        ┆ (Flor…            ┆   ┆           ┆         ┆       ┆          │\n",
       "│ 3           ┆ 1        ┆ 3      ┆ Heikkinen, Miss.  ┆ … ┆ STON/O2.  ┆ 7.925   ┆ null  ┆ S        │\n",
       "│             ┆          ┆        ┆ Laina             ┆   ┆ 3101282   ┆         ┆       ┆          │\n",
       "│ 4           ┆ 1        ┆ 1      ┆ Futrelle, Mrs.    ┆ … ┆ 113803    ┆ 53.1    ┆ C123  ┆ S        │\n",
       "│             ┆          ┆        ┆ Jacques Heath     ┆   ┆           ┆         ┆       ┆          │\n",
       "│             ┆          ┆        ┆ (Li…              ┆   ┆           ┆         ┆       ┆          │\n",
       "│ 5           ┆ 0        ┆ 3      ┆ Allen, Mr.        ┆ … ┆ 373450    ┆ 8.05    ┆ null  ┆ S        │\n",
       "│             ┆          ┆        ┆ William Henry     ┆   ┆           ┆         ┆       ┆          │\n",
       "└─────────────┴──────────┴────────┴───────────────────┴───┴───────────┴─────────┴───────┴──────────┘"
      ]
     },
     "execution_count": 7,
     "metadata": {},
     "output_type": "execute_result"
    }
   ],
   "source": [
    "(\n",
    "    df\n",
    "    .collect()\n",
    "    .head()\n",
    ")"
   ]
  },
  {
   "cell_type": "markdown",
   "id": "ca704502-9756-48f5-aeaf-cc93ff5aa4bd",
   "metadata": {},
   "source": [
    "### Partial evaluation\n",
    "\n",
    "To trigger evaluation of a limited number of rows we call `.fetch`. We can specify the number of rows Polars should aim to fetch as an argument "
   ]
  },
  {
   "cell_type": "code",
   "execution_count": 8,
   "id": "d310635e-94f6-4c8c-81f9-1d96d1240f5f",
   "metadata": {
    "tags": []
   },
   "outputs": [
    {
     "data": {
      "text/html": [
       "<div><style>\n",
       ".dataframe > thead > tr > th,\n",
       ".dataframe > tbody > tr > td {\n",
       "  text-align: right;\n",
       "}\n",
       "</style>\n",
       "<small>shape: (3, 12)</small><table border=\"1\" class=\"dataframe\"><thead><tr><th>PassengerId</th><th>Survived</th><th>Pclass</th><th>Name</th><th>Sex</th><th>Age</th><th>SibSp</th><th>Parch</th><th>Ticket</th><th>Fare</th><th>Cabin</th><th>Embarked</th></tr><tr><td>i64</td><td>i64</td><td>i64</td><td>str</td><td>str</td><td>f64</td><td>i64</td><td>i64</td><td>str</td><td>f64</td><td>str</td><td>str</td></tr></thead><tbody><tr><td>1</td><td>0</td><td>3</td><td>&quot;Braund, Mr. Ow…</td><td>&quot;male&quot;</td><td>22.0</td><td>1</td><td>0</td><td>&quot;A/5 21171&quot;</td><td>7.25</td><td>null</td><td>&quot;S&quot;</td></tr><tr><td>2</td><td>1</td><td>1</td><td>&quot;Cumings, Mrs. …</td><td>&quot;female&quot;</td><td>38.0</td><td>1</td><td>0</td><td>&quot;PC 17599&quot;</td><td>71.2833</td><td>&quot;C85&quot;</td><td>&quot;C&quot;</td></tr><tr><td>3</td><td>1</td><td>3</td><td>&quot;Heikkinen, Mis…</td><td>&quot;female&quot;</td><td>26.0</td><td>0</td><td>0</td><td>&quot;STON/O2. 31012…</td><td>7.925</td><td>null</td><td>&quot;S&quot;</td></tr></tbody></table></div>"
      ],
      "text/plain": [
       "shape: (3, 12)\n",
       "┌─────────────┬──────────┬────────┬───────────────────┬───┬───────────┬─────────┬───────┬──────────┐\n",
       "│ PassengerId ┆ Survived ┆ Pclass ┆ Name              ┆ … ┆ Ticket    ┆ Fare    ┆ Cabin ┆ Embarked │\n",
       "│ ---         ┆ ---      ┆ ---    ┆ ---               ┆   ┆ ---       ┆ ---     ┆ ---   ┆ ---      │\n",
       "│ i64         ┆ i64      ┆ i64    ┆ str               ┆   ┆ str       ┆ f64     ┆ str   ┆ str      │\n",
       "╞═════════════╪══════════╪════════╪═══════════════════╪═══╪═══════════╪═════════╪═══════╪══════════╡\n",
       "│ 1           ┆ 0        ┆ 3      ┆ Braund, Mr. Owen  ┆ … ┆ A/5 21171 ┆ 7.25    ┆ null  ┆ S        │\n",
       "│             ┆          ┆        ┆ Harris            ┆   ┆           ┆         ┆       ┆          │\n",
       "│ 2           ┆ 1        ┆ 1      ┆ Cumings, Mrs.     ┆ … ┆ PC 17599  ┆ 71.2833 ┆ C85   ┆ C        │\n",
       "│             ┆          ┆        ┆ John Bradley      ┆   ┆           ┆         ┆       ┆          │\n",
       "│             ┆          ┆        ┆ (Flor…            ┆   ┆           ┆         ┆       ┆          │\n",
       "│ 3           ┆ 1        ┆ 3      ┆ Heikkinen, Miss.  ┆ … ┆ STON/O2.  ┆ 7.925   ┆ null  ┆ S        │\n",
       "│             ┆          ┆        ┆ Laina             ┆   ┆ 3101282   ┆         ┆       ┆          │\n",
       "└─────────────┴──────────┴────────┴───────────────────┴───┴───────────┴─────────┴───────┴──────────┘"
      ]
     },
     "execution_count": 8,
     "metadata": {},
     "output_type": "execute_result"
    }
   ],
   "source": [
    "(\n",
    "    df\n",
    "    .fetch(3)\n",
    ")"
   ]
  },
  {
   "cell_type": "markdown",
   "id": "3bf6adf9-024e-4032-ac1d-84ddf2812369",
   "metadata": {},
   "source": [
    "### When do you use `fetch` instead of `collect`?\n",
    "\n",
    "The `fetch` method is useful during development and debugging to avoid running the query on a large dataset.\n",
    "\n",
    "## Evaluating larger-than-memory queries in streaming mode\n",
    "Be default when we evaluate a `LazyFrame` Polars works with the entire `DataFrame` in memory. If the query requires more memory than we have available we may be able to evaluate the query in *streaming* mode.\n",
    "\n",
    "In streaming mode Polars processes the query **in chunks** instead of all-at-once. This allows Polars to work with datasets that are larger than memory.\n",
    "\n",
    "We tell Polars to use streaming with the `streaming` argument to `collect` or `fetch` "
   ]
  },
  {
   "cell_type": "code",
   "execution_count": 9,
   "id": "edb4a6cb-26f4-41ef-ab08-5bc4e1172af0",
   "metadata": {
    "tags": []
   },
   "outputs": [
    {
     "data": {
      "text/html": [
       "<div><style>\n",
       ".dataframe > thead > tr > th,\n",
       ".dataframe > tbody > tr > td {\n",
       "  text-align: right;\n",
       "}\n",
       "</style>\n",
       "<small>shape: (3, 12)</small><table border=\"1\" class=\"dataframe\"><thead><tr><th>PassengerId</th><th>Survived</th><th>Pclass</th><th>Name</th><th>Sex</th><th>Age</th><th>SibSp</th><th>Parch</th><th>Ticket</th><th>Fare</th><th>Cabin</th><th>Embarked</th></tr><tr><td>i64</td><td>i64</td><td>i64</td><td>str</td><td>str</td><td>f64</td><td>i64</td><td>i64</td><td>str</td><td>f64</td><td>str</td><td>str</td></tr></thead><tbody><tr><td>1</td><td>0</td><td>3</td><td>&quot;Braund, Mr. Ow…</td><td>&quot;male&quot;</td><td>22.0</td><td>1</td><td>0</td><td>&quot;A/5 21171&quot;</td><td>7.25</td><td>null</td><td>&quot;S&quot;</td></tr><tr><td>2</td><td>1</td><td>1</td><td>&quot;Cumings, Mrs. …</td><td>&quot;female&quot;</td><td>38.0</td><td>1</td><td>0</td><td>&quot;PC 17599&quot;</td><td>71.2833</td><td>&quot;C85&quot;</td><td>&quot;C&quot;</td></tr><tr><td>3</td><td>1</td><td>3</td><td>&quot;Heikkinen, Mis…</td><td>&quot;female&quot;</td><td>26.0</td><td>0</td><td>0</td><td>&quot;STON/O2. 31012…</td><td>7.925</td><td>null</td><td>&quot;S&quot;</td></tr></tbody></table></div>"
      ],
      "text/plain": [
       "shape: (3, 12)\n",
       "┌─────────────┬──────────┬────────┬───────────────────┬───┬───────────┬─────────┬───────┬──────────┐\n",
       "│ PassengerId ┆ Survived ┆ Pclass ┆ Name              ┆ … ┆ Ticket    ┆ Fare    ┆ Cabin ┆ Embarked │\n",
       "│ ---         ┆ ---      ┆ ---    ┆ ---               ┆   ┆ ---       ┆ ---     ┆ ---   ┆ ---      │\n",
       "│ i64         ┆ i64      ┆ i64    ┆ str               ┆   ┆ str       ┆ f64     ┆ str   ┆ str      │\n",
       "╞═════════════╪══════════╪════════╪═══════════════════╪═══╪═══════════╪═════════╪═══════╪══════════╡\n",
       "│ 1           ┆ 0        ┆ 3      ┆ Braund, Mr. Owen  ┆ … ┆ A/5 21171 ┆ 7.25    ┆ null  ┆ S        │\n",
       "│             ┆          ┆        ┆ Harris            ┆   ┆           ┆         ┆       ┆          │\n",
       "│ 2           ┆ 1        ┆ 1      ┆ Cumings, Mrs.     ┆ … ┆ PC 17599  ┆ 71.2833 ┆ C85   ┆ C        │\n",
       "│             ┆          ┆        ┆ John Bradley      ┆   ┆           ┆         ┆       ┆          │\n",
       "│             ┆          ┆        ┆ (Flor…            ┆   ┆           ┆         ┆       ┆          │\n",
       "│ 3           ┆ 1        ┆ 3      ┆ Heikkinen, Miss.  ┆ … ┆ STON/O2.  ┆ 7.925   ┆ null  ┆ S        │\n",
       "│             ┆          ┆        ┆ Laina             ┆   ┆ 3101282   ┆         ┆       ┆          │\n",
       "└─────────────┴──────────┴────────┴───────────────────┴───┴───────────┴─────────┴───────┴──────────┘"
      ]
     },
     "execution_count": 9,
     "metadata": {},
     "output_type": "execute_result"
    }
   ],
   "source": [
    "(\n",
    "    pl.scan_csv(csv_file)\n",
    "    .collect(streaming=True)\n",
    "    .head(3)\n",
    ")"
   ]
  },
  {
   "cell_type": "markdown",
   "id": "8ebf903b-3112-40c3-940f-645ed3f8f10c",
   "metadata": {},
   "source": [
    "Streaming is not supported for all operations. However, many key operations such as `filter`, `groupby` and `join` support streaming. If streaming is not possible then Polars will run the query without streaming.\n",
    "\n",
    "> We return to streaming when we look at input from CSV and Parquet files in the Input/Output section. However, if you want to reduce memory consumption in your queries go ahead and try it out on your own data with `streaming=True`. In this blog post I suggest that turning streaming mode on can be a good default for many use cases (this is what I do for my ML pipelines):https://www.rhosignal.com/posts/polars-dont-fear-streaming/\n",
    "\n",
    "## Turning a `DataFrame` into a `LazyFrame`\n",
    "\n",
    "In some cases we have a `DataFrame` and want to convert it to a `LazyFrame`.\n",
    "\n",
    "We may want to save intermediate values from a query. So we trigger evaluation to create a `DataFrame` we can save before converting back to lazy mode.\n",
    "\n",
    "Our query might contain a transformation that can only be done in eager mode such as a `pivot`. So we can trigger evaluation to do the pivot and then convert back to lazy mode. \n",
    "\n",
    "We convert a `DataFrame` to a `LazyFrame` with `lazy`"
   ]
  },
  {
   "cell_type": "code",
   "execution_count": null,
   "id": "5f209e99-c170-430c-81c4-0befeb0e0a00",
   "metadata": {
    "tags": []
   },
   "outputs": [],
   "source": [
    "df_eager = pl.read_csv(csv_file)\n",
    "df_eager = df_eager.lazy()\n",
    "df_eager"
   ]
  },
  {
   "cell_type": "markdown",
   "id": "0f4a8fe1-4e79-4192-809c-c842d4eff6f3",
   "metadata": {},
   "source": [
    "## Limits of lazy mode\n",
    "There are operations that cannot be done in lazy mode (whether in Polars or other lazy frameworks such as SQL databases). One limitation is that Polars must know the column names and dtypes at each step of the query plan.\n",
    "\n",
    "For example we cannot `pivot` in lazy mode as the column names are data-dependant following a pivot"
   ]
  },
  {
   "cell_type": "code",
   "execution_count": 10,
   "id": "23cdb1e9-6b01-407c-9520-72d017dbbd89",
   "metadata": {
    "tags": []
   },
   "outputs": [
    {
     "data": {
      "text/html": [
       "<div><style>\n",
       ".dataframe > thead > tr > th,\n",
       ".dataframe > tbody > tr > td {\n",
       "  text-align: right;\n",
       "}\n",
       "</style>\n",
       "<small>shape: (3, 3)</small><table border=\"1\" class=\"dataframe\"><thead><tr><th>Pclass</th><th>male</th><th>female</th></tr><tr><td>i64</td><td>f64</td><td>f64</td></tr></thead><tbody><tr><td>3</td><td>26.507589</td><td>21.75</td></tr><tr><td>1</td><td>41.281386</td><td>34.611765</td></tr><tr><td>2</td><td>30.740707</td><td>28.722973</td></tr></tbody></table></div>"
      ],
      "text/plain": [
       "shape: (3, 3)\n",
       "┌────────┬───────────┬───────────┐\n",
       "│ Pclass ┆ male      ┆ female    │\n",
       "│ ---    ┆ ---       ┆ ---       │\n",
       "│ i64    ┆ f64       ┆ f64       │\n",
       "╞════════╪═══════════╪═══════════╡\n",
       "│ 3      ┆ 26.507589 ┆ 21.75     │\n",
       "│ 1      ┆ 41.281386 ┆ 34.611765 │\n",
       "│ 2      ┆ 30.740707 ┆ 28.722973 │\n",
       "└────────┴───────────┴───────────┘"
      ]
     },
     "execution_count": 10,
     "metadata": {},
     "output_type": "execute_result"
    }
   ],
   "source": [
    "(\n",
    "    pl.read_csv(csv_file)\n",
    "    .pivot(index=\"Pclass\",columns=\"Sex\",values=\"Age\",aggregate_function=\"mean\")\n",
    ")"
   ]
  },
  {
   "cell_type": "markdown",
   "id": "5693e9a4-869b-4dea-b49f-16f6062bd271",
   "metadata": {},
   "source": [
    "In these cases I recommend:\n",
    "- starting queries in lazy mode as far as possible\n",
    "- evaluating with `collect` when a non-lazy method is required\n",
    "- calling the non-lazy method\n",
    "- calling `lazy` on the output to continue in lazy mode"
   ]
  },
  {
   "cell_type": "code",
   "execution_count": null,
   "id": "c5f9293a-ff89-44f1-ba5d-5facfd0480f3",
   "metadata": {},
   "outputs": [],
   "source": [
    "(\n",
    "    pl.scan_csv(csv_file)\n",
    "    .collect()\n",
    "    .pivot(index=\"Pclass\",columns=\"Sex\",values=\"Age\",aggregate_function=\"mean\")\n",
    "    .lazy()\n",
    ")"
   ]
  },
  {
   "cell_type": "markdown",
   "id": "2fab23df-8e50-41e4-994b-f9c9de70b41a",
   "metadata": {},
   "source": [
    "## Exercises\n",
    "\n",
    "In the exercises you will develop your understanding of:\n",
    "- triggering full evaluation of a query\n",
    "- triggering partial evaluation of a query\n",
    "- triggering evaluation in streaming mode\n",
    "- converting from eager to lazy mode\n",
    "\n",
    "### Exercise 1\n",
    "Create a `LazyFrame` by doing a scan of the Titanic CSV file"
   ]
  },
  {
   "cell_type": "code",
   "execution_count": null,
   "id": "53f443c2-bd23-48c2-90c1-56b4010fc0af",
   "metadata": {
    "tags": []
   },
   "outputs": [],
   "source": [
    "(\n",
    "    pl.<blank>\n",
    ")"
   ]
  },
  {
   "cell_type": "markdown",
   "id": "44af8e79-770c-467c-922f-621bdbde8823",
   "metadata": {},
   "source": [
    "Continue with your code from the first part in subsequent parts of this exercise.\n",
    "\n",
    "Use the fetch statement on the `LazyFrame` and count how many rows `fetch` returns by default"
   ]
  },
  {
   "cell_type": "code",
   "execution_count": null,
   "id": "da382c5b-af3e-4c11-b4fa-0ab26dec6b4b",
   "metadata": {
    "tags": []
   },
   "outputs": [],
   "source": []
  },
  {
   "cell_type": "markdown",
   "id": "3b3c97f2-b985-4a22-859e-9e51ca1667ca",
   "metadata": {},
   "source": [
    "Check to see which of the following metadata you can get from a `LazyFrame`:\n",
    "- number of rows\n",
    "- column names"
   ]
  },
  {
   "cell_type": "code",
   "execution_count": null,
   "id": "b7f6448e-57d0-403b-8375-7a49c9515fa6",
   "metadata": {
    "tags": []
   },
   "outputs": [],
   "source": []
  },
  {
   "cell_type": "markdown",
   "id": "02ac5d94-6481-4b15-8dde-9e86d7ee9ab9",
   "metadata": {},
   "source": [
    "### Exercise 2: converting between eager and lazy mode\n",
    "Create a `LazyFrame` by doing a scan of the Titanic CSV file"
   ]
  },
  {
   "cell_type": "code",
   "execution_count": null,
   "id": "6fee813c-f454-4145-8b99-a70c3f40e189",
   "metadata": {
    "tags": []
   },
   "outputs": [],
   "source": [
    "(\n",
    "    <blank>\n",
    ")\n"
   ]
  },
  {
   "cell_type": "markdown",
   "id": "8d709f4f-43df-4eb0-94e7-49b033a621a0",
   "metadata": {},
   "source": [
    "Convert the `LazyFrame` to a `DataFrame`"
   ]
  },
  {
   "cell_type": "code",
   "execution_count": null,
   "id": "db2d6c50-8882-4c77-a5a6-440fd5ec8f4e",
   "metadata": {
    "tags": []
   },
   "outputs": [],
   "source": []
  },
  {
   "cell_type": "markdown",
   "id": "815f83a4-7976-447d-a076-002043a477a2",
   "metadata": {},
   "source": [
    "Convert the `DataFrame` to a `LazyFrame`"
   ]
  },
  {
   "cell_type": "code",
   "execution_count": null,
   "id": "63c0e80c-7022-4340-9e1e-10b752d12b68",
   "metadata": {
    "tags": []
   },
   "outputs": [],
   "source": []
  },
  {
   "cell_type": "markdown",
   "id": "305dbf31-92c2-469b-b35e-236282ff89c8",
   "metadata": {},
   "source": [
    "## Solutions\n",
    "\n",
    "### Solution to Exercise 1\n",
    "\n",
    "Create a `LazyFrame` by doing a scan of the Titanic CSV file"
   ]
  },
  {
   "cell_type": "code",
   "execution_count": null,
   "id": "7f59b064-909a-42bc-b43c-0a75d4ae165c",
   "metadata": {
    "jupyter": {
     "source_hidden": true
    },
    "tags": []
   },
   "outputs": [],
   "source": [
    "(\n",
    "    pl.scan_csv(csv_file)\n",
    ")"
   ]
  },
  {
   "cell_type": "markdown",
   "id": "c5117c5f-7c01-498d-86ec-96d95ce750e8",
   "metadata": {},
   "source": [
    "Use the fetch statement on the `LazyFrame` and count how many rows `fetch` returns by default"
   ]
  },
  {
   "cell_type": "code",
   "execution_count": null,
   "id": "2a0ae92f-64bf-4859-99c3-336d2c5535fd",
   "metadata": {
    "jupyter": {
     "source_hidden": true
    },
    "tags": []
   },
   "outputs": [],
   "source": [
    "(\n",
    "    pl.scan_csv(csv_file)\n",
    "    .fetch()\n",
    "    .shape\n",
    ")"
   ]
  },
  {
   "cell_type": "markdown",
   "id": "e4bfa595-b660-45b4-a616-fdfd2b06c500",
   "metadata": {},
   "source": [
    "We discuss the notification about common subplan elimination in the lecture on streaming CSVs "
   ]
  },
  {
   "cell_type": "markdown",
   "id": "3ecc464d-e1df-4321-9959-410ce37efb12",
   "metadata": {},
   "source": [
    "A `LazyFrame` does not know the number of rows in a CSV"
   ]
  },
  {
   "cell_type": "code",
   "execution_count": null,
   "id": "40d0ce15-2063-4b3f-996c-72a743dc8ed7",
   "metadata": {
    "jupyter": {
     "source_hidden": true
    },
    "tags": []
   },
   "outputs": [],
   "source": [
    "# (\n",
    "#     pl.scan_csv(csv_file)\n",
    "#     .shape\n",
    "# )"
   ]
  },
  {
   "cell_type": "markdown",
   "id": "89d52f99-509c-455c-9348-53dc56ef6ff0",
   "metadata": {},
   "source": [
    "A `LazyFrame` does know the column names. `Polars` scans the first row of the CSV file to get column names in `pl.scan_csv`"
   ]
  },
  {
   "cell_type": "code",
   "execution_count": null,
   "id": "1b20cd34-2a75-49bd-88ae-2d950fb9e663",
   "metadata": {
    "jupyter": {
     "source_hidden": true
    },
    "tags": []
   },
   "outputs": [],
   "source": [
    "(\n",
    "    pl.scan_csv(csv_file)\n",
    "    .columns\n",
    ")"
   ]
  },
  {
   "cell_type": "markdown",
   "id": "6a5491b5-cb7b-43aa-af23-4519887c5de4",
   "metadata": {
    "collapsed": true,
    "jupyter": {
     "outputs_hidden": true
    }
   },
   "source": [
    "## Solution to Exercise 2\n",
    "\n",
    "Create a `LazyFrame` by doing a scan of the Titanic CSV file"
   ]
  },
  {
   "cell_type": "code",
   "execution_count": null,
   "id": "0dd99aa0-207d-42ee-b04c-78349513559f",
   "metadata": {
    "jupyter": {
     "source_hidden": true
    },
    "tags": []
   },
   "outputs": [],
   "source": [
    "(\n",
    "    pl.scan_csv(csv_file)\n",
    ")\n"
   ]
  },
  {
   "cell_type": "markdown",
   "id": "e19d60b2-a0cf-451a-b495-dc2280ae008b",
   "metadata": {},
   "source": [
    "Convert the `LazyFrame` to a `DataFrame`"
   ]
  },
  {
   "cell_type": "code",
   "execution_count": null,
   "id": "fe521901-2fa8-4292-af23-8ca0ce4c95a3",
   "metadata": {
    "jupyter": {
     "source_hidden": true
    },
    "tags": []
   },
   "outputs": [],
   "source": [
    "(\n",
    "    pl.scan_csv(csv_file)\n",
    "    .collect()\n",
    "    .head(3)\n",
    ")\n"
   ]
  },
  {
   "cell_type": "markdown",
   "id": "a921ca4f-3f1c-40f6-91b8-f060da4fbec6",
   "metadata": {},
   "source": [
    "Convert the `DataFrame` to a `LazyFrame`"
   ]
  },
  {
   "cell_type": "code",
   "execution_count": null,
   "id": "3850da55-cf03-41ef-b3a8-ccbc87d31a76",
   "metadata": {
    "jupyter": {
     "source_hidden": true
    },
    "tags": []
   },
   "outputs": [],
   "source": [
    "(\n",
    "    pl.scan_csv(csv_file)\n",
    "    .collect()\n",
    "    .lazy()\n",
    "    .head(3)\n",
    ")\n"
   ]
  }
 ],
 "metadata": {
  "kernelspec": {
   "display_name": "Python 3 (ipykernel)",
   "language": "python",
   "name": "python3"
  },
  "language_info": {
   "codemirror_mode": {
    "name": "ipython",
    "version": 3
   },
   "file_extension": ".py",
   "mimetype": "text/x-python",
   "name": "python",
   "nbconvert_exporter": "python",
   "pygments_lexer": "ipython3",
   "version": "3.10.1"
  }
 },
 "nbformat": 4,
 "nbformat_minor": 5
}
