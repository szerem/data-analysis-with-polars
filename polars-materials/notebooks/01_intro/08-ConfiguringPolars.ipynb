{
 "cells": [
  {
   "cell_type": "markdown",
   "id": "38699218-998d-4f44-8ee9-72efe52730a4",
   "metadata": {},
   "source": [
    "## Configuring Polars\n",
    "By the end of this lecture you will be able to:\n",
    "- configure how Polars data is displayed\n",
    "- save and load configurations\n",
    "\n",
    "Polars has a `pl.Config` namespace with functions that allow you to control how data is printed to the screen. We explore the options in this lecture."
   ]
  },
  {
   "cell_type": "code",
   "execution_count": null,
   "id": "21783c10-6561-4e7e-91aa-171ae215a7b1",
   "metadata": {},
   "outputs": [],
   "source": [
    "import polars as pl"
   ]
  },
  {
   "cell_type": "code",
   "execution_count": null,
   "id": "28007142-f307-4a45-b81f-9cc96cf6b40e",
   "metadata": {},
   "outputs": [],
   "source": [
    "csv_file = \"../data/titanic.csv\"\n",
    "df = pl.read_csv(csv_file)"
   ]
  },
  {
   "cell_type": "markdown",
   "id": "0feb168b-5dc9-4a1a-8551-d455ee00ed58",
   "metadata": {},
   "source": [
    "## Formatting tables\n",
    "We can control how tables are printed to the screen.\n",
    "\n",
    "For example we can set the number of rows printed in a table with `set_tbl_rows`"
   ]
  },
  {
   "cell_type": "code",
   "execution_count": null,
   "id": "6cd08507-5c8f-438f-b7ff-100b480e17ef",
   "metadata": {},
   "outputs": [],
   "source": [
    "pl.Config.set_tbl_rows(4)\n",
    "df"
   ]
  },
  {
   "cell_type": "markdown",
   "id": "48f264e2-d269-4e4a-8884-90df0eb899ef",
   "metadata": {},
   "source": [
    "When you make a change it remains in effect until the end of the session. \n",
    "\n",
    "To instead apply a config setting for a single code block we can wrap it using the `with` context manager.\n",
    "\n",
    "Note that in this case we apply the setting as an argument with `pl.Config`."
   ]
  },
  {
   "cell_type": "code",
   "execution_count": null,
   "id": "7f82bc97-85c3-4c85-8267-dd56129db709",
   "metadata": {},
   "outputs": [],
   "source": [
    "with pl.Config(set_tbl_rows=2):\n",
    "    print(df)"
   ]
  },
  {
   "cell_type": "markdown",
   "id": "6716da98-16ad-40a6-a8d5-6baffff94a6f",
   "metadata": {},
   "source": [
    "To control the number of columns we use `set_tbl_cols`"
   ]
  },
  {
   "cell_type": "code",
   "execution_count": null,
   "id": "8438392e-5fb4-4eea-a1c9-8bfd4b5d8c36",
   "metadata": {},
   "outputs": [],
   "source": [
    "pl.Config.set_tbl_cols(4)\n",
    "df"
   ]
  },
  {
   "cell_type": "markdown",
   "id": "3e10210b-d8ec-49d2-a6d8-7538828c73fb",
   "metadata": {},
   "source": [
    "There are numerous other function to control how tables are displayed that you can see here: https://pola-rs.github.io/polars/py-polars/html/reference/config.html\n",
    "\n",
    "## Formatting values\n",
    "To control the display of floats we can use `set_fmt_float`. The default setting limits the length of floats printed. If we use the default 'mixed` argument Polars uses scientific notation for large and small values"
   ]
  },
  {
   "cell_type": "code",
   "execution_count": null,
   "id": "cc6af0de-7a7b-404c-98e4-661aa9b7fd82",
   "metadata": {},
   "outputs": [],
   "source": [
    "pl.Config.set_fmt_float()\n",
    "s = pl.Series([1.2304980958725870923,1e6,1e-8])\n",
    "print(s)"
   ]
  },
  {
   "cell_type": "markdown",
   "id": "69b03823-4390-465a-835b-febe5389ac94",
   "metadata": {},
   "source": [
    "But we can also get the full float printed with the `full` argument"
   ]
  },
  {
   "cell_type": "code",
   "execution_count": null,
   "id": "88ba1277-023a-45d2-bd50-9aad0e0daf8e",
   "metadata": {},
   "outputs": [],
   "source": [
    "pl.Config.set_fmt_float(\"full\")\n",
    "print(s)"
   ]
  },
  {
   "cell_type": "markdown",
   "id": "6f9e6e8e-fbf2-4206-a9cf-fcdfa37b9eda",
   "metadata": {},
   "source": [
    "In a similar way we can set the number of characters printed in strings with `set_fmt_str_lengths`"
   ]
  },
  {
   "cell_type": "code",
   "execution_count": null,
   "id": "3032e511-c9d4-4756-b6b7-d4527547d152",
   "metadata": {},
   "outputs": [],
   "source": [
    "pl.Config.set_fmt_str_lengths(200)\n",
    "df.select(pl.col(pl.Utf8)).head(2)"
   ]
  },
  {
   "cell_type": "markdown",
   "id": "bb825c6a-9a9c-4d81-99cf-05d1276f5872",
   "metadata": {},
   "source": [
    "## Verbose mode\n",
    "Polars doesn't print any information about its internal workings by default. If you want to see more information on this use the `set_verbose` function. This is often something I want for a single query I'm running so I've done this in a `with` statement here"
   ]
  },
  {
   "cell_type": "code",
   "execution_count": null,
   "id": "52c24e36-a13b-4a23-8fde-b8d4542c74e5",
   "metadata": {},
   "outputs": [],
   "source": [
    "with pl.Config(set_verbose=1):\n",
    "    df.sort(\"PassengerId\").group_by(\"PassengerId\").mean()"
   ]
  },
  {
   "cell_type": "markdown",
   "id": "3a6451e2-2207-45d5-bbb5-7a833b6e33e4",
   "metadata": {},
   "source": [
    "Note that the content of verbose mode is made to help Polars developers do debugging so may not be informative for newcomers to the library! In this case we see the output \"group_by keys are sorted; running sorted key fast path\". As we see later in the course this means Polars is using a fast-track algorithm to group by this sorted column."
   ]
  },
  {
   "cell_type": "markdown",
   "id": "e9fb69c3-7811-4463-8e89-31fa34ffb44d",
   "metadata": {},
   "source": [
    "## Saving and loading configuration\n",
    "If we want to save a set of configuration options we use `pl.Config.save_to_file` to write these to a JSON file"
   ]
  },
  {
   "cell_type": "code",
   "execution_count": null,
   "id": "a1f6c0ba-5ee7-439f-8f0e-edfa16d66835",
   "metadata": {},
   "outputs": [],
   "source": [
    "pl.Config.save_to_file(\"config.json\")"
   ]
  },
  {
   "cell_type": "markdown",
   "id": "baf10238-f1f4-4c6a-8990-9362be44bcea",
   "metadata": {},
   "source": [
    "And we can load these back in a future session with `pl.Config.load_to_file`"
   ]
  },
  {
   "cell_type": "code",
   "execution_count": null,
   "id": "7206493f-7d5c-46dc-9147-91154c7626a4",
   "metadata": {},
   "outputs": [],
   "source": [
    "pl.Config.load_from_file(\"config.json\")"
   ]
  },
  {
   "cell_type": "markdown",
   "id": "447038ca-3826-4921-be09-1dd05c945039",
   "metadata": {},
   "source": [
    "If we want to see the current set of options we can do this with `state`"
   ]
  },
  {
   "cell_type": "code",
   "execution_count": null,
   "id": "105471b8-72e0-4f42-8b4b-74e05da06189",
   "metadata": {},
   "outputs": [],
   "source": [
    "pl.Config.state()"
   ]
  },
  {
   "cell_type": "markdown",
   "id": "7abacfe4-5c88-4b8f-8851-69cd826b068e",
   "metadata": {},
   "source": [
    "Note that all of these config functions set environment variables under-the-hood. The names of the environment variables are set in the output of `state` above. \n",
    "\n",
    "We could alternatively set these as environment variables directly"
   ]
  },
  {
   "cell_type": "code",
   "execution_count": null,
   "id": "767ba017-f7c3-40af-9228-b30030b48a38",
   "metadata": {},
   "outputs": [],
   "source": [
    "import os\n",
    "os.environ[\"POLARS_FMT_MAX_COLS\"] = \"6\"\n",
    "df"
   ]
  },
  {
   "cell_type": "markdown",
   "id": "fad632d9-9490-431d-b636-e4d34c50605f",
   "metadata": {},
   "source": [
    "We can restore default config settings with `restore_defaults`"
   ]
  },
  {
   "cell_type": "code",
   "execution_count": null,
   "id": "3220b5e6-6cd0-4e66-b52b-80b26ae709b7",
   "metadata": {},
   "outputs": [],
   "source": [
    "pl.Config.restore_defaults()"
   ]
  },
  {
   "cell_type": "markdown",
   "id": "0e61223b-8d77-45d7-8198-61307b6dbe10",
   "metadata": {},
   "source": [
    "*No exercises for this lecture*"
   ]
  },
  {
   "cell_type": "code",
   "execution_count": null,
   "id": "402afb45-2cab-4c68-b9fd-f953f046db70",
   "metadata": {},
   "outputs": [],
   "source": []
  }
 ],
 "metadata": {
  "kernelspec": {
   "display_name": "Python 3 (ipykernel)",
   "language": "python",
   "name": "python3"
  },
  "language_info": {
   "codemirror_mode": {
    "name": "ipython",
    "version": 3
   },
   "file_extension": ".py",
   "mimetype": "text/x-python",
   "name": "python",
   "nbconvert_exporter": "python",
   "pygments_lexer": "ipython3",
   "version": "3.10.1"
  }
 },
 "nbformat": 4,
 "nbformat_minor": 5
}
