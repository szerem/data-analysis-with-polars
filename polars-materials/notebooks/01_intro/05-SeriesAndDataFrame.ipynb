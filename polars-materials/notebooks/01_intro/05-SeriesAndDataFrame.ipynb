{
    "cells": [
        {
            "cell_type": "markdown",
            "id": "5bac7fa1-eed0-4cd2-be59-36aade27dc6f",
            "metadata": {},
            "source": [
                "## `Series` and `DataFrame`\n",
                "By the end of this lecture you will be able to:\n",
                "- convert between a `Series` and a `DataFrame` column\n",
                "- convert back and forward from python `lists`, `dicts` to `Series` and `DataFrames`\n"
            ]
        },
        {
            "cell_type": "code",
            "execution_count": null,
            "id": "38b44ad0-a5f4-426e-8c2d-e6ee6d0174c7",
            "metadata": {
                "tags": []
            },
            "outputs": [],
            "source": [
                "import polars as pl"
            ]
        },
        {
            "cell_type": "code",
            "execution_count": null,
            "id": "82757e51-df36-4fd8-ab62-ead5896221d3",
            "metadata": {
                "tags": []
            },
            "outputs": [],
            "source": [
                "csv_file = \"../data/titanic.csv\""
            ]
        },
        {
            "cell_type": "code",
            "execution_count": null,
            "id": "9678a1c2-f64e-42d7-aeb3-5df27e2a0560",
            "metadata": {
                "tags": []
            },
            "outputs": [],
            "source": [
                "df = pl.read_csv(csv_file)\n",
                "df.head(3)"
            ]
        },
        {
            "cell_type": "markdown",
            "id": "fc38e9d3-4b0b-4094-8e8e-8e0a37742996",
            "metadata": {},
            "source": [
                "## Converting between a `Series` and a `DataFrame` column\n",
                "\n",
                "We can create a `Series` from a `DataFrame` column with square brackets"
            ]
        },
        {
            "cell_type": "code",
            "execution_count": null,
            "id": "ccfc0df5-6823-4258-9921-a0f1ca9eae3a",
            "metadata": {
                "tags": []
            },
            "outputs": [],
            "source": [
                "(\n",
                "    df[\"Age\"]\n",
                "    .head(3)\n",
                ")"
            ]
        },
        {
            "cell_type": "markdown",
            "id": "493380a4-5218-469b-8eca-46f555f6a754",
            "metadata": {},
            "source": [
                "Note that a `Series` has a name (`Age`) and a dtype (floating 64-bit)\n",
                "\n",
                "We can also create a `Series` from a one-column `DataFrame` using `to_series` (we learn more about the `select` method in the next section of the course)"
            ]
        },
        {
            "cell_type": "code",
            "execution_count": null,
            "id": "32d5459a-522a-4b10-83e1-6173456d4feb",
            "metadata": {},
            "outputs": [],
            "source": [
                "(\n",
                "    df\n",
                "    .select(\"Age\")\n",
                "    .to_series()\n",
                "    .head(3)\n",
                ")"
            ]
        },
        {
            "cell_type": "markdown",
            "id": "41ab3008-487b-4495-b7e6-e22ae449ff3a",
            "metadata": {},
            "source": [
                "We can convert a `Series` into a one-column `DataFrame` using `to_frame`"
            ]
        },
        {
            "cell_type": "code",
            "execution_count": null,
            "id": "cd920bc2-32be-4db2-aa0c-6a8d3d69bab6",
            "metadata": {},
            "outputs": [],
            "source": [
                "s = df[\"Name\"]\n",
                "(\n",
                "    s\n",
                "    .to_frame()\n",
                "    .head(3)\n",
                ")"
            ]
        },
        {
            "cell_type": "markdown",
            "id": "ba6a1848-ed90-4998-9562-b96726f27a91",
            "metadata": {},
            "source": [
                "## Create a `Series` or `DataFrame` from a `list` or `dict`\n",
                "We can create a `Series` from a python `list`"
            ]
        },
        {
            "cell_type": "code",
            "execution_count": null,
            "id": "121588a3-3023-4915-b7cf-fe3ed196bb2f",
            "metadata": {
                "tags": []
            },
            "outputs": [],
            "source": [
                "values = [1,2,3]\n",
                "pl.Series(values)"
            ]
        },
        {
            "cell_type": "markdown",
            "id": "ab1d1e20-e67c-49ca-b54f-ed54797c2deb",
            "metadata": {},
            "source": [
                "If the `name` argument is not set then it defaults to an empty string. The name can be passed as the **first** argument"
            ]
        },
        {
            "cell_type": "code",
            "execution_count": null,
            "id": "0fb459b5-185c-4f52-9ecf-87eecac2dfb2",
            "metadata": {
                "tags": []
            },
            "outputs": [],
            "source": [
                "pl.Series('vals',values)"
            ]
        },
        {
            "cell_type": "markdown",
            "id": "e375a936-7d24-41fd-9f95-88e3bf404370",
            "metadata": {},
            "source": [
                "We can also convert a `Series` to a `list` with `to_list` "
            ]
        },
        {
            "cell_type": "code",
            "execution_count": null,
            "id": "d4618bea-7275-464e-a46a-69ebd0611ba6",
            "metadata": {},
            "outputs": [],
            "source": [
                "pl.Series(name='vals',values=values).to_list()"
            ]
        },
        {
            "cell_type": "markdown",
            "id": "8bd3fe79-2418-4fd3-8efa-a2ca7963aeca",
            "metadata": {},
            "source": [
                "> In the section Selecting Columns and Transforming DataFrames we see how to add a column to a `DataFrame` from a list.\n",
                "\n",
                "We can create a `DataFrame` with:\n",
                "- a `list` of `lists` where each `list` is a column and\n",
                "- a list of string column names"
            ]
        },
        {
            "cell_type": "code",
            "execution_count": null,
            "id": "4232e003-4d95-49ee-ad79-aa49a8333ad6",
            "metadata": {
                "tags": []
            },
            "outputs": [],
            "source": [
                "data = [\n",
                "    [1,2,3],\n",
                "    [4,5,6]\n",
                "]\n",
                "(\n",
                "    pl.DataFrame(\n",
                "        data,\n",
                "        schema=[\"col0\",\"col1\"]\n",
                "    )\n",
                ")"
            ]
        },
        {
            "cell_type": "markdown",
            "id": "bad11700-0ff4-4e35-801f-4ac979425a14",
            "metadata": {},
            "source": [
                "We can also create a `DataFrame` from a `dict`"
            ]
        },
        {
            "cell_type": "code",
            "execution_count": null,
            "id": "0115006c-084c-4f7f-929e-b9e24ca8cb08",
            "metadata": {
                "tags": []
            },
            "outputs": [],
            "source": [
                "data_dict = {\"col0\":[1,2,3],\"col1\":[4,5,6]}\n",
                "(\n",
                "    pl.DataFrame(\n",
                "        data_dict,\n",
                "    )\n",
                ")"
            ]
        },
        {
            "cell_type": "markdown",
            "id": "a4f9d9ff-2b1d-4db2-b0e6-b509b04b4249",
            "metadata": {},
            "source": [
                "We can specify dtypes by passing a `dict` to the `schema` argument. In this example we specify a 32-bit integer type for the `col1` column"
            ]
        },
        {
            "cell_type": "code",
            "execution_count": null,
            "id": "89336b9c-f979-46e0-8c30-4494da2bcbb6",
            "metadata": {},
            "outputs": [],
            "source": [
                "data_dict = {\"col0\":[1,2,3],\"col1\":[4,5,6]}\n",
                "(\n",
                "    pl.DataFrame(\n",
                "        data_dict,\n",
                "        schema={\n",
                "            \"col0\":pl.Int64,\n",
                "            \"col1\":pl.Int32\n",
                "        }\n",
                "    )\n",
                ")"
            ]
        },
        {
            "cell_type": "markdown",
            "id": "16402536-d78b-4cac-8e97-39f5b1956ee2",
            "metadata": {},
            "source": [
                "Finally we can get a `DataFrame` as a `list` of `dicts` with `to_dicts`"
            ]
        },
        {
            "cell_type": "code",
            "execution_count": null,
            "id": "d3b9e803-f691-4625-b88d-3acfaaab5ad4",
            "metadata": {},
            "outputs": [],
            "source": [
                "df = (\n",
                "    pl.DataFrame(\n",
                "        data_dict,\n",
                "    )\n",
                ")\n",
                "df.to_dicts()"
            ]
        },
        {
            "cell_type": "markdown",
            "id": "01cd0613-b9f5-4dcb-bbd6-38ed87b1318b",
            "metadata": {},
            "source": [
                "The output from `to_dicts` is useful for testing. In the automated tests for the Polars repo on GitHub (and the automated tests for this course material) the output of queries is often tested using `to_dicts` like this "
            ]
        },
        {
            "cell_type": "code",
            "execution_count": null,
            "id": "c58e7888-07ff-4e86-b2ee-7b2a0ece6928",
            "metadata": {},
            "outputs": [],
            "source": [
                "assert df.to_dicts() == [{'col0': 1, 'col1': 4}, {'col0': 2, 'col1': 5}, {'col0': 3, 'col1': 6}]"
            ]
        },
        {
            "cell_type": "markdown",
            "id": "5a90721e-a8d4-4669-b558-26e32d2d9cf9",
            "metadata": {},
            "source": [
                "In  the exercises we see how to create a `DataFrame` from a `dict`."
            ]
        },
        {
            "cell_type": "markdown",
            "id": "ff306a34-b0bd-4499-89eb-a27d4728e9d6",
            "metadata": {},
            "source": [
                "## Exercises\n",
                "In the exercises you will develop your understanding of:\n",
                "- extracting a `Series` from a `DataFrame`\n",
                "- getting metadata from a `Series`\n",
                "- creating a `Series` from a `list`\n",
                "- creating a `DataFrames` from `lists`\n",
                "\n",
                "### Exercise 1\n",
                "Extract the `Age` column as a `Series` and then find:\n",
                "- the `dtype` of the `Series`\n",
                "- the median of the `Series`"
            ]
        },
        {
            "cell_type": "code",
            "execution_count": null,
            "id": "c3687a49-5511-4bdc-a20b-83a8e30afc44",
            "metadata": {},
            "outputs": [],
            "source": [
                "df = pl.read_csv(csv_file)\n",
                "s = <blank>"
            ]
        },
        {
            "cell_type": "code",
            "execution_count": null,
            "id": "85e2633e-dcf4-4627-8b71-6b33baa07aaa",
            "metadata": {},
            "outputs": [],
            "source": [
                "df = pl.read_csv(csv_file)\n",
                "s = <blank>"
            ]
        },
        {
            "cell_type": "markdown",
            "id": "49ce9afd-eb0b-466f-a519-d387b4315a72",
            "metadata": {},
            "source": [
                "### Exercise 2\n",
                "You have the following Python `lists` with data.  "
            ]
        },
        {
            "cell_type": "code",
            "execution_count": null,
            "id": "010d1e16-0cd3-4bb7-b036-f2b956ca0298",
            "metadata": {},
            "outputs": [],
            "source": [
                "groups = [\"a\",\"a\",\"b\",\"b\",\"c\"]\n",
                "values = [0,1,2,3,4]"
            ]
        },
        {
            "cell_type": "markdown",
            "id": "2693cc3f-d445-408b-a3b9-6a80f6a1361b",
            "metadata": {},
            "source": [
                "Create a `Series` called `groupsSeries` from the `groups` list. The name inside the `Series` should be `groups`"
            ]
        },
        {
            "cell_type": "code",
            "execution_count": null,
            "id": "b3db5f48-5e26-42b0-9796-6832dce94717",
            "metadata": {},
            "outputs": [],
            "source": []
        },
        {
            "cell_type": "markdown",
            "id": "0638ce9f-d575-4e94-b3f3-842f7ea63583",
            "metadata": {},
            "source": [
                "Create a `DataFrame` by passing these as a Python `dict` to `pl.DataFrame`"
            ]
        },
        {
            "cell_type": "code",
            "execution_count": null,
            "id": "b622fd45-1871-4a4d-b23c-4df8dcf0a30e",
            "metadata": {},
            "outputs": [],
            "source": []
        },
        {
            "cell_type": "markdown",
            "id": "f41e0e97-7fe8-4264-b873-c022872625d5",
            "metadata": {},
            "source": [
                "## Solutions\n",
                "\n",
                "### Solution to exercise 1\n",
                "Extract the `Age` column as a `Series` and find:\n",
                "- the `dtype` of the `Series`\n",
                "- the median of the `Series`"
            ]
        },
        {
            "cell_type": "code",
            "execution_count": null,
            "id": "d365de99-d54d-4ec4-9cfa-9ab6723139fd",
            "metadata": {
                "jupyter": {
                    "source_hidden": true
                },
                "tags": []
            },
            "outputs": [],
            "source": [
                "df = pl.read_csv(csv_file)\n",
                "s = df[\"Age\"]\n",
                "s.dtype"
            ]
        },
        {
            "cell_type": "code",
            "execution_count": null,
            "id": "a644b9e4-1cdb-4774-b3b5-59d6f9464786",
            "metadata": {
                "jupyter": {
                    "source_hidden": true
                },
                "tags": []
            },
            "outputs": [],
            "source": [
                "df = pl.read_csv(csv_file)\n",
                "s = df[\"Age\"]\n",
                "s.median()"
            ]
        },
        {
            "cell_type": "markdown",
            "id": "21a98098-1e23-4bfb-b1e4-cab2b65b43c5",
            "metadata": {},
            "source": [
                "### Solution to exercise 2\n",
                "You have the following Python `lists` with data.  "
            ]
        },
        {
            "cell_type": "code",
            "execution_count": null,
            "id": "ea333f06-ff67-47ff-a0a9-1d1d8754fac7",
            "metadata": {
                "tags": []
            },
            "outputs": [],
            "source": [
                "groups = [\"a\",\"a\",\"b\",\"b\",\"c\"]\n",
                "values = [0,1,2,3,4]"
            ]
        },
        {
            "cell_type": "markdown",
            "id": "12bf52c5-8225-42bc-a6d8-a5207fa92049",
            "metadata": {},
            "source": [
                "Create a `Series` called `groupsSeries` from the `groups` list. The name inside the `Series` should be `groups`"
            ]
        },
        {
            "cell_type": "code",
            "execution_count": null,
            "id": "69329a8f-ca31-43fc-9b59-a652e4bd4fde",
            "metadata": {
                "jupyter": {
                    "source_hidden": true
                },
                "tags": []
            },
            "outputs": [],
            "source": [
                "groupsSeries = pl.Series(\"groups\",groups)"
            ]
        },
        {
            "cell_type": "markdown",
            "id": "bfb15a0e-d339-4441-82d0-d5ed2324921f",
            "metadata": {},
            "source": [
                "Create a `DataFrame` by passing these as a Python `dict` to `pl.DataFrame`"
            ]
        },
        {
            "cell_type": "code",
            "execution_count": null,
            "id": "7be86390-6277-48ce-925d-f60227704732",
            "metadata": {
                "jupyter": {
                    "source_hidden": true
                },
                "tags": []
            },
            "outputs": [],
            "source": [
                "pl.DataFrame(\n",
                "    {\n",
                "        \"groups\":groups,\n",
                "        \"vals\":values\n",
                "    }\n",
                ")"
            ]
        }
    ],
    "metadata": {
        "kernelspec": {
            "display_name": "Python 3 (ipykernel)",
            "language": "python",
            "name": "python3"
        },
        "language_info": {
            "codemirror_mode": {
                "name": "ipython",
                "version": 3
            },
            "file_extension": ".py",
            "mimetype": "text/x-python",
            "name": "python",
            "nbconvert_exporter": "python",
            "pygments_lexer": "ipython3",
            "version": "3.10.1"
        }
    },
    "nbformat": 4,
    "nbformat_minor": 5
}