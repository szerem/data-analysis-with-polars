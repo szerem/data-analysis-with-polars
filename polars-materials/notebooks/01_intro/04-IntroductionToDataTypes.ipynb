{
 "cells": [
  {
   "cell_type": "markdown",
   "id": "d910ee57-0819-40f3-b345-0deece619afa",
   "metadata": {},
   "source": [
    "## What is a Polars `DataFrame`?\n",
    "In this lecture we have a high-level look at a Polars `DataFrame` and learn:\n",
    "- how to access important metadata\n",
    "- how Polars stores data with Apache Arrow\n",
    "- what happens when we modify a `DataFrame`"
   ]
  },
  {
   "cell_type": "code",
   "execution_count": null,
   "id": "a350b0f1-ff14-4097-94a2-a4f937b89fcd",
   "metadata": {
    "tags": []
   },
   "outputs": [],
   "source": [
    "import polars as pl\n",
    "import numpy as np"
   ]
  },
  {
   "cell_type": "code",
   "execution_count": null,
   "id": "ee7a4ca2-4a74-41c0-8640-501a2f16a6e6",
   "metadata": {
    "tags": []
   },
   "outputs": [],
   "source": [
    "csv_file = \"../data/titanic.csv\""
   ]
  },
  {
   "cell_type": "code",
   "execution_count": null,
   "id": "a1c1b14e-6642-43ec-8185-2e0924d8ca85",
   "metadata": {
    "tags": []
   },
   "outputs": [],
   "source": [
    "df = pl.read_csv(csv_file)\n",
    "df.head(3)"
   ]
  },
  {
   "cell_type": "markdown",
   "id": "65dfc421-2bde-42d7-b3d2-64ec4a20a291",
   "metadata": {},
   "source": [
    "A Polars `DataFrame`:\n",
    "- is a tabular dataset stored in an Arrow Table (see below)\n",
    "- has a height and a width\n",
    "- has unique string column names\n",
    "- has a data type for each column\n",
    "- has methods for transforming the data stored in the Arrow Table"
   ]
  },
  {
   "cell_type": "markdown",
   "id": "4151d339-2df2-4669-8522-99339d06ce56",
   "metadata": {},
   "source": [
    "We can get the height (number of rows) and width (number of columns) as attributes"
   ]
  },
  {
   "cell_type": "code",
   "execution_count": null,
   "id": "ea66a40c-1a5d-4ec9-b60b-9c076c932102",
   "metadata": {},
   "outputs": [],
   "source": [
    "df.width"
   ]
  },
  {
   "cell_type": "code",
   "execution_count": null,
   "id": "f89fd9b5-a49f-49e4-9cec-20cce7f1f96c",
   "metadata": {},
   "outputs": [],
   "source": [
    "df.height"
   ]
  },
  {
   "cell_type": "markdown",
   "id": "731ff417-4da4-4121-bc46-a80835f423bc",
   "metadata": {},
   "source": [
    "## Data type schema\n",
    "\n",
    "Every column in a `DataFrame` has a data type called a `dtype`.\n",
    "\n",
    "We can get an `OrderedDict` that maps column names to dtypes with the `.schema` attribute"
   ]
  },
  {
   "cell_type": "code",
   "execution_count": null,
   "id": "330d8400-a4cb-4020-85d4-9ed663e99d66",
   "metadata": {
    "tags": []
   },
   "outputs": [],
   "source": [
    "df.schema"
   ]
  },
  {
   "cell_type": "markdown",
   "id": "b7c9d084-18b7-4604-8628-35a73fa57a18",
   "metadata": {},
   "source": [
    "There is also a `dtypes` attribute (as in Pandas). However, this gives a `list` of dtypes with no column names"
   ]
  },
  {
   "cell_type": "code",
   "execution_count": null,
   "id": "d723eaef-e948-410d-b108-c3ae9acc9ea9",
   "metadata": {
    "tags": []
   },
   "outputs": [],
   "source": [
    "df.dtypes"
   ]
  },
  {
   "cell_type": "markdown",
   "id": "10dd4917-18e1-472f-a943-9ca369047d32",
   "metadata": {},
   "source": [
    "A `Series` also has a data type attribute"
   ]
  },
  {
   "cell_type": "code",
   "execution_count": null,
   "id": "350e16ff-e27b-485f-a978-641dbb846f96",
   "metadata": {
    "tags": []
   },
   "outputs": [],
   "source": [
    "df['Name'].dtype"
   ]
  },
  {
   "cell_type": "markdown",
   "id": "c0988c35-d159-45de-9d83-984bf8ab0733",
   "metadata": {},
   "source": [
    "### Supertypes\n",
    "We can group the dtypes into groups:\n",
    "- integers e.g. pl.Int8,pl.Int16 etc\n",
    "- floats pl.Float32,pl.Float64\n",
    "- string pl.Utf8\n",
    "- boolean pl.Boolean\n",
    "- datetime pl.Datetime,pl.Date etc\n",
    "\n",
    "Polars also has a concept of supertypes. Supertypes occur where we are trying to do an operation involving columns that have different types. If the dtypes of these columns have a supertype all columns are cast to that type to do the operation. \n",
    "\n",
    "Supertypes are defined on a given pair of dtypes rather than being universal. Here are some simple examples:\n",
    "- pl.Int8 & pl.Int16 -> pl.Int16\n",
    "- pl.Float32 & pl.Float64 -> pl.Float64\n",
    "\n",
    "There are also rules in place for other combinations e.g.:\n",
    "- pl.Int64 & pl.Boolean -> pl.Boolean\n",
    "- pl.Int32 & pl.Float32 -> pl.Float64 (following a convention set by Numpy)\n",
    "- any dtype & pl.Utf8 -> pl.Utf8 (any column can be cast to string)"
   ]
  },
  {
   "cell_type": "markdown",
   "id": "ba54ff62-ebcf-4773-aaab-7899378b63cf",
   "metadata": {},
   "source": [
    "## Apache Arrow\n",
    "\n",
    "A classic Pandas `DataFrame` stores its data in Numpy arrays. In Polars the data is stored in an Arrow Table. \n",
    "\n",
    "We can see this Arrow Table by calling `to_arrow` - this is a cheap operation as it is just viewing the underlying data"
   ]
  },
  {
   "cell_type": "code",
   "execution_count": null,
   "id": "1512cf66-861b-49cc-b5b2-e14876b3a2ad",
   "metadata": {},
   "outputs": [],
   "source": [
    "df.to_arrow()"
   ]
  },
  {
   "cell_type": "markdown",
   "id": "ceb223ed-509e-4723-9158-8f40ca9975c3",
   "metadata": {},
   "source": [
    "An Arrow Table is a collection of Arrow Arrays - these are one-dimensional vectors that are the fundamental data store. We can see the Arrow Array for a column by calling `to_arrow` on a `Series`"
   ]
  },
  {
   "cell_type": "code",
   "execution_count": null,
   "id": "1a39e53b-e698-4408-b003-b8670e0494df",
   "metadata": {},
   "outputs": [],
   "source": [
    "df[\"Age\"].to_arrow()"
   ]
  },
  {
   "cell_type": "markdown",
   "id": "4287c0c3-be08-498b-bb77-41752a9bae18",
   "metadata": {},
   "source": [
    "### What is Apache Arrow?\n",
    "Apache Arrow is an open source cross-language project to store tabular data in-memory. Apache Arrow is both:\n",
    "- a specificiation for how data should be represented in memory\n",
    "- a set of libraries in different languages that implement that specification\n",
    "\n",
    "Polars uses the implementation of the Arrow specification from the Rust library [Arrow2](https://docs.rs/arrow2/latest/arrow2/)\n",
    "\n",
    "### Why does `Polars` use `Apache Arrow`?\n",
    "The Apache Arrow project developed when it became clear that Numpy arrays - designed for scientific computing - are not the optimal data store for tabular data.\n",
    "\n",
    "Arrow allows for:\n",
    "- sharing data without copying (known as \"zero-copy\")\n",
    "- faster vectorised calculations\n",
    "- working with larger-than-memory data in chunks\n",
    "- consistent representation of missing data\n",
    "\n",
    "Overall, Polars can process data more quickly and with less memory usage because of Arrow.\n",
    "\n",
    "### What are the downsides of `Apache Arrow`?\n",
    "The design of Arrow is optimised for operations on one-dimensional columns, whreas the design of Numpy is optimised for operations on multi-dimensional arrays. This tradeoff means some kinds of operations will be slower with Arrow data compared to Numpy:\n",
    "- transposing a dataframe\n",
    "- doing matrix multiplication/linear algebra on a `dataframe`\n",
    "\n",
    "For this kind of use case - where calculations require accessing data by row and column - it may be faster to convert to a Numpy array (see the lecture on conversion in this Section).\n",
    "\n",
    "### So what is the relationship between a Polars `DataFrame` and Arrow data?\n",
    "A Polars `DataFrame` holds references to an Arrow Table which holds references to Arrow Arrays. We can think of a Polars `DataFrame` being a lightweight object that points to the lightweight Arrow Table which points to the heavyweight Arrow Arrays (heavyweight because they hold the actual data). \n",
    "\n",
    "This detached structure means we can make changes to the cheap `DataFrame` wrapper and copy none (or a minimal amount) of the data in the Arrow Arrays. We see examples of this below."
   ]
  },
  {
   "cell_type": "code",
   "execution_count": null,
   "id": "9f804845-2505-4213-b41b-d31f970ab262",
   "metadata": {},
   "outputs": [],
   "source": [
    "df_shape = (1_000_000,100)\n",
    "df_polars = pl.DataFrame(\n",
    "    np.random.standard_normal(df_shape)\n",
    ")\n",
    "df_polars.shape"
   ]
  },
  {
   "cell_type": "markdown",
   "id": "329da875-91a8-41ca-a444-0579739e41a2",
   "metadata": {},
   "source": [
    "### Dropping a column\n",
    "We see how long it takes to drop a column from a Polars `DataFrame`. We use the IPython `timeit` module to compare performance (we learn more about `timeit` later in the course)"
   ]
  },
  {
   "cell_type": "code",
   "execution_count": null,
   "id": "b039c1f3-98e0-4721-9556-0a6a5c1248c5",
   "metadata": {},
   "outputs": [],
   "source": [
    "%%timeit -n1 -r3\n",
    "df_polars.drop(\"column_0\")"
   ]
  },
  {
   "cell_type": "markdown",
   "id": "6dc1b9f5-2f12-4869-a476-e418fcf65e89",
   "metadata": {},
   "source": [
    "Polars does this very fast (and much faster than classic Pandas). This is because Polars just creates a new `DataFrame` object (a cheap operation) that points to all the Arrow Arrays except `column_0`. Polars basically just loops through the list of column names for this operation!\n",
    "\n",
    "### Renaming a column\n",
    "We have a similar effect whenever we change some part of a `DataFrame` that does not affect the actual data in the columns. For example, if we rename a column..."
   ]
  },
  {
   "cell_type": "code",
   "execution_count": null,
   "id": "77a4fc38-3a4d-4fe0-854d-98bb8474c7ad",
   "metadata": {},
   "outputs": [],
   "source": [
    "%%timeit -n1 -r3\n",
    "df_polars.rename({\"column_0\":\"a\"})"
   ]
  },
  {
   "cell_type": "markdown",
   "id": "4dcb10f0-9b99-4ada-9339-6d143b0a79aa",
   "metadata": {},
   "source": [
    "Polars again does this very fast because it just updates the column name and checks the column names are still unique.\n",
    "\n",
    "### Cloning a `DataFrame`\n",
    "Or if we create a new `DataFrame` by cloning"
   ]
  },
  {
   "cell_type": "code",
   "execution_count": null,
   "id": "89c5b73f-9e65-4d5b-98ea-3af13778f781",
   "metadata": {},
   "outputs": [],
   "source": [
    "%%timeit -n1 -r3\n",
    "df_polars.clone()"
   ]
  },
  {
   "cell_type": "markdown",
   "id": "12c09d0d-dbc1-4f47-8d73-32f648e7bd79",
   "metadata": {},
   "source": [
    "In this case Polars has created a new `DataFrame` object that points at the same Arrow Table.\n",
    "### Updating a cloned `DataFrame`\n",
    "\n",
    "Although the new and old `DataFrames` initially point at the same Arrow Table we do not need to worry about changes to one affecting the other.\n",
    "\n",
    "If we make changes to a value in one of the `DataFrames` - say the new `DataFrame` - then the new `DataFrame` will:\n",
    "- copy the data in **the column that has changed** to a new Arrow Array\n",
    "- create a new Arrow Table that points to the updated Arrow Array along with the unchanged Arrow Arrays\n",
    "\n",
    "So now we have:\n",
    "- two `DataFrames` that point to:\n",
    "- two Arrow Tables that point to:\n",
    "- the same Array Arrays for the unchanged columns and different Arrow Arrays for the changed column\n",
    "\n",
    "In this way we create a new `DataFrame` but **only ever have to copy data in columns that change**. We see how changes to the new `DataFrame` do not affect the old `DataFrame` in this example where we change the first value in the first row"
   ]
  },
  {
   "cell_type": "code",
   "execution_count": null,
   "id": "978ed8f1-f0df-4f73-b404-663d52296066",
   "metadata": {},
   "outputs": [],
   "source": [
    "df_polars2 = df_polars.clone()\n",
    "df_polars2[0,0] = 1000\n",
    "df_polars2[0,0]"
   ]
  },
  {
   "cell_type": "markdown",
   "id": "81803749-c609-4d2e-aaa9-547da34aa04d",
   "metadata": {},
   "source": [
    "In the original `DataFrame` we still have the original value"
   ]
  },
  {
   "cell_type": "code",
   "execution_count": null,
   "id": "475a6ef9-6b94-4289-af6d-cd7930b48c58",
   "metadata": {},
   "outputs": [],
   "source": [
    "df_polars[0,0]"
   ]
  },
  {
   "cell_type": "markdown",
   "id": "79e3ba51-b738-4c99-9186-39b5104e9f30",
   "metadata": {
    "collapsed": true,
    "jupyter": {
     "outputs_hidden": true
    },
    "tags": []
   },
   "source": [
    "## Exercises\n",
    "In the exercises you will develop your understanding of:\n",
    "- getting the dtypes of a `DataFrame`\n",
    "- getting the dtypes of a `Series`\n",
    "\n",
    "### Exercise 1 \n",
    "\n",
    "What are the dtypes of this `DataFrame`?"
   ]
  },
  {
   "cell_type": "code",
   "execution_count": null,
   "id": "62401a6d-8351-4c4e-930b-84502c7945f8",
   "metadata": {
    "tags": []
   },
   "outputs": [],
   "source": [
    "df = pl.DataFrame({'a':[0,1,2],'b':[0,1,2.0]})\n",
    "df<blank>"
   ]
  },
  {
   "cell_type": "markdown",
   "id": "13f5e0c9-3f43-46c1-b987-d6c564db754b",
   "metadata": {},
   "source": [
    "### Exercise 2\n",
    "Create a `Series` by selecting the `a` column of `df`"
   ]
  },
  {
   "cell_type": "code",
   "execution_count": null,
   "id": "31132b0e-dd18-4b3d-9ef3-96765cf36720",
   "metadata": {
    "tags": []
   },
   "outputs": [],
   "source": [
    "df = pl.DataFrame({'a':[0,1,2],'b':[0,1,2.0]})\n",
    "# df<blank>"
   ]
  },
  {
   "cell_type": "markdown",
   "id": "86b23da0-1b97-4505-bffe-ddffa73c3843",
   "metadata": {},
   "source": [
    "What is the dtype of `a`?\n",
    "What is the dtype of `b`?"
   ]
  },
  {
   "cell_type": "markdown",
   "id": "eeb8821a-8e1a-4686-aed1-229329c515f7",
   "metadata": {},
   "source": [
    "## Solutions\n",
    "\n",
    "### Solution to Exercise 1\n",
    "What are the dtypes of this `DataFrame`?"
   ]
  },
  {
   "cell_type": "code",
   "execution_count": null,
   "id": "b53002fb-546b-407c-9551-fe7c73a5cdf3",
   "metadata": {
    "jupyter": {
     "source_hidden": true
    },
    "tags": []
   },
   "outputs": [],
   "source": [
    "df = pl.DataFrame({'a':[0,1,2],'b':[0,1,2.0]})\n",
    "df.schema"
   ]
  },
  {
   "cell_type": "markdown",
   "id": "7839739f-9354-4d77-b0ea-bb8a1540a5ff",
   "metadata": {},
   "source": [
    "### Solution to Exercise 2\n",
    "Create a `Series` by selecting the `a` column of `df`"
   ]
  },
  {
   "cell_type": "code",
   "execution_count": null,
   "id": "d0f790ea-4ab7-43db-a587-a653620fc91e",
   "metadata": {
    "jupyter": {
     "source_hidden": true
    },
    "tags": []
   },
   "outputs": [],
   "source": [
    "df = pl.DataFrame({'a':[0,1,2],'b':[0,1,2.0]})\n",
    "s = df[\"a\"]"
   ]
  },
  {
   "cell_type": "code",
   "execution_count": null,
   "id": "8c1d6d1a-d560-4edc-b6b1-74e95c817a20",
   "metadata": {
    "jupyter": {
     "source_hidden": true
    },
    "tags": []
   },
   "outputs": [],
   "source": [
    "s"
   ]
  },
  {
   "cell_type": "markdown",
   "id": "d72df459-0b61-43dd-8a11-529d37c85fe1",
   "metadata": {},
   "source": [
    "`s` has 64-bit integer dtype "
   ]
  },
  {
   "cell_type": "code",
   "execution_count": null,
   "id": "bdbc0f0f-b867-4d00-aef2-43ada786c5e1",
   "metadata": {
    "jupyter": {
     "source_hidden": true
    },
    "tags": []
   },
   "outputs": [],
   "source": [
    "s2 = df[\"b\"]\n",
    "s2"
   ]
  },
  {
   "cell_type": "markdown",
   "id": "52eeaa66-b731-4db5-963b-a1b8ba01eedd",
   "metadata": {},
   "source": [
    "`s2` has 64-bit floating point dtype "
   ]
  }
 ],
 "metadata": {
  "kernelspec": {
   "display_name": "Python 3 (ipykernel)",
   "language": "python",
   "name": "python3"
  },
  "language_info": {
   "codemirror_mode": {
    "name": "ipython",
    "version": 3
   },
   "file_extension": ".py",
   "mimetype": "text/x-python",
   "name": "python",
   "nbconvert_exporter": "python",
   "pygments_lexer": "ipython3",
   "version": "3.10.1"
  }
 },
 "nbformat": 4,
 "nbformat_minor": 5
}
