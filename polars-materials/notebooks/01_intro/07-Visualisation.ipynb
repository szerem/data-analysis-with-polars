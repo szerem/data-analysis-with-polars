{
 "cells": [
  {
   "cell_type": "markdown",
   "id": "8f1a348d-60e8-43b3-9618-bac97c4c3e03",
   "metadata": {},
   "source": [
    "# Visualisation\n",
    "By the end of this lecture on you will be able to:\n",
    "- create charts from Polars with the internal `plot` method\n",
    "- create charts from Polars with external plotting libraries\n",
    "- understand how these libraries support Polars\n",
    "\n",
    "We import Vegafusion along with Altair below. Vegafusion is not necessary but reduces the burden on your browser for visualising larger datasets. See my blog post here for more on this: https://www.rhosignal.com/posts/polars-and-altair/\n",
    "\n",
    "Up-to-date versions of the visualisation libraries are typically required for maximum compatibility"
   ]
  },
  {
   "cell_type": "code",
   "execution_count": null,
   "id": "31958b81-dcc3-4cf9-9e77-f89bdee12927",
   "metadata": {},
   "outputs": [],
   "source": [
    "import polars as pl\n",
    "\n",
    "import hvplot as hv\n",
    "import matplotlib.pyplot as plt\n",
    "import seaborn as sns\n",
    "import plotly.express as px\n",
    "import altair as alt\n",
    "import vegafusion as vf\n",
    "\n",
    "# Enable vegafusion for Altair\n",
    "vf.enable()"
   ]
  },
  {
   "cell_type": "code",
   "execution_count": null,
   "id": "3db18c26-04ac-4123-ae5f-182167f4cad6",
   "metadata": {},
   "outputs": [],
   "source": [
    "csv_file = '../data/titanic.csv'"
   ]
  },
  {
   "cell_type": "code",
   "execution_count": null,
   "id": "fd891629-7372-4c59-8a7c-aabd338baf8f",
   "metadata": {},
   "outputs": [],
   "source": [
    "df = pl.read_csv(csv_file)\n",
    "df.head(3)"
   ]
  },
  {
   "cell_type": "markdown",
   "id": "71879cce-06d5-4891-a2e5-77e1736caa3e",
   "metadata": {},
   "source": [
    "We first look at whether we can pass a Polars `DataFrame` directly to each plotting library by creating a simple bar chart. Below we consider some other points to be aware of for working with each library from Polars."
   ]
  },
  {
   "cell_type": "markdown",
   "id": "5ee7b9a8-adc1-4558-989d-5e24599195fd",
   "metadata": {},
   "source": [
    "## Bar chart\n",
    "\n",
    "We begin by getting a count of the number of passengers in each passenger class. See the section of the course on Statistics and Aggregation for more on the methods used here."
   ]
  },
  {
   "cell_type": "code",
   "execution_count": null,
   "id": "f9214d46-7fe1-4ec8-b6f6-b5cc9dea261a",
   "metadata": {},
   "outputs": [],
   "source": [
    "passenger_class_counts_df = (\n",
    "    df['Pclass']\n",
    "    .value_counts()\n",
    "    .sort(\"Pclass\")\n",
    ")\n",
    "passenger_class_counts_df"
   ]
  },
  {
   "cell_type": "markdown",
   "id": "77ff9ac5-fe48-48e9-bba5-5c60bf7a88da",
   "metadata": {},
   "source": [
    "## Built-in plotting with hvPlot\n",
    "A `DataFrame` has a built-in `.plot` method that passes the `DataFrame` to the hvPlot library"
   ]
  },
  {
   "cell_type": "code",
   "execution_count": null,
   "id": "5c692b54-e38f-43e8-b0fa-97d46e8344a8",
   "metadata": {},
   "outputs": [],
   "source": [
    "passenger_class_counts_df.plot.bar(\n",
    "    x=\"Pclass\",\n",
    "    y=\"count\"\n",
    ")"
   ]
  },
  {
   "cell_type": "markdown",
   "id": "5ab29cb7-1452-4321-a86c-ee7224ac8991",
   "metadata": {},
   "source": [
    "hvPlot is a wrapper for an underlying plotting library. By default it uses the Bokeh library which produces interactive charts that include controls on the right to:\n",
    "- add tooltips describing the data when we hover over them\n",
    "- ability to pan and zoom\n",
    "- a reset button to restore to the original view\n",
    "\n",
    "In this example we do a scatter plot of Age vs Fare with colour by Pclass and control the width of the plot"
   ]
  },
  {
   "cell_type": "code",
   "execution_count": null,
   "id": "ba735714-da60-4e96-92da-67349f8d93c3",
   "metadata": {},
   "outputs": [],
   "source": [
    "(\n",
    "    df\n",
    "    .plot.scatter(\n",
    "    x=\"Age\",\n",
    "    y=\"Fare\",\n",
    "    color=\"Pclass\",    \n",
    "    width=500\n",
    "    )\n",
    ")"
   ]
  },
  {
   "cell_type": "markdown",
   "id": "98406272-cc6f-41ff-9a4c-febf4c662146",
   "metadata": {},
   "source": [
    "However, the colour map used for `Pclass` is not very useful as it treats the `Pclass` integers as continuous numerical values rather than discrete categorical values (this is a common occurrence across different plotting libraries).\n",
    "\n",
    "We get a better colormap by casting `Pclass` to string before plotting"
   ]
  },
  {
   "cell_type": "code",
   "execution_count": null,
   "id": "9658e951-83c3-4d56-b4e4-70286d5454aa",
   "metadata": {},
   "outputs": [],
   "source": [
    "(\n",
    "    df\n",
    "    .with_columns(\n",
    "        pl.col(\"Pclass\").cast(pl.Utf8)\n",
    "    ).plot.scatter(\n",
    "    x=\"Age\",\n",
    "    y=\"Fare\",\n",
    "    color=\"Pclass\",    \n",
    "    )\n",
    ")"
   ]
  },
  {
   "cell_type": "markdown",
   "id": "f918610a-a962-4fa7-8c4e-5b41c771211f",
   "metadata": {},
   "source": [
    "We can control the colormap used explicitly with the `cmap` argument. The colormaps available are set out here:https://holoviews.org/user_guide/Colormaps.html\n",
    "\n",
    "Note that the colormap you choose has to match with the hvPlot plotting backend you are using (Bokeh by default)."
   ]
  },
  {
   "cell_type": "markdown",
   "id": "ec0ac280-d94a-4fc0-862a-1b90877ba4f9",
   "metadata": {},
   "source": [
    "### Setting the plotting backend\n",
    "We can change the plotting backend with `hv.extension`. We don't run this cell here, however, as it leads to the Matplotlib/Seaborn plots below not rendering"
   ]
  },
  {
   "cell_type": "code",
   "execution_count": null,
   "id": "45300257-bfa2-4b7c-80d1-4fa56ff939c9",
   "metadata": {},
   "outputs": [],
   "source": [
    "# hv.extension('matplotlib')"
   ]
  },
  {
   "cell_type": "markdown",
   "id": "25eecf73-e658-4fb3-86a5-fd9ca8efe21c",
   "metadata": {},
   "source": [
    "The available backends are:\n",
    "- Bokeh\n",
    "- Plotly\n",
    "- Matplotlib\n",
    "\n",
    "### Available plot types\n",
    "The plot types available from `.plot` will evolve over time. We can see the list available at present by printing the methods using Python's `dir` function on `df.plot`"
   ]
  },
  {
   "cell_type": "code",
   "execution_count": null,
   "id": "1f513bab-a410-480e-8cfa-afffa849c74f",
   "metadata": {},
   "outputs": [],
   "source": [
    "[el for el in dir(df.plot) if not el.startswith(\"_\") ]"
   ]
  },
  {
   "cell_type": "markdown",
   "id": "ad578181-9f4f-4e34-a962-5cf52c0e7dd0",
   "metadata": {},
   "source": [
    "We demonstrate some more of these below\n",
    "### Line plot\n",
    "We create a simple time-series `DataFrame` to make a line plot"
   ]
  },
  {
   "cell_type": "code",
   "execution_count": null,
   "id": "88dc09a9-d83f-433b-924f-79de35806895",
   "metadata": {},
   "outputs": [],
   "source": [
    "(\n",
    "    pl.DataFrame(\n",
    "        {\n",
    "            \"time\":[0,1,2,3,4],\n",
    "            \"value\":[0,1,2,3,4]\n",
    "        }\n",
    "    )\n",
    "    .plot\n",
    "    .line(\n",
    "        x=\"time\",\n",
    "        y=\"value\"\n",
    "    )\n",
    ")"
   ]
  },
  {
   "cell_type": "markdown",
   "id": "cfbbec9e-0062-496d-95e7-72f18277f75d",
   "metadata": {},
   "source": [
    "### Histogram\n",
    "We can make a histogram either from an expression"
   ]
  },
  {
   "cell_type": "code",
   "execution_count": null,
   "id": "3b374c0e-6bd4-4a80-8876-e3d20ab94026",
   "metadata": {},
   "outputs": [],
   "source": [
    "df.select(\"Fare\").plot.hist()"
   ]
  },
  {
   "cell_type": "markdown",
   "id": "2ac5d37b-0649-412d-bd7c-5674226f34b1",
   "metadata": {},
   "source": [
    "or from a `Series`. In this example we set the number of bins"
   ]
  },
  {
   "cell_type": "code",
   "execution_count": null,
   "id": "bf337ecc-08a5-40f0-adef-51651b24d672",
   "metadata": {},
   "outputs": [],
   "source": [
    "df[\"Fare\"].plot.hist(bins=20)"
   ]
  },
  {
   "cell_type": "markdown",
   "id": "fb8bdcf7-4739-4768-99ca-a3a45ce0c004",
   "metadata": {},
   "source": [
    "## Plotting directly with external libraries\n",
    "We can also pass a Polars `DataFrame` directly to external libraries.\n",
    "### Matplotlib\n",
    "We can pass the columns of the `passenger_class_counts_df` directly to Matplotlib\n",
    "\n",
    "> I sometimes encounter problems with this chart and the Seaborn chart below not rendering. If you encounter this please let me know"
   ]
  },
  {
   "cell_type": "code",
   "execution_count": null,
   "id": "59824c93-47f5-473e-a0df-4c186d067179",
   "metadata": {},
   "outputs": [],
   "source": [
    "plt.bar(\n",
    "    x=passenger_class_counts_df[\"Pclass\"],\n",
    "    height=passenger_class_counts_df[\"count\"]\n",
    ")"
   ]
  },
  {
   "cell_type": "markdown",
   "id": "68c766ec-03e0-46b7-b1e7-a08957b3aa94",
   "metadata": {},
   "source": [
    "Note that the `Pclass` column is an integer column in Polars but the x-axis in the chart is a float axis. To make this appear as an categorical integer axis we cast the integers to strings"
   ]
  },
  {
   "cell_type": "code",
   "execution_count": null,
   "id": "f1aad60c-b89a-409c-94db-48464a91eeef",
   "metadata": {},
   "outputs": [],
   "source": [
    "passenger_class_counts_string_column_df = (\n",
    "    passenger_class_counts_df\n",
    "    .with_columns(\n",
    "        pl.col(\"Pclass\").cast(pl.Utf8)\n",
    "    )\n",
    ")\n",
    "plt.bar(\n",
    "    x=passenger_class_counts_string_column_df[\"Pclass\"],\n",
    "    height=passenger_class_counts_string_column_df[\"count\"]\n",
    ")"
   ]
  },
  {
   "cell_type": "markdown",
   "id": "ccf45e92-a796-477e-a7d7-7881aabb96d2",
   "metadata": {},
   "source": [
    "Matplotlib does not have explicit support for Polars. However, Matplotlib can accept a Polars `Series` as it just needs sequence-type objects that it can iterate through using standard python methods (that a `Series` supports)."
   ]
  },
  {
   "cell_type": "markdown",
   "id": "51489430-36c9-4a0b-b509-8204680afffb",
   "metadata": {},
   "source": [
    "### Seaborn\n",
    "We can pass a Polars `DataFrame` to Seaborn for many charts. Note that Seaborn then typically copies the data to Pandas internally as it makes extensive use of Pandas-specific features such as the index. With a large `DataFrame` you may want to only pass the columns needed for the plot to avoid the whole `DataFrame` being copied!"
   ]
  },
  {
   "cell_type": "code",
   "execution_count": null,
   "id": "8cf39291-5e83-4efe-8782-615c86516cc6",
   "metadata": {},
   "outputs": [],
   "source": [
    "sns.barplot(\n",
    "    passenger_class_counts_df,\n",
    "    x=\"Pclass\",\n",
    "    y=\"count\"\n",
    ")"
   ]
  },
  {
   "cell_type": "markdown",
   "id": "2d9b1a1f-4b44-4f89-9dc8-2ed1f1571fb0",
   "metadata": {},
   "source": [
    "Some more complicated Seaborn charts also accept a Polars `DataFrame` directly such as `sns.scatterplot` or `sns.jointplot`. In this example we do a joint plot of (log) Age and (log) Fare coloured by passenger class"
   ]
  },
  {
   "cell_type": "code",
   "execution_count": null,
   "id": "9d8ea79e-3f57-4172-99ea-23bc43c4a8ca",
   "metadata": {},
   "outputs": [],
   "source": [
    "sns.jointplot(\n",
    "    data=(\n",
    "        df\n",
    "        .with_columns(\n",
    "            [\n",
    "                pl.col(pl.Float64).log(),\n",
    "                pl.col(\"Pclass\").cast(pl.Utf8)\n",
    "            ]\n",
    "        )\n",
    "    ),\n",
    "    x=\"Age\", \n",
    "    y=\"Fare\", \n",
    "    hue=\"Pclass\",\n",
    ")"
   ]
  },
  {
   "cell_type": "markdown",
   "id": "c16af9d5-c3a4-426e-9513-37bc97206dc6",
   "metadata": {},
   "source": [
    "### Plotly\n",
    "We can pass a `DataFrame` directly to Plotly - note that we again use the `DataFrame` with a string column for correct output (ignore any Pandas warnings from the Plotly internals)"
   ]
  },
  {
   "cell_type": "code",
   "execution_count": null,
   "id": "9d19eedb-8b62-4f8a-9535-500158cce2a1",
   "metadata": {},
   "outputs": [],
   "source": [
    "px.bar(\n",
    "    passenger_class_counts_string_column_df,\n",
    "    x=\"Pclass\",\n",
    "    y=\"count\",\n",
    "    color=\"Pclass\",\n",
    "    width=400\n",
    ")"
   ]
  },
  {
   "cell_type": "markdown",
   "id": "a11e040a-195e-4d60-82bf-c64008ecc236",
   "metadata": {},
   "source": [
    "### The Dataframe Interchange Protocol\n",
    "Seabornm Plotly and Altair below support Polars via the **Dataframe Interchange Protocol** ([read more here](https://data-apis.org/dataframe-protocol/latest/index.html)). This protocol is a way for 3rd-party packages (e.g. visualisation libraries) to work with different dataframe libraries without explicitly supporting the libraries.\n",
    "\n",
    "What the use of the interchange protocol means in practice is that we can use Polars `DataFrames` directly with Plotly for many charts. However, as Polars does not have native support from Plotly there are no guarantees all plots will work with a Polars `DataFrame`. You may need to convert to Pandas in some cases.\n",
    "\n",
    "If you are curious about how the interchange protocol works this is a simplified version:\n",
    "- Plotly checks the type of the data object passed to it and finds that it is not a Pandas `DataFrame`\n",
    "- Plotly then checks to see if the object passed to it has a `__dataframe__` namespace\n",
    "- if Plotly finds the object has a `__dataframe__` namespace it uses the generic commands in that namespace to do what it needs (e.g. extract a named column from the `DataFrame`, check the dtype of the column and iterate through the column)\n",
    "\n",
    "You can see the methods in the `__dataframe__` namespace on a Polars `DataFrame` here: "
   ]
  },
  {
   "cell_type": "code",
   "execution_count": null,
   "id": "0010b11d-11d2-4430-b427-6d001e39c3da",
   "metadata": {},
   "outputs": [],
   "source": [
    "[el for el in dir(df.__dataframe__()) if not el.startswith(\"__\")]"
   ]
  },
  {
   "cell_type": "markdown",
   "id": "8dbc8c22-db67-4697-a7fd-7e9619327d08",
   "metadata": {},
   "source": [
    "These methods are wrappers for the standard Polars methods we learn on this course. The dataframe interchange is a rapidly developing project in its own right and so expect functionality to grow."
   ]
  },
  {
   "cell_type": "markdown",
   "id": "6a7eb19f-9b05-4dde-9db9-401dd0e74952",
   "metadata": {},
   "source": [
    "### Altair\n",
    "We can pass a `DataFrame` directly to Altair"
   ]
  },
  {
   "cell_type": "code",
   "execution_count": null,
   "id": "9f5e8174-f3e4-420d-8fbc-73edff1ee6b2",
   "metadata": {},
   "outputs": [],
   "source": [
    "alt.Chart(\n",
    "    passenger_class_counts_df,\n",
    "    width=600\n",
    ").mark_bar().encode(\n",
    "    x=\"Pclass:N\",\n",
    "    y=\"count:Q\",\n",
    "    color=\"Pclass:N\",\n",
    ")"
   ]
  },
  {
   "cell_type": "markdown",
   "id": "5575d4c8-2a46-481d-8556-ab9e8b624777",
   "metadata": {},
   "source": [
    "As with Plotly, Altair supports Polars via the Dataframe Interchange Protocol. The same caveats apply as for Plotly."
   ]
  },
  {
   "cell_type": "markdown",
   "id": "b7ad093c-013a-49e0-9816-aef868a6c621",
   "metadata": {},
   "source": [
    "## Exercises\n",
    "In the exercises you will develop your understanding of:\n",
    "- creating charts from Polars\n",
    "\n",
    "### Exercise 1\n",
    "We first create a `DataFrame` of bike sales and replace spaces in the string column names with `_` (see the lecture on Transforming DataFrames in the section of selecting and transforming data for more on `pipe`)"
   ]
  },
  {
   "cell_type": "code",
   "execution_count": null,
   "id": "c5528c56-a86d-4545-a41f-e454bddd4fbe",
   "metadata": {},
   "outputs": [],
   "source": [
    "df_bike = (\n",
    "    pl.read_parquet(\"../data/bike_sales.parquet\")\n",
    "    .pipe(lambda df: df.rename({col:col.replace(\" \",\"_\") for col in df.columns}))\n",
    ")\n",
    "df_bike.head(2)"
   ]
  },
  {
   "cell_type": "markdown",
   "id": "5da32bfa-4544-460c-baf2-3904c7fc4787",
   "metadata": {},
   "source": [
    "We need to do a `group_by` first to get the data"
   ]
  },
  {
   "cell_type": "code",
   "execution_count": null,
   "id": "ca7d105e-4660-4e94-af86-1ce568aa7a02",
   "metadata": {},
   "outputs": [],
   "source": [
    "customer_count_df = (\n",
    "    df_bike\n",
    "    .group_by(\"customer_age\")\n",
    "    .len()\n",
    "    .sort(\"customer_age\")\n",
    ")"
   ]
  },
  {
   "cell_type": "markdown",
   "id": "20592423-4074-435c-ae0e-531e5fe459cd",
   "metadata": {},
   "source": [
    "Using the built-in plot method and your preferred visualisation library make a bar chart of the `customer_age` column showing the number of bikes sold by customer_age"
   ]
  },
  {
   "cell_type": "markdown",
   "id": "a8c25cc0-44dc-4420-a9d5-aa4b45abcb31",
   "metadata": {},
   "source": [
    "<blank>"
   ]
  },
  {
   "cell_type": "markdown",
   "id": "032f090a-b27d-4bbd-b7bd-ecfb04114b1f",
   "metadata": {},
   "source": [
    "## Solutions"
   ]
  },
  {
   "cell_type": "markdown",
   "id": "53427085-6b63-4472-b5b1-67f678928d29",
   "metadata": {},
   "source": [
    "### hvPlot"
   ]
  },
  {
   "cell_type": "code",
   "execution_count": null,
   "id": "7d6e93b8-4c08-4ddb-a8bc-7a84fa62e32b",
   "metadata": {
    "jupyter": {
     "source_hidden": true
    }
   },
   "outputs": [],
   "source": [
    "(\n",
    "    customer_count_df\n",
    "    .plot\n",
    "    .bar(\n",
    "    x=\"customer_age\",\n",
    "    y=\"len\",\n",
    "    width=1000\n",
    "    )\n",
    ")"
   ]
  },
  {
   "cell_type": "markdown",
   "id": "d12efaa2-9e84-46af-a8b7-14f6edd1f6b7",
   "metadata": {},
   "source": [
    "### Matplotlib"
   ]
  },
  {
   "cell_type": "code",
   "execution_count": null,
   "id": "36415352-68fe-4a4d-9101-a70fee2d1e55",
   "metadata": {
    "jupyter": {
     "source_hidden": true
    }
   },
   "outputs": [],
   "source": [
    "plt.bar(\n",
    "    x=customer_count_df[\"customer_age\"],\n",
    "    height=customer_count_df[\"len\"],\n",
    ")"
   ]
  },
  {
   "cell_type": "markdown",
   "id": "00ca69fb-eb4c-4258-997d-e2bbec452dc4",
   "metadata": {},
   "source": [
    "### Seaborn"
   ]
  },
  {
   "cell_type": "code",
   "execution_count": null,
   "id": "46c3e0e0-8c87-451e-bf6a-7a858d778c85",
   "metadata": {
    "jupyter": {
     "source_hidden": true
    }
   },
   "outputs": [],
   "source": [
    "sns.barplot(\n",
    "    customer_count_df.to_pandas(use_pyarrow_extension_array=True),\n",
    "    x=\"customer_age\",\n",
    "    y=\"len\"\n",
    ")"
   ]
  },
  {
   "cell_type": "markdown",
   "id": "dd7641bc-48c1-4908-bd98-7bf823899e78",
   "metadata": {},
   "source": [
    "### Plotly"
   ]
  },
  {
   "cell_type": "code",
   "execution_count": null,
   "id": "8e817a9d-a858-4192-9e15-74af1a1a38fa",
   "metadata": {
    "jupyter": {
     "source_hidden": true
    }
   },
   "outputs": [],
   "source": [
    "px.bar(\n",
    "    customer_count_df.with_columns(pl.col(\"customer_age\").cast(pl.Utf8)),\n",
    "    x=\"customer_age\",\n",
    "    y=\"len\",\n",
    ")"
   ]
  },
  {
   "cell_type": "markdown",
   "id": "281a3625-6746-4412-9f84-cf1ffe983b81",
   "metadata": {},
   "source": [
    "### Altair"
   ]
  },
  {
   "cell_type": "code",
   "execution_count": null,
   "id": "896c6e04-91df-4e7f-b75f-abb4e70860cb",
   "metadata": {
    "jupyter": {
     "source_hidden": true
    }
   },
   "outputs": [],
   "source": [
    "(\n",
    "    alt.Chart(\n",
    "    customer_count_df,\n",
    "        width=600\n",
    "    )\n",
    "    .mark_bar()\n",
    "    .encode(\n",
    "        x=\"customer_age:N\",\n",
    "        y=\"len:Q\"\n",
    "    )\n",
    ")"
   ]
  }
 ],
 "metadata": {
  "kernelspec": {
   "display_name": "Python 3 (ipykernel)",
   "language": "python",
   "name": "python3"
  },
  "language_info": {
   "codemirror_mode": {
    "name": "ipython",
    "version": 3
   },
   "file_extension": ".py",
   "mimetype": "text/x-python",
   "name": "python",
   "nbconvert_exporter": "python",
   "pygments_lexer": "ipython3",
   "version": "3.10.1"
  }
 },
 "nbformat": 4,
 "nbformat_minor": 5
}
