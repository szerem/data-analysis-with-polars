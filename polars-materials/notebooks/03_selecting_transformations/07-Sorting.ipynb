{
 "cells": [
  {
   "cell_type": "markdown",
   "id": "63d0d72d-f59c-4197-8e44-05cbe61a8d65",
   "metadata": {},
   "source": [
    "# Sorting and fast-track alogorithms\n",
    "By the end of this lecture you will be able to:\n",
    "- sort a `DataFrame`\n",
    "- sort a column with an expression \n",
    "- take advantage of fast-track algorithms with `set_sorted`\n",
    "\n",
    "In this lecture we learn how to sort both on a `DataFrame` and within an expression. We also introduce the fast-track algorithms on sorted data. The fast-track algorithims are optimisations separate from those of the built-in query optimiser. We see how to take advantage of them here."
   ]
  },
  {
   "cell_type": "code",
   "execution_count": null,
   "id": "80c3f69f-5f69-4164-b799-807eb155f1e4",
   "metadata": {
    "tags": []
   },
   "outputs": [],
   "source": [
    "import polars as pl"
   ]
  },
  {
   "cell_type": "markdown",
   "id": "33e76722-4f18-47f4-ae2a-593220e74878",
   "metadata": {},
   "source": [
    "Check out my short youtube video on this topic below"
   ]
  },
  {
   "cell_type": "code",
   "execution_count": null,
   "id": "abc762f9-a349-4449-a142-4f30e7b3c116",
   "metadata": {},
   "outputs": [],
   "source": [
    "%%html\n",
    "<iframe width=\"560\" height=\"315\" src=\"https://www.youtube.com/embed/oRv1ANrW020?si=LbV4gQpaX--d2106\" title=\"YouTube video player\" frameborder=\"0\" allow=\"accelerometer; autoplay; clipboard-write; encrypted-media; gyroscope; picture-in-picture; web-share\" allowfullscreen></iframe>"
   ]
  },
  {
   "cell_type": "code",
   "execution_count": null,
   "id": "d4c4bc4d-45dc-49a5-a5fa-89741257a246",
   "metadata": {
    "tags": []
   },
   "outputs": [],
   "source": [
    "csv_file = \"../data/titanic.csv\""
   ]
  },
  {
   "cell_type": "code",
   "execution_count": null,
   "id": "4a4be14f-3e2d-4a7f-b8f2-5d02368828bf",
   "metadata": {
    "tags": []
   },
   "outputs": [],
   "source": [
    "df = pl.read_csv(csv_file)\n",
    "df.head(3)"
   ]
  },
  {
   "cell_type": "markdown",
   "id": "d81cfbd2-c2fc-4416-8037-88ebdf21cd05",
   "metadata": {},
   "source": [
    "We use `pl.Config` to adjust the default so that only 4 rows of a `DataFrame` are printed in this notebook"
   ]
  },
  {
   "cell_type": "code",
   "execution_count": null,
   "id": "7ebbd0a6-22b2-4d46-bbbf-2be0b6db0419",
   "metadata": {
    "tags": []
   },
   "outputs": [],
   "source": [
    "pl.Config.set_tbl_rows(4)"
   ]
  },
  {
   "cell_type": "markdown",
   "id": "63930f0c-f173-4fdc-9523-f16776dbce1d",
   "metadata": {},
   "source": [
    "## Sorting a `DataFrame`\n",
    "\n",
    "### Using the `sort` method on `DataFrame`\n",
    "\n",
    "We can sort a `DataFrame` on a column with the `sort` method"
   ]
  },
  {
   "cell_type": "code",
   "execution_count": null,
   "id": "64980609-2c8d-4740-94c7-c21b0f3aca4a",
   "metadata": {
    "tags": []
   },
   "outputs": [],
   "source": [
    "df.sort(\"Age\")"
   ]
  },
  {
   "cell_type": "markdown",
   "id": "a5e13fc0-8c56-4ce4-87ce-5761c2fa82d7",
   "metadata": {},
   "source": [
    "By default `null` values are at the start of the sort. We can move the `nulls` to the end of the sort by setting the `nulls_last` argument to `True`"
   ]
  },
  {
   "cell_type": "code",
   "execution_count": null,
   "id": "7f3643ea-b9ca-4903-b63c-0f141138c205",
   "metadata": {},
   "outputs": [],
   "source": [
    "df.sort(\"Age\",nulls_last=True)"
   ]
  },
  {
   "cell_type": "markdown",
   "id": "0b6eb77d-17ad-4e44-baf7-0300d0ce7cba",
   "metadata": {},
   "source": [
    "We can sort in reverse order with the `descending` argument - note that the `nulls_last` argument is set to the default of `True` so the `null` rows are first"
   ]
  },
  {
   "cell_type": "code",
   "execution_count": null,
   "id": "9dabda67-7555-4d3a-bf92-5121bc0db1d1",
   "metadata": {},
   "outputs": [],
   "source": [
    "df.sort(\"Age\",descending=True)"
   ]
  },
  {
   "cell_type": "markdown",
   "id": "b8303e4c-c1bf-47e1-8e7c-9b1c10e55a5a",
   "metadata": {},
   "source": [
    "We get the largest values first by setting `nulls_last=True`"
   ]
  },
  {
   "cell_type": "code",
   "execution_count": null,
   "id": "a51de409-2e84-4ae5-8704-14ce941317bd",
   "metadata": {},
   "outputs": [],
   "source": [
    "df.sort(\"Age\",descending=True,nulls_last=True)"
   ]
  },
  {
   "cell_type": "markdown",
   "id": "bf6fed9f-9638-4633-922e-d6931c8893f7",
   "metadata": {},
   "source": [
    "## Sort on multiple columns\n",
    "We can sort based on multiple columns with either a list..."
   ]
  },
  {
   "cell_type": "code",
   "execution_count": null,
   "id": "23083dba-75d3-41a4-89f1-f6b7cca7ed0e",
   "metadata": {
    "tags": []
   },
   "outputs": [],
   "source": [
    "df.sort([\"Pclass\",\"Age\"])"
   ]
  },
  {
   "cell_type": "markdown",
   "id": "f3b891ab-27fb-4699-895a-0e5eeb71e146",
   "metadata": {},
   "source": [
    "...or with comma-separated strings"
   ]
  },
  {
   "cell_type": "code",
   "execution_count": null,
   "id": "b8710a6b-5052-4dd5-94af-68b877694526",
   "metadata": {},
   "outputs": [],
   "source": [
    "df.sort(\"Pclass\",\"Age\")"
   ]
  },
  {
   "cell_type": "markdown",
   "id": "5d423775-7750-4336-92b2-aa58b1955f98",
   "metadata": {},
   "source": [
    "## Sorting a column with an expression\n",
    "\n",
    "We can transform a column into sorted order within an expression."
   ]
  },
  {
   "cell_type": "markdown",
   "id": "782f841c-b495-44df-823a-327293adf465",
   "metadata": {},
   "source": [
    "In this example we sort the values in every column independent of other columns"
   ]
  },
  {
   "cell_type": "code",
   "execution_count": null,
   "id": "e70d3d3c-4b82-4c97-b603-75397bce0128",
   "metadata": {
    "tags": []
   },
   "outputs": [],
   "source": [
    "(\n",
    "    df\n",
    "    .select(\n",
    "        pl.all().sort()\n",
    "    )\n",
    ")"
   ]
  },
  {
   "cell_type": "markdown",
   "id": "c3230e29-b339-4658-bc1f-9350b90181a5",
   "metadata": {},
   "source": [
    "Within an expression we can also sort all columns with respect to another column using `sort_by`"
   ]
  },
  {
   "cell_type": "code",
   "execution_count": null,
   "id": "51da7ab1-cbad-4a8a-83e1-09820e356b91",
   "metadata": {},
   "outputs": [],
   "source": [
    "(\n",
    "    df\n",
    "    .select(\n",
    "        pl.all().sort_by(\"Age\")\n",
    "    )\n",
    ")"
   ]
  },
  {
   "cell_type": "markdown",
   "id": "f182fec3-c46d-40f2-ab5a-cd60b23e17a2",
   "metadata": {},
   "source": [
    "It seems like `sort_by` in this case has just replicated the functionality of \n",
    "```python\n",
    "df.sort(\"Age\")\n",
    "```\n",
    "However, as we can use `sort_by` in an expression it can be used in other contexts such as in a `groupby` aggregation.  For example, if we wanted to get the name and age of the oldest passenger in each class we can do the following"
   ]
  },
  {
   "cell_type": "code",
   "execution_count": null,
   "id": "8d7f2519-52dd-4670-a80f-6cd9c273faee",
   "metadata": {},
   "outputs": [],
   "source": [
    "pl.Config.set_fmt_str_lengths(100)\n",
    "(\n",
    "    df\n",
    "    .group_by(\"Pclass\")\n",
    "    .agg(\n",
    "        pl.col(\"Name\").sort_by(\"Age\").last(),\n",
    "        pl.col(\"Age\").sort_by(\"Age\").last()\n",
    "        \n",
    "    )\n",
    ")"
   ]
  },
  {
   "cell_type": "markdown",
   "id": "b34bb961-51af-4103-9654-18fef73b90b2",
   "metadata": {},
   "source": [
    "### Filtering for the largest/smallest values\n",
    "If we just want to find the largest or smallest values we could do `sort` followed by `head` or `tail`. For example here we find the oldest passengers"
   ]
  },
  {
   "cell_type": "code",
   "execution_count": null,
   "id": "58ad11ca-99eb-45da-818d-5f427d57340e",
   "metadata": {},
   "outputs": [],
   "source": [
    "(\n",
    "    df\n",
    "    .sort(\"Age\")\n",
    "    .tail(3)\n",
    ")"
   ]
  },
  {
   "cell_type": "markdown",
   "id": "88a34245-b04d-4da5-a106-c6db647aa236",
   "metadata": {},
   "source": [
    "A faster approach is to use `top_k` which does not sort the full `DataFrame` but instead just searches through the rows to filter for the largest/smallest values and then sorts this small subset of rows"
   ]
  },
  {
   "cell_type": "code",
   "execution_count": null,
   "id": "470b7154-0ae7-4e7a-9a4c-604f0b5f84d9",
   "metadata": {},
   "outputs": [],
   "source": [
    "(\n",
    "    df\n",
    "    .top_k(\n",
    "        # Number of records to return\n",
    "        k=5,\n",
    "        # Column/expression to sort by\n",
    "        by=\"Age\",\n",
    "        # Return the largest records\n",
    "        descending=False,\n",
    "        # Ensure the nulls are at the end\n",
    "        nulls_last=True\n",
    "    )\n",
    ")"
   ]
  },
  {
   "cell_type": "markdown",
   "id": "e4cfc3a0-31cf-4f67-aab2-50a8c08df8ce",
   "metadata": {},
   "source": [
    "Some good news: if you do .`sort.head/tail` in lazy mode Polars applies a `top_k` optimization under the hood"
   ]
  },
  {
   "cell_type": "code",
   "execution_count": null,
   "id": "9b12779f-5643-486c-8be9-4bf6396c3d7c",
   "metadata": {},
   "outputs": [],
   "source": [
    "(\n",
    "    df\n",
    "    .lazy()\n",
    "    .sort(\"Age\")\n",
    "    .tail(3)\n",
    "    .collect()\n",
    ")"
   ]
  },
  {
   "cell_type": "markdown",
   "id": "7b4d6ff9-6b06-40c7-9eee-c71c7b29f1d6",
   "metadata": {},
   "source": [
    "## Taking advantage of sorted data\n",
    "\n",
    "For some operations Polars can use a fast track algorithm if it knows the data in a column is sorted.\n",
    "\n",
    "For example, if we want the `max` value on a sorted column a fast-track algorithm would just take the last (non-`null`) value.\n",
    "\n",
    "See my blog post for more background on this: https://www.rhosignal.com/posts/polars-loves-sorted-data-1-statistics/\n",
    "\n",
    "### Checking the sorted status\n",
    "You can check if Polars **thinks** a column is sorted with the `flags` attribute on a column or a `Series`"
   ]
  },
  {
   "cell_type": "code",
   "execution_count": null,
   "id": "4340f5f2-2fa8-470c-9247-677111e00111",
   "metadata": {
    "tags": []
   },
   "outputs": [],
   "source": [
    "df[\"PassengerId\"].flags"
   ]
  },
  {
   "cell_type": "markdown",
   "id": "6734a1f9-c8cd-48ac-b79f-4dbc9af15749",
   "metadata": {},
   "source": [
    "In this case as both the ASC and DESC values are `False` Polars doesn't think the `PassengerID` column is sorted (although we know that is sorted)."
   ]
  },
  {
   "cell_type": "markdown",
   "id": "7c142664-f0f8-4f91-843c-ce5865425c52",
   "metadata": {},
   "source": [
    "You can check the status of all columns at once with the `flags` attribute on a `DataFrame`"
   ]
  },
  {
   "cell_type": "code",
   "execution_count": null,
   "id": "05e8ba5a-9968-428d-a89a-ee802c6164c7",
   "metadata": {},
   "outputs": [],
   "source": [
    "df.flags"
   ]
  },
  {
   "cell_type": "markdown",
   "id": "76510111-813a-40cd-a76a-0f1bdef9ed36",
   "metadata": {},
   "source": [
    "We can check if a column is actually sorted with the `is_sorted` method:"
   ]
  },
  {
   "cell_type": "code",
   "execution_count": null,
   "id": "84db168a-bd7d-4b5b-acb4-f65d124315aa",
   "metadata": {},
   "outputs": [],
   "source": [
    "df[\"PassengerId\"].is_sorted()"
   ]
  },
  {
   "cell_type": "markdown",
   "id": "91aebfac-dc69-474d-bd37-735f19ff3bf8",
   "metadata": {},
   "source": [
    "### Setting the sorted status\n",
    "If we know that a column is sorted then we can let Polars know using `set_sorted`"
   ]
  },
  {
   "cell_type": "code",
   "execution_count": null,
   "id": "4aec3b92-3f85-4728-a1d0-5c5da6bceb60",
   "metadata": {
    "tags": []
   },
   "outputs": [],
   "source": [
    "df = (\n",
    "    pl.read_csv(csv_file)\n",
    "    .with_columns(\n",
    "        pl.col(\"PassengerId\").set_sorted()\n",
    "    )\n",
    ")\n",
    "df[\"PassengerId\"].flags"
   ]
  },
  {
   "cell_type": "markdown",
   "id": "22f10bbc-84d9-41e4-a731-2bd74400f7c6",
   "metadata": {},
   "source": [
    "Looking at the output of `flags` we now see `'SORTED_ASC': True`\n",
    "\n",
    "In the exercises we see the major effect `set_sorted` can have on performance.\n",
    "\n",
    "If we transform a column with a sorting operation Polars will automatically update the `flags` attribute for that column"
   ]
  },
  {
   "cell_type": "code",
   "execution_count": null,
   "id": "1db9ec2e-f306-4f54-aa8b-518657da75df",
   "metadata": {
    "tags": []
   },
   "outputs": [],
   "source": [
    "df = (\n",
    "    pl.read_csv(csv_file)\n",
    "    .sort(\"PassengerId\")\n",
    ")\n",
    "df[\"PassengerId\"].flags"
   ]
  },
  {
   "cell_type": "markdown",
   "id": "06fc5d0a-c7cb-43dd-9827-f5c1d5f17b25",
   "metadata": {},
   "source": [
    "If the data is sorted descending we tell Polars this by passing the `descending` argument:\n",
    "```python\n",
    "pl.col(\"PassengerId\").set_sorted(descending=True)\n",
    "```\n",
    "\n",
    "### `set_sorted` in an expression\n",
    "We can use `set_sorted` within an expression. \n",
    "\n",
    "For example, if we have a sorted column we can use `set_sorted` to find the `max`"
   ]
  },
  {
   "cell_type": "code",
   "execution_count": null,
   "id": "4898de85-a208-4f47-a787-dadc14276a31",
   "metadata": {
    "tags": []
   },
   "outputs": [],
   "source": [
    "(\n",
    "    df\n",
    "    .select(\n",
    "        pl.col(\"PassengerId\").set_sorted().max()\n",
    "    )\n",
    ")"
   ]
  },
  {
   "cell_type": "markdown",
   "id": "38b7bcac-3178-4c8b-a85e-e61836952fc8",
   "metadata": {},
   "source": [
    "### Operations with fast-track algorithms\n",
    "The set of operations that have sorted fast-track algorithms is evolving but includes:\n",
    "- min\n",
    "- max\n",
    "- quantile\n",
    "- median (a special case of quantile)\n",
    "- filter\n",
    "- group_by (see the groupby lectures)\n",
    "- join (see the join lectures)"
   ]
  },
  {
   "cell_type": "markdown",
   "id": "608926c6-3527-40ab-9aab-07a78885ab92",
   "metadata": {},
   "source": [
    "## Exercises\n",
    "In the exercises you will develop your understanding of:\n",
    "- sorting a `DataFrame`\n",
    "- sorting in an expression\n",
    "- using fast-track algorithms with `set_sorted`\n",
    "\n",
    "## Exercise 1: Sorting a `DataFrame`\n",
    "Sort the `DataFrame` by whether passengers survived and the alphabetical order of the passenger names.\n",
    "\n",
    "Configure the output to print 10 lines using `pl.Config`"
   ]
  },
  {
   "cell_type": "code",
   "execution_count": null,
   "id": "58c6e670-aa47-4529-a061-8f2a57d70f23",
   "metadata": {
    "tags": []
   },
   "outputs": [],
   "source": [
    "pl.Config<blank>\n",
    "(\n",
    "    pl.read_csv(csv_file)\n",
    ")"
   ]
  },
  {
   "cell_type": "markdown",
   "id": "169a869c-f705-4bdb-9cdd-7963359a79f1",
   "metadata": {},
   "source": [
    "Add a column for the `familySize` which is the sum of the number of siblings (`SibSp` columns), the number of parents or children (`Parch` columns) plus one for the passenger themself.\n",
    "\n",
    "Then sort all of the columns by `familySize` inside an expression"
   ]
  },
  {
   "cell_type": "code",
   "execution_count": null,
   "id": "d90805f3-a707-44d9-8a05-fdee597e8627",
   "metadata": {},
   "outputs": [],
   "source": [
    "(\n",
    "    pl.read_csv(csv_file)\n",
    "    <blank>\n",
    ")"
   ]
  },
  {
   "cell_type": "markdown",
   "id": "cfe21b61-5210-4e08-83f8-35179d2a76b4",
   "metadata": {},
   "source": [
    "## Exercise 2: Using `set_sorted`\n",
    "\n",
    "For this exercise we first create a random array in Numpy and then sort it.\n",
    "\n",
    "We populate a `DataFrame` with the same array in 2 columns:\n",
    "- a column that we **will** tell Polars is sorted called `known_sorted`\n",
    "- a column that we **will not** tell Polars is sorted called `unknown_sorted`"
   ]
  },
  {
   "cell_type": "code",
   "execution_count": null,
   "id": "8174d7f6-835f-4ac4-b300-081b21ae2cc3",
   "metadata": {
    "tags": []
   },
   "outputs": [],
   "source": [
    "# Create the sorted array\n",
    "import numpy as np\n",
    "\n",
    "N = 10_000_000\n",
    "sorted_array = np.sort(np.random.standard_normal(N))\n",
    "# Create the DataFrame\n",
    "df_sort = pl.DataFrame({\"known_sorted\": sorted_array, \"unknown_sorted\": sorted_array})\n",
    "\n",
    "df_sort.head(3)"
   ]
  },
  {
   "cell_type": "markdown",
   "id": "613ce00c-f3a4-4de2-8c47-5c78be17d8b1",
   "metadata": {},
   "source": [
    "Check to see if Polars thinks the `known_sorted` column is sorted yet"
   ]
  },
  {
   "cell_type": "code",
   "execution_count": null,
   "id": "08288f1c-86fd-497e-86eb-74e0d1269897",
   "metadata": {
    "tags": []
   },
   "outputs": [],
   "source": []
  },
  {
   "cell_type": "markdown",
   "id": "54a49f4c-a000-4055-8f51-09851765fccf",
   "metadata": {},
   "source": [
    "Tell polars that the `known_sorted` column is sorted"
   ]
  },
  {
   "cell_type": "code",
   "execution_count": null,
   "id": "00a49aff-8892-4c30-8093-a9fe032abb2e",
   "metadata": {
    "tags": []
   },
   "outputs": [],
   "source": [
    "df_sort = (\n",
    "    df_sort\n",
    "    <blank>\n",
    ")"
   ]
  },
  {
   "cell_type": "markdown",
   "id": "edb58eca-e2a6-4600-a729-a79b8a2281a7",
   "metadata": {},
   "source": [
    "Confirm that Polars knows the `known_sorted` column is sorted"
   ]
  },
  {
   "cell_type": "code",
   "execution_count": null,
   "id": "1747d571-d5b4-448d-b4e3-d23e1f66a1ba",
   "metadata": {
    "tags": []
   },
   "outputs": [],
   "source": []
  },
  {
   "cell_type": "markdown",
   "id": "06ff7129-9da7-496a-91c2-f1b1ad129abb",
   "metadata": {},
   "source": [
    "Compare how long it takes to find the median of each column. \n",
    "\n",
    "> Ignore any you get a message saying that one run took much longer than the others and intermediate values might be cached. This variability in run time is just due to natural variability in runtime. Generally I run it again until i get a stable timing"
   ]
  },
  {
   "cell_type": "code",
   "execution_count": null,
   "id": "64054d7b-864e-49bd-bc26-fbb9d9b47dd1",
   "metadata": {
    "tags": []
   },
   "outputs": [],
   "source": [
    "%%timeit -n1 -r5\n",
    "(\n",
    "    df_sort\n",
    "    <blank>\n",
    ")"
   ]
  },
  {
   "cell_type": "code",
   "execution_count": null,
   "id": "b982d266-7225-4591-9b07-99a7864a6373",
   "metadata": {
    "tags": []
   },
   "outputs": [],
   "source": [
    "%%timeit -n1 -r5\n",
    "(\n",
    "    df_sort\n",
    "    <blank>\n",
    ")"
   ]
  },
  {
   "cell_type": "markdown",
   "id": "1190f5ca-d250-4972-8bec-a87d1579095d",
   "metadata": {},
   "source": [
    "We want to filter each `DataFrame` to find values less than -2. Compare how long it takes when we apply the filter to the `known_sorted` column compared to the `unknown_sorted` column"
   ]
  },
  {
   "cell_type": "code",
   "execution_count": null,
   "id": "645f4f00-06d0-4356-a513-00c711c26fcf",
   "metadata": {},
   "outputs": [],
   "source": [
    "%%timeit -n1 -r5\n",
    "(\n",
    "    df_sort\n",
    "    <blank>\n",
    ")"
   ]
  },
  {
   "cell_type": "code",
   "execution_count": null,
   "id": "7a23ad1f-5d88-4448-83f0-1b73794f589c",
   "metadata": {},
   "outputs": [],
   "source": []
  },
  {
   "cell_type": "markdown",
   "id": "ec5a814b-abad-450c-8c19-1b1c5f29c53c",
   "metadata": {},
   "source": [
    "The size of the performance difference varies depending on where in the sorted range we are looking for values. To explore this you can comapare performance for e.g. >-2 or <4\n",
    "\n",
    "You can also vary `N` to see how the difference changes with length."
   ]
  },
  {
   "cell_type": "markdown",
   "id": "8953b08b-9aa6-4443-b933-7066f7f78d0e",
   "metadata": {},
   "source": [
    "## Solutions\n",
    "\n",
    "## Solution to Exercise 1\n",
    "Sort the `DataFrame` by survival and alphabetical order of the passenger names"
   ]
  },
  {
   "cell_type": "code",
   "execution_count": null,
   "id": "8b597b46-5798-46a6-b850-588ea6236239",
   "metadata": {
    "jupyter": {
     "source_hidden": true
    },
    "tags": []
   },
   "outputs": [],
   "source": [
    "pl.Config.set_tbl_rows(10)\n",
    "(\n",
    "    pl.read_csv(csv_file)\n",
    "    .sort(\n",
    "        [\"Survived\",\"Name\"]\n",
    "    )\n",
    ")"
   ]
  },
  {
   "cell_type": "markdown",
   "id": "4d63c938-e509-48e1-96f1-b572bc7fe2f6",
   "metadata": {},
   "source": [
    "Add a column for the `familySize` which is the sum of the number of siblings (`SibSp` columns), the number of parents or children (`Parch` columns) plus one for the passenger themself.\n",
    "\n",
    "Then sort all of the columns by `familySize` inside an expression"
   ]
  },
  {
   "cell_type": "code",
   "execution_count": null,
   "id": "7bbebe46-af91-47b3-94d0-b1d3ffe1a039",
   "metadata": {
    "jupyter": {
     "source_hidden": true
    },
    "tags": []
   },
   "outputs": [],
   "source": [
    "(\n",
    "    pl.read_csv(csv_file)\n",
    "    .with_columns( \n",
    "        (\n",
    "            pl.col('SibSp') + pl.col('Parch') + 1\n",
    "        ).alias('familySize')\n",
    "    )\n",
    "    .select(\n",
    "        pl.all().sort_by(\"familySize\")\n",
    "    )\n",
    ")"
   ]
  },
  {
   "cell_type": "markdown",
   "id": "98d92ab6-06d5-4b42-b31e-7eb71cbebd1a",
   "metadata": {
    "collapsed": true,
    "jupyter": {
     "outputs_hidden": true
    },
    "tags": []
   },
   "source": [
    "## Solution to exercise 2\n"
   ]
  },
  {
   "cell_type": "markdown",
   "id": "37696406-8caa-40ad-b1e4-058ec0079af7",
   "metadata": {},
   "source": [
    "Create the `DataFrame`"
   ]
  },
  {
   "cell_type": "code",
   "execution_count": null,
   "id": "923dbbcc-8dc1-4027-9b9b-880df49e06de",
   "metadata": {
    "tags": []
   },
   "outputs": [],
   "source": [
    "import numpy as np\n",
    "\n",
    "N = 10_000_000\n",
    "sorted_array = np.sort(np.random.standard_normal(N))\n",
    "df_sort = pl.DataFrame({\"known_sorted\": sorted_array, \"unknown_sorted\": sorted_array})\n",
    "\n",
    "df_sort.head(3)"
   ]
  },
  {
   "cell_type": "markdown",
   "id": "e20ebcd9-ac72-41fe-9d27-dbad15548046",
   "metadata": {},
   "source": [
    "Check to see if Polars thinks the `known_sorted` column is sorted yet"
   ]
  },
  {
   "cell_type": "code",
   "execution_count": null,
   "id": "1ef6025c-ad78-4704-ba2a-12c4b507c3a9",
   "metadata": {
    "jupyter": {
     "source_hidden": true
    },
    "tags": []
   },
   "outputs": [],
   "source": [
    "df_sort[\"known_sorted\"].flags"
   ]
  },
  {
   "cell_type": "markdown",
   "id": "b3932b07-32f2-43df-81ce-9871a8f0468e",
   "metadata": {
    "collapsed": true,
    "jupyter": {
     "outputs_hidden": true
    },
    "tags": []
   },
   "source": [
    "Tell polars that the `known_sorted` column is sorted"
   ]
  },
  {
   "cell_type": "code",
   "execution_count": null,
   "id": "9493ad27-f6dd-441f-b0e8-53b6e52e5b38",
   "metadata": {},
   "outputs": [],
   "source": [
    "df_sort = (\n",
    "    df_sort\n",
    "    .with_columns(\n",
    "        pl.col('known_sorted').set_sorted()\n",
    "    )\n",
    ")"
   ]
  },
  {
   "cell_type": "markdown",
   "id": "6f346be7-39f6-46ac-899b-f6745aedc922",
   "metadata": {},
   "source": [
    "Confirm that Polars knows the `known_sorted` column is sorted"
   ]
  },
  {
   "cell_type": "code",
   "execution_count": null,
   "id": "4e23da6f-8859-4196-bba8-8aacf1bbc9b7",
   "metadata": {
    "tags": []
   },
   "outputs": [],
   "source": [
    "df_sort[\"known_sorted\"].flags"
   ]
  },
  {
   "cell_type": "markdown",
   "id": "04e65c1d-d2ad-4694-ae6a-5c2df866b125",
   "metadata": {},
   "source": [
    "Compare how long it takes to find the median of each column.  Ignore any you get a message saying that one run took much longer than the others and intermediate values might be cached. This variability in run time is just something that can happen"
   ]
  },
  {
   "cell_type": "code",
   "execution_count": null,
   "id": "3e5ade4e-da93-4caa-86e0-af2170f67102",
   "metadata": {
    "tags": []
   },
   "outputs": [],
   "source": [
    "%%timeit -n1 -r5\n",
    "(\n",
    "    df_sort\n",
    "    .select(\n",
    "        pl.col(\"known_sorted\").median()\n",
    "    )\n",
    ")"
   ]
  },
  {
   "cell_type": "code",
   "execution_count": null,
   "id": "e4de19e9-2a39-4357-9c14-10afbd87193c",
   "metadata": {
    "tags": []
   },
   "outputs": [],
   "source": [
    "%%timeit -n1 -r5\n",
    "(\n",
    "    df_sort\n",
    "    .select(\n",
    "        pl.col(\"unknown_sorted\").median()\n",
    "    )\n",
    ")"
   ]
  },
  {
   "cell_type": "markdown",
   "id": "3968d0a4-1cfd-4c54-99b1-4db52fecb9a0",
   "metadata": {},
   "source": [
    "We want to filter the `DataFrame` by the `known_sorted` and `unknown_sorted` columns to find values less than -2. Compare how long it takes when we apply the filter to the `known_sorted` column compared to the `unknown_sorted` column"
   ]
  },
  {
   "cell_type": "code",
   "execution_count": null,
   "id": "ad1d30ab-5c8a-41ed-bcbb-902d49bbb67a",
   "metadata": {},
   "outputs": [],
   "source": [
    "%%timeit -n1 -r5\n",
    "(\n",
    "    df_sort\n",
    "    .filter(\n",
    "        pl.col(\"known_sorted\") < -2\n",
    "    )\n",
    ")"
   ]
  },
  {
   "cell_type": "code",
   "execution_count": null,
   "id": "aea30ace-d5a5-4417-ad3f-272d172dc496",
   "metadata": {},
   "outputs": [],
   "source": [
    "%%timeit -n1 -r5\n",
    "(\n",
    "    df_sort\n",
    "    .filter(\n",
    "        pl.col(\"unknown_sorted\") < -2\n",
    "    )\n",
    ")"
   ]
  }
 ],
 "metadata": {
  "kernelspec": {
   "display_name": "Python 3 (ipykernel)",
   "language": "python",
   "name": "python3"
  },
  "language_info": {
   "codemirror_mode": {
    "name": "ipython",
    "version": 3
   },
   "file_extension": ".py",
   "mimetype": "text/x-python",
   "name": "python",
   "nbconvert_exporter": "python",
   "pygments_lexer": "ipython3",
   "version": "3.10.1"
  }
 },
 "nbformat": 4,
 "nbformat_minor": 5
}
