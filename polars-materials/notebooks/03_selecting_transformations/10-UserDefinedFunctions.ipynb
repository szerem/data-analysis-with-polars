{
 "cells": [
  {
   "cell_type": "markdown",
   "id": "12e0c41e-9f8d-40c8-8d95-17a1fd7bd5b4",
   "metadata": {},
   "source": [
    "## User-defined functions (`map_elements` and `map_batches`)\n",
    "By the end of the lecture you will be able to:\n",
    "- apply user-defined functions elementwise\n",
    "- apply numpy ufuncs to an expression\n",
    "- apply user-defined functions batchwise\n"
   ]
  },
  {
   "cell_type": "code",
   "execution_count": null,
   "id": "fa7d15f7-6399-47c4-9414-3824e0970847",
   "metadata": {},
   "outputs": [],
   "source": [
    "import polars as pl\n",
    "import numpy as np"
   ]
  },
  {
   "cell_type": "code",
   "execution_count": null,
   "id": "b0db282e-e89f-47f3-8396-87dcf9121199",
   "metadata": {},
   "outputs": [],
   "source": [
    "csv_file = \"../data/titanic.csv\"\n",
    "df = pl.read_csv(csv_file)"
   ]
  },
  {
   "cell_type": "markdown",
   "id": "1f7f86a6-0e25-433f-ad07-43afb068a0d6",
   "metadata": {},
   "source": [
    "### Element-wise functions\n",
    "We start by creating a simple function that takes a value in and returns the square of the value"
   ]
  },
  {
   "cell_type": "code",
   "execution_count": null,
   "id": "333b448c-3ccd-4737-909f-75f7762e32ce",
   "metadata": {},
   "outputs": [],
   "source": [
    "def square(x):\n",
    "    return x ** 2"
   ]
  },
  {
   "cell_type": "markdown",
   "id": "6487f2c2-3846-4835-b44e-92fbb9860551",
   "metadata": {},
   "source": [
    "We apply this function to the full `DataFrame` on the `Age` column to create a new column called `age_squared`"
   ]
  },
  {
   "cell_type": "code",
   "execution_count": null,
   "id": "e949aa0d-9219-4a37-b9d5-d63d625b0210",
   "metadata": {},
   "outputs": [],
   "source": [
    "(\n",
    "    df.with_columns(\n",
    "        age_squared = pl.col(\"Age\").map_elements(square)\n",
    "    )\n",
    "    .select(\"Age\",\"age_squared\")\n",
    "    .head()\n",
    ")"
   ]
  },
  {
   "cell_type": "markdown",
   "id": "96739048-f574-4b3f-b4f5-a64cc8d70588",
   "metadata": {},
   "source": [
    "We see that the operation worked but Polars outputted a warning.\n",
    "\n",
    "#### Why does Polars output a warning?\n",
    "Polars outputs a warning that using `map_elements` is probably a lot slower than an equivalent expression. This is because when we use `map_elements` Polars goes through the rows one-by-one applying the function in the (slower) Python layer.\n",
    "\n",
    "If we instead use the equivalent Polars expression Polars:\n",
    "- runs the function in the (faster) Rust layer and\n",
    "- runs the function once for all the rows together\n",
    "\n",
    "**Always try to use Polars expressions instead of `map_elements`**\n",
    "\n",
    "In some cases Polars tries to identify an expression to replace your function\n",
    "\n",
    "#### Lambda function\n",
    "In the example above we defined the function in Python using a standard `def` function definition. We can also pass an inline lambda function to apply"
   ]
  },
  {
   "cell_type": "code",
   "execution_count": null,
   "id": "90f669f3-4aa1-4f6f-8495-cb70ea0c5e5b",
   "metadata": {},
   "outputs": [],
   "source": [
    "(\n",
    "    df.with_columns(\n",
    "        age_squared = pl.col(\"Age\").map_elements(lambda x: x**2)\n",
    "    )\n",
    "    .select(\"Age\",\"age_squared\")\n",
    "    .head()\n",
    ")"
   ]
  },
  {
   "cell_type": "markdown",
   "id": "01bbd29c-5b82-4fab-8942-34843a2fa098",
   "metadata": {},
   "source": [
    "#### Caching repeated elements\n",
    "If the column you are applying the function to has:\n",
    "- many repeated elements and\n",
    "- has a function that is expensive to compute\n",
    "\n",
    "then you can use the `lru_cache` function from Python's built-in `functools` module. The `lru_cache` stores previous inputs and outputs to the function so that Polars can just look up previously calculated values instead of re-calculating the output again"
   ]
  },
  {
   "cell_type": "code",
   "execution_count": null,
   "id": "eff4d6a6-10f9-475e-9c26-eea7037515d3",
   "metadata": {},
   "outputs": [],
   "source": [
    "from functools import lru_cache\n",
    "\n",
    "@lru_cache\n",
    "def square(x):\n",
    "    return x**2"
   ]
  },
  {
   "cell_type": "markdown",
   "id": "964ecba9-56b8-41e1-8419-012b91e4392a",
   "metadata": {},
   "source": [
    "LRU stands for \"Least Recently Used,\" indicating that this cache discards the least recently used items first when the cache reaches its capacity limit\n",
    "\n",
    "#### Running in parallel\n",
    "By default the function is run element-by-element on a single thread (i.e. not in parallel). We can instruct Polars to run the function multi-threaded (i.e. in parallel) with the `strategy` argument"
   ]
  },
  {
   "cell_type": "code",
   "execution_count": null,
   "id": "497079c3-2a2a-442e-b005-8588445f2e48",
   "metadata": {},
   "outputs": [],
   "source": [
    "(\n",
    "    df\n",
    "    .with_columns(\n",
    "        age_squared = pl.col(\"Age\").map_elements(lambda x: x**2,strategy=\"threading\")\n",
    "    )\n",
    "    .select(\"Age\",\"age_squared\")\n",
    "    .head()\n",
    ")"
   ]
  },
  {
   "cell_type": "markdown",
   "id": "c34a16cc-b2c4-43f2-a30d-2d7a321f03a4",
   "metadata": {},
   "source": [
    "Running with multiple threads in parallel is not guaranteed to run faster - indeed the extra overhead may even make it slower. The treading approach is more likely to help when the amount of work in each call of the function is relatively large."
   ]
  },
  {
   "cell_type": "markdown",
   "id": "7da3ebaa-7fa7-499a-94f7-ffb3ef48cc5b",
   "metadata": {},
   "source": [
    "#### Lazy mode\n",
    "We can use `map_elements` in lazy mode. Indeed, we can even use `map_elements` in streaming mode for larger-than-memory datasets as the entire query is in the `--- STREAMING` block of the query plan with `.explain(streaming=True)`"
   ]
  },
  {
   "cell_type": "code",
   "execution_count": null,
   "id": "1ae0d42c-bc2f-4903-b086-ee661257fff1",
   "metadata": {},
   "outputs": [],
   "source": [
    "print(\n",
    "    df\n",
    "    .lazy()\n",
    "    .with_columns(\n",
    "        age_squared = pl.col(\"Age\").map_elements(lambda x: x**2)\n",
    "    )\n",
    "    .select(\"Age\",\"age_squared\")\n",
    "    .explain(streaming=True)\n",
    ")"
   ]
  },
  {
   "cell_type": "markdown",
   "id": "33b3bfcd-edf2-43f5-8483-f042db5d7267",
   "metadata": {},
   "source": [
    "We can use `map_elements` in streaming mode because the function is applied to each element individually and so the function still works fine when the data is processed in batches in streaming.\n",
    "\n",
    "#### Multiple columns\n",
    "We can apply the same function to multiple columns in the same way that we would do with any other expression"
   ]
  },
  {
   "cell_type": "code",
   "execution_count": null,
   "id": "e24e4e60-91a5-4857-b19a-358678956885",
   "metadata": {},
   "outputs": [],
   "source": [
    "(\n",
    "    df\n",
    "    .with_columns(\n",
    "        pl.col(\"Age\",\"Fare\").map_elements(lambda x: x**2).name.suffix(\"_squared\")\n",
    "    )\n",
    "    .select(\"Age\",\"Age_squared\",\"Fare\",\"Fare_squared\")\n",
    "    .head()\n",
    ")"
   ]
  },
  {
   "cell_type": "markdown",
   "id": "5cb0bdc8-993e-4010-a075-eb58d6dc9260",
   "metadata": {},
   "source": [
    "If we have a more complicated function that requires interaction between the elements in different columns then we combine the columns needed into a `pl.Struct` and apply the function to that.\n",
    "\n",
    "In the next section of the course we learn more about struct columns. For now all we need to know is that inside our user-defined function the values from different columns are in a Python `dict` with the column names as keys.\n",
    "\n",
    "In this example we create a function to add the values in the `Age` and `Fare` columns"
   ]
  },
  {
   "cell_type": "code",
   "execution_count": null,
   "id": "f238a835-984c-4bca-84b7-5f278a9621e4",
   "metadata": {},
   "outputs": [],
   "source": [
    "def sum_age_fare(struct:dict)->float:\n",
    "    # We check if both values are floats\n",
    "    if isinstance(struct[\"Age\"],float) and isinstance(struct[\"Fare\"],float):\n",
    "        # If they are we add them\n",
    "        return struct[\"Age\"] + struct[\"Fare\"]\n",
    "    else:\n",
    "        # If there is a null value return a null\n",
    "        return None"
   ]
  },
  {
   "cell_type": "markdown",
   "id": "e10c6e2e-1ed0-4295-be8d-6c89a97a4e67",
   "metadata": {},
   "source": [
    "We now apply the function to the `pl.Struct` expression created from the `Age` and `Fare` columns"
   ]
  },
  {
   "cell_type": "code",
   "execution_count": null,
   "id": "add44cac-a062-44db-bbe0-d2b5e059451f",
   "metadata": {},
   "outputs": [],
   "source": [
    "(\n",
    "    df\n",
    "    .with_columns(\n",
    "        age_fare_summed = pl.struct(pl.col(\"Age\"),pl.col(\"Fare\")).map_elements(sum_age_fare)\n",
    "    )\n",
    "    .select(\"Age\",\"Fare\",\"age_fare_summed\")\n",
    "    .head(6)\n",
    ")"
   ]
  },
  {
   "cell_type": "markdown",
   "id": "e921ae71-b11a-4940-8100-879521fe89b2",
   "metadata": {},
   "source": [
    "### Numpy ufuncs\n",
    "ufuncs are common Numpy functions that work element-by-element such as `np.cos` or `np.exp`. We do not need to use `map_elements` if we are trying to apply Numpy ufuncs.\n",
    "\n",
    "Instead we just pass the Polars expression to the Numpy function where we would normally pass a Numpy array. This should be just as fast as working with a Numpy array.\n",
    "\n",
    "In this example we again square the values in the `Age` column"
   ]
  },
  {
   "cell_type": "code",
   "execution_count": null,
   "id": "5d41fb5e-6885-4387-bf94-fbaeca521bf4",
   "metadata": {},
   "outputs": [],
   "source": [
    "(\n",
    "    df\n",
    "    .with_columns(\n",
    "        age_squared = np.power(pl.col(\"Age\"),2)\n",
    "    )\n",
    "    .select(\"Age\",\"age_squared\")\n",
    "    .head()    \n",
    ")"
   ]
  },
  {
   "cell_type": "markdown",
   "id": "dbfbba03-70ec-4110-8705-200cdde65182",
   "metadata": {},
   "source": [
    "### Applying functions to a `Series`\n",
    "With `map_elements` the function works one-row at a time.\n",
    "\n",
    "In other cases we want to apply user-defined functions that work on an entire `Series` at once. For this case we use `map_batches`."
   ]
  },
  {
   "cell_type": "markdown",
   "id": "6eb866df-ab6a-4994-a1e3-87b541c8b6fd",
   "metadata": {},
   "source": [
    "In this example we want to normalise the `Age` values by substracting the mean and dividing by the standard deviation. We cannot do this row-by-row with `map_elements` as we need the mean and standard deviation of the whole column first."
   ]
  },
  {
   "cell_type": "code",
   "execution_count": null,
   "id": "11c637c9-5c51-48ed-a9e2-90e75234ba30",
   "metadata": {},
   "outputs": [],
   "source": [
    "def normalize_column(s):\n",
    "    # We use s as the variable to remind us the input here is a Series\n",
    "    mean = s.mean()\n",
    "    std = s.std()\n",
    "    return (s - mean) / std"
   ]
  },
  {
   "cell_type": "markdown",
   "id": "871ca7bf-e8df-453b-b4eb-475cdfceed55",
   "metadata": {},
   "source": [
    "We now apply this function with `map_batches`"
   ]
  },
  {
   "cell_type": "code",
   "execution_count": null,
   "id": "67823003-60ce-4cd8-bacf-e19944a39633",
   "metadata": {},
   "outputs": [],
   "source": [
    "(\n",
    "    df\n",
    "    .with_columns(\n",
    "        normalised_age = pl.col(\"Age\").map_batches(normalize_column)\n",
    "    )\n",
    "    .select(\"Age\",\"normalised_age\")\n",
    "    .head()\n",
    ")"
   ]
  },
  {
   "cell_type": "markdown",
   "id": "b39f8fef-cfc5-4986-9091-4d13f6b7459f",
   "metadata": {},
   "source": [
    "The output of the `map_batches` function must be a `Series` that is the same length as the other columns in the `DataFrame`. This means that we cannot, for example, return just the mean of a column using `map_batches`\n",
    "\n",
    "### Lazy mode\n",
    "We can use `map_batches` in lazy mode. However, we cannot use `map_batches` in streaming mode. This is because the function would be applied over the different batches independently. In our example we would be calculating the mean and stanard deviation for each batch in streaming rather than the whole column"
   ]
  },
  {
   "cell_type": "code",
   "execution_count": null,
   "id": "54bb21ab-2b19-4336-ae82-48024eb1dae7",
   "metadata": {},
   "outputs": [],
   "source": [
    "print(\n",
    "    df\n",
    "    .lazy()\n",
    "    .with_columns(\n",
    "        normalised_age = pl.col(\"Age\").map_batches(normalize_column)\n",
    "    )\n",
    "    .select(\"Age\",\"normalised_age\")\n",
    "    .explain(streaming=True)\n",
    ")"
   ]
  },
  {
   "cell_type": "markdown",
   "id": "7077e834-81ee-4cdd-9104-35429edecc94",
   "metadata": {},
   "source": [
    "We see here that the `map_batches` component comes after the streaming part of the query. If we know that our user-defined function is suitable for running batchwise in streaming mode we can set the `is_elementwise` argument to `True`"
   ]
  },
  {
   "cell_type": "code",
   "execution_count": null,
   "id": "2ec881d9-d4b5-4d98-a550-352e9c366671",
   "metadata": {},
   "outputs": [],
   "source": [
    "print(\n",
    "    df\n",
    "    .lazy()\n",
    "    .with_columns(\n",
    "        normalised_age = pl.col(\"Age\").map_batches(normalize_column,is_elementwise=True)\n",
    "    )\n",
    "    .select(\"Age\",\"normalised_age\")\n",
    "    .explain(streaming=True)\n",
    ")"
   ]
  },
  {
   "cell_type": "markdown",
   "id": "c52be30e-d720-4af0-af4c-92c9308efb78",
   "metadata": {},
   "source": [
    "Be sure you understand your function before doing this, however!"
   ]
  },
  {
   "cell_type": "markdown",
   "id": "e6f87e6f-f5a1-483a-8d91-270c264bbc5f",
   "metadata": {},
   "source": [
    "### Functions in a groupby context\n",
    "The behaviour of the `map_elements` and `map_batches` functions may be different from what you expect when applied in an `agg` after `group_by`. See the `agg` lecture in the `groupby` section for more details.\n",
    "\n",
    "## Exercises\n",
    "In the exercises you will develop your understanding of:\n",
    "- applying elementwise functions with `map_elements`\n",
    "- applying batched functions with `map_batches`\n",
    "\n",
    "### Exercise 1\n",
    "Get the length of the names in the `Name` column using a Python method"
   ]
  },
  {
   "cell_type": "code",
   "execution_count": null,
   "id": "62377783-803d-4fdb-b708-52ef3549b29f",
   "metadata": {},
   "outputs": [],
   "source": [
    "(\n",
    "    pl.read_csv(csv_file)\n",
    "    .select(\n",
    "        \"Name\",\n",
    "        <blank>\n",
    "    )\n",
    "    .head()\n",
    ")"
   ]
  },
  {
   "cell_type": "markdown",
   "id": "4be0a27b-dfa5-40c3-9d5a-ef6ce583a774",
   "metadata": {},
   "source": [
    "Make a function called `categorize_age` to categorize passengers based on their age with:\n",
    "- \"Child\" with age less than 18\n",
    "- \"Adult\" with age between 18 and 60 and\n",
    "- \"Senior with age above 60"
   ]
  },
  {
   "cell_type": "code",
   "execution_count": null,
   "id": "1c54c071-de90-4f0e-b735-125592e5d1b8",
   "metadata": {},
   "outputs": [],
   "source": []
  },
  {
   "cell_type": "markdown",
   "id": "75975962-ac8a-42b2-bcb3-c807d105c8d9",
   "metadata": {},
   "source": [
    "Apply this function to the `Age` column"
   ]
  },
  {
   "cell_type": "code",
   "execution_count": null,
   "id": "10e0b216-c31c-4bf1-b031-c4a0357174b9",
   "metadata": {},
   "outputs": [],
   "source": []
  },
  {
   "cell_type": "markdown",
   "id": "423dec3e-e6bf-4a0c-b88a-16fc481535cb",
   "metadata": {},
   "source": [
    "Do this again using a more optimal `when.then` approach. Note that we must pass `pl.lit(\"Child\")` so Polars knows it is a value rather than a column name"
   ]
  },
  {
   "cell_type": "code",
   "execution_count": null,
   "id": "556446db-6769-403a-bfe9-a66ed9e4ab6b",
   "metadata": {},
   "outputs": [],
   "source": []
  },
  {
   "cell_type": "markdown",
   "id": "91674227-1519-4f43-924b-c0c6eb0defdd",
   "metadata": {},
   "source": [
    "Create a function called `find_unaccompanied_adults` to identify passengers who:\n",
    "- are under 18 years of age and\n",
    "- are travelling with no parents or children (`Parch`) or siblings\n",
    "\n",
    "For these passengers return `'Unaccompanied child'` while for other passengers return `'Other'`"
   ]
  },
  {
   "cell_type": "code",
   "execution_count": null,
   "id": "f0c0f04b-4216-4573-be15-831a1dc24cd1",
   "metadata": {},
   "outputs": [],
   "source": []
  },
  {
   "cell_type": "markdown",
   "id": "5e7f2f6f-3716-438b-88fc-daae997a9117",
   "metadata": {},
   "source": [
    "Apply this function to the `DataFrame` and filter for the unaccompanied adults"
   ]
  },
  {
   "cell_type": "code",
   "execution_count": null,
   "id": "1dce98a0-93a9-4ff6-a46e-7547e5e20ea5",
   "metadata": {},
   "outputs": [],
   "source": []
  },
  {
   "cell_type": "markdown",
   "id": "2fedd5f8-ecb5-4c36-9bb3-677023ca67a8",
   "metadata": {},
   "source": [
    "### Exercise 2\n",
    "A Numpy array has an `argmax` method to return the index of the largest element in the array. Note that `argmax` is not a Numpy ufunc as it does not work elementwise.\n",
    "\n",
    "Return a one-row `DataFrame` with the `argmax` of all the floating-point columns in the `DataFrame`."
   ]
  },
  {
   "cell_type": "code",
   "execution_count": null,
   "id": "48ce2f1e-e8d9-499e-b714-95f95f5d3055",
   "metadata": {},
   "outputs": [],
   "source": [
    "(\n",
    "    df\n",
    "    .select(\n",
    "        <blank>\n",
    "    )\n",
    ")"
   ]
  },
  {
   "cell_type": "markdown",
   "id": "349b478e-708f-48f6-93d8-944854ad560a",
   "metadata": {},
   "source": [
    "## Solutions\n",
    "### Solution to exercise 1\n",
    "Get the length of the names in the `Name` column using a Python method"
   ]
  },
  {
   "cell_type": "code",
   "execution_count": null,
   "id": "b9a96c34-05e0-495a-9fef-19293f8e5a7a",
   "metadata": {
    "jupyter": {
     "source_hidden": true
    }
   },
   "outputs": [],
   "source": [
    "(\n",
    "    pl.read_csv(csv_file)\n",
    "    .select(\n",
    "        \"Name\",\n",
    "        pl.col(\"Name\").map_elements(lambda x: len(x)).alias(\"len_name\")\n",
    "    )\n",
    "    .head()\n",
    ")"
   ]
  },
  {
   "cell_type": "markdown",
   "id": "9b6e68ca-f568-4ee6-8c55-08004384be20",
   "metadata": {},
   "source": [
    "Make a function to categorize passengers based on their age with:\n",
    "- \"Child\" with age less than 18\n",
    "- \"Adult\" with age between 18 and 60 and\n",
    "- \"Senior with age above 60"
   ]
  },
  {
   "cell_type": "code",
   "execution_count": null,
   "id": "961cb64e-6b50-41d9-897d-decec031074c",
   "metadata": {
    "jupyter": {
     "source_hidden": true
    }
   },
   "outputs": [],
   "source": [
    "def categorize_age(age):\n",
    "    if age < 18:\n",
    "        return 'Child'\n",
    "    elif age <= 60:\n",
    "        return 'Adult'\n",
    "    else:\n",
    "        return 'Senior'"
   ]
  },
  {
   "cell_type": "markdown",
   "id": "463bb692-55d8-4b9c-a06f-ebbd4f90c71c",
   "metadata": {},
   "source": [
    "Apply this function to the `Age` column"
   ]
  },
  {
   "cell_type": "code",
   "execution_count": null,
   "id": "53eecc88-6485-4d9e-bdde-992a2a5cbbca",
   "metadata": {
    "jupyter": {
     "source_hidden": true
    }
   },
   "outputs": [],
   "source": [
    "(\n",
    "    df\n",
    "    .select(\n",
    "        \"Age\",\n",
    "        pl.col(\"Age\").map_elements(categorize_age).alias(\"age_category\")\n",
    "    )\n",
    "    .head()\n",
    ")"
   ]
  },
  {
   "cell_type": "markdown",
   "id": "e1082b01-7152-4e3a-bf4e-8b936450f6ee",
   "metadata": {},
   "source": [
    "Do this again using a more optimal `when.then` approach. Note that we must pass `pl.lit(\"Child\")` so Polars knows it is a value rather than a column name"
   ]
  },
  {
   "cell_type": "code",
   "execution_count": null,
   "id": "b307d134-073c-4f7b-a5c3-72d0583c879f",
   "metadata": {
    "jupyter": {
     "source_hidden": true
    }
   },
   "outputs": [],
   "source": [
    "(\n",
    "    df\n",
    "    .select(\n",
    "        \"Age\",\n",
    "        pl.when(pl.col(\"Age\")<18).then(pl.lit(\"Child\")).when(pl.col(\"Age\")<=60).then(pl.lit(\"Adult\")).otherwise(pl.lit(\"Senior\")).alias(\"age_category\")\n",
    "    )\n",
    "    .head()\n",
    ")"
   ]
  },
  {
   "cell_type": "markdown",
   "id": "2fc9dde2-79cc-4f5f-a724-2e9b3de390c8",
   "metadata": {},
   "source": [
    "Create a function called `find_unaccompanied_adults` to identify passengers who:\n",
    "- are under 18 years of age and\n",
    "- are travelling with no parents or children (`Parch`) or siblings\n",
    "\n",
    "For these passengers return `'Unaccompanied child'` while for other passengers return `'Other'`"
   ]
  },
  {
   "cell_type": "code",
   "execution_count": null,
   "id": "2d99132e-5d62-434e-8c41-d459c874eb1b",
   "metadata": {
    "jupyter": {
     "source_hidden": true
    }
   },
   "outputs": [],
   "source": [
    "def find_unaccompanied_adults(struct):\n",
    "    if isinstance(struct[\"Age\"],float) and struct[\"Age\"] < 18 and struct[\"Parch\"] == 0 and struct[\"SibSp\"] == 0:\n",
    "        return 'Unaccompanied adult'\n",
    "    else:\n",
    "        return 'Other'"
   ]
  },
  {
   "cell_type": "markdown",
   "id": "89b322bd-6360-42f0-ae96-2c8d12b6286f",
   "metadata": {},
   "source": [
    "Apply this function to the `DataFrame` and filter for the unaccompanied adults"
   ]
  },
  {
   "cell_type": "code",
   "execution_count": null,
   "id": "6a6930b5-f725-45cc-b00b-d9d4d90df206",
   "metadata": {
    "jupyter": {
     "source_hidden": true
    }
   },
   "outputs": [],
   "source": [
    "(\n",
    "    df\n",
    "    .with_columns(\n",
    "        pl.struct(\"Age\",\"Parch\",\"SibSp\").map_elements(find_unaccompanied_adults).alias(\"unaccompanied_adults\")\n",
    "    )\n",
    "    .filter(unaccompanied_adults = \"Unaccompanied adult\")\n",
    "    .head()\n",
    ")"
   ]
  },
  {
   "cell_type": "markdown",
   "id": "c5473626-beb1-45b0-a12d-d93cb5a21f06",
   "metadata": {},
   "source": [
    "### Solution to exercise 2\n",
    "A Numpy array has an `argmax` method to return the index of the largest element in the array. Note that `argmax` is not a Numpy ufunc as it does not work elementwise.\n",
    "\n",
    "Return a one-row `DataFrame` with the `argmax` of the floating-point columns in the `DataFrame`."
   ]
  },
  {
   "cell_type": "code",
   "execution_count": null,
   "id": "64afa09e-a6d3-427f-84a2-93ccbf7ce50c",
   "metadata": {
    "jupyter": {
     "source_hidden": true
    }
   },
   "outputs": [],
   "source": [
    "(\n",
    "    df\n",
    "    .select(\n",
    "        pl.col(pl.FLOAT_DTYPES).map_batches(lambda x:x.to_numpy().argmax())\n",
    "    )\n",
    ")"
   ]
  }
 ],
 "metadata": {
  "kernelspec": {
   "display_name": "Python 3 (ipykernel)",
   "language": "python",
   "name": "python3"
  },
  "language_info": {
   "codemirror_mode": {
    "name": "ipython",
    "version": 3
   },
   "file_extension": ".py",
   "mimetype": "text/x-python",
   "name": "python",
   "nbconvert_exporter": "python",
   "pygments_lexer": "ipython3",
   "version": "3.10.1"
  }
 },
 "nbformat": 4,
 "nbformat_minor": 5
}
