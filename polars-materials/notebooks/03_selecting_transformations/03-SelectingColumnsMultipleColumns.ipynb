{
 "cells": [
  {
   "cell_type": "markdown",
   "id": "b06a7473-8d52-4c0d-b469-37add3272a53",
   "metadata": {},
   "source": [
    "# Selecting columns 3: selecting multiple columns\n",
    "By the end of this lecture you will be able to:\n",
    "- select columns based on a regex\n",
    "- select columns based on dtype\n",
    "- use selectors\n",
    "\n",
    "Polars has two ways for selecting multiple columns:\n",
    "- the expression API with `pl.col` or `pl.all`\n",
    "- the selectors API with polars selectors such as `cs.contains`\n",
    "\n",
    "We see both of these in this lecture.\n",
    "\n",
    "To use the selectors API we typically import it as `cs` alongside Polars"
   ]
  },
  {
   "cell_type": "code",
   "execution_count": null,
   "id": "9fd758ec-0727-4c1e-87ae-04fd47b267b6",
   "metadata": {
    "tags": []
   },
   "outputs": [],
   "source": [
    "import polars as pl\n",
    "import polars.selectors as cs"
   ]
  },
  {
   "cell_type": "code",
   "execution_count": null,
   "id": "43c1d48b-a1cc-4374-bfd5-83817c491923",
   "metadata": {
    "tags": []
   },
   "outputs": [],
   "source": [
    "csv_file = \"../data/titanic.csv\""
   ]
  },
  {
   "cell_type": "code",
   "execution_count": null,
   "id": "23ec4b89-5819-4654-a3c8-d43a7a7b31fd",
   "metadata": {
    "tags": []
   },
   "outputs": [],
   "source": [
    "df = pl.read_csv(csv_file)\n",
    "df.head(3)"
   ]
  },
  {
   "cell_type": "markdown",
   "id": "5273bbee-4c37-4847-985b-f28b949dcdd6",
   "metadata": {},
   "source": [
    "### Selecting all columns from a `DataFrame`\n",
    "\n",
    "We can select all columns by replacing `pl.col` with `pl.all`"
   ]
  },
  {
   "cell_type": "code",
   "execution_count": null,
   "id": "947a7318-66b7-4116-920f-c2b50d118045",
   "metadata": {
    "tags": []
   },
   "outputs": [],
   "source": [
    "(\n",
    "    df\n",
    "    .select(\n",
    "        pl.all()\n",
    "    )\n",
    "    .head(3)\n",
    ")"
   ]
  },
  {
   "cell_type": "markdown",
   "id": "60d9915c-f4e6-4191-aae5-b9055066df1b",
   "metadata": {},
   "source": [
    "We can select all but a subset of columns with the `exclude` expression"
   ]
  },
  {
   "cell_type": "code",
   "execution_count": null,
   "id": "b9c3de88-109a-4ff4-9fe0-90c0fd8bd7f2",
   "metadata": {
    "tags": []
   },
   "outputs": [],
   "source": [
    "(\n",
    "    df\n",
    "    .select(\n",
    "        pl.exclude('PassengerId','Survived','Pclass')\n",
    "    )\n",
    "    .head(3)\n",
    ")"
   ]
  },
  {
   "cell_type": "markdown",
   "id": "4a52a7d2-8e7d-41ab-9b76-2b8c9e21025f",
   "metadata": {},
   "source": [
    "This is a shorthand for `pl.all().exclude(...)`\n",
    "\n",
    "### Selecting columns with a regex\n",
    "We can select columns with a regex - if the regex starts with `^` and ends with `$`. Note that we meet an easier approach to doing this with selectors below.\n",
    "\n",
    "The following regex looks for columns starting with `P` and uses the regex *wildcard* `.*` to show `P` can be followed by any characters."
   ]
  },
  {
   "cell_type": "code",
   "execution_count": null,
   "id": "c2d2d27b-23bf-4928-a314-2e83259bfbc0",
   "metadata": {
    "tags": []
   },
   "outputs": [],
   "source": [
    "(\n",
    "    df\n",
    "    .select(\n",
    "        \"^P.*$\"\n",
    "    )\n",
    "    .head(3)\n",
    ")"
   ]
  },
  {
   "cell_type": "markdown",
   "id": "e4056cad-51f9-4cd0-95f8-efee8b47bc74",
   "metadata": {},
   "source": [
    "We can pass this regex to `pl.col` to apply transformations to these columns. In this example we take the `max` of each column"
   ]
  },
  {
   "cell_type": "code",
   "execution_count": null,
   "id": "84be5946-c666-4706-9266-71c9e30d4f98",
   "metadata": {
    "tags": []
   },
   "outputs": [],
   "source": [
    "(\n",
    "    df\n",
    "    .select(\n",
    "        pl.col(\"^P.*$\").max()\n",
    "    )\n",
    "    .head(3)\n",
    ")"
   ]
  },
  {
   "cell_type": "markdown",
   "id": "8674c88f-6bab-4e28-8c27-e020a10fb069",
   "metadata": {},
   "source": [
    "### Selecting columns based on dtype\n",
    "We can select all of the columns that have a particular dtype by passing the dtype to `pl.col`. I use this approach **a lot** in my Polars pipelines.\n",
    "\n",
    "Here we select all the string columns with `pl.Utf8` - the string dtype object"
   ]
  },
  {
   "cell_type": "code",
   "execution_count": null,
   "id": "02ddb49c-8d13-491c-b012-4ea15a1c3049",
   "metadata": {
    "tags": []
   },
   "outputs": [],
   "source": [
    "(\n",
    "    df\n",
    "    .select(\n",
    "        pl.col(pl.Utf8)\n",
    "    )\n",
    "    .head(3)\n",
    ")"
   ]
  },
  {
   "cell_type": "markdown",
   "id": "3af224b8-61be-4323-8616-92f3e6fcc4d3",
   "metadata": {},
   "source": [
    "We can also pass a list of dtypes to `pl.col`. In this case we select both 64-bit integer and float columns"
   ]
  },
  {
   "cell_type": "code",
   "execution_count": null,
   "id": "cbb0e7d2-bf0f-4e82-954a-a42b92cfcf3e",
   "metadata": {},
   "outputs": [],
   "source": [
    "(\n",
    "    df\n",
    "    .select(\n",
    "        pl.col([pl.Int64,pl.Float64])\n",
    "    )\n",
    "    .head(3)\n",
    ")"
   ]
  },
  {
   "cell_type": "markdown",
   "id": "5fbab955-d9c4-4988-a3c3-2f9607d52071",
   "metadata": {},
   "source": [
    "As a shorthand Polars also gives us shortcuts such as `pl.NUMERIC_DTYPES` to select all numeric dtypes"
   ]
  },
  {
   "cell_type": "code",
   "execution_count": null,
   "id": "8b1c0bce-d2b6-4c40-8de6-f781210eff9d",
   "metadata": {},
   "outputs": [],
   "source": [
    "(\n",
    "    df\n",
    "    .select(\n",
    "        pl.col(pl.NUMERIC_DTYPES)\n",
    "    )\n",
    "    .head(3)\n",
    ")"
   ]
  },
  {
   "cell_type": "markdown",
   "id": "d83857af-4daa-455f-8a56-06bf067a48f2",
   "metadata": {},
   "source": [
    "The `pl.NUMERIC_DTYPES` is really just a sequence of the underlying dtypes - we can see this if we print it"
   ]
  },
  {
   "cell_type": "code",
   "execution_count": null,
   "id": "664a6c19-94d4-4d4e-8bf5-51a7630101da",
   "metadata": {},
   "outputs": [],
   "source": [
    "pl.NUMERIC_DTYPES"
   ]
  },
  {
   "cell_type": "markdown",
   "id": "92693c54-d4f7-47c1-9b17-1858c015deba",
   "metadata": {},
   "source": [
    "There are a number of other generic dtype objects - we find these from the `pl` namespace below"
   ]
  },
  {
   "cell_type": "code",
   "execution_count": null,
   "id": "0c4334ee-974a-479c-8886-ce8373b5d831",
   "metadata": {},
   "outputs": [],
   "source": [
    "[el for el in dir(pl) if \"_DTYPES\" in el]"
   ]
  },
  {
   "cell_type": "markdown",
   "id": "419de1dc-19cb-43fc-a141-8eff3cafabff",
   "metadata": {},
   "source": [
    "## Using the selectors API\n",
    "The selectors API aims to make selecting multiple columns less verbose. \n",
    "\n",
    "For simple cases it replicates using the expression API. For example to select all columns we use `cs.all`"
   ]
  },
  {
   "cell_type": "code",
   "execution_count": null,
   "id": "75d84d6b-62af-4f7a-aacb-5a082132f8f0",
   "metadata": {},
   "outputs": [],
   "source": [
    "(\n",
    "    df\n",
    "    .select(\n",
    "        cs.all()\n",
    "    )\n",
    "    .head(3)\n",
    ")"
   ]
  },
  {
   "cell_type": "markdown",
   "id": "04936f79-c541-46f8-a976-96accc78a123",
   "metadata": {},
   "source": [
    "We can also do selection by position with `first` or `last`"
   ]
  },
  {
   "cell_type": "code",
   "execution_count": null,
   "id": "52e37583-ee78-4200-98c9-2a2ac7bd38de",
   "metadata": {},
   "outputs": [],
   "source": [
    "(\n",
    "    df\n",
    "    .select(\n",
    "        cs.first()\n",
    "    )\n",
    "    .head(3)\n",
    ")"
   ]
  },
  {
   "cell_type": "markdown",
   "id": "785ade2b-013a-4ee8-b3ff-90b058a7d580",
   "metadata": {},
   "source": [
    "The output of a selector is a standard Polars expression so we can follow it up with standard expression chaining"
   ]
  },
  {
   "cell_type": "code",
   "execution_count": null,
   "id": "d9ab5e7a-acc7-4510-8d8f-677000fc56e5",
   "metadata": {},
   "outputs": [],
   "source": [
    "(\n",
    "    df\n",
    "    .select(\n",
    "        cs.all().max()\n",
    "    )\n",
    ")"
   ]
  },
  {
   "cell_type": "markdown",
   "id": "9c1e280b-877f-4dec-a1db-3dec050097b6",
   "metadata": {},
   "source": [
    "The selectors API works well in lazy mode and for streaming queries just as expressions do.\n",
    "\n",
    "We can select columns by groups of dtype - including a group of all integer and floating point dtypes with `cs.numeric`"
   ]
  },
  {
   "cell_type": "code",
   "execution_count": null,
   "id": "f81eab7e-07ed-453d-bd50-44480d47c24e",
   "metadata": {},
   "outputs": [],
   "source": [
    "(\n",
    "    df\n",
    "    .select(\n",
    "        cs.numeric()\n",
    "    )\n",
    "    .head(3)\n",
    ")"
   ]
  },
  {
   "cell_type": "markdown",
   "id": "8a9ea82c-5e4a-4996-90dd-85990e10ffa4",
   "metadata": {},
   "source": [
    "We can select by name - in this example with a `~` operator to exclude the names listed"
   ]
  },
  {
   "cell_type": "code",
   "execution_count": null,
   "id": "c98cb0d3-2737-4cb6-8ac2-591a3ae8ce77",
   "metadata": {},
   "outputs": [],
   "source": [
    "(\n",
    "    df\n",
    "    .select(\n",
    "        ~cs.by_name(\"Pclass\",\"Age\")\n",
    "    )\n",
    "    .head(3)\n",
    ")"
   ]
  },
  {
   "cell_type": "markdown",
   "id": "11e9cfee-7bf4-41ab-aae8-1a7a267d2b66",
   "metadata": {},
   "source": [
    "As a simpler alternative to the regex example we saw earlier we can use string methods such as:\n",
    "- `contains`\n",
    "- `starts_with`\n",
    "- `end_with`\n",
    "- `matches`"
   ]
  },
  {
   "cell_type": "markdown",
   "id": "ca72c1db-f979-4a1f-ae8d-b1e0437a6320",
   "metadata": {},
   "source": [
    "In this example we select all columns beginning with P"
   ]
  },
  {
   "cell_type": "code",
   "execution_count": null,
   "id": "6531d17a-1b08-495d-b9e0-5ff7d4e7f23d",
   "metadata": {},
   "outputs": [],
   "source": [
    "(\n",
    "    df\n",
    "    .select(\n",
    "        cs.starts_with(\"P\")\n",
    "    )\n",
    "    .head(3)\n",
    ")"
   ]
  },
  {
   "cell_type": "markdown",
   "id": "61319374-f9df-4640-9514-ce447dfdf3aa",
   "metadata": {},
   "source": [
    "We can apply an OR condition by passing multiple strings"
   ]
  },
  {
   "cell_type": "code",
   "execution_count": null,
   "id": "b785bdbe-cfbc-4f54-b7ea-1dd5e7a79199",
   "metadata": {},
   "outputs": [],
   "source": [
    "(\n",
    "    df\n",
    "    .select(\n",
    "        cs.starts_with(\"P\",\"A\")\n",
    "    )\n",
    "    .head(3)\n",
    ").columns"
   ]
  },
  {
   "cell_type": "markdown",
   "id": "a3b65424-b3a9-4e98-bbda-400bb8ece78e",
   "metadata": {},
   "source": [
    "With the `matches` method we can pass a regex without the `^` and `$` we need for the expression API"
   ]
  },
  {
   "cell_type": "code",
   "execution_count": null,
   "id": "238ad5cd-0e64-43a3-ba12-ce59dcdcbfd5",
   "metadata": {},
   "outputs": [],
   "source": [
    "(\n",
    "    df\n",
    "    .select(\n",
    "        cs.matches(\"Age|Fare\")\n",
    "    )\n",
    "    .head(3)\n",
    ")"
   ]
  },
  {
   "cell_type": "markdown",
   "id": "d23a7c35-b265-4387-b96e-9bcb0c3af6bd",
   "metadata": {},
   "source": [
    "The difference between `cs.contains` and `cs.matches` is:\n",
    "- `cs.contains` looks for all column names that contain the literal substring\n",
    "- `cs.matches` look for all column names that match the regex"
   ]
  },
  {
   "cell_type": "markdown",
   "id": "bff4a660-49c6-4b31-8bab-45340c732bc9",
   "metadata": {},
   "source": [
    "### Intersection of selectors\n",
    "\n",
    "To do an intersection of selector conditions we use the `&` operator to say both conditions must be fulfilled.\n",
    "\n",
    "In this example we look for **numeric** columns that **contain A** in the column name"
   ]
  },
  {
   "cell_type": "code",
   "execution_count": null,
   "id": "88252fda-49cb-4f7f-b775-2d9acc1c3a6d",
   "metadata": {},
   "outputs": [],
   "source": [
    "(\n",
    "    df\n",
    "    .select(\n",
    "        cs.numeric() & cs.contains(\"A\") \n",
    "    )\n",
    "    .head(3)\n",
    ")"
   ]
  },
  {
   "cell_type": "markdown",
   "id": "b9a917af-52f2-466b-bcdd-809b24f25978",
   "metadata": {},
   "source": [
    "### Union of selectors\n",
    "To do a union operation we use the `|` operator to say at least one of the conditions must be satisfied"
   ]
  },
  {
   "cell_type": "code",
   "execution_count": null,
   "id": "30ec32d7-19c0-412d-8ec5-49b209529bd4",
   "metadata": {},
   "outputs": [],
   "source": [
    "(\n",
    "    df\n",
    "    .select(\n",
    "        cs.string() | cs.contains(\"P\") \n",
    "    )\n",
    "    .head(3)\n",
    ")"
   ]
  },
  {
   "cell_type": "markdown",
   "id": "bd82bee0-1a4a-40e2-8fa3-2a4fc3be162a",
   "metadata": {},
   "source": [
    "### Difference of selectors\n",
    "To do a difference operation we use a minus operator `-`.\n",
    "\n",
    "In this example we select all string columns other than any column beginning with T"
   ]
  },
  {
   "cell_type": "code",
   "execution_count": null,
   "id": "dfdb3ad9-8ebd-4014-9bdc-6596b6a98a62",
   "metadata": {},
   "outputs": [],
   "source": [
    "(\n",
    "    df\n",
    "    .select(\n",
    "        cs.string() - cs.starts_with(\"T\") \n",
    "    )\n",
    "    .head(3)\n",
    ")"
   ]
  },
  {
   "cell_type": "markdown",
   "id": "7f478e9c-3955-4f66-adb3-d0dc9afddea0",
   "metadata": {},
   "source": [
    "# Exercises\n",
    "\n",
    "In the exercises you will develop your understanding of:\n",
    "- selecting all columns from a `DataFrame`\n",
    "- excluding columns from a selection\n",
    "- selecting columns with a dtype"
   ]
  },
  {
   "cell_type": "markdown",
   "id": "c6ff209d-eb8d-479c-bcea-d29ec24fd392",
   "metadata": {},
   "source": [
    "### Exercise 1\n",
    "We create a `DataFrame` from the Spotify data"
   ]
  },
  {
   "cell_type": "code",
   "execution_count": null,
   "id": "e26d45cc-dba2-4437-a99b-8a981c1370ac",
   "metadata": {
    "tags": []
   },
   "outputs": [],
   "source": [
    "pl.Config.set_fmt_str_lengths(30)\n",
    "spotify_csv = \"../data/spotify-charts-2017-2021-global-top200.csv.gz\"\n",
    "spotify_df = pl.read_csv(spotify_csv,try_parse_dates=True)\n",
    "spotify_df.head(3)"
   ]
  },
  {
   "cell_type": "markdown",
   "id": "132f9d16-793f-4e4d-ab6b-e0287064deac",
   "metadata": {},
   "source": [
    "Select the `title` and `artist` columns using the expression API (and not selectors)"
   ]
  },
  {
   "cell_type": "code",
   "execution_count": null,
   "id": "ebe9524d-8ace-4f93-99d3-328e063aff5d",
   "metadata": {},
   "outputs": [],
   "source": [
    "(\n",
    "    spotify_df\n",
    "    <blank>\n",
    "    .head(3)\n",
    ")"
   ]
  },
  {
   "cell_type": "markdown",
   "id": "aae8bbc1-b4c7-4589-afae-f4bfdef197de",
   "metadata": {},
   "source": [
    "Select all string and date columns from the spotify `DataFrame` using the expression API"
   ]
  },
  {
   "cell_type": "code",
   "execution_count": null,
   "id": "46afaf71-8269-4f6c-90a6-2cfc3353ba3b",
   "metadata": {},
   "outputs": [],
   "source": []
  },
  {
   "cell_type": "markdown",
   "id": "c3bff868-b514-4341-b663-23baf712e1f7",
   "metadata": {},
   "source": [
    "Select all string and date columns from the spotify `DataFrame` - except the `url` column using the expression API (and not selectors)"
   ]
  },
  {
   "cell_type": "code",
   "execution_count": null,
   "id": "d932c3df-3bca-4e2c-b6fa-299b2b009c2c",
   "metadata": {},
   "outputs": [],
   "source": []
  },
  {
   "cell_type": "markdown",
   "id": "717f5a7d-5fcc-491f-b66c-87b9819e2f2c",
   "metadata": {},
   "source": [
    "Select all string and date columns again but use the selectors API"
   ]
  },
  {
   "cell_type": "code",
   "execution_count": null,
   "id": "57b5b32d-582b-42e3-8e06-183ebaa5ed4f",
   "metadata": {},
   "outputs": [],
   "source": []
  },
  {
   "cell_type": "markdown",
   "id": "a09e3b4e-9969-4853-9932-afeb232fa495",
   "metadata": {},
   "source": [
    "Select all the columns that start with `t` or `a`"
   ]
  },
  {
   "cell_type": "code",
   "execution_count": null,
   "id": "dee7c182-a3dc-43f9-b61b-5dd2094069b7",
   "metadata": {},
   "outputs": [],
   "source": []
  },
  {
   "cell_type": "markdown",
   "id": "f378b49a-ac47-4dac-95f0-1133a583083c",
   "metadata": {},
   "source": [
    "Select all columns except the integer columns (using the ~ operator)"
   ]
  },
  {
   "cell_type": "code",
   "execution_count": null,
   "id": "850d0ca7-5e62-4b81-bd87-d63cc2e441d4",
   "metadata": {},
   "outputs": [],
   "source": []
  },
  {
   "cell_type": "markdown",
   "id": "ccfa5c86-dbd9-4466-b7f7-53c85be9e112",
   "metadata": {},
   "source": [
    "### Exercise 2\n",
    "We create a `DataFrame` with temperature and rainfall data from some weather stations"
   ]
  },
  {
   "cell_type": "code",
   "execution_count": null,
   "id": "5fcf5961-74c3-4d95-ba27-c0929498b6e2",
   "metadata": {},
   "outputs": [],
   "source": [
    "df_weather = pl.DataFrame(\n",
    "    [\n",
    "        {\n",
    "            \"Month\": \"Jan\",\n",
    "            \"Station_A (°C)\": 20.5,\n",
    "            \"Station_B (°C)\": 18.0,\n",
    "            \"Station_A (mm)\": 12.0,\n",
    "            \"Station_B (mm)\": 13.5,\n",
    "        },\n",
    "        {\n",
    "            \"Month\": \"Feb\",\n",
    "            \"Station_A (°C)\": 21.0,\n",
    "            \"Station_B (°C)\": 18.5,\n",
    "            \"Station_A (mm)\": 12.0,\n",
    "            \"Station_B (mm)\": 13.5,\n",
    "        },\n",
    "    ]\n",
    ")\n",
    "df_weather"
   ]
  },
  {
   "cell_type": "markdown",
   "id": "2da7d103-05cc-4825-8b8f-99023ef7bb36",
   "metadata": {},
   "source": [
    "Select all the columns with `Station` in the column name using `cs.contains`"
   ]
  },
  {
   "cell_type": "code",
   "execution_count": null,
   "id": "958a5b00-1158-44dd-b652-dc4e812ebc8b",
   "metadata": {},
   "outputs": [],
   "source": [
    "(\n",
    "    df_weather\n",
    "    .select(\n",
    "        <blank>\n",
    "    )\n",
    ")"
   ]
  },
  {
   "cell_type": "markdown",
   "id": "5b951b07-cdb4-4caa-9259-c7e0e9fbfc79",
   "metadata": {},
   "source": [
    "Use `cs.matches` to select all the columns with `Station` and `°C`  in the column name"
   ]
  },
  {
   "cell_type": "code",
   "execution_count": null,
   "id": "56d5ff62-4718-4c38-a867-93be57856f01",
   "metadata": {},
   "outputs": [],
   "source": [
    "(\n",
    "    df_weather\n",
    "    .select(\n",
    "        <blank>\n",
    "    )\n",
    ")"
   ]
  },
  {
   "cell_type": "markdown",
   "id": "15bd8bee-4eff-4d38-8402-b0b31b2a8abb",
   "metadata": {},
   "source": [
    "### Exercise 3\n",
    "Convert the following Pandas code (that I've seen in the wild!) to Polars\n",
    "\n",
    "Looping over columns in Polars is to be avoided at all costs. \n",
    "\n",
    "Convert this Pandas code with a loop over the columns to Polars code using the Expression API.\n",
    "\n",
    "In the loop we create a dictionary `maxDict` with the column names and maximum values"
   ]
  },
  {
   "cell_type": "code",
   "execution_count": null,
   "id": "c07660b8-65f0-4e49-8ca4-37aa7cf0f45a",
   "metadata": {
    "tags": []
   },
   "outputs": [],
   "source": [
    "import pandas as pd\n",
    "import numpy as np\n",
    "df = pl.read_csv(csv_file)\n",
    "dfPandas = df.to_pandas()\n",
    "\n",
    "# Convert this code below to Polars in the following cell\n",
    "maxDict = {}\n",
    "for col in dfPandas.columns:\n",
    "    if dfPandas[col].dtype == np.float64:\n",
    "        maxDict[col] = [dfPandas[col].max()]\n",
    "pd.DataFrame(maxDict)"
   ]
  },
  {
   "cell_type": "code",
   "execution_count": null,
   "id": "782d3635-3f1f-4cb2-99ef-018ee6f198ad",
   "metadata": {
    "tags": []
   },
   "outputs": [],
   "source": [
    "(\n",
    "    pl.read_csv(csv_file)\n",
    "     <blank>\n",
    ")"
   ]
  },
  {
   "cell_type": "markdown",
   "id": "84205876-bba5-4967-81c9-1fc26b3722e1",
   "metadata": {},
   "source": [
    "## Solutions\n",
    "\n",
    "### Solution to Exercise 1\n",
    "We create a `DataFrame` from the Spotify data"
   ]
  },
  {
   "cell_type": "code",
   "execution_count": null,
   "id": "e406536c-d372-42be-b1e4-614c6983717b",
   "metadata": {},
   "outputs": [],
   "source": [
    "pl.Config.set_fmt_str_lengths(30)\n",
    "spotify_csv = \"../data/spotify-charts-2017-2021-global-top200.csv.gz\"\n",
    "spotify_df = pl.read_csv(spotify_csv,try_parse_dates=True)\n",
    "spotify_df.head(3)"
   ]
  },
  {
   "cell_type": "markdown",
   "id": "1d0ad78e-200c-4e4b-b55d-f96e6d310695",
   "metadata": {},
   "source": [
    "Select the `title` and `artist` columns using the expression API (and not selectors)"
   ]
  },
  {
   "cell_type": "code",
   "execution_count": null,
   "id": "6ef9090e-ca32-4335-bd38-7bbdf457e6cc",
   "metadata": {
    "jupyter": {
     "source_hidden": true
    }
   },
   "outputs": [],
   "source": [
    "(\n",
    "    spotify_df\n",
    "    .select(\n",
    "        pl.col(\"title\",\"artist\")\n",
    "    )\n",
    "    .head(3)\n",
    ")"
   ]
  },
  {
   "cell_type": "markdown",
   "id": "54951a12-4434-4029-8f99-a4c2eb282dda",
   "metadata": {},
   "source": [
    "Select all string and date columns from the spotify `DataFrame` using the expression API"
   ]
  },
  {
   "cell_type": "code",
   "execution_count": null,
   "id": "5777e105-4862-439b-ae94-81a57dd4487b",
   "metadata": {
    "jupyter": {
     "source_hidden": true
    },
    "tags": []
   },
   "outputs": [],
   "source": [
    "(\n",
    "    spotify_df\n",
    "    .select(\n",
    "        pl.col(pl.Utf8,pl.Date)\n",
    "    )\n",
    "    .head(3)\n",
    ")"
   ]
  },
  {
   "cell_type": "markdown",
   "id": "a40ad50f-8140-42a0-ab0b-df9548b506ac",
   "metadata": {},
   "source": [
    "Select all string and date columns from the spotify `DataFrame` - except the `url` column using the expression API (and not selectors)"
   ]
  },
  {
   "cell_type": "code",
   "execution_count": null,
   "id": "242165dd-145a-49a4-9096-21692e31fb59",
   "metadata": {
    "jupyter": {
     "source_hidden": true
    }
   },
   "outputs": [],
   "source": [
    "(\n",
    "    spotify_df\n",
    "    .select(\n",
    "        pl.col(pl.Utf8,pl.Date).exclude(\"url\")\n",
    "    )\n",
    "    .head(3)\n",
    ")"
   ]
  },
  {
   "cell_type": "markdown",
   "id": "18f2a77f-16c3-4bd3-b9cd-f452bfc9e409",
   "metadata": {},
   "source": [
    "Select all string and date columns again but use the selectors API"
   ]
  },
  {
   "cell_type": "code",
   "execution_count": null,
   "id": "ac364873-7c48-4240-9bb9-154c82b8facb",
   "metadata": {
    "jupyter": {
     "source_hidden": true
    }
   },
   "outputs": [],
   "source": [
    "(\n",
    "    spotify_df\n",
    "    .select(\n",
    "        cs.by_dtype(pl.Utf8,pl.Date) - cs.by_name(\"url\")\n",
    "    )\n",
    "    .head(3)\n",
    ")"
   ]
  },
  {
   "cell_type": "markdown",
   "id": "8d318fdf-9c1b-48cb-a847-4740b75e6594",
   "metadata": {},
   "source": [
    "Select all the columns that start with `t` or `a`"
   ]
  },
  {
   "cell_type": "code",
   "execution_count": null,
   "id": "6719bb2c-d1cf-4492-afa3-84717b15e7e9",
   "metadata": {
    "jupyter": {
     "source_hidden": true
    },
    "tags": []
   },
   "outputs": [],
   "source": [
    "(\n",
    "    spotify_df\n",
    "    .select(\n",
    "        cs.starts_with(\"t\",\"a\")\n",
    "    )\n",
    "    .head(3)\n",
    ")"
   ]
  },
  {
   "cell_type": "markdown",
   "id": "00dc2483-fc21-4aac-ac2f-d197cd0634eb",
   "metadata": {},
   "source": [
    "Select all columns except the integer columns (using the ~ operator)"
   ]
  },
  {
   "cell_type": "code",
   "execution_count": null,
   "id": "179bf886-0548-433b-a24c-8d924910b2b8",
   "metadata": {
    "jupyter": {
     "source_hidden": true
    }
   },
   "outputs": [],
   "source": [
    "(\n",
    "    spotify_df\n",
    "    .select(\n",
    "        ~cs.integer()\n",
    "    )\n",
    "    .head(3)\n",
    ")"
   ]
  },
  {
   "cell_type": "markdown",
   "id": "a9024b05-4a51-4254-accd-9266998c1eae",
   "metadata": {},
   "source": [
    "### Solution to Exercise 2\n",
    "We create a `DataFrame` with temperature and rainfall data from some weather stations"
   ]
  },
  {
   "cell_type": "code",
   "execution_count": null,
   "id": "19477dd0-763d-4660-a717-4319646258f3",
   "metadata": {},
   "outputs": [],
   "source": [
    "df_weather = pl.DataFrame(\n",
    "    [\n",
    "        {\n",
    "            \"Month\": \"Jan\",\n",
    "            \"Station_A (°C)\": 20.5,\n",
    "            \"Station_B (°C)\": 18.0,\n",
    "            \"Station_A (mm)\": 12.0,\n",
    "            \"Station_B (mm)\": 13.5,\n",
    "        },\n",
    "        {\n",
    "            \"Month\": \"Feb\",\n",
    "            \"Station_A (°C)\": 21.0,\n",
    "            \"Station_B (°C)\": 18.5,\n",
    "            \"Station_A (mm)\": 12.0,\n",
    "            \"Station_B (mm)\": 13.5,\n",
    "        },\n",
    "    ]\n",
    ")\n",
    "df_weather"
   ]
  },
  {
   "cell_type": "markdown",
   "id": "d3cdc321-adef-4228-a3e7-028239a26f25",
   "metadata": {},
   "source": [
    "Select all the columns with `Station` in the column name using `cs.contains`"
   ]
  },
  {
   "cell_type": "code",
   "execution_count": null,
   "id": "5a41958e-d7a2-4ffd-9be6-0def200955b5",
   "metadata": {
    "jupyter": {
     "source_hidden": true
    }
   },
   "outputs": [],
   "source": [
    "(\n",
    "    df_weather\n",
    "    .select(\n",
    "        cs.contains(\"Station\")\n",
    "    )\n",
    ")"
   ]
  },
  {
   "cell_type": "markdown",
   "id": "34513d97-382d-430c-b3a1-c54a3e21c2e3",
   "metadata": {},
   "source": [
    "Use `cs.matches` to select all the columns with `Station` and `°C`  in the column name"
   ]
  },
  {
   "cell_type": "code",
   "execution_count": null,
   "id": "d01fb508-eca4-4c65-bd2a-ebb0d459b188",
   "metadata": {
    "jupyter": {
     "source_hidden": true
    }
   },
   "outputs": [],
   "source": [
    "(\n",
    "    df_weather\n",
    "    .select(\n",
    "        cs.matches(\"Station.*°C\")\n",
    "    )\n",
    ")"
   ]
  },
  {
   "cell_type": "markdown",
   "id": "a3b32c33-2246-4ed6-a8ed-07b1546be9e5",
   "metadata": {},
   "source": [
    "### Solution to Exercise 3\n",
    "Convert the following Pandas code to Polars\n",
    "```python\n",
    "import pandas as pd\n",
    "import numpy as np\n",
    "df = pl.read_csv(csv_file)\n",
    "dfPandas = df.to_pandas()\n",
    "\n",
    "# Convert this code below to Polars in the following cell\n",
    "maxDict = {}\n",
    "for col in dfPandas.columns:\n",
    "    if dfPandas[col].dtype == np.float64:\n",
    "        maxDict[col] = [dfPandas[col].max()]\n",
    "pd.DataFrame(maxDict)\n",
    "```"
   ]
  },
  {
   "cell_type": "code",
   "execution_count": null,
   "id": "27764b00-447f-4e3f-a17d-26232dcfebd0",
   "metadata": {
    "jupyter": {
     "source_hidden": true
    },
    "tags": []
   },
   "outputs": [],
   "source": [
    "(\n",
    "    pl.read_csv(csv_file)\n",
    "    .select(\n",
    "        pl.col(pl.Float64).max()\n",
    "    )\n",
    ")"
   ]
  },
  {
   "cell_type": "markdown",
   "id": "9f7f9b19-c0fd-42fb-9170-ca43004b78b6",
   "metadata": {},
   "source": [
    "Note that there is a better way to do this in Pandas (I just don't see this so often in the wild!)"
   ]
  },
  {
   "cell_type": "code",
   "execution_count": null,
   "id": "7796a372-025b-4382-bc92-b2de5d4fbc94",
   "metadata": {
    "jupyter": {
     "source_hidden": true
    }
   },
   "outputs": [],
   "source": [
    "df_pandas = df.to_pandas()\n",
    "df_pandas.select_dtypes(\"float\").max()"
   ]
  }
 ],
 "metadata": {
  "kernelspec": {
   "display_name": "Python 3 (ipykernel)",
   "language": "python",
   "name": "python3"
  },
  "language_info": {
   "codemirror_mode": {
    "name": "ipython",
    "version": 3
   },
   "file_extension": ".py",
   "mimetype": "text/x-python",
   "name": "python",
   "nbconvert_exporter": "python",
   "pygments_lexer": "ipython3",
   "version": "3.10.1"
  }
 },
 "nbformat": 4,
 "nbformat_minor": 5
}
