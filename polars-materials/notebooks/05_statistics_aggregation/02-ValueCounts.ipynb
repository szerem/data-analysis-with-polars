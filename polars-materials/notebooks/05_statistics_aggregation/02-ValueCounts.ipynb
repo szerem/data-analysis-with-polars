{
 "cells": [
  {
   "cell_type": "markdown",
   "id": "7ab313ba-6253-4d32-a2e4-5b5558b16c91",
   "metadata": {},
   "source": [
    "# Value counts\n",
    "By the end of this lecture you will be able to:\n",
    "- count occurrences in a column with `value_counts`\n",
    "- create a bar chart of the outputs\n",
    "- use `value_counts` in an expression\n",
    "- use `value_counts` in lazy mode"
   ]
  },
  {
   "cell_type": "code",
   "execution_count": null,
   "id": "b5e894f2-657c-4b47-b6f5-b4da9a50fbd7",
   "metadata": {
    "tags": []
   },
   "outputs": [],
   "source": [
    "import polars as pl"
   ]
  },
  {
   "cell_type": "code",
   "execution_count": null,
   "id": "995173a7-de94-4202-9b79-ca1bc501d690",
   "metadata": {
    "tags": []
   },
   "outputs": [],
   "source": [
    "csv_file = '../data/titanic.csv'"
   ]
  },
  {
   "cell_type": "code",
   "execution_count": null,
   "id": "a7e71fc9-e440-4908-a1d3-ab76c7a6eaeb",
   "metadata": {
    "tags": []
   },
   "outputs": [],
   "source": [
    "df = pl.read_csv(csv_file)\n",
    "df.head(3)"
   ]
  },
  {
   "cell_type": "markdown",
   "id": "0445e58a-13f0-4a55-baad-917ab896ab14",
   "metadata": {},
   "source": [
    "## Count occurences in a `Series`\n",
    "We use `value_counts` to count occurences in a `Series`"
   ]
  },
  {
   "cell_type": "code",
   "execution_count": null,
   "id": "1dcb2ccf-4bdf-4575-bc5a-eb739653e6b2",
   "metadata": {
    "tags": []
   },
   "outputs": [],
   "source": [
    "df['Pclass'].value_counts()"
   ]
  },
  {
   "cell_type": "markdown",
   "id": "5d66287e-0679-4fc6-8428-ffa523fd9813",
   "metadata": {},
   "source": [
    "> In Pandas the output of this operation is a `Series` but in Polars the output is a `DataFrame` with one column for the categories and one for the counts."
   ]
  },
  {
   "cell_type": "markdown",
   "id": "5572e2ea-acf2-4e3f-b65c-57c63ae825a8",
   "metadata": {},
   "source": [
    "The order will vary each time you run `value_counts` unless you pass the `sort` argument"
   ]
  },
  {
   "cell_type": "code",
   "execution_count": null,
   "id": "80449592-5dad-443e-881d-13bc7befa408",
   "metadata": {
    "tags": []
   },
   "outputs": [],
   "source": [
    "df['Pclass'].value_counts(sort=True)"
   ]
  },
  {
   "cell_type": "markdown",
   "id": "b3d43f28-867d-4b04-871f-5cc14736d492",
   "metadata": {},
   "source": [
    "We can also sort by the category using the `sort` method"
   ]
  },
  {
   "cell_type": "code",
   "execution_count": null,
   "id": "4561fa6c-d5d2-41ba-a0f4-1a1025f2d0c9",
   "metadata": {
    "tags": []
   },
   "outputs": [],
   "source": [
    "df['Pclass'].value_counts().sort(\"Pclass\")"
   ]
  },
  {
   "cell_type": "markdown",
   "id": "47b90d1c-7fac-4794-bf83-934f57a71805",
   "metadata": {},
   "source": [
    "As `value_count` works on a single column it is not done in parallel by default. If we have a long `Series` it might be worth doing this in parallel with the `parallel` argument"
   ]
  },
  {
   "cell_type": "code",
   "execution_count": null,
   "id": "f6147657-0838-4d2b-a60e-c63ece6d34e2",
   "metadata": {},
   "outputs": [],
   "source": [
    "df['Pclass'].value_counts(parallel=True)"
   ]
  },
  {
   "cell_type": "markdown",
   "id": "8cba9cf5-19dd-4cd2-bf4f-c016735547e7",
   "metadata": {},
   "source": [
    "## Value counts as an expression\n",
    "We can call `value_counts` in an expression"
   ]
  },
  {
   "cell_type": "code",
   "execution_count": null,
   "id": "1a62b4ef-4d35-4476-8c80-0b595f055666",
   "metadata": {
    "tags": []
   },
   "outputs": [],
   "source": [
    "(\n",
    "    df\n",
    "    .select(\n",
    "        pl.col(\"Pclass\").value_counts()\n",
    "    )\n",
    ")"
   ]
  },
  {
   "cell_type": "markdown",
   "id": "65bf86bd-587c-4b7c-8703-b506209e1c08",
   "metadata": {},
   "source": [
    "However, the output is a one-column `DataFrame` with a `pl.Struct` column.\n",
    "\n",
    "We can get the output as a two-column `DataFrame` by calling `.struct.unnest` on the `Series` to give the same output as calling `value_counts` on a `Series`"
   ]
  },
  {
   "cell_type": "code",
   "execution_count": null,
   "id": "7fd5bf3d-fadf-4d97-9bf3-1cd6bbad29bf",
   "metadata": {
    "tags": []
   },
   "outputs": [],
   "source": [
    "(\n",
    "    df\n",
    "    .select(\n",
    "        pl.col(\"Pclass\").value_counts()\n",
    "    )\n",
    "    [\"Pclass\"]\n",
    "    .struct.unnest()\n",
    ")"
   ]
  },
  {
   "cell_type": "markdown",
   "id": "2192f7eb-46ae-415a-bed3-52f0cb7ee240",
   "metadata": {},
   "source": [
    "## Plotting the value counts\n",
    "\n",
    "To display the output we need to convert the integer `Pclass` column to string dtype.\n",
    "\n",
    "We call `value_counts` on a `Series` again"
   ]
  },
  {
   "cell_type": "code",
   "execution_count": null,
   "id": "d2f2dc2c-f893-4835-b918-b7013faa7cf2",
   "metadata": {},
   "outputs": [],
   "source": [
    "(\n",
    "    df['Pclass']\n",
    "    .value_counts()\n",
    "    .sort(\"Pclass\")\n",
    "    .with_columns(\n",
    "        pl.col(\"Pclass\").cast(pl.Utf8)\n",
    "    )\n",
    "    .plot\n",
    "    .bar(\n",
    "        x=\"Pclass\",\n",
    "        y=\"count\"\n",
    "    )\n",
    ")"
   ]
  },
  {
   "cell_type": "markdown",
   "id": "22488d2a-3e61-4ec8-a0db-02b1d471baf2",
   "metadata": {},
   "source": [
    "## Value counts in lazy mode\n",
    "To calculate value counts in lazy mode we call `value_counts` as an expression on a `LazyFrame`.\n",
    "\n",
    "As the output of the `value_counts` expression is a `struct` dtype we then:\n",
    "- trigger evaluation of the `LazyFrame`\n",
    "- transform the `struct` column to a `DataFrame`"
   ]
  },
  {
   "cell_type": "code",
   "execution_count": null,
   "id": "773df28f-f738-4ebd-9e84-80105e0775d8",
   "metadata": {
    "tags": []
   },
   "outputs": [],
   "source": [
    "(\n",
    "    pl.scan_csv(csv_file)\n",
    "    .select(\n",
    "        pl.col(\"Pclass\").value_counts()\n",
    "    )\n",
    "    .collect()\n",
    "    [\"Pclass\"]\n",
    "    .struct.unnest()\n",
    ")"
   ]
  },
  {
   "cell_type": "markdown",
   "id": "a6613b3c-85a3-4c84-a020-f1f7eb76ae20",
   "metadata": {},
   "source": [
    "In this lazy query Polars detects that only the `Pclass` column needs to be read from the CSV in lazy mode."
   ]
  },
  {
   "cell_type": "code",
   "execution_count": null,
   "id": "8eba23e1-2314-4f85-b99b-da7de1e89824",
   "metadata": {
    "tags": []
   },
   "outputs": [],
   "source": [
    "print(\n",
    "    pl.scan_csv(csv_file)\n",
    "    .select(\n",
    "        pl.col(\"Pclass\").value_counts()\n",
    "    )\n",
    "    .explain()\n",
    ")"
   ]
  },
  {
   "cell_type": "markdown",
   "id": "8a556e15-be80-4489-baa6-2c28d5a4a0d4",
   "metadata": {},
   "source": [
    "We see this from `PROJECT 1/12 COLUMNS` in the optimised query plan.\n",
    "\n",
    "However, `value_counts` does not currently work in streaming mode as the `value_counts` expression occurs after the `STREAMING` block of the streaming query plan"
   ]
  },
  {
   "cell_type": "code",
   "execution_count": null,
   "id": "2b6e1af2-feff-4ac8-93a6-542fcc22af8b",
   "metadata": {},
   "outputs": [],
   "source": [
    "print(\n",
    "    pl.scan_csv(csv_file)\n",
    "    .select(\n",
    "        pl.col(\"Pclass\").value_counts()\n",
    "    )\n",
    "    .explain(streaming=True)\n",
    ")"
   ]
  },
  {
   "cell_type": "markdown",
   "id": "5082745b-e3cd-486a-aa30-31633c8361f5",
   "metadata": {},
   "source": [
    "## Exercises\n",
    "\n",
    "In the exercises you will develop your understanding of:\n",
    "- calculating value counts\n",
    "- calculating percentages\n",
    "- visualising the outputs\n",
    "- doing `value_counts` in lazy mode\n",
    "\n",
    "### Exercise 1\n",
    "Calculate the value counts on the `Survived` column as a `Series`. "
   ]
  },
  {
   "cell_type": "code",
   "execution_count": null,
   "id": "8e4c7852-76f0-4fc6-8378-9ae4b259e7c5",
   "metadata": {
    "tags": []
   },
   "outputs": [],
   "source": [
    "(\n",
    "    pl.read_csv(csv_file)\n",
    "    <blank>\n",
    ")"
   ]
  },
  {
   "cell_type": "markdown",
   "id": "7811118c-f37e-4d0c-8d20-9547bf41e845",
   "metadata": {},
   "source": [
    "Sort the output from highest to lowest"
   ]
  },
  {
   "cell_type": "code",
   "execution_count": null,
   "id": "f6795976-668b-42d2-b74d-d33639700fdd",
   "metadata": {
    "tags": []
   },
   "outputs": [],
   "source": []
  },
  {
   "cell_type": "markdown",
   "id": "fe5bc99a-35ea-4329-a128-098bb5cfae9c",
   "metadata": {},
   "source": [
    "Calculate the value counts on the `Survived` column as an expression "
   ]
  },
  {
   "cell_type": "code",
   "execution_count": null,
   "id": "f452ec17-6873-4ad1-a632-4c4bfb9716c2",
   "metadata": {},
   "outputs": [],
   "source": []
  },
  {
   "cell_type": "markdown",
   "id": "ca19309d-5696-4acb-bed9-463d31f0fbe6",
   "metadata": {},
   "source": [
    "Calculate the value counts on the `Survived` column as an expression and convert the `pl.Struct` column to a `DataFrame`"
   ]
  },
  {
   "cell_type": "code",
   "execution_count": null,
   "id": "c5d426d1-ed8d-46ca-b028-8a55e0305d02",
   "metadata": {},
   "outputs": [],
   "source": []
  },
  {
   "cell_type": "markdown",
   "id": "de2701e8-8373-41bc-b142-c2ba1acb27cc",
   "metadata": {},
   "source": [
    "### Exercise 2\n",
    "As in the first part of Exercise 1, calculate the value counts on the `Survived` column as a `Series`"
   ]
  },
  {
   "cell_type": "code",
   "execution_count": null,
   "id": "10d56180-7557-4dbb-a4f5-5afa2ad8c857",
   "metadata": {},
   "outputs": [],
   "source": [
    "(\n",
    "    pl.read_csv(csv_file)\n",
    "    <blank>\n",
    ")"
   ]
  },
  {
   "cell_type": "markdown",
   "id": "a9fb81a1-97ab-4018-9d08-f53a362b0c16",
   "metadata": {},
   "source": [
    "Add an additional column with the percentage of passengers in each class (divide the `counts` column by the sum of the `counts` column. "
   ]
  },
  {
   "cell_type": "code",
   "execution_count": null,
   "id": "76f4abe4-52d2-4ec6-91cb-2f98d73fac55",
   "metadata": {},
   "outputs": [],
   "source": []
  },
  {
   "cell_type": "markdown",
   "id": "ed04a41b-cce6-4acf-8329-f5c7d0a60c6b",
   "metadata": {},
   "source": [
    "Express the percentages as values ranging from 0 to 100."
   ]
  },
  {
   "cell_type": "code",
   "execution_count": null,
   "id": "4248834b-ee14-4e62-98f7-45950f0a6b45",
   "metadata": {
    "tags": []
   },
   "outputs": [],
   "source": []
  },
  {
   "cell_type": "markdown",
   "id": "aa4ea7dd-fa48-4a20-8ec7-e949599413ae",
   "metadata": {},
   "source": [
    "Visualise the percentage values for each class in a bar chart"
   ]
  },
  {
   "cell_type": "code",
   "execution_count": null,
   "id": "1577f8b4-5b04-4c8e-b8bb-0dc46dfa515d",
   "metadata": {
    "tags": []
   },
   "outputs": [],
   "source": []
  },
  {
   "cell_type": "markdown",
   "id": "7fa1ece4-363a-4ec5-a0e6-44ca3c5f7a93",
   "metadata": {},
   "source": [
    "### Exercise 3\n",
    "\n",
    "Construct the query that produces the following optimized query plan\n",
    "```\n",
    " SELECT [col(\"Age\").round().value_counts()] FROM\n",
    "\n",
    "    Csv SCAN ../data/titanic.csv\n",
    "    PROJECT 1/12 COLUMNS\n",
    "```\n"
   ]
  },
  {
   "cell_type": "code",
   "execution_count": null,
   "id": "c192ed46-779d-4811-9585-cbe3ae0cfa62",
   "metadata": {
    "tags": []
   },
   "outputs": [],
   "source": [
    "dfLazy = (\n",
    "     <blank>\n",
    ")\n",
    "\n",
    "\n",
    "print(dfLazy.explain())"
   ]
  },
  {
   "cell_type": "markdown",
   "id": "ea023de2-7ec9-44e8-a901-e092ac0af238",
   "metadata": {},
   "source": [
    "### Exercise 4\n",
    "We create a `DataFrame` from the Spotify data"
   ]
  },
  {
   "cell_type": "code",
   "execution_count": null,
   "id": "0dd1372a-46a2-4379-b1f7-b30ce4a47356",
   "metadata": {},
   "outputs": [],
   "source": [
    "pl.Config.set_fmt_str_lengths(100)\n",
    "pl.Config.set_tbl_rows(10)\n",
    "spotify_csv = \"../data/spotify-charts-2017-2021-global-top200.csv.gz\"\n",
    "spotify_df = pl.read_csv(spotify_csv,try_parse_dates=True)\n",
    "spotify_df.head(3)"
   ]
  },
  {
   "cell_type": "markdown",
   "id": "937e65fd-7868-49a0-9376-85dbe2ae5bee",
   "metadata": {},
   "source": [
    "Create a `DataFrame` with the 5 most common tracks by count of rows"
   ]
  },
  {
   "cell_type": "code",
   "execution_count": null,
   "id": "6ac6638d-7a10-44f9-b11f-d4c95a34aa24",
   "metadata": {},
   "outputs": [],
   "source": []
  },
  {
   "cell_type": "markdown",
   "id": "dc4324ec-c876-4bb2-be4e-c71cd80d5ea0",
   "metadata": {},
   "source": [
    "Create a bar chart of the 5 most common tracks by count of rows in your preferred plotting library (solutions provided for hvPlot, Altair, Matplotlib and Plotly)"
   ]
  },
  {
   "cell_type": "code",
   "execution_count": null,
   "id": "8565c844-9f26-4a46-a87c-39e37bae2b29",
   "metadata": {},
   "outputs": [],
   "source": []
  },
  {
   "cell_type": "markdown",
   "id": "fa373390-9134-4dbd-9788-441945ff462e",
   "metadata": {},
   "source": [
    "## Solutions\n",
    "\n",
    "### Solution to Exercise 1\n",
    "\n",
    "Calculate the value counts on the `Survived` column as a `Series`"
   ]
  },
  {
   "cell_type": "code",
   "execution_count": null,
   "id": "a7cd3b97-8c5d-4f9b-8860-96246bb34033",
   "metadata": {
    "jupyter": {
     "source_hidden": true
    },
    "tags": []
   },
   "outputs": [],
   "source": [
    "(\n",
    "    pl.read_csv(csv_file)\n",
    "    ['Survived']\n",
    "    .value_counts()\n",
    ")"
   ]
  },
  {
   "cell_type": "markdown",
   "id": "2ec4b846-b11b-4bdf-b1c5-fa4f57d8e603",
   "metadata": {},
   "source": [
    "Sort by the counts from highest to lowest"
   ]
  },
  {
   "cell_type": "code",
   "execution_count": null,
   "id": "6235f4e4-83dd-4dc7-a14b-5db267930c82",
   "metadata": {
    "jupyter": {
     "source_hidden": true
    },
    "tags": []
   },
   "outputs": [],
   "source": [
    "(\n",
    "    pl.read_csv(csv_file)\n",
    "    ['Survived']\n",
    "    .value_counts(sort=True)\n",
    ")"
   ]
  },
  {
   "cell_type": "markdown",
   "id": "0f52baf2-af0d-416f-a4ca-cf6122dcc93d",
   "metadata": {},
   "source": [
    "Calculate the value counts on the `Survived` column as an expression"
   ]
  },
  {
   "cell_type": "code",
   "execution_count": null,
   "id": "16c68300-6b1c-4f12-b96a-668bf08e0637",
   "metadata": {
    "jupyter": {
     "source_hidden": true
    },
    "tags": []
   },
   "outputs": [],
   "source": [
    "(\n",
    "    pl.read_csv(csv_file)\n",
    "    .select(\n",
    "        pl.col(\"Survived\").value_counts()\n",
    "    )\n",
    ")"
   ]
  },
  {
   "cell_type": "markdown",
   "id": "580e82de-c692-453e-be1d-6d548a544a32",
   "metadata": {},
   "source": [
    "Calculate the value counts on the `Survived` column as an expression and convert the `pl.Struct` column to a `DataFrame`"
   ]
  },
  {
   "cell_type": "code",
   "execution_count": null,
   "id": "36c85673-7607-40f1-ba9c-2dea0bfbb312",
   "metadata": {
    "jupyter": {
     "source_hidden": true
    },
    "tags": []
   },
   "outputs": [],
   "source": [
    "(\n",
    "    pl.read_csv(csv_file)\n",
    "    .select(\n",
    "        pl.col(\"Survived\").value_counts()\n",
    "    )\n",
    "    [\"Survived\"]\n",
    "    .struct.unnest()\n",
    ")"
   ]
  },
  {
   "cell_type": "markdown",
   "id": "46d393b4-37a8-4179-9145-d2541f16e7f5",
   "metadata": {},
   "source": [
    "### Solution to Exercise 2\n",
    "As in the first part of Exercise 1, calculate the value counts on the `Survived` column as a `Series`"
   ]
  },
  {
   "cell_type": "code",
   "execution_count": null,
   "id": "048d574b-b444-43c5-8986-fde229f641bc",
   "metadata": {
    "jupyter": {
     "source_hidden": true
    },
    "tags": []
   },
   "outputs": [],
   "source": [
    "(\n",
    "    pl.read_csv(csv_file)\n",
    "    ['Survived']\n",
    "    .value_counts(sort=True)\n",
    ")"
   ]
  },
  {
   "cell_type": "markdown",
   "id": "22afb40d-25c8-4849-b096-d1c99c41b842",
   "metadata": {},
   "source": [
    "Add an additional column with the percentage of passengers in each class (divide the `counts` column by the sum of the `counts` column. "
   ]
  },
  {
   "cell_type": "code",
   "execution_count": null,
   "id": "3c5380c4-26fe-495a-b9dc-def5463efbb9",
   "metadata": {
    "jupyter": {
     "source_hidden": true
    },
    "tags": []
   },
   "outputs": [],
   "source": [
    "(\n",
    "    pl.read_csv(csv_file)\n",
    "    ['Survived']\n",
    "    .value_counts(sort=True)\n",
    "    .with_columns(\n",
    "        (pl.col(\"count\")/pl.col(\"count\").sum()).alias(\"percent\")\n",
    "    )\n",
    ")"
   ]
  },
  {
   "cell_type": "markdown",
   "id": "af818a75-de24-4306-8651-7eb8567707e9",
   "metadata": {},
   "source": [
    "Express the percentages as values ranging from 0 to 100."
   ]
  },
  {
   "cell_type": "code",
   "execution_count": null,
   "id": "d19066bd-e9c0-4b5a-889f-ad41c60cd3ed",
   "metadata": {
    "jupyter": {
     "source_hidden": true
    },
    "tags": []
   },
   "outputs": [],
   "source": [
    "(\n",
    "    pl.read_csv(csv_file)\n",
    "    ['Survived']\n",
    "    .value_counts(sort=True)\n",
    "    .with_columns(\n",
    "        (100*(pl.col(\"count\")/pl.col(\"count\").sum())).alias(\"percent\")\n",
    "    )\n",
    ")"
   ]
  },
  {
   "cell_type": "markdown",
   "id": "f4587a22-173a-45e3-9e06-fc574cfc1af0",
   "metadata": {},
   "source": [
    "Visualise the outputs as a bar chart"
   ]
  },
  {
   "cell_type": "code",
   "execution_count": null,
   "id": "40a3d2dd-11ca-4fe5-b7d4-17f890ffaaf2",
   "metadata": {
    "jupyter": {
     "source_hidden": true
    },
    "scrolled": true,
    "tags": []
   },
   "outputs": [],
   "source": [
    "survived_count_df = (\n",
    "    pl.read_csv(csv_file)\n",
    "    ['Survived']\n",
    "    .value_counts(sort=True)\n",
    "    .with_columns(\n",
    "        pl.col(\"Survived\").cast(pl.Utf8)\n",
    "    )\n",
    "    .with_columns(\n",
    "        (100*(pl.col(\"count\")/pl.col(\"count\").sum())).alias(\"percent\")\n",
    "    )\n",
    ")\n",
    "\n",
    "(\n",
    "    survived_count_df\n",
    "    .plot\n",
    "    .bar(\n",
    "        x=\"Survived\",\n",
    "        y=\"percent\"\n",
    "    )\n",
    ")"
   ]
  },
  {
   "cell_type": "markdown",
   "id": "3b5554f5-3219-4e7e-8f8b-ab1b98879b1f",
   "metadata": {},
   "source": [
    "### Solution to Exercise 3\n",
    "Construct the query that produces the following optimized query plan\n",
    "```\n",
    " SELECT [col(\"Age\").round().value_counts()] FROM\n",
    "\n",
    "    Csv SCAN ../data/titanic.csv\n",
    "    PROJECT 1/12 COLUMNS\n",
    "```\n"
   ]
  },
  {
   "cell_type": "code",
   "execution_count": null,
   "id": "96a4b135-935c-479b-bb74-14baf03d2219",
   "metadata": {
    "jupyter": {
     "source_hidden": true
    },
    "tags": []
   },
   "outputs": [],
   "source": [
    "dfLazy = (\n",
    "    pl.scan_csv(csv_file)\n",
    "    .select(\n",
    "        pl.col(\"Age\").round(0).value_counts()\n",
    "    )\n",
    ")\n",
    "print(dfLazy.explain())"
   ]
  },
  {
   "cell_type": "markdown",
   "id": "a5714efa-0be8-4c65-9e67-9567582f484f",
   "metadata": {},
   "source": [
    "### Solution to Exercise 4\n",
    "We create a `DataFrame` from the Spotify data"
   ]
  },
  {
   "cell_type": "code",
   "execution_count": null,
   "id": "9528cb47-fe6d-46d7-8bc2-eee8704129c2",
   "metadata": {},
   "outputs": [],
   "source": [
    "pl.Config.set_fmt_str_lengths(100)\n",
    "pl.Config.set_tbl_rows(10)\n",
    "spotify_csv = \"../data/spotify-charts-2017-2021-global-top200.csv.gz\"\n",
    "spotify_df = pl.read_csv(spotify_csv,try_parse_dates=True)\n",
    "spotify_df.head(3)"
   ]
  },
  {
   "cell_type": "markdown",
   "id": "c9cf48cf-d841-42c7-998c-7ad8937bbb71",
   "metadata": {},
   "source": [
    "Create a `DataFrame` with the 5 most common tracks by count of rows"
   ]
  },
  {
   "cell_type": "code",
   "execution_count": null,
   "id": "cd940450-38e3-41b5-a798-64cf0b3e1349",
   "metadata": {
    "jupyter": {
     "source_hidden": true
    }
   },
   "outputs": [],
   "source": [
    "(\n",
    "    spotify_df\n",
    "    [\"title\"]\n",
    "    .value_counts(sort=True)\n",
    "    .head()\n",
    ")"
   ]
  },
  {
   "cell_type": "markdown",
   "id": "7d09c9d3-a272-4c50-9514-90ccbf8a0bdd",
   "metadata": {},
   "source": [
    "Create a bar chart of the 5 most common tracks by count of rows (solutions provided for hvPlot, Altair, Matplotlib and Plotly)"
   ]
  },
  {
   "cell_type": "code",
   "execution_count": null,
   "id": "b928eb98-e3c5-476d-80d2-56769108bb01",
   "metadata": {
    "jupyter": {
     "source_hidden": true
    }
   },
   "outputs": [],
   "source": [
    "# hvPlot\n",
    "top_titles_df = (\n",
    "    spotify_df\n",
    "    [\"title\"]\n",
    "    .value_counts(sort=True)\n",
    "    .head()\n",
    "    )\n",
    "(\n",
    "    top_titles_df\n",
    "    .plot\n",
    "    .bar(\n",
    "        x=\"title\",\n",
    "        y=\"count\",\n",
    "    )\n",
    ")"
   ]
  },
  {
   "cell_type": "code",
   "execution_count": null,
   "id": "b72ae2ff-a468-4675-8d35-ba30dac5d338",
   "metadata": {
    "jupyter": {
     "source_hidden": true
    }
   },
   "outputs": [],
   "source": [
    "import altair as alt\n",
    "alt.Chart(\n",
    "    (\n",
    "    spotify_df\n",
    "    [\"title\"]\n",
    "    .value_counts(sort=True)\n",
    "    .head()\n",
    "    ),\n",
    "    width=600\n",
    ").mark_bar().encode(\n",
    "    x=alt.X(\"title:N\",sort=\"-y\"),\n",
    "    y=\"count:Q\"\n",
    ")"
   ]
  },
  {
   "cell_type": "code",
   "execution_count": null,
   "id": "4a0e99d9-c43f-4233-a1e6-29c2dea93423",
   "metadata": {
    "jupyter": {
     "source_hidden": true
    }
   },
   "outputs": [],
   "source": [
    "import matplotlib.pyplot as plt\n",
    "top_titles_df = (\n",
    "    spotify_df\n",
    "    [\"title\"]\n",
    "    .value_counts(sort=True)\n",
    "    .head()\n",
    "    )\n",
    "plt.bar(\n",
    "    x=top_titles_df[\"title\"],\n",
    "    height=top_titles_df[\"count\"],\n",
    ")"
   ]
  },
  {
   "cell_type": "code",
   "execution_count": null,
   "id": "96f906f4-5fdd-4dbf-ab25-ca5182d41897",
   "metadata": {
    "jupyter": {
     "source_hidden": true
    }
   },
   "outputs": [],
   "source": [
    "import plotly.express as px\n",
    "top_titles_df = (\n",
    "    spotify_df\n",
    "    [\"title\"]\n",
    "    .value_counts(sort=True)\n",
    "    .head()\n",
    "    )\n",
    "px.bar(\n",
    "    top_titles_df,\n",
    "    x=\"title\",\n",
    "    y=\"count\",\n",
    ")"
   ]
  },
  {
   "cell_type": "code",
   "execution_count": null,
   "id": "b9dafc8b-a056-40f0-a5b1-508b5e650a38",
   "metadata": {},
   "outputs": [],
   "source": []
  }
 ],
 "metadata": {
  "kernelspec": {
   "display_name": "Python 3 (ipykernel)",
   "language": "python",
   "name": "python3"
  },
  "language_info": {
   "codemirror_mode": {
    "name": "ipython",
    "version": 3
   },
   "file_extension": ".py",
   "mimetype": "text/x-python",
   "name": "python",
   "nbconvert_exporter": "python",
   "pygments_lexer": "ipython3",
   "version": "3.10.1"
  }
 },
 "nbformat": 4,
 "nbformat_minor": 5
}
