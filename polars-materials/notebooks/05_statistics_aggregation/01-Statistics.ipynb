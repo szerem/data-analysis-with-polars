{
 "cells": [
  {
   "cell_type": "markdown",
   "id": "5686a2c5-6046-42c4-afae-934f88b879e2",
   "metadata": {},
   "source": [
    "# Statistics\n",
    "By the end of this lecture you will be able to:\n",
    "- calculate statistics on a `DataFrame` or expression\n",
    "- calculate cumulative, rolling and exponentially-weighted statistics\n",
    "- do row-wise calculations"
   ]
  },
  {
   "cell_type": "code",
   "execution_count": 1,
   "id": "b80f1989-72d2-4ae5-902b-7c1ff0d38e82",
   "metadata": {
    "tags": []
   },
   "outputs": [],
   "source": [
    "import polars as pl"
   ]
  },
  {
   "cell_type": "code",
   "execution_count": 2,
   "id": "0463baf3-9101-44bd-89c4-a14992eeb699",
   "metadata": {
    "tags": []
   },
   "outputs": [],
   "source": [
    "csv_file = \"../data/titanic.csv\""
   ]
  },
  {
   "cell_type": "code",
   "execution_count": 15,
   "id": "e23647a7-cbb5-49a9-9de4-aef6466b6872",
   "metadata": {
    "tags": []
   },
   "outputs": [
    {
     "data": {
      "text/html": [
       "<div><style>\n",
       ".dataframe > thead > tr,\n",
       ".dataframe > tbody > tr {\n",
       "  text-align: right;\n",
       "  white-space: pre-wrap;\n",
       "}\n",
       "</style>\n",
       "<small>shape: (3, 12)</small><table border=\"1\" class=\"dataframe\"><thead><tr><th>PassengerId</th><th>Survived</th><th>Pclass</th><th>Name</th><th>Sex</th><th>Age</th><th>SibSp</th><th>Parch</th><th>Ticket</th><th>Fare</th><th>Cabin</th><th>Embarked</th></tr><tr><td>i64</td><td>i64</td><td>i64</td><td>str</td><td>str</td><td>f64</td><td>i64</td><td>i64</td><td>str</td><td>f64</td><td>str</td><td>str</td></tr></thead><tbody><tr><td>1</td><td>0</td><td>3</td><td>&quot;Braund, Mr. Ow…</td><td>&quot;male&quot;</td><td>22.0</td><td>1</td><td>0</td><td>&quot;A/5 21171&quot;</td><td>7.25</td><td>null</td><td>&quot;S&quot;</td></tr><tr><td>2</td><td>1</td><td>1</td><td>&quot;Cumings, Mrs. …</td><td>&quot;female&quot;</td><td>38.0</td><td>1</td><td>0</td><td>&quot;PC 17599&quot;</td><td>71.2833</td><td>&quot;C85&quot;</td><td>&quot;C&quot;</td></tr><tr><td>3</td><td>1</td><td>3</td><td>&quot;Heikkinen, Mis…</td><td>&quot;female&quot;</td><td>26.0</td><td>0</td><td>0</td><td>&quot;STON/O2. 31012…</td><td>7.925</td><td>null</td><td>&quot;S&quot;</td></tr></tbody></table></div>"
      ],
      "text/plain": [
       "shape: (3, 12)\n",
       "┌─────────────┬──────────┬────────┬───────────────────┬───┬───────────┬─────────┬───────┬──────────┐\n",
       "│ PassengerId ┆ Survived ┆ Pclass ┆ Name              ┆ … ┆ Ticket    ┆ Fare    ┆ Cabin ┆ Embarked │\n",
       "│ ---         ┆ ---      ┆ ---    ┆ ---               ┆   ┆ ---       ┆ ---     ┆ ---   ┆ ---      │\n",
       "│ i64         ┆ i64      ┆ i64    ┆ str               ┆   ┆ str       ┆ f64     ┆ str   ┆ str      │\n",
       "╞═════════════╪══════════╪════════╪═══════════════════╪═══╪═══════════╪═════════╪═══════╪══════════╡\n",
       "│ 1           ┆ 0        ┆ 3      ┆ Braund, Mr. Owen  ┆ … ┆ A/5 21171 ┆ 7.25    ┆ null  ┆ S        │\n",
       "│             ┆          ┆        ┆ Harris            ┆   ┆           ┆         ┆       ┆          │\n",
       "│ 2           ┆ 1        ┆ 1      ┆ Cumings, Mrs.     ┆ … ┆ PC 17599  ┆ 71.2833 ┆ C85   ┆ C        │\n",
       "│             ┆          ┆        ┆ John Bradley      ┆   ┆           ┆         ┆       ┆          │\n",
       "│             ┆          ┆        ┆ (Flor…            ┆   ┆           ┆         ┆       ┆          │\n",
       "│ 3           ┆ 1        ┆ 3      ┆ Heikkinen, Miss.  ┆ … ┆ STON/O2.  ┆ 7.925   ┆ null  ┆ S        │\n",
       "│             ┆          ┆        ┆ Laina             ┆   ┆ 3101282   ┆         ┆       ┆          │\n",
       "└─────────────┴──────────┴────────┴───────────────────┴───┴───────────┴─────────┴───────┴──────────┘"
      ]
     },
     "execution_count": 15,
     "metadata": {},
     "output_type": "execute_result"
    }
   ],
   "source": [
    "df = pl.read_csv(csv_file)\n",
    "df.head(3)"
   ]
  },
  {
   "cell_type": "markdown",
   "id": "dd900f23-ff7d-4e70-8131-e3c314d488e5",
   "metadata": {},
   "source": [
    "## Statistics on a `DataFrame`\n",
    "\n",
    "We can call statistical methods on all columns of a `DataFrame` such as `mean`,`min`,`max` etc"
   ]
  },
  {
   "cell_type": "code",
   "execution_count": 4,
   "id": "a2378c7b-1e82-40fc-909a-7279dd81f27f",
   "metadata": {
    "tags": []
   },
   "outputs": [
    {
     "data": {
      "text/html": [
       "<div><style>\n",
       ".dataframe > thead > tr,\n",
       ".dataframe > tbody > tr {\n",
       "  text-align: right;\n",
       "  white-space: pre-wrap;\n",
       "}\n",
       "</style>\n",
       "<small>shape: (1, 12)</small><table border=\"1\" class=\"dataframe\"><thead><tr><th>PassengerId</th><th>Survived</th><th>Pclass</th><th>Name</th><th>Sex</th><th>Age</th><th>SibSp</th><th>Parch</th><th>Ticket</th><th>Fare</th><th>Cabin</th><th>Embarked</th></tr><tr><td>f64</td><td>f64</td><td>f64</td><td>str</td><td>str</td><td>f64</td><td>f64</td><td>f64</td><td>str</td><td>f64</td><td>str</td><td>str</td></tr></thead><tbody><tr><td>446.0</td><td>0.383838</td><td>2.308642</td><td>null</td><td>null</td><td>29.699118</td><td>0.523008</td><td>0.381594</td><td>null</td><td>32.204208</td><td>null</td><td>null</td></tr></tbody></table></div>"
      ],
      "text/plain": [
       "shape: (1, 12)\n",
       "┌─────────────┬──────────┬──────────┬──────┬───┬────────┬───────────┬───────┬──────────┐\n",
       "│ PassengerId ┆ Survived ┆ Pclass   ┆ Name ┆ … ┆ Ticket ┆ Fare      ┆ Cabin ┆ Embarked │\n",
       "│ ---         ┆ ---      ┆ ---      ┆ ---  ┆   ┆ ---    ┆ ---       ┆ ---   ┆ ---      │\n",
       "│ f64         ┆ f64      ┆ f64      ┆ str  ┆   ┆ str    ┆ f64       ┆ str   ┆ str      │\n",
       "╞═════════════╪══════════╪══════════╪══════╪═══╪════════╪═══════════╪═══════╪══════════╡\n",
       "│ 446.0       ┆ 0.383838 ┆ 2.308642 ┆ null ┆ … ┆ null   ┆ 32.204208 ┆ null  ┆ null     │\n",
       "└─────────────┴──────────┴──────────┴──────┴───┴────────┴───────────┴───────┴──────────┘"
      ]
     },
     "execution_count": 4,
     "metadata": {},
     "output_type": "execute_result"
    }
   ],
   "source": [
    "df.mean()"
   ]
  },
  {
   "cell_type": "markdown",
   "id": "a24e72c4-bfcd-4191-888f-9b9b0bd5fdbd",
   "metadata": {},
   "source": [
    "We can get an overview of the statistics of a `DataFrame` with `describe`"
   ]
  },
  {
   "cell_type": "code",
   "execution_count": 5,
   "id": "065a5182-7a8f-4204-8f85-30406c4a4ed1",
   "metadata": {
    "tags": []
   },
   "outputs": [
    {
     "data": {
      "text/html": [
       "<div><style>\n",
       ".dataframe > thead > tr,\n",
       ".dataframe > tbody > tr {\n",
       "  text-align: right;\n",
       "  white-space: pre-wrap;\n",
       "}\n",
       "</style>\n",
       "<small>shape: (9, 13)</small><table border=\"1\" class=\"dataframe\"><thead><tr><th>statistic</th><th>PassengerId</th><th>Survived</th><th>Pclass</th><th>Name</th><th>Sex</th><th>Age</th><th>SibSp</th><th>Parch</th><th>Ticket</th><th>Fare</th><th>Cabin</th><th>Embarked</th></tr><tr><td>str</td><td>f64</td><td>f64</td><td>f64</td><td>str</td><td>str</td><td>f64</td><td>f64</td><td>f64</td><td>str</td><td>f64</td><td>str</td><td>str</td></tr></thead><tbody><tr><td>&quot;count&quot;</td><td>891.0</td><td>891.0</td><td>891.0</td><td>&quot;891&quot;</td><td>&quot;891&quot;</td><td>714.0</td><td>891.0</td><td>891.0</td><td>&quot;891&quot;</td><td>891.0</td><td>&quot;204&quot;</td><td>&quot;889&quot;</td></tr><tr><td>&quot;null_count&quot;</td><td>0.0</td><td>0.0</td><td>0.0</td><td>&quot;0&quot;</td><td>&quot;0&quot;</td><td>177.0</td><td>0.0</td><td>0.0</td><td>&quot;0&quot;</td><td>0.0</td><td>&quot;687&quot;</td><td>&quot;2&quot;</td></tr><tr><td>&quot;mean&quot;</td><td>446.0</td><td>0.383838</td><td>2.308642</td><td>null</td><td>null</td><td>29.699118</td><td>0.523008</td><td>0.381594</td><td>null</td><td>32.204208</td><td>null</td><td>null</td></tr><tr><td>&quot;std&quot;</td><td>257.353842</td><td>0.486592</td><td>0.836071</td><td>null</td><td>null</td><td>14.526497</td><td>1.102743</td><td>0.806057</td><td>null</td><td>49.693429</td><td>null</td><td>null</td></tr><tr><td>&quot;min&quot;</td><td>1.0</td><td>0.0</td><td>1.0</td><td>&quot;Abbing, Mr. An…</td><td>&quot;female&quot;</td><td>0.42</td><td>0.0</td><td>0.0</td><td>&quot;110152&quot;</td><td>0.0</td><td>&quot;A10&quot;</td><td>&quot;C&quot;</td></tr><tr><td>&quot;25%&quot;</td><td>224.0</td><td>0.0</td><td>2.0</td><td>null</td><td>null</td><td>20.0</td><td>0.0</td><td>0.0</td><td>null</td><td>7.925</td><td>null</td><td>null</td></tr><tr><td>&quot;50%&quot;</td><td>446.0</td><td>0.0</td><td>3.0</td><td>null</td><td>null</td><td>28.0</td><td>0.0</td><td>0.0</td><td>null</td><td>14.4542</td><td>null</td><td>null</td></tr><tr><td>&quot;75%&quot;</td><td>669.0</td><td>1.0</td><td>3.0</td><td>null</td><td>null</td><td>38.0</td><td>1.0</td><td>0.0</td><td>null</td><td>31.0</td><td>null</td><td>null</td></tr><tr><td>&quot;max&quot;</td><td>891.0</td><td>1.0</td><td>3.0</td><td>&quot;van Melkebeke,…</td><td>&quot;male&quot;</td><td>80.0</td><td>8.0</td><td>6.0</td><td>&quot;WE/P 5735&quot;</td><td>512.3292</td><td>&quot;T&quot;</td><td>&quot;S&quot;</td></tr></tbody></table></div>"
      ],
      "text/plain": [
       "shape: (9, 13)\n",
       "┌────────────┬─────────────┬──────────┬──────────┬───┬───────────┬───────────┬───────┬──────────┐\n",
       "│ statistic  ┆ PassengerId ┆ Survived ┆ Pclass   ┆ … ┆ Ticket    ┆ Fare      ┆ Cabin ┆ Embarked │\n",
       "│ ---        ┆ ---         ┆ ---      ┆ ---      ┆   ┆ ---       ┆ ---       ┆ ---   ┆ ---      │\n",
       "│ str        ┆ f64         ┆ f64      ┆ f64      ┆   ┆ str       ┆ f64       ┆ str   ┆ str      │\n",
       "╞════════════╪═════════════╪══════════╪══════════╪═══╪═══════════╪═══════════╪═══════╪══════════╡\n",
       "│ count      ┆ 891.0       ┆ 891.0    ┆ 891.0    ┆ … ┆ 891       ┆ 891.0     ┆ 204   ┆ 889      │\n",
       "│ null_count ┆ 0.0         ┆ 0.0      ┆ 0.0      ┆ … ┆ 0         ┆ 0.0       ┆ 687   ┆ 2        │\n",
       "│ mean       ┆ 446.0       ┆ 0.383838 ┆ 2.308642 ┆ … ┆ null      ┆ 32.204208 ┆ null  ┆ null     │\n",
       "│ std        ┆ 257.353842  ┆ 0.486592 ┆ 0.836071 ┆ … ┆ null      ┆ 49.693429 ┆ null  ┆ null     │\n",
       "│ min        ┆ 1.0         ┆ 0.0      ┆ 1.0      ┆ … ┆ 110152    ┆ 0.0       ┆ A10   ┆ C        │\n",
       "│ 25%        ┆ 224.0       ┆ 0.0      ┆ 2.0      ┆ … ┆ null      ┆ 7.925     ┆ null  ┆ null     │\n",
       "│ 50%        ┆ 446.0       ┆ 0.0      ┆ 3.0      ┆ … ┆ null      ┆ 14.4542   ┆ null  ┆ null     │\n",
       "│ 75%        ┆ 669.0       ┆ 1.0      ┆ 3.0      ┆ … ┆ null      ┆ 31.0      ┆ null  ┆ null     │\n",
       "│ max        ┆ 891.0       ┆ 1.0      ┆ 3.0      ┆ … ┆ WE/P 5735 ┆ 512.3292  ┆ T     ┆ S        │\n",
       "└────────────┴─────────────┴──────────┴──────────┴───┴───────────┴───────────┴───────┴──────────┘"
      ]
     },
     "execution_count": 5,
     "metadata": {},
     "output_type": "execute_result"
    }
   ],
   "source": [
    "df.describe()"
   ]
  },
  {
   "cell_type": "markdown",
   "id": "b61f9c79-20c5-4316-9b75-419eafea3dd7",
   "metadata": {},
   "source": [
    "Note that for string columns the values are cast to string.\n",
    "\n",
    "We can specify the percentiles used in `describe` by passing a `list` or `tuple` of decimals"
   ]
  },
  {
   "cell_type": "code",
   "execution_count": 6,
   "id": "18bd2ad1-13e6-4a9c-8db1-5044e5a90b1e",
   "metadata": {},
   "outputs": [
    {
     "data": {
      "text/html": [
       "<div><style>\n",
       ".dataframe > thead > tr,\n",
       ".dataframe > tbody > tr {\n",
       "  text-align: right;\n",
       "  white-space: pre-wrap;\n",
       "}\n",
       "</style>\n",
       "<small>shape: (11, 13)</small><table border=\"1\" class=\"dataframe\"><thead><tr><th>statistic</th><th>PassengerId</th><th>Survived</th><th>Pclass</th><th>Name</th><th>Sex</th><th>Age</th><th>SibSp</th><th>Parch</th><th>Ticket</th><th>Fare</th><th>Cabin</th><th>Embarked</th></tr><tr><td>str</td><td>f64</td><td>f64</td><td>f64</td><td>str</td><td>str</td><td>f64</td><td>f64</td><td>f64</td><td>str</td><td>f64</td><td>str</td><td>str</td></tr></thead><tbody><tr><td>&quot;count&quot;</td><td>891.0</td><td>891.0</td><td>891.0</td><td>&quot;891&quot;</td><td>&quot;891&quot;</td><td>714.0</td><td>891.0</td><td>891.0</td><td>&quot;891&quot;</td><td>891.0</td><td>&quot;204&quot;</td><td>&quot;889&quot;</td></tr><tr><td>&quot;null_count&quot;</td><td>0.0</td><td>0.0</td><td>0.0</td><td>&quot;0&quot;</td><td>&quot;0&quot;</td><td>177.0</td><td>0.0</td><td>0.0</td><td>&quot;0&quot;</td><td>0.0</td><td>&quot;687&quot;</td><td>&quot;2&quot;</td></tr><tr><td>&quot;mean&quot;</td><td>446.0</td><td>0.383838</td><td>2.308642</td><td>null</td><td>null</td><td>29.699118</td><td>0.523008</td><td>0.381594</td><td>null</td><td>32.204208</td><td>null</td><td>null</td></tr><tr><td>&quot;std&quot;</td><td>257.353842</td><td>0.486592</td><td>0.836071</td><td>null</td><td>null</td><td>14.526497</td><td>1.102743</td><td>0.806057</td><td>null</td><td>49.693429</td><td>null</td><td>null</td></tr><tr><td>&quot;min&quot;</td><td>1.0</td><td>0.0</td><td>1.0</td><td>&quot;Abbing, Mr. An…</td><td>&quot;female&quot;</td><td>0.42</td><td>0.0</td><td>0.0</td><td>&quot;110152&quot;</td><td>0.0</td><td>&quot;A10&quot;</td><td>&quot;C&quot;</td></tr><tr><td>&quot;10%&quot;</td><td>90.0</td><td>0.0</td><td>1.0</td><td>null</td><td>null</td><td>14.0</td><td>0.0</td><td>0.0</td><td>null</td><td>7.55</td><td>null</td><td>null</td></tr><tr><td>&quot;30%&quot;</td><td>268.0</td><td>0.0</td><td>2.0</td><td>null</td><td>null</td><td>22.0</td><td>0.0</td><td>0.0</td><td>null</td><td>8.05</td><td>null</td><td>null</td></tr><tr><td>&quot;50%&quot;</td><td>446.0</td><td>0.0</td><td>3.0</td><td>null</td><td>null</td><td>28.0</td><td>0.0</td><td>0.0</td><td>null</td><td>14.4542</td><td>null</td><td>null</td></tr><tr><td>&quot;70%&quot;</td><td>624.0</td><td>1.0</td><td>3.0</td><td>null</td><td>null</td><td>36.0</td><td>1.0</td><td>0.0</td><td>null</td><td>27.0</td><td>null</td><td>null</td></tr><tr><td>&quot;90%&quot;</td><td>802.0</td><td>1.0</td><td>3.0</td><td>null</td><td>null</td><td>50.0</td><td>1.0</td><td>2.0</td><td>null</td><td>77.9583</td><td>null</td><td>null</td></tr><tr><td>&quot;max&quot;</td><td>891.0</td><td>1.0</td><td>3.0</td><td>&quot;van Melkebeke,…</td><td>&quot;male&quot;</td><td>80.0</td><td>8.0</td><td>6.0</td><td>&quot;WE/P 5735&quot;</td><td>512.3292</td><td>&quot;T&quot;</td><td>&quot;S&quot;</td></tr></tbody></table></div>"
      ],
      "text/plain": [
       "shape: (11, 13)\n",
       "┌────────────┬─────────────┬──────────┬──────────┬───┬───────────┬───────────┬───────┬──────────┐\n",
       "│ statistic  ┆ PassengerId ┆ Survived ┆ Pclass   ┆ … ┆ Ticket    ┆ Fare      ┆ Cabin ┆ Embarked │\n",
       "│ ---        ┆ ---         ┆ ---      ┆ ---      ┆   ┆ ---       ┆ ---       ┆ ---   ┆ ---      │\n",
       "│ str        ┆ f64         ┆ f64      ┆ f64      ┆   ┆ str       ┆ f64       ┆ str   ┆ str      │\n",
       "╞════════════╪═════════════╪══════════╪══════════╪═══╪═══════════╪═══════════╪═══════╪══════════╡\n",
       "│ count      ┆ 891.0       ┆ 891.0    ┆ 891.0    ┆ … ┆ 891       ┆ 891.0     ┆ 204   ┆ 889      │\n",
       "│ null_count ┆ 0.0         ┆ 0.0      ┆ 0.0      ┆ … ┆ 0         ┆ 0.0       ┆ 687   ┆ 2        │\n",
       "│ mean       ┆ 446.0       ┆ 0.383838 ┆ 2.308642 ┆ … ┆ null      ┆ 32.204208 ┆ null  ┆ null     │\n",
       "│ std        ┆ 257.353842  ┆ 0.486592 ┆ 0.836071 ┆ … ┆ null      ┆ 49.693429 ┆ null  ┆ null     │\n",
       "│ min        ┆ 1.0         ┆ 0.0      ┆ 1.0      ┆ … ┆ 110152    ┆ 0.0       ┆ A10   ┆ C        │\n",
       "│ 10%        ┆ 90.0        ┆ 0.0      ┆ 1.0      ┆ … ┆ null      ┆ 7.55      ┆ null  ┆ null     │\n",
       "│ 30%        ┆ 268.0       ┆ 0.0      ┆ 2.0      ┆ … ┆ null      ┆ 8.05      ┆ null  ┆ null     │\n",
       "│ 50%        ┆ 446.0       ┆ 0.0      ┆ 3.0      ┆ … ┆ null      ┆ 14.4542   ┆ null  ┆ null     │\n",
       "│ 70%        ┆ 624.0       ┆ 1.0      ┆ 3.0      ┆ … ┆ null      ┆ 27.0      ┆ null  ┆ null     │\n",
       "│ 90%        ┆ 802.0       ┆ 1.0      ┆ 3.0      ┆ … ┆ null      ┆ 77.9583   ┆ null  ┆ null     │\n",
       "│ max        ┆ 891.0       ┆ 1.0      ┆ 3.0      ┆ … ┆ WE/P 5735 ┆ 512.3292  ┆ T     ┆ S        │\n",
       "└────────────┴─────────────┴──────────┴──────────┴───┴───────────┴───────────┴───────┴──────────┘"
      ]
     },
     "execution_count": 6,
     "metadata": {},
     "output_type": "execute_result"
    }
   ],
   "source": [
    "df.describe(percentiles=(0.1,0.3,0.5,0.7,0.9))"
   ]
  },
  {
   "cell_type": "markdown",
   "id": "e7fe0773-21bc-4190-bac1-ca52f78a0ecc",
   "metadata": {},
   "source": [
    "## Statistics in an expression\n",
    "We can calculate statistics in an expression"
   ]
  },
  {
   "cell_type": "code",
   "execution_count": 7,
   "id": "af781845-4a7f-42d8-9051-2e3e480f84c1",
   "metadata": {
    "tags": []
   },
   "outputs": [
    {
     "data": {
      "text/html": [
       "<div><style>\n",
       ".dataframe > thead > tr,\n",
       ".dataframe > tbody > tr {\n",
       "  text-align: right;\n",
       "  white-space: pre-wrap;\n",
       "}\n",
       "</style>\n",
       "<small>shape: (1, 1)</small><table border=\"1\" class=\"dataframe\"><thead><tr><th>Fare</th></tr><tr><td>f64</td></tr></thead><tbody><tr><td>32.204208</td></tr></tbody></table></div>"
      ],
      "text/plain": [
       "shape: (1, 1)\n",
       "┌───────────┐\n",
       "│ Fare      │\n",
       "│ ---       │\n",
       "│ f64       │\n",
       "╞═══════════╡\n",
       "│ 32.204208 │\n",
       "└───────────┘"
      ]
     },
     "execution_count": 7,
     "metadata": {},
     "output_type": "execute_result"
    }
   ],
   "source": [
    "(\n",
    "    df\n",
    "    .select(\n",
    "        pl.col('Fare').mean()\n",
    "    )\n",
    ")"
   ]
  },
  {
   "cell_type": "markdown",
   "id": "d5c1ba6d-eb36-41b4-bdb5-75148ebe9fe4",
   "metadata": {},
   "source": [
    "The statistics available include:\n",
    "- count\n",
    "- sum\n",
    "- product\n",
    "- min\n",
    "- median\n",
    "- mean\n",
    "- max\n",
    "- std (standard deviation)\n",
    "- var (variance)\n",
    "- skew\n",
    "- kurtosis\n",
    "- entropy"
   ]
  },
  {
   "cell_type": "markdown",
   "id": "9738c4ea-1079-46c7-b4bd-8350cdc15b21",
   "metadata": {},
   "source": [
    "## Rolling statistics\n",
    "We can calculate rolling statistics in an expression.\n",
    "\n",
    "> For rolling time series analysis see the rolling lecture in the time series section of the course.\n",
    "\n",
    "We first create a simple `DataFrame` with sequential values"
   ]
  },
  {
   "cell_type": "code",
   "execution_count": 23,
   "id": "c682c78c-5420-4d6b-8cde-7c430ce44789",
   "metadata": {
    "tags": []
   },
   "outputs": [
    {
     "data": {
      "text/html": [
       "<div><style>\n",
       ".dataframe > thead > tr,\n",
       ".dataframe > tbody > tr {\n",
       "  text-align: right;\n",
       "  white-space: pre-wrap;\n",
       "}\n",
       "</style>\n",
       "<small>shape: (5, 1)</small><table border=\"1\" class=\"dataframe\"><thead><tr><th>value</th></tr><tr><td>i64</td></tr></thead><tbody><tr><td>0</td></tr><tr><td>1</td></tr><tr><td>2</td></tr><tr><td>3</td></tr><tr><td>4</td></tr></tbody></table></div>"
      ],
      "text/plain": [
       "shape: (5, 1)\n",
       "┌───────┐\n",
       "│ value │\n",
       "│ ---   │\n",
       "│ i64   │\n",
       "╞═══════╡\n",
       "│ 0     │\n",
       "│ 1     │\n",
       "│ 2     │\n",
       "│ 3     │\n",
       "│ 4     │\n",
       "└───────┘"
      ]
     },
     "execution_count": 23,
     "metadata": {},
     "output_type": "execute_result"
    }
   ],
   "source": [
    "df_rolling = (\n",
    "    pl.DataFrame(\n",
    "        {\n",
    "            \"value\":range(12),\n",
    "        }\n",
    "    )\n",
    ")\n",
    "df_rolling.head()"
   ]
  },
  {
   "cell_type": "markdown",
   "id": "2a40d75b-d697-43b1-a793-17553e163b33",
   "metadata": {},
   "source": [
    "We take the rolling mean over 4 values by setting the `window_size` to be 4"
   ]
  },
  {
   "cell_type": "code",
   "execution_count": 24,
   "id": "4191befb-dd67-43d6-bba5-45d76383b409",
   "metadata": {
    "tags": []
   },
   "outputs": [
    {
     "data": {
      "text/html": [
       "<div><style>\n",
       ".dataframe > thead > tr,\n",
       ".dataframe > tbody > tr {\n",
       "  text-align: right;\n",
       "  white-space: pre-wrap;\n",
       "}\n",
       "</style>\n",
       "<small>shape: (5, 2)</small><table border=\"1\" class=\"dataframe\"><thead><tr><th>value</th><th>rolling_mean_value</th></tr><tr><td>i64</td><td>f64</td></tr></thead><tbody><tr><td>0</td><td>null</td></tr><tr><td>1</td><td>null</td></tr><tr><td>2</td><td>null</td></tr><tr><td>3</td><td>1.5</td></tr><tr><td>4</td><td>2.5</td></tr></tbody></table></div>"
      ],
      "text/plain": [
       "shape: (5, 2)\n",
       "┌───────┬────────────────────┐\n",
       "│ value ┆ rolling_mean_value │\n",
       "│ ---   ┆ ---                │\n",
       "│ i64   ┆ f64                │\n",
       "╞═══════╪════════════════════╡\n",
       "│ 0     ┆ null               │\n",
       "│ 1     ┆ null               │\n",
       "│ 2     ┆ null               │\n",
       "│ 3     ┆ 1.5                │\n",
       "│ 4     ┆ 2.5                │\n",
       "└───────┴────────────────────┘"
      ]
     },
     "execution_count": 24,
     "metadata": {},
     "output_type": "execute_result"
    }
   ],
   "source": [
    "(\n",
    "    df_rolling\n",
    "    .with_columns(\n",
    "        rolling_mean_value = pl.col(\"value\").rolling_mean(window_size=4)\n",
    "    )\n",
    "    .head(5)\n",
    ")"
   ]
  },
  {
   "cell_type": "markdown",
   "id": "cc1e17c2-1c4e-42e9-bf3a-f62a4dfebeb9",
   "metadata": {},
   "source": [
    "Note that by default the first non-`null` value is on the 4th row.\n",
    "\n",
    "We can calculate the statistic with fewer values than the `window_size` by setting the `min_periods` argument"
   ]
  },
  {
   "cell_type": "code",
   "execution_count": 25,
   "id": "b479d4a3-7964-4ac7-9c26-c60e39ee746d",
   "metadata": {
    "tags": []
   },
   "outputs": [
    {
     "data": {
      "text/html": [
       "<div><style>\n",
       ".dataframe > thead > tr,\n",
       ".dataframe > tbody > tr {\n",
       "  text-align: right;\n",
       "  white-space: pre-wrap;\n",
       "}\n",
       "</style>\n",
       "<small>shape: (5, 3)</small><table border=\"1\" class=\"dataframe\"><thead><tr><th>value</th><th>rolling_mean_value</th><th>rolling_mean_value_min_periods</th></tr><tr><td>i64</td><td>f64</td><td>f64</td></tr></thead><tbody><tr><td>0</td><td>null</td><td>0.0</td></tr><tr><td>1</td><td>null</td><td>0.5</td></tr><tr><td>2</td><td>null</td><td>1.0</td></tr><tr><td>3</td><td>1.5</td><td>1.5</td></tr><tr><td>4</td><td>2.5</td><td>2.5</td></tr></tbody></table></div>"
      ],
      "text/plain": [
       "shape: (5, 3)\n",
       "┌───────┬────────────────────┬────────────────────────────────┐\n",
       "│ value ┆ rolling_mean_value ┆ rolling_mean_value_min_periods │\n",
       "│ ---   ┆ ---                ┆ ---                            │\n",
       "│ i64   ┆ f64                ┆ f64                            │\n",
       "╞═══════╪════════════════════╪════════════════════════════════╡\n",
       "│ 0     ┆ null               ┆ 0.0                            │\n",
       "│ 1     ┆ null               ┆ 0.5                            │\n",
       "│ 2     ┆ null               ┆ 1.0                            │\n",
       "│ 3     ┆ 1.5                ┆ 1.5                            │\n",
       "│ 4     ┆ 2.5                ┆ 2.5                            │\n",
       "└───────┴────────────────────┴────────────────────────────────┘"
      ]
     },
     "execution_count": 25,
     "metadata": {},
     "output_type": "execute_result"
    }
   ],
   "source": [
    "(\n",
    "    df_rolling\n",
    "    .with_columns(\n",
    "        rolling_mean_value = pl.col(\"value\").rolling_mean(window_size=4),\n",
    "        rolling_mean_value_min_periods = pl.col(\"value\").rolling_mean(window_size=4,min_periods=1)\n",
    "\n",
    "    )\n",
    ").head()"
   ]
  },
  {
   "cell_type": "markdown",
   "id": "a3ce59d6-bac6-48ad-bdf0-1e6c0bc08eee",
   "metadata": {},
   "source": [
    "In the examples above the statistics are *backward-looking*. That is, the value on the 4th row is the average of the first four rows. We can instead center the statistic with the `center` argument (note that we use a window size of 5 here)"
   ]
  },
  {
   "cell_type": "code",
   "execution_count": 26,
   "id": "c865277d-9d11-4378-8a7a-61f89856bb1a",
   "metadata": {
    "tags": []
   },
   "outputs": [
    {
     "data": {
      "text/html": [
       "<div><style>\n",
       ".dataframe > thead > tr,\n",
       ".dataframe > tbody > tr {\n",
       "  text-align: right;\n",
       "  white-space: pre-wrap;\n",
       "}\n",
       "</style>\n",
       "<small>shape: (5, 3)</small><table border=\"1\" class=\"dataframe\"><thead><tr><th>value</th><th>rolling_mean_value</th><th>rolling_mean_value_center</th></tr><tr><td>i64</td><td>f64</td><td>f64</td></tr></thead><tbody><tr><td>0</td><td>null</td><td>null</td></tr><tr><td>1</td><td>null</td><td>null</td></tr><tr><td>2</td><td>null</td><td>2.0</td></tr><tr><td>3</td><td>null</td><td>3.0</td></tr><tr><td>4</td><td>2.0</td><td>4.0</td></tr></tbody></table></div>"
      ],
      "text/plain": [
       "shape: (5, 3)\n",
       "┌───────┬────────────────────┬───────────────────────────┐\n",
       "│ value ┆ rolling_mean_value ┆ rolling_mean_value_center │\n",
       "│ ---   ┆ ---                ┆ ---                       │\n",
       "│ i64   ┆ f64                ┆ f64                       │\n",
       "╞═══════╪════════════════════╪═══════════════════════════╡\n",
       "│ 0     ┆ null               ┆ null                      │\n",
       "│ 1     ┆ null               ┆ null                      │\n",
       "│ 2     ┆ null               ┆ 2.0                       │\n",
       "│ 3     ┆ null               ┆ 3.0                       │\n",
       "│ 4     ┆ 2.0                ┆ 4.0                       │\n",
       "└───────┴────────────────────┴───────────────────────────┘"
      ]
     },
     "execution_count": 26,
     "metadata": {},
     "output_type": "execute_result"
    }
   ],
   "source": [
    "(\n",
    "    df_rolling\n",
    "    .with_columns(\n",
    "        rolling_mean_value = pl.col(\"value\").rolling_mean(window_size=5),\n",
    "        rolling_mean_value_center = pl.col(\"value\").rolling_mean(window_size=5,center=True)\n",
    "    ).head(5)\n",
    ")"
   ]
  },
  {
   "cell_type": "markdown",
   "id": "bdc5d254-50d6-44cd-840c-bccff595be78",
   "metadata": {},
   "source": [
    "In this case the values on the third row are the mean of the first five rows.\n",
    "\n",
    "See the full range of rolling statistics here: https://pola-rs.github.io/polars/py-polars/html/reference/expressions/computation.html\n",
    "\n",
    "## Exponentially-weighted statistics\n",
    "Polars has exponentially-weighted statistics available as expressions.\n",
    "\n",
    "The `span` parameter determines the \"alpha\" value used in the exponential weighting formula, which is given by:\n",
    "\n",
    "alpha = 2 / (L + 1)\n",
    "\n",
    "where L is the span value. The alpha value determines the rate of decay of the weights applied to each data point in the calculation. A higher alpha (or lower span) means that more weight is given to recent data points, while a lower alpha (or higher span) value means that more weight is given to older data points."
   ]
  },
  {
   "cell_type": "code",
   "execution_count": 27,
   "id": "7f037d4c-d87e-4f0d-8df3-f415998050ad",
   "metadata": {
    "tags": []
   },
   "outputs": [
    {
     "data": {
      "text/html": [
       "<div><style>\n",
       ".dataframe > thead > tr,\n",
       ".dataframe > tbody > tr {\n",
       "  text-align: right;\n",
       "  white-space: pre-wrap;\n",
       "}\n",
       "</style>\n",
       "<small>shape: (5, 2)</small><table border=\"1\" class=\"dataframe\"><thead><tr><th>value</th><th>ewm_mean_value</th></tr><tr><td>i64</td><td>f64</td></tr></thead><tbody><tr><td>0</td><td>0.0</td></tr><tr><td>1</td><td>0.625</td></tr><tr><td>2</td><td>1.326531</td></tr><tr><td>3</td><td>2.095588</td></tr><tr><td>4</td><td>2.921582</td></tr></tbody></table></div>"
      ],
      "text/plain": [
       "shape: (5, 2)\n",
       "┌───────┬────────────────┐\n",
       "│ value ┆ ewm_mean_value │\n",
       "│ ---   ┆ ---            │\n",
       "│ i64   ┆ f64            │\n",
       "╞═══════╪════════════════╡\n",
       "│ 0     ┆ 0.0            │\n",
       "│ 1     ┆ 0.625          │\n",
       "│ 2     ┆ 1.326531       │\n",
       "│ 3     ┆ 2.095588       │\n",
       "│ 4     ┆ 2.921582       │\n",
       "└───────┴────────────────┘"
      ]
     },
     "execution_count": 27,
     "metadata": {},
     "output_type": "execute_result"
    }
   ],
   "source": [
    "(\n",
    "    df_rolling\n",
    "    .with_columns(\n",
    "        ewm_mean_value = pl.col(\"value\").ewm_mean(span=4)\n",
    "    ).head(5)\n",
    ")"
   ]
  },
  {
   "cell_type": "markdown",
   "id": "96223c1b-9528-418b-8c73-60e9e3e75f1f",
   "metadata": {},
   "source": [
    "For the `ewm_mean` the `min_periods` is 1 by default.\n",
    "\n",
    "Exponentially-weighted statistics available are:\n",
    "- `ewm_mean`\n",
    "- `ewm_std`\n",
    "- `ewm_var`"
   ]
  },
  {
   "cell_type": "markdown",
   "id": "43d8721a-8124-48b1-bfd1-09420dcd3b35",
   "metadata": {},
   "source": [
    "### Multiple statistics\n",
    "We can use `prefix` or `suffix` when calculating multiple statistics on the same column or columns to avoid name collisions"
   ]
  },
  {
   "cell_type": "code",
   "execution_count": 30,
   "id": "94617a80-07a1-416d-89ff-60ac69d40357",
   "metadata": {
    "tags": []
   },
   "outputs": [
    {
     "data": {
      "text/html": [
       "<div><style>\n",
       ".dataframe > thead > tr,\n",
       ".dataframe > tbody > tr {\n",
       "  text-align: right;\n",
       "  white-space: pre-wrap;\n",
       "}\n",
       "</style>\n",
       "<small>shape: (1, 2)</small><table border=\"1\" class=\"dataframe\"><thead><tr><th>value_min</th><th>value_max</th></tr><tr><td>i64</td><td>i64</td></tr></thead><tbody><tr><td>0</td><td>11</td></tr></tbody></table></div>"
      ],
      "text/plain": [
       "shape: (1, 2)\n",
       "┌───────────┬───────────┐\n",
       "│ value_min ┆ value_max │\n",
       "│ ---       ┆ ---       │\n",
       "│ i64       ┆ i64       │\n",
       "╞═══════════╪═══════════╡\n",
       "│ 0         ┆ 11        │\n",
       "└───────────┴───────────┘"
      ]
     },
     "execution_count": 30,
     "metadata": {},
     "output_type": "execute_result"
    }
   ],
   "source": [
    "(\n",
    "    df_rolling\n",
    "    .select(\n",
    "        pl.col(pl.Int64).min().name.suffix(\"_min\"),\n",
    "        pl.col(pl.Int64).max().name.suffix(\"_max\"),\n",
    "    )\n",
    ")"
   ]
  },
  {
   "cell_type": "markdown",
   "id": "e1c444ba-fb34-46f9-a09e-8e33dd81ffc8",
   "metadata": {},
   "source": [
    "We can also do arithmetic with statistics. \n",
    "\n",
    "In this example we calculate a min-max scaler"
   ]
  },
  {
   "cell_type": "code",
   "execution_count": 33,
   "id": "fdb166c2-7e97-47fb-9f9c-10fee5bec066",
   "metadata": {
    "tags": []
   },
   "outputs": [
    {
     "data": {
      "text/html": [
       "<div><style>\n",
       ".dataframe > thead > tr,\n",
       ".dataframe > tbody > tr {\n",
       "  text-align: right;\n",
       "  white-space: pre-wrap;\n",
       "}\n",
       "</style>\n",
       "<small>shape: (12, 2)</small><table border=\"1\" class=\"dataframe\"><thead><tr><th>value</th><th>value_scaled</th></tr><tr><td>i64</td><td>f64</td></tr></thead><tbody><tr><td>0</td><td>0.0</td></tr><tr><td>1</td><td>0.090909</td></tr><tr><td>2</td><td>0.181818</td></tr><tr><td>3</td><td>0.272727</td></tr><tr><td>4</td><td>0.363636</td></tr><tr><td>5</td><td>0.454545</td></tr><tr><td>6</td><td>0.545455</td></tr><tr><td>7</td><td>0.636364</td></tr><tr><td>8</td><td>0.727273</td></tr><tr><td>9</td><td>0.818182</td></tr><tr><td>10</td><td>0.909091</td></tr><tr><td>11</td><td>1.0</td></tr></tbody></table></div>"
      ],
      "text/plain": [
       "shape: (12, 2)\n",
       "┌───────┬──────────────┐\n",
       "│ value ┆ value_scaled │\n",
       "│ ---   ┆ ---          │\n",
       "│ i64   ┆ f64          │\n",
       "╞═══════╪══════════════╡\n",
       "│ 0     ┆ 0.0          │\n",
       "│ 1     ┆ 0.090909     │\n",
       "│ 2     ┆ 0.181818     │\n",
       "│ 3     ┆ 0.272727     │\n",
       "│ 4     ┆ 0.363636     │\n",
       "│ …     ┆ …            │\n",
       "│ 7     ┆ 0.636364     │\n",
       "│ 8     ┆ 0.727273     │\n",
       "│ 9     ┆ 0.818182     │\n",
       "│ 10    ┆ 0.909091     │\n",
       "│ 11    ┆ 1.0          │\n",
       "└───────┴──────────────┘"
      ]
     },
     "execution_count": 33,
     "metadata": {},
     "output_type": "execute_result"
    }
   ],
   "source": [
    "(\n",
    "    df\n",
    "    .with_columns(\n",
    "        ((pl.col(pl.Int64) - pl.col(pl.Int64).min()) / (pl.col(pl.Int64).max() - pl.col(pl.Int64).min())).name.suffix(\"_scaled\")\n",
    "    )\n",
    ")"
   ]
  },
  {
   "cell_type": "markdown",
   "id": "f1b595ad-82da-44da-848b-77a272423b53",
   "metadata": {},
   "source": [
    "I have found that doing this calculation in Polars can be faster than in numpy: https://www.rhosignal.com/posts/polars-minmax/"
   ]
  },
  {
   "cell_type": "markdown",
   "id": "27ea392d-5946-4d8c-807f-cc712a9d1f8b",
   "metadata": {},
   "source": [
    "## Horizontal computations\n",
    "To illustrate horizontal computations we define a simple `DataFrame` with two columns"
   ]
  },
  {
   "cell_type": "code",
   "execution_count": 34,
   "id": "b8af8099-b787-4599-b473-21c837353eac",
   "metadata": {},
   "outputs": [
    {
     "data": {
      "text/html": [
       "<div><style>\n",
       ".dataframe > thead > tr,\n",
       ".dataframe > tbody > tr {\n",
       "  text-align: right;\n",
       "  white-space: pre-wrap;\n",
       "}\n",
       "</style>\n",
       "<small>shape: (3, 2)</small><table border=\"1\" class=\"dataframe\"><thead><tr><th>vals1</th><th>val2</th></tr><tr><td>i64</td><td>i64</td></tr></thead><tbody><tr><td>0</td><td>3</td></tr><tr><td>1</td><td>4</td></tr><tr><td>2</td><td>5</td></tr></tbody></table></div>"
      ],
      "text/plain": [
       "shape: (3, 2)\n",
       "┌───────┬──────┐\n",
       "│ vals1 ┆ val2 │\n",
       "│ ---   ┆ ---  │\n",
       "│ i64   ┆ i64  │\n",
       "╞═══════╪══════╡\n",
       "│ 0     ┆ 3    │\n",
       "│ 1     ┆ 4    │\n",
       "│ 2     ┆ 5    │\n",
       "└───────┴──────┘"
      ]
     },
     "execution_count": 34,
     "metadata": {},
     "output_type": "execute_result"
    }
   ],
   "source": [
    "df_hor = pl.DataFrame(\n",
    "    {\n",
    "        \"vals1\":[0,1,2],\n",
    "        \"val2\":[3,4,5]\n",
    "    }\n",
    ")\n",
    "df_hor"
   ]
  },
  {
   "cell_type": "markdown",
   "id": "4afb5715-9c30-4812-8a33-bd9571c72d8a",
   "metadata": {},
   "source": [
    "Polars has a few dedicated horizontal aggregation functions (with hopefully more to come in the future). The output of these expressions is the name of the first column that goes into them so we need an `alias` to avoid overwriting an existing column with the output statistic"
   ]
  },
  {
   "cell_type": "code",
   "execution_count": 36,
   "id": "ec284a7e-e8ce-4a27-a42c-8920f85d6993",
   "metadata": {},
   "outputs": [
    {
     "data": {
      "text/html": [
       "<div><style>\n",
       ".dataframe > thead > tr,\n",
       ".dataframe > tbody > tr {\n",
       "  text-align: right;\n",
       "  white-space: pre-wrap;\n",
       "}\n",
       "</style>\n",
       "<small>shape: (3, 5)</small><table border=\"1\" class=\"dataframe\"><thead><tr><th>vals1</th><th>val2</th><th>max</th><th>min</th><th>sum</th></tr><tr><td>i64</td><td>i64</td><td>i64</td><td>i64</td><td>i64</td></tr></thead><tbody><tr><td>0</td><td>3</td><td>3</td><td>0</td><td>3</td></tr><tr><td>1</td><td>4</td><td>4</td><td>1</td><td>5</td></tr><tr><td>2</td><td>5</td><td>5</td><td>2</td><td>7</td></tr></tbody></table></div>"
      ],
      "text/plain": [
       "shape: (3, 5)\n",
       "┌───────┬──────┬─────┬─────┬─────┐\n",
       "│ vals1 ┆ val2 ┆ max ┆ min ┆ sum │\n",
       "│ ---   ┆ ---  ┆ --- ┆ --- ┆ --- │\n",
       "│ i64   ┆ i64  ┆ i64 ┆ i64 ┆ i64 │\n",
       "╞═══════╪══════╪═════╪═════╪═════╡\n",
       "│ 0     ┆ 3    ┆ 3   ┆ 0   ┆ 3   │\n",
       "│ 1     ┆ 4    ┆ 4   ┆ 1   ┆ 5   │\n",
       "│ 2     ┆ 5    ┆ 5   ┆ 2   ┆ 7   │\n",
       "└───────┴──────┴─────┴─────┴─────┘"
      ]
     },
     "execution_count": 36,
     "metadata": {},
     "output_type": "execute_result"
    }
   ],
   "source": [
    "(\n",
    "    df_hor\n",
    "    .with_columns(\n",
    "        pl.max_horizontal(pl.all()).alias(\"max\"),\n",
    "        pl.min_horizontal(pl.all()).alias(\"min\"),\n",
    "        pl.sum_horizontal(pl.all()).alias(\"sum\"),\n",
    "        \n",
    "    )\n",
    ")"
   ]
  },
  {
   "cell_type": "markdown",
   "id": "b0ba6884-1aff-4380-941c-0df5389e49a9",
   "metadata": {},
   "source": [
    "There is also a horizontal `cum_sum`. As any `cum_sum` is not an aggregation (i.e. the output is not a scalar but a `Series` the same length as the input) the `cum_sum_horizontal` output is a `pl.Struct` column with the number of fields equal to the number of columns"
   ]
  },
  {
   "cell_type": "code",
   "execution_count": 37,
   "id": "dd88339f-4efa-4c30-904f-826e1bafe11d",
   "metadata": {},
   "outputs": [
    {
     "data": {
      "text/html": [
       "<div><style>\n",
       ".dataframe > thead > tr,\n",
       ".dataframe > tbody > tr {\n",
       "  text-align: right;\n",
       "  white-space: pre-wrap;\n",
       "}\n",
       "</style>\n",
       "<small>shape: (3, 3)</small><table border=\"1\" class=\"dataframe\"><thead><tr><th>vals1</th><th>val2</th><th>cum_sum</th></tr><tr><td>i64</td><td>i64</td><td>struct[2]</td></tr></thead><tbody><tr><td>0</td><td>3</td><td>{0,3}</td></tr><tr><td>1</td><td>4</td><td>{1,5}</td></tr><tr><td>2</td><td>5</td><td>{2,7}</td></tr></tbody></table></div>"
      ],
      "text/plain": [
       "shape: (3, 3)\n",
       "┌───────┬──────┬───────────┐\n",
       "│ vals1 ┆ val2 ┆ cum_sum   │\n",
       "│ ---   ┆ ---  ┆ ---       │\n",
       "│ i64   ┆ i64  ┆ struct[2] │\n",
       "╞═══════╪══════╪═══════════╡\n",
       "│ 0     ┆ 3    ┆ {0,3}     │\n",
       "│ 1     ┆ 4    ┆ {1,5}     │\n",
       "│ 2     ┆ 5    ┆ {2,7}     │\n",
       "└───────┴──────┴───────────┘"
      ]
     },
     "execution_count": 37,
     "metadata": {},
     "output_type": "execute_result"
    }
   ],
   "source": [
    "(\n",
    "    df_hor\n",
    "    .with_columns(\n",
    "        pl.cum_sum_horizontal(pl.all()),\n",
    "        \n",
    "    )\n",
    ")"
   ]
  },
  {
   "cell_type": "markdown",
   "id": "1c1d6cb5-b4ff-4257-a722-c7ea134510f0",
   "metadata": {},
   "source": [
    "To compute bespoke horizontal computations we can concatenate the values on each row into a `pl.List` column. Recall that each row in a `pl.List` column is a `Series` so we can then use expressions on each row.\n",
    "\n",
    "In this example we want to calculate the horizontal mean. First we concatenate the values into a list"
   ]
  },
  {
   "cell_type": "code",
   "execution_count": 38,
   "id": "19757ead-1993-4d33-b542-ab1101dfe2ef",
   "metadata": {},
   "outputs": [
    {
     "data": {
      "text/html": [
       "<div><style>\n",
       ".dataframe > thead > tr,\n",
       ".dataframe > tbody > tr {\n",
       "  text-align: right;\n",
       "  white-space: pre-wrap;\n",
       "}\n",
       "</style>\n",
       "<small>shape: (3, 3)</small><table border=\"1\" class=\"dataframe\"><thead><tr><th>vals1</th><th>val2</th><th>concat</th></tr><tr><td>i64</td><td>i64</td><td>list[i64]</td></tr></thead><tbody><tr><td>0</td><td>3</td><td>[0, 3]</td></tr><tr><td>1</td><td>4</td><td>[1, 4]</td></tr><tr><td>2</td><td>5</td><td>[2, 5]</td></tr></tbody></table></div>"
      ],
      "text/plain": [
       "shape: (3, 3)\n",
       "┌───────┬──────┬───────────┐\n",
       "│ vals1 ┆ val2 ┆ concat    │\n",
       "│ ---   ┆ ---  ┆ ---       │\n",
       "│ i64   ┆ i64  ┆ list[i64] │\n",
       "╞═══════╪══════╪═══════════╡\n",
       "│ 0     ┆ 3    ┆ [0, 3]    │\n",
       "│ 1     ┆ 4    ┆ [1, 4]    │\n",
       "│ 2     ┆ 5    ┆ [2, 5]    │\n",
       "└───────┴──────┴───────────┘"
      ]
     },
     "execution_count": 38,
     "metadata": {},
     "output_type": "execute_result"
    }
   ],
   "source": [
    "(\n",
    "    df_hor\n",
    "    .with_columns(\n",
    "        pl.concat_list(pl.all()).alias(\"concat\")\n",
    "    )\n",
    ")"
   ]
  },
  {
   "cell_type": "markdown",
   "id": "9c89f195-6895-4d17-885f-b7155a6730e0",
   "metadata": {},
   "source": [
    "To do our horizontal calculation we then use the approaches we saw in the lectures on the list columns:\n",
    "- using `list.` expressions\n",
    "- calling `explode` on the list column\n",
    "- using `list.eval`"
   ]
  },
  {
   "cell_type": "markdown",
   "id": "eae5a842-16a2-42b0-a309-9ca4e760a31c",
   "metadata": {},
   "source": [
    "# Exercises\n",
    "\n",
    "In the exercises you will develop your understanding of:\n",
    "- calculating statistics on a column\n",
    "- calculating statistics on multiple columns of the same dtype\n",
    "- calculating cumulative statistics\n",
    "- doing horizontal calculations\n",
    "\n",
    "### Exercise 1 - calculating multiple statistics\n",
    "Calculate the mean and median of the `Age` column for passengers in 1st class"
   ]
  },
  {
   "cell_type": "code",
   "execution_count": null,
   "id": "a6b59cea-16a8-46bc-9747-446aaab3c760",
   "metadata": {
    "tags": []
   },
   "outputs": [],
   "source": [
    "(\n",
    "    pl.read_csv(csv_file)\n",
    "    <blank>\n",
    ")"
   ]
  },
  {
   "cell_type": "markdown",
   "id": "cb726ce5-d20e-45f1-b826-499952b24432",
   "metadata": {},
   "source": [
    "Add a new column called `Age_delta` that is the difference between the age and the average age of all passengers"
   ]
  },
  {
   "cell_type": "code",
   "execution_count": null,
   "id": "b87a73b3-9b18-4036-9369-93141e8dd129",
   "metadata": {},
   "outputs": [],
   "source": [
    "(\n",
    "    pl.read_csv(csv_file)\n",
    "    .with_columns(\n",
    "        <blank>\n",
    "    )\n",
    "    .select(\n",
    "        'Age','Age_delta'\n",
    "    )\n",
    "    .head(10)\n",
    ")"
   ]
  },
  {
   "cell_type": "markdown",
   "id": "3122f983-1ab7-4b93-b7b6-7742480e628b",
   "metadata": {},
   "source": [
    "Add another column called `Age_z` that has the z-score for the `Age` where the z-score is the (age - average age of the column) divided by the standard deviation of the age column"
   ]
  },
  {
   "cell_type": "code",
   "execution_count": null,
   "id": "bb2b38b0-01ac-4053-964d-bba6632a920a",
   "metadata": {},
   "outputs": [],
   "source": []
  },
  {
   "cell_type": "markdown",
   "id": "4836dc8b-16f3-482f-ba5f-aeeea8844455",
   "metadata": {},
   "source": [
    "Create these new columns for all floating point columns in the CSV. Add a `pipe` command if you want to sort the columns alphabetically"
   ]
  },
  {
   "cell_type": "code",
   "execution_count": null,
   "id": "72c41b12-8a2c-4c3f-9241-ff8c2a2c29b4",
   "metadata": {},
   "outputs": [],
   "source": []
  },
  {
   "cell_type": "markdown",
   "id": "15da9dae-07a2-41bb-b708-959ccfe6f39e",
   "metadata": {},
   "source": [
    "### Exercise 2\n",
    "We have the following `DataFrame` with values that occur in sequences in the `records` column"
   ]
  },
  {
   "cell_type": "code",
   "execution_count": null,
   "id": "c75c5519-7bbf-467e-b4af-fb596e8c5f79",
   "metadata": {},
   "outputs": [],
   "source": [
    "records = (\n",
    "    pl.DataFrame(\n",
    "        {\n",
    "            \"values\":['A','A','A','B','B','A','A']\n",
    "        }\n",
    "    )\n",
    ")\n",
    "records"
   ]
  },
  {
   "cell_type": "markdown",
   "id": "2f95e61c-ae13-4abc-aedd-20f7afcb8f0d",
   "metadata": {},
   "source": [
    "We want to identify sequences of rows with the same values in the `values` column to get the following output"
   ]
  },
  {
   "cell_type": "code",
   "execution_count": null,
   "id": "5f7834b4-c34f-4470-b302-056d6a0d96aa",
   "metadata": {},
   "outputs": [],
   "source": [
    "(\n",
    "    pl.DataFrame(\n",
    "        {\n",
    "            \"values\":['A','A','A','B','B','A','A'],\n",
    "            \"groups\":[0,0,0,1,1,2,2]\n",
    "        }\n",
    "    )\n",
    ")"
   ]
  },
  {
   "cell_type": "markdown",
   "id": "508f4130-60f4-40ec-bd61-3addfac71616",
   "metadata": {},
   "source": [
    "Try this yourself or follow the step-by-step guide below if you need help. \n",
    "\n",
    "Note that one way to do this involves the `shift` expression that we haven't met before. This moves all values in a column by the specified number of places"
   ]
  },
  {
   "cell_type": "code",
   "execution_count": null,
   "id": "8bd5695b-4dca-4f6b-bb0f-da6e45428765",
   "metadata": {},
   "outputs": [],
   "source": [
    "(\n",
    "    records\n",
    "    .with_columns(\n",
    "        pl.col(\"values\").shift(1).alias(\"shifted\")\n",
    "    )\n",
    ")"
   ]
  },
  {
   "cell_type": "markdown",
   "id": "d5a4bd06-6c51-464c-9614-9cc8e547ffd8",
   "metadata": {},
   "source": [
    "Step-by-step approach:\n",
    "\n",
    "Check if the value in `values` in each row is **not** equal to the value in the previous row. Do this in a boolean column called `notEqualsPrevious`"
   ]
  },
  {
   "cell_type": "code",
   "execution_count": null,
   "id": "eccec697-e1bc-4d82-a55f-3e103bf04547",
   "metadata": {},
   "outputs": [],
   "source": []
  },
  {
   "cell_type": "markdown",
   "id": "56b8208f-6b94-4c7a-a6da-e6dff430a84a",
   "metadata": {},
   "source": [
    "Use a cumulative function on `notEqualsPrevious` to increment an integer value whenever a row that is not equal to the previous value is encountered. If you have any strange results you may need to cast Boolean values to integers first!"
   ]
  },
  {
   "cell_type": "code",
   "execution_count": null,
   "id": "c51bdbd2-ff50-4223-a4a5-909fd8c8dc1e",
   "metadata": {},
   "outputs": [],
   "source": []
  },
  {
   "cell_type": "markdown",
   "id": "3f289d42-db78-49f0-a87c-b0eec78d3e01",
   "metadata": {},
   "source": [
    "### Exercise 3\n",
    "We are given the following data from three weather stations over 8 months"
   ]
  },
  {
   "cell_type": "code",
   "execution_count": null,
   "id": "12de5612-0e88-4d54-9be2-c57f6a0ee374",
   "metadata": {},
   "outputs": [],
   "source": [
    "data = [\n",
    "    {\"Year\": 2023, \"Month\": \"Jan\", \"Station_A (°C)\": 20.5, \"Station_B (°C)\": 18.0, \"Station_C (°C)\": 25.0},\n",
    "    {\"Year\": 2023, \"Month\": \"Feb\", \"Station_A (°C)\": 21.0, \"Station_B (°C)\": 18.5, \"Station_C (°C)\": 26.0},\n",
    "    {\"Year\": 2023, \"Month\": \"Mar\", \"Station_A (°C)\": 23.5, \"Station_B (°C)\": 20.0, \"Station_C (°C)\": 28.0},\n",
    "    {\"Year\": 2023, \"Month\": \"Apr\", \"Station_A (°C)\": 25.0, \"Station_B (°C)\": 22.0, \"Station_C (°C)\": 29.5},\n",
    "    {\"Year\": 2023, \"Month\": \"May\", \"Station_A (°C)\": 26.5, \"Station_B (°C)\": 23.0, \"Station_C (°C)\": 30.0},\n",
    "    {\"Year\": 2023, \"Month\": \"Jun\", \"Station_A (°C)\": 28.0, \"Station_B (°C)\": 24.0, \"Station_C (°C)\": 32.0},\n",
    "    {\"Year\": 2023, \"Month\": \"Jul\", \"Station_A (°C)\": 29.0, \"Station_B (°C)\": 25.5, \"Station_C (°C)\": 33.5},\n",
    "    {\"Year\": 2023, \"Month\": \"Aug\", \"Station_A (°C)\": 30.0, \"Station_B (°C)\": 26.0, \"Station_C (°C)\": 34.0}\n",
    "]\n",
    "df_weather = pl.DataFrame(data)\n",
    "df_weather"
   ]
  },
  {
   "cell_type": "markdown",
   "id": "2f9cd4e0-81f0-47ef-82fa-764d493bb038",
   "metadata": {},
   "source": [
    "Add a column with the max temperature for each month"
   ]
  },
  {
   "cell_type": "code",
   "execution_count": null,
   "id": "8b129930-80bb-46b9-988e-5d47041e78c0",
   "metadata": {},
   "outputs": [],
   "source": [
    "(\n",
    "    df_weather\n",
    "    .with_columns(\n",
    "        <blank>\n",
    "    )\n",
    ")"
   ]
  },
  {
   "cell_type": "markdown",
   "id": "7a32125f-8a5c-4a03-8890-4f1f616f50d1",
   "metadata": {},
   "source": [
    "Add another column called `std` with the standard deviation of measurements for each month rounded off to one decimal place"
   ]
  },
  {
   "cell_type": "code",
   "execution_count": null,
   "id": "39d43d53-f9b2-424b-a6f5-b8fb30e00e96",
   "metadata": {},
   "outputs": [],
   "source": []
  },
  {
   "cell_type": "markdown",
   "id": "4581425d-043c-48da-8e82-1fcfa4586976",
   "metadata": {},
   "source": [
    "# Solutions"
   ]
  },
  {
   "cell_type": "markdown",
   "id": "0f80afbd-27be-4386-aeea-89e966a8f8df",
   "metadata": {},
   "source": [
    "### Solution to Exercise 1 \n",
    "Calculate the mean and median of the `Age` column for passengers in 1st class"
   ]
  },
  {
   "cell_type": "code",
   "execution_count": null,
   "id": "c9090a20-5fcb-4d8d-82a8-daa04eb0a3b4",
   "metadata": {
    "jupyter": {
     "source_hidden": true
    },
    "tags": []
   },
   "outputs": [],
   "source": [
    "(\n",
    "    pl.read_csv(csv_file)\n",
    "    .filter(\n",
    "        pl.col('Pclass') == 1\n",
    "    )\n",
    "    .select(\n",
    "        [\n",
    "            pl.col('Age').mean().alias('Age_mean'),\n",
    "            pl.col('Age').median().alias('Age_median')\n",
    "        ]\n",
    "    )\n",
    ")"
   ]
  },
  {
   "cell_type": "markdown",
   "id": "475de03f-d673-434b-bd21-5ca4c0015563",
   "metadata": {},
   "source": [
    "Add a new column called `Age_delta` that is the difference between the age and the average age of all passengers"
   ]
  },
  {
   "cell_type": "code",
   "execution_count": null,
   "id": "72715c20-7609-4f5c-aaa2-cc692965bfee",
   "metadata": {
    "jupyter": {
     "source_hidden": true
    },
    "tags": []
   },
   "outputs": [],
   "source": [
    "(\n",
    "    pl.read_csv(csv_file)\n",
    "    .with_columns(\n",
    "        (pl.col('Age') - pl.col('Age').mean()).alias('Age_delta')\n",
    "    )\n",
    "    .select(\n",
    "        'Age','Age_delta'\n",
    "    )\n",
    "    .head(10)\n",
    ")"
   ]
  },
  {
   "cell_type": "markdown",
   "id": "28f16229-381d-48a6-a993-46e0a2017cf3",
   "metadata": {},
   "source": [
    "Add a further column called `Age_z` that has the z-score for the `Age`: this is the (age - average age of the column) divided by the standard deviation of the age column"
   ]
  },
  {
   "cell_type": "code",
   "execution_count": null,
   "id": "b1b4b34f-16bc-489f-8211-dd9aa1848314",
   "metadata": {
    "jupyter": {
     "source_hidden": true
    },
    "tags": []
   },
   "outputs": [],
   "source": [
    "(\n",
    "    pl.read_csv(csv_file)\n",
    "    .with_columns(\n",
    "        [\n",
    "            (pl.col('Age') - pl.col('Age').mean()).alias('Age_delta'),\n",
    "            ((pl.col('Age') - pl.col('Age').mean())/pl.col('Age').std()).alias('Age_z')\n",
    "        ]\n",
    "    )\n",
    "    .select(\n",
    "        'Age','Age_delta','Age_z'\n",
    "    )\n",
    "    .head(10)\n",
    ")"
   ]
  },
  {
   "cell_type": "markdown",
   "id": "0327e67f-bf60-4388-93bd-6c28faa190ba",
   "metadata": {},
   "source": [
    "Create these new columns for all floating point columns in the CSV. Add a `pipe` command if you want to sort the columns alphabetically"
   ]
  },
  {
   "cell_type": "code",
   "execution_count": null,
   "id": "a0bd9af8-13b1-4a0b-8a62-09b75db7bf74",
   "metadata": {
    "jupyter": {
     "source_hidden": true
    },
    "tags": []
   },
   "outputs": [],
   "source": [
    "(\n",
    "    pl.read_csv(csv_file)\n",
    "    .with_columns(\n",
    "        [\n",
    "            (pl.col(pl.Float64) - pl.col(pl.Float64).mean()).name.suffix('_delta'),\n",
    "            ((pl.col(pl.Float64) - pl.col(pl.Float64).mean())/pl.col(pl.Float64).std()).name.suffix('_z')\n",
    "        ]\n",
    "    )\n",
    "    .select(\n",
    "        pl.col(pl.Float64)\n",
    "    )\n",
    "    .pipe(lambda df:df.select(sorted(df.columns)))\n",
    "    .head(10)\n",
    ")"
   ]
  },
  {
   "cell_type": "markdown",
   "id": "16a8b81e-c050-407c-8a27-f3fcd9c81f49",
   "metadata": {},
   "source": [
    "### Solution to exercise 2\n",
    "We have the following `DataFrame` with values that occur in sequences in the `records` column"
   ]
  },
  {
   "cell_type": "code",
   "execution_count": null,
   "id": "5991673c-8d73-4151-be74-948fd83bae75",
   "metadata": {},
   "outputs": [],
   "source": [
    "records = (\n",
    "    pl.DataFrame(\n",
    "        {\n",
    "            \"values\":['A','A','A','B','B','A','A']\n",
    "        }\n",
    "    )\n",
    ")\n",
    "records"
   ]
  },
  {
   "cell_type": "markdown",
   "id": "fbfb8bea-62a0-4c1b-8164-96dcb763e91a",
   "metadata": {},
   "source": [
    "We want to identify groups of rows with the same consecutive values to get the following output. The column `groups` shows how long the sequence which that row belongs to it."
   ]
  },
  {
   "cell_type": "code",
   "execution_count": null,
   "id": "3ac556ef-0940-46c1-917c-e869f74a4a25",
   "metadata": {
    "jupyter": {
     "source_hidden": true
    }
   },
   "outputs": [],
   "source": [
    "(\n",
    "    pl.DataFrame(\n",
    "        {\n",
    "            \"values\":['A','A','A','B','B','A','A'],\n",
    "            \"groups\":[0,0,0,1,1,2,2]\n",
    "        }\n",
    "    )\n",
    ")"
   ]
  },
  {
   "cell_type": "markdown",
   "id": "f12d4eb8-c37c-45a8-951a-4606c2b09fe3",
   "metadata": {},
   "source": [
    "Check if the value in `values` in each row is **not** equal to the value in the previous row. Do this in a boolean column called `notEqualsPrevious`"
   ]
  },
  {
   "cell_type": "code",
   "execution_count": null,
   "id": "036e15d1-f8c2-41ec-b22a-a66f429e4f11",
   "metadata": {
    "jupyter": {
     "source_hidden": true
    },
    "tags": []
   },
   "outputs": [],
   "source": [
    "(\n",
    "    records\n",
    "    .with_columns(\n",
    "        (pl.col('values') != pl.col('values').shift(1)).alias('notEqualsPrevious')\n",
    "    )\n",
    ")"
   ]
  },
  {
   "cell_type": "markdown",
   "id": "f01e8a89-3e57-479a-a78e-466ed3ddbc9a",
   "metadata": {},
   "source": [
    "Use a cumulative function on `notEqualsPrevious` to increment an integer value whenever a row that is not equal to the previous value is encountered. If you have any strange results you may need to cast Boolean values to integers first!"
   ]
  },
  {
   "cell_type": "code",
   "execution_count": null,
   "id": "eee7db3c-1b9b-4a6c-bef1-97ca449764d7",
   "metadata": {
    "jupyter": {
     "source_hidden": true
    },
    "tags": []
   },
   "outputs": [],
   "source": [
    "(\n",
    "    records\n",
    "    .with_columns(\n",
    "        (pl.col('values') != pl.col('values').shift(1)).alias('notEqualsPrevious')\n",
    "    )\n",
    "    .with_columns(\n",
    "        (pl.col('notEqualsPrevious').cast(pl.Int32).cum_sum().fill_null(0)).alias('groups')\n",
    "    )\n",
    ")"
   ]
  },
  {
   "cell_type": "markdown",
   "id": "00784e6a-ee76-4c56-bc35-42bb448c33ea",
   "metadata": {},
   "source": [
    "### Solution to exercise 3\n",
    "We are given the following data from three weather stations over 8 months"
   ]
  },
  {
   "cell_type": "code",
   "execution_count": null,
   "id": "5d858454-d95a-4570-8cb5-46f6bdec351a",
   "metadata": {},
   "outputs": [],
   "source": [
    "data = [\n",
    "    {\"Year\": 2023, \"Month\": \"Jan\", \"Station_A (°C)\": 20.5, \"Station_B (°C)\": 18.0, \"Station_C (°C)\": 25.0},\n",
    "    {\"Year\": 2023, \"Month\": \"Feb\", \"Station_A (°C)\": 21.0, \"Station_B (°C)\": 18.5, \"Station_C (°C)\": 26.0},\n",
    "    {\"Year\": 2023, \"Month\": \"Mar\", \"Station_A (°C)\": 23.5, \"Station_B (°C)\": 20.0, \"Station_C (°C)\": 28.0},\n",
    "    {\"Year\": 2023, \"Month\": \"Apr\", \"Station_A (°C)\": 25.0, \"Station_B (°C)\": 22.0, \"Station_C (°C)\": 29.5},\n",
    "    {\"Year\": 2023, \"Month\": \"May\", \"Station_A (°C)\": 26.5, \"Station_B (°C)\": 23.0, \"Station_C (°C)\": 30.0},\n",
    "    {\"Year\": 2023, \"Month\": \"Jun\", \"Station_A (°C)\": 28.0, \"Station_B (°C)\": 24.0, \"Station_C (°C)\": 32.0},\n",
    "    {\"Year\": 2023, \"Month\": \"Jul\", \"Station_A (°C)\": 29.0, \"Station_B (°C)\": 25.5, \"Station_C (°C)\": 33.5},\n",
    "    {\"Year\": 2023, \"Month\": \"Aug\", \"Station_A (°C)\": 30.0, \"Station_B (°C)\": 26.0, \"Station_C (°C)\": 34.0}\n",
    "]\n",
    "df_weather = pl.DataFrame(data)\n",
    "df_weather"
   ]
  },
  {
   "cell_type": "markdown",
   "id": "dd24b20f-c2f6-41a4-ba99-19ff6c7de386",
   "metadata": {},
   "source": [
    "Add a column with the max temperature for each month"
   ]
  },
  {
   "cell_type": "code",
   "execution_count": null,
   "id": "93e71cb7-5364-4f3e-a028-38a3a0299a73",
   "metadata": {
    "jupyter": {
     "source_hidden": true
    }
   },
   "outputs": [],
   "source": [
    "(\n",
    "    df_weather\n",
    "    .with_columns(\n",
    "        pl.max_horizontal(pl.col(pl.Float64)).alias(\"max\"),\n",
    "    )\n",
    ")"
   ]
  },
  {
   "cell_type": "markdown",
   "id": "2e17c7fb-37de-4694-9ece-3fd9f8ed1e15",
   "metadata": {},
   "source": [
    "Add another column called `std` with the standard deviation of measurements for each month rounded off to one decimal place"
   ]
  },
  {
   "cell_type": "code",
   "execution_count": null,
   "id": "8deb394c-72a9-4925-a471-0e57af9b22ff",
   "metadata": {
    "jupyter": {
     "source_hidden": true
    }
   },
   "outputs": [],
   "source": [
    "(\n",
    "    df_weather\n",
    "    .with_columns(\n",
    "        pl.max_horizontal(pl.col(pl.Float64)).alias(\"max\"),\n",
    "        pl.concat_list(pl.col(pl.Float64))\n",
    "        .list.eval(\n",
    "            pl.element().std()\n",
    "        )\n",
    "        .list.get(0)\n",
    "        .round(1)\n",
    "        .alias(\"std\")\n",
    "    )\n",
    ")"
   ]
  },
  {
   "cell_type": "code",
   "execution_count": null,
   "id": "9ddfee1e-75e3-4689-a945-f5d9a241151a",
   "metadata": {},
   "outputs": [],
   "source": []
  }
 ],
 "metadata": {
  "kernelspec": {
   "display_name": "Python 3 (ipykernel)",
   "language": "python",
   "name": "python3"
  },
  "language_info": {
   "codemirror_mode": {
    "name": "ipython",
    "version": 3
   },
   "file_extension": ".py",
   "mimetype": "text/x-python",
   "name": "python",
   "nbconvert_exporter": "python",
   "pygments_lexer": "ipython3",
   "version": "3.10.1"
  }
 },
 "nbformat": 4,
 "nbformat_minor": 5
}
