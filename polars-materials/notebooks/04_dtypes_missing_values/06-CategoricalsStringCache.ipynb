{
 "cells": [
  {
   "cell_type": "markdown",
   "id": "0f337a89-8ca5-41f8-badd-9a270023f688",
   "metadata": {},
   "source": [
    "## Categoricals and the string cache\n",
    "By the end of this lecture you will be able to:\n",
    "- coordinate categorical mappings across `DataFrames` with the string cache\n",
    "- filter a categorical column\n",
    "\n",
    "We introduce the string cache here. In Section 6 on Joins and Concats we will see that the string cache is useful when combining `DataFrames` with categorical columns"
   ]
  },
  {
   "cell_type": "code",
   "execution_count": null,
   "id": "bba84684-2dc2-4ea6-a298-c23c05c11925",
   "metadata": {
    "tags": []
   },
   "outputs": [],
   "source": [
    "import polars as pl"
   ]
  },
  {
   "cell_type": "markdown",
   "id": "4306317b-6d55-4ecc-af4f-cf5548b24217",
   "metadata": {},
   "source": [
    "We create a `DataFrame` and add a categorical column called `cats`"
   ]
  },
  {
   "cell_type": "code",
   "execution_count": null,
   "id": "1c9849d3-fd1b-4a92-8bfa-9f8dca58c9f1",
   "metadata": {
    "tags": []
   },
   "outputs": [],
   "source": [
    "df = (\n",
    "    pl.DataFrame(\n",
    "        {\n",
    "            \"strings\": [\"c\",\"b\",\"a\",\"c\"], \n",
    "            \"values\": [1, 2, 3, 4]\n",
    "        }\n",
    "    )\n",
    "    .with_columns(\n",
    "        pl.col(\"strings\").cast(pl.Categorical).alias(\"cats\")\n",
    "    )\n",
    ")\n",
    "df"
   ]
  },
  {
   "cell_type": "markdown",
   "id": "c5a65427-33c8-47d0-9210-d632269150f1",
   "metadata": {},
   "source": [
    "## Filtering a categorical column\n",
    "We filter a categorical column for equality in the same way as for a string column"
   ]
  },
  {
   "cell_type": "code",
   "execution_count": null,
   "id": "732d1465-569c-4cca-98f8-421dd353dedb",
   "metadata": {
    "tags": []
   },
   "outputs": [],
   "source": [
    "(\n",
    "    df\n",
    "    .filter(\n",
    "        cats = \"b\"\n",
    "    )\n",
    ")"
   ]
  },
  {
   "cell_type": "markdown",
   "id": "7cc460db-bfa3-4eea-aaed-4cb92a2bfb3e",
   "metadata": {},
   "source": [
    "We can also filter a categorical column with `is_in` (note - in earlier versions this gave an `Exception`)"
   ]
  },
  {
   "cell_type": "code",
   "execution_count": null,
   "id": "c148d957-6ec6-474a-be7f-24aa15af17e1",
   "metadata": {
    "tags": []
   },
   "outputs": [],
   "source": [
    "(\n",
    "    df\n",
    "    .filter(\n",
    "        pl.col(\"cats\").is_in([\"b\"])\n",
    "    )\n",
    ")"
   ]
  },
  {
   "cell_type": "markdown",
   "id": "6016e629-1da3-4828-9314-9abb13151180",
   "metadata": {},
   "source": [
    "## Categoricals from different `DataFrames`\n",
    "When we combine `DataFrames` that have categoricals Polars needs to ensure that the same mapping is used from strings to integers in both `DataFrames`.\n",
    "\n",
    "To illustrate this we create a new `DataFrame` called `df_right` that has a different mapping of strings to integers from `df` above"
   ]
  },
  {
   "cell_type": "code",
   "execution_count": null,
   "id": "bee67935-9d5a-4e1c-8f53-a7f60d3a2406",
   "metadata": {},
   "outputs": [],
   "source": [
    "df_right = (\n",
    "    pl.DataFrame(\n",
    "        {\n",
    "            \"strings\": [\"a\",\"b\"], \n",
    "            \"values\": [10, 20]\n",
    "        }\n",
    "    )\n",
    "    .with_columns(\n",
    "        pl.col(\"strings\").cast(pl.Categorical).alias(\"cats\")\n",
    "    )\n",
    ")\n",
    "df_right"
   ]
  },
  {
   "cell_type": "markdown",
   "id": "34e58dd4-9101-449e-973f-9cc6fa8fd131",
   "metadata": {},
   "source": [
    "If we join `df` and `df_right` on the categorical column then the operation works but Polars also raises a warning"
   ]
  },
  {
   "cell_type": "code",
   "execution_count": null,
   "id": "a6bf2647-8c86-4301-9f1e-7042f83d82c1",
   "metadata": {},
   "outputs": [],
   "source": [
    "(\n",
    "    df\n",
    "    .join(\n",
    "        df_right,\n",
    "        on = \"cats\",\n",
    "        how=\"left\"\n",
    "    )\n",
    ")"
   ]
  },
  {
   "cell_type": "markdown",
   "id": "2f2644a5-82a9-478e-b2bf-fedcf2e203d9",
   "metadata": {},
   "source": [
    "### Why do we get a warning?\n",
    "\n",
    "We get a warning because when we do this operation Polars: \n",
    "1. checks if `df` and `df_right` have compatible mappings from strings to integers\n",
    "2. if they do not Polars re-encodes the `df_right` mapping from strings to integers\n",
    "\n",
    "If you had a large `DataFrame` with many mappings this operation could be expensive and this is why we get the warning.\n",
    "\n",
    "## Combining categoricals with the `StringCache`\n",
    "We can instead use a `StringCache` to ensure that different `DataFrames` have the same categorical mapping.\n",
    "\n",
    "The `StringCache` object:\n",
    "- stores the categorical mapping\n",
    "- ensures that all `DataFrames` use the same mapping. \n",
    "\n",
    "We can use the `StringCache`:\n",
    "- inside a context manager or\n",
    "- by enabling it globally.\n",
    "\n",
    "We see both below.\n",
    "\n",
    "### Using the `StringCache` inside a context-manager\n",
    "\n",
    "A context-manager is a way to ensure certain actions happen in Python.\n",
    "\n",
    "Everything inside the code block beginning with `with` is in the same context.\n",
    "\n",
    "In this case\n",
    "```python\n",
    "with pl.StringCache():\n",
    "```\n",
    "ensures that everything that happens in the following code block uses the same categorical mappings. In this example it ensures that the list in `is_in` is cast to the same categorical mappings as the `strings` column of the `DataFrame`"
   ]
  },
  {
   "cell_type": "code",
   "execution_count": null,
   "id": "cc759f7d-1675-4c82-8d58-5ab90638af78",
   "metadata": {
    "tags": []
   },
   "outputs": [],
   "source": [
    "with pl.StringCache():\n",
    "    # Create the left dataframe\n",
    "    df = (\n",
    "        pl.DataFrame(\n",
    "                {\"strings\": [\"c\",\"b\",\"a\",\"c\"], \"values\": [1, 2, 3, 4]}\n",
    "        )\n",
    "        .with_columns(\n",
    "            pl.col(\"strings\").cast(pl.Categorical).alias(\"cats\")\n",
    "        )\n",
    "    )\n",
    "    # Create the right dataframe\n",
    "    df_right = (\n",
    "        pl.DataFrame(\n",
    "            {\n",
    "                \"strings\": [\"a\",\"b\"], \n",
    "                \"values\": [10, 20]\n",
    "            }\n",
    "        )\n",
    "        .with_columns(\n",
    "            pl.col(\"strings\").cast(pl.Categorical).alias(\"cats\")\n",
    "        )\n",
    "    )\n",
    "    # Join the dataframes\n",
    "    df_joined = (\n",
    "        df\n",
    "        .join(\n",
    "            df_right,\n",
    "            on = \"cats\",\n",
    "            how=\"left\"\n",
    "        )\n",
    ")\n",
    "df_joined"
   ]
  },
  {
   "cell_type": "markdown",
   "id": "bdb99412-4dd4-484b-bc8b-f1fc7783d361",
   "metadata": {},
   "source": [
    "In this case we do not get the warning.\n",
    "\n",
    "At the end of the `with` block the `StringCache` is deleted but both `DataFrames` still have the mapping internally.\n",
    "\n",
    "### Enabling the `StringCache`\n",
    "We can also enable the `StringCache` to be on through a session - be aware that this can have affects beyond this script/notebook. In fact I've commented it out here because when I run my test suite with `pytest` this command changes the outputs in other notebooks!"
   ]
  },
  {
   "cell_type": "code",
   "execution_count": null,
   "id": "e4446e04-2841-42bb-be7d-d28a6c6e4334",
   "metadata": {
    "tags": []
   },
   "outputs": [],
   "source": [
    "# pl.enable_string_cache()"
   ]
  },
  {
   "cell_type": "markdown",
   "id": "efdc3861-fd22-40f3-8bf0-b7f1be3700f9",
   "metadata": {},
   "source": [
    "When we use `pl.enable_string_cache()` Polars enables a `StringCache` that is used by all categorical columns until:\n",
    "- the end of the session or\n",
    "- you call `pl.disable_string_cache()`\n",
    "\n",
    "You can see whether a string cache is enabled with "
   ]
  },
  {
   "cell_type": "code",
   "execution_count": null,
   "id": "c63ce285-5569-44ba-8d06-b5f3eba73159",
   "metadata": {
    "tags": []
   },
   "outputs": [],
   "source": [
    "pl.using_string_cache()"
   ]
  },
  {
   "cell_type": "markdown",
   "id": "80ec72c9-3285-43dd-8b30-b2aabe4cb933",
   "metadata": {},
   "source": [
    "### Context-manager or enable the string cache?\n",
    "Enabling the string cache is easier than using pl.StringCache in a context-manager.\n",
    "\n",
    "However, I recommend using the context-manager approach as:\n",
    "- it makes the use of the string cache explicit in the code\n",
    "- it avoids errors that can arise from setting global values\n",
    "\n",
    "### Use cases for `pl.StringCache`\n",
    "\n",
    "We need the string cache whenever different objects with a categorical dtype are involved. For example when:\n",
    "- joining `DataFrames` with categorical dtypes\n",
    "- concatenating `DataFrames` with categorical dtypes\n",
    "- creating a `DataFrame` with categorical dtype from multiple files\n",
    "\n",
    "We will see examples of these in later Sections of the course."
   ]
  },
  {
   "cell_type": "markdown",
   "id": "fbc70a86-9a4b-4de5-8979-85f4940a9617",
   "metadata": {},
   "source": [
    "## Exercises\n",
    "In the exercises you will develop your understanding of:\n",
    "- filtering a categorical column\n",
    "- using the string cache\n",
    "\n",
    "### Exercise 1\n",
    "Create a `DataFrame` from the Titanic dataset and cast the `Pclass` column to categorical."
   ]
  },
  {
   "cell_type": "code",
   "execution_count": null,
   "id": "80973220-d668-4676-99f0-16d900364fff",
   "metadata": {},
   "outputs": [],
   "source": [
    "csv_file = \"../data/titanic.csv\"\n",
    "(\n",
    "    pl.read_csv(csv_file)\n",
    "    <blank>\n",
    "    .head(3)\n",
    ")"
   ]
  },
  {
   "cell_type": "markdown",
   "id": "31ac432c-6f83-42be-a0a4-f11cd21ee7fd",
   "metadata": {},
   "source": [
    "Continue by casting the `Embarked` column to categorical (change `with_column` to `with_columns`). "
   ]
  },
  {
   "cell_type": "code",
   "execution_count": null,
   "id": "b3264fde-49f4-4be3-93e9-74c785e203e5",
   "metadata": {},
   "outputs": [],
   "source": []
  },
  {
   "cell_type": "markdown",
   "id": "914adaec-97c6-43c0-8657-f4f2d0793c57",
   "metadata": {},
   "source": [
    "Filter the `Pclass` column for third class passengers"
   ]
  },
  {
   "cell_type": "code",
   "execution_count": null,
   "id": "44d49b99-8bbf-49c5-ac23-9404adff2edf",
   "metadata": {},
   "outputs": [],
   "source": []
  },
  {
   "cell_type": "markdown",
   "id": "3bf25a51-6ab1-4bb0-b159-caecc120d53a",
   "metadata": {},
   "source": [
    "Add a filter on the `Embarked` column for passengers who embarked in either Southampton (`S`) or Queenstown (`Q`)"
   ]
  },
  {
   "cell_type": "code",
   "execution_count": null,
   "id": "217f2cb3-c757-4e7f-bc6a-b821016b16f2",
   "metadata": {},
   "outputs": [],
   "source": []
  },
  {
   "cell_type": "markdown",
   "id": "7fe63105-f546-4954-ac1c-70bdabe78f30",
   "metadata": {},
   "source": [
    "### Exercise 2\n",
    "We want to filter the Spotify `DataFrame` to find all tracks by either Taylor Swift or Ed Sheeran.\n",
    "\n",
    "First we create the path to the CSV"
   ]
  },
  {
   "cell_type": "code",
   "execution_count": null,
   "id": "7173ba0e-e42a-456b-b333-21151fc754c4",
   "metadata": {},
   "outputs": [],
   "source": [
    "spotify_csv = \"../data/spotify-charts-2017-2021-global-top200.csv.gz\""
   ]
  },
  {
   "cell_type": "markdown",
   "id": "04746483-e452-42b0-94b7-035ae0bf61ab",
   "metadata": {},
   "source": [
    "Enable the string cache"
   ]
  },
  {
   "cell_type": "code",
   "execution_count": null,
   "id": "d5c60102-2f62-4f55-9499-14d571a9869f",
   "metadata": {},
   "outputs": [],
   "source": []
  },
  {
   "cell_type": "markdown",
   "id": "d26b98c7-805d-45eb-ab3f-12063b49da00",
   "metadata": {},
   "source": [
    "- Create the `DataFrame`\n",
    "- Cast the `artist` column to categorical\n",
    "- Filter for the tracks by the artists mentioned above"
   ]
  },
  {
   "cell_type": "code",
   "execution_count": null,
   "id": "d6a93398-e11d-4544-83cf-c79114da7e21",
   "metadata": {},
   "outputs": [],
   "source": [
    "(\n",
    "    pl.read_csv(spotify_csv,try_parse_dates=True)\n",
    "    <blank>\n",
    ")"
   ]
  },
  {
   "cell_type": "markdown",
   "id": "53a3b66d-4766-42d2-94c5-920c659e4212",
   "metadata": {},
   "source": [
    "Then disable the string cache"
   ]
  },
  {
   "cell_type": "code",
   "execution_count": null,
   "id": "21865efd-850b-4c55-add1-6dd19b8e51ec",
   "metadata": {},
   "outputs": [],
   "source": []
  },
  {
   "cell_type": "markdown",
   "id": "ee7b27d5-877f-4195-bd7d-84387d8f3e6c",
   "metadata": {},
   "source": [
    "## Solutions\n",
    "\n",
    "### Solution to Exercise 1"
   ]
  },
  {
   "cell_type": "markdown",
   "id": "a226bbb3-80a0-4ee6-b01d-a7f05587d679",
   "metadata": {},
   "source": [
    "Cast the `Pclass` column to categorical"
   ]
  },
  {
   "cell_type": "code",
   "execution_count": null,
   "id": "2e06f006-a38c-48d0-8ac2-c61f61717ac9",
   "metadata": {
    "jupyter": {
     "source_hidden": true
    },
    "tags": []
   },
   "outputs": [],
   "source": [
    "csv_file = \"../data/titanic.csv\"\n",
    "(\n",
    "    pl.read_csv(csv_file)\n",
    "    .with_columns(\n",
    "        pl.col(\"Pclass\").cast(pl.Utf8).cast(pl.Categorical)\n",
    "    )\n",
    "    .head()\n",
    ")\n"
   ]
  },
  {
   "cell_type": "markdown",
   "id": "83373def-6124-4b59-8651-3da4316f62db",
   "metadata": {},
   "source": [
    "Cast the `Embarked` column to categorical"
   ]
  },
  {
   "cell_type": "code",
   "execution_count": null,
   "id": "0227e12c-db2c-485b-b211-1eb351db1b01",
   "metadata": {
    "jupyter": {
     "source_hidden": true
    },
    "tags": []
   },
   "outputs": [],
   "source": [
    "(\n",
    "    pl.read_csv(csv_file)\n",
    "    .with_columns(\n",
    "        pl.col(\"Pclass\").cast(pl.Utf8).cast(pl.Categorical),\n",
    "        pl.col(\"Embarked\").cast(pl.Categorical)\n",
    "    )\n",
    "    .head(3)\n",
    ")\n"
   ]
  },
  {
   "cell_type": "markdown",
   "id": "96bbdec2-527a-42dc-bac1-c93282a037c2",
   "metadata": {},
   "source": [
    "Filter the `Pclass` column for third class passengers"
   ]
  },
  {
   "cell_type": "code",
   "execution_count": null,
   "id": "ca175759-5386-4f56-8198-68632c2c153d",
   "metadata": {
    "jupyter": {
     "source_hidden": true
    },
    "tags": []
   },
   "outputs": [],
   "source": [
    "(\n",
    "    pl.read_csv(csv_file)\n",
    "    .with_columns(\n",
    "        pl.col(\"Pclass\").cast(pl.Utf8).cast(pl.Categorical),\n",
    "        pl.col(\"Embarked\").cast(pl.Categorical)\n",
    "    )\n",
    "    .filter(pl.col(\"Pclass\")==\"3\")\n",
    "    .head(3)\n",
    ")\n"
   ]
  },
  {
   "cell_type": "markdown",
   "id": "15976842-37a1-45f6-aef4-a35ebd2caa91",
   "metadata": {},
   "source": [
    "In addition, filter the `Embarked` column for passengers who embarked in Southampton (`S`) or Queenstown (`Q`)"
   ]
  },
  {
   "cell_type": "code",
   "execution_count": null,
   "id": "f21d618d-3879-4444-bf5e-4d2c768360b2",
   "metadata": {
    "jupyter": {
     "source_hidden": true
    },
    "tags": []
   },
   "outputs": [],
   "source": [
    "df = (\n",
    "    pl.read_csv(csv_file)\n",
    "    .with_columns(\n",
    "        pl.col(\"Pclass\").cast(pl.Utf8).cast(pl.Categorical),\n",
    "        pl.col(\"Embarked\").cast(pl.Categorical)\n",
    "    )\n",
    "    .filter(pl.col(\"Pclass\")==\"3\")\n",
    "    .filter(pl.col(\"Embarked\").is_in([\"S\",\"Q\"]))   \n",
    ")\n",
    "df.head(3)"
   ]
  },
  {
   "cell_type": "markdown",
   "id": "f1c2868a-6c10-4b09-87e8-140746f343e3",
   "metadata": {},
   "source": [
    "### Solution to Exercise 2\n",
    "We want to filter the Spotify `DataFrame` to find all tracks by either Taylor Swift or Ed Sheeran.\n",
    "\n",
    "Enable the string cache (**not** using `with pl.StringCache`)"
   ]
  },
  {
   "cell_type": "code",
   "execution_count": null,
   "id": "8e814f24-26dd-47f4-992b-c978c19e7586",
   "metadata": {
    "jupyter": {
     "source_hidden": true
    }
   },
   "outputs": [],
   "source": [
    "pl.enable_string_cache()"
   ]
  },
  {
   "cell_type": "code",
   "execution_count": null,
   "id": "918b4468-5611-4f9a-b1b6-d038ca900eb7",
   "metadata": {},
   "outputs": [],
   "source": [
    "pl.Config.set_fmt_str_lengths(50)\n",
    "spotify_csv = \"../data/spotify-charts-2017-2021-global-top200.csv.gz\""
   ]
  },
  {
   "cell_type": "markdown",
   "id": "2793f8d5-698d-4509-9026-1d1d547e0018",
   "metadata": {},
   "source": [
    "- Create the `DataFrame`\n",
    "- Cast the `artist` column to categorical\n",
    "- Filter for the tracks by the artists mentioned above"
   ]
  },
  {
   "cell_type": "code",
   "execution_count": null,
   "id": "fe9954fc-ced0-42af-908b-da15c6efda5e",
   "metadata": {
    "jupyter": {
     "source_hidden": true
    }
   },
   "outputs": [],
   "source": [
    "(\n",
    "    pl.read_csv(spotify_csv,try_parse_dates=True)\n",
    "    .with_columns(\n",
    "        pl.col(\"artist\").cast(pl.Categorical)\n",
    "    )\n",
    "    .filter(\n",
    "        pl.col(\"artist\").is_in([\"Taylor Swift\",\"Ed Sheeran\"])\n",
    "    )\n",
    "    .head()\n",
    ")"
   ]
  },
  {
   "cell_type": "markdown",
   "id": "4220d80c-a8f7-4353-ad6e-09072185c717",
   "metadata": {},
   "source": [
    "Then disable the string cache"
   ]
  },
  {
   "cell_type": "code",
   "execution_count": null,
   "id": "fe7752f1-9df7-426e-a4c8-786581295427",
   "metadata": {
    "jupyter": {
     "source_hidden": true
    }
   },
   "outputs": [],
   "source": [
    "pl.disable_string_cache()"
   ]
  }
 ],
 "metadata": {
  "kernelspec": {
   "display_name": "Python 3 (ipykernel)",
   "language": "python",
   "name": "python3"
  },
  "language_info": {
   "codemirror_mode": {
    "name": "ipython",
    "version": 3
   },
   "file_extension": ".py",
   "mimetype": "text/x-python",
   "name": "python",
   "nbconvert_exporter": "python",
   "pygments_lexer": "ipython3",
   "version": "3.10.1"
  }
 },
 "nbformat": 4,
 "nbformat_minor": 5
}
