{
 "cells": [
  {
   "cell_type": "markdown",
   "id": "738a1b1a-752d-478b-82ee-94f6dbf38933",
   "metadata": {},
   "source": [
    "## Numerical dtypes and precision to improve performance\n",
    "\n",
    "By the end of this lecture you will be able to:\n",
    "- get the upper and lower bounds you can represent at a given precision\n",
    "- estimate the size of a `DataFrame` in memory\n",
    "- compare the effect of working with 32-bit and 64-bit representations\n",
    "\n",
    "In this lecture we examine the affect of varying the numerical precision on computational speed, memory usage and precision. In some use cases this can be a simple way of improving performance and reducing memory usage."
   ]
  },
  {
   "cell_type": "code",
   "execution_count": null,
   "id": "b40ac037-3cd8-4e18-8595-f61105406f1d",
   "metadata": {},
   "outputs": [],
   "source": [
    "import polars as pl\n",
    "import numpy as np"
   ]
  },
  {
   "cell_type": "markdown",
   "id": "54a9c171-cfd2-4680-b01d-8fe6855f5b82",
   "metadata": {},
   "source": [
    "We create a simple `DataFrame` to see the default dtypes for integers and floats"
   ]
  },
  {
   "cell_type": "code",
   "execution_count": null,
   "id": "d3c08231-4448-4ae3-8ebd-6d8e3f973766",
   "metadata": {},
   "outputs": [],
   "source": [
    "df = pl.DataFrame(\n",
    "    {\n",
    "        \"ints\":[0,1,2],\n",
    "        \"floats\":[0.0,1,2]\n",
    "    }\n",
    ")\n",
    "df"
   ]
  },
  {
   "cell_type": "markdown",
   "id": "5b9ff689-5642-40e5-b0af-360ed43a5018",
   "metadata": {},
   "source": [
    "Polars defaults to 64-bit representations for both integers and floats. In this notebook we examine the affect of varying the numerical precision."
   ]
  },
  {
   "cell_type": "markdown",
   "id": "2346223f-7dcc-40a8-81ca-2acf28631c7c",
   "metadata": {},
   "source": [
    "## Integers\n",
    "\n",
    "Polars has the following integer types:\n",
    "| dtype | Precision (bits) | Signed |\n",
    "|-----------|------------------|--------|\n",
    "| Int8      | 8                | Yes    |\n",
    "| Int16     | 16               | Yes    |\n",
    "| Int32     | 32               | Yes    |\n",
    "| Int64     | 64               | Yes    |\n",
    "| UInt8     | 8                | No     |\n",
    "| UInt16    | 16               | No     |\n",
    "| UInt32    | 32               | No     |\n",
    "| UInt64    | 64               | No     |\n",
    "\n",
    "\n",
    "The unsigned integers are `0` and positive values only. Polars uses them for things like row indexes.\n",
    "\n",
    "Polars generates an `Exception` if we try to cast a negative integer to an unsigned integer dtype."
   ]
  },
  {
   "cell_type": "markdown",
   "id": "29b49e75-e920-4c0b-8386-552bfa327147",
   "metadata": {},
   "source": [
    "## Constraints of lower precision\n",
    "With a lower precision the range of values we can represent is smaller.\n",
    "\n",
    "The `upper_bound` and `lower_bound` expressions show the maximum and minimum values that can be represented at a given precision."
   ]
  },
  {
   "cell_type": "code",
   "execution_count": null,
   "id": "9034481c-a1b1-4d45-983f-6d1ca674b05a",
   "metadata": {},
   "outputs": [],
   "source": [
    "pl.Config.set_fmt_str_lengths(100)\n",
    "df_ints = pl.DataFrame({\"ints\": [1, 2, 3]})\n",
    "(\n",
    "    df_ints\n",
    "    .select(\n",
    "        [\n",
    "            pl.col(\"ints\").upper_bound().alias(\"pl.Int64_upper\"),\n",
    "            pl.col(\"ints\").cast(pl.Int32).upper_bound().alias(\"pl.Int32_upper\"),\n",
    "            pl.col(\"ints\").cast(pl.Int16).upper_bound().alias(\"pl.Int16_upper\"),\n",
    "            pl.col(\"ints\").cast(pl.Int8).upper_bound().alias(\"pl.Int8_upper\"),\n",
    "            \n",
    "            pl.col(\"ints\").lower_bound().alias(\"pl.Int64_lower\"),\n",
    "            pl.col(\"ints\").cast(pl.Int32).lower_bound().alias(\"pl.Int32_lower\"),\n",
    "            pl.col(\"ints\").cast(pl.Int16).lower_bound().alias(\"pl.Int16_lower\"),\n",
    "            pl.col(\"ints\").cast(pl.Int8).lower_bound().alias(\"pl.Int8_lower\"),\n",
    "        ]\n",
    "    )\n",
    "    .melt()\n",
    "    .sort(\"variable\")\n",
    ")"
   ]
  },
  {
   "cell_type": "markdown",
   "id": "12f93273-749e-4030-9616-1c7d8b7555d1",
   "metadata": {},
   "source": [
    "If we try to cast a value outside of the valid range Polars raises an `Exception` - uncomment the following code to test this"
   ]
  },
  {
   "cell_type": "code",
   "execution_count": null,
   "id": "5c692a04-0572-473c-852e-7c862e0b733c",
   "metadata": {},
   "outputs": [],
   "source": [
    "# (\n",
    "#     pl.DataFrame(\n",
    "#         {'values':[126,127,128]}\n",
    "#     )\n",
    "#     .with_columns(\n",
    "#         pl.col(\"values\").cast(pl.Int8).alias(\"values_Int8\")\n",
    "#     )\n",
    "# )"
   ]
  },
  {
   "cell_type": "markdown",
   "id": "f9fa0833-4163-4dc2-956d-26a55ed2688c",
   "metadata": {},
   "source": [
    "## Floats\n",
    "Polars has the following floating point types:\n",
    "\n",
    "`Float32`: 32-bit floating point\n",
    "\n",
    "`Float64`: 64-bit floating point\n",
    "\n",
    "`Decimal`: 128-bit floating point\n",
    "\n",
    "The `Decimal` dtype is still experimental and may not work with all expressions or methods. To use `Decimal` you must first activate it"
   ]
  },
  {
   "cell_type": "code",
   "execution_count": null,
   "id": "ed22c57e-80d5-4826-b1d1-512cb5f170a6",
   "metadata": {},
   "outputs": [],
   "source": [
    "pl.Config.activate_decimals()\n",
    "df_floats = (\n",
    "    pl.DataFrame(\n",
    "        {\n",
    "            \"floats_64\":[0.0,1,2]\n",
    "        }\n",
    "    )\n",
    "    .with_columns(\n",
    "        floats_32 = pl.col(\"floats_64\").cast(pl.Float32),\n",
    "        decimal = pl.col(\"floats_64\").cast(pl.Decimal),\n",
    "    )\n",
    ")\n",
    "df_floats"
   ]
  },
  {
   "cell_type": "markdown",
   "id": "b71c5e0b-5e29-4482-b94b-b76e6afc7d09",
   "metadata": {},
   "source": [
    "## A dtype diet\n",
    "Polars creates integer and float columns as 64-bit by default. Polars can check if the actual data in a column can fit in a lower precision dtype and cast the column to that dtype with the `shrink_dtype` expression.\n",
    "\n",
    "Here we create a `DataFrame` with columns that could potentially be cast to a lower-precision dtype and then call `shrink_dtype`"
   ]
  },
  {
   "cell_type": "code",
   "execution_count": null,
   "id": "8ec68b91-bb94-404e-be8e-8f13851deb87",
   "metadata": {},
   "outputs": [],
   "source": [
    "(\n",
    "    pl.DataFrame(\n",
    "         {\n",
    "             \"a\": [1, 2, 3],\n",
    "             \"b\": [1, 2, 2**31],\n",
    "             \"c\": [-1, 2, 2**30],\n",
    "             \"d\": [-112, 2, 112],\n",
    "             \"e\": [-112, 2, 129],\n",
    "             \"f\": [0.1, 1.32, 0.12],\n",
    "         }\n",
    "     )\n",
    "    .select(\n",
    "        pl.all().shrink_dtype()\n",
    "    )\n",
    ")"
   ]
  },
  {
   "cell_type": "markdown",
   "id": "b7538d85-3aa6-4074-b04f-de810c6c207e",
   "metadata": {},
   "source": [
    "We see that:\n",
    "- the small numbers in `a` can go to 8-bits\n",
    "- the last value in `b` means is must stay 64-bit\n",
    "- the last value in `c` is within range for 32-bit\n",
    "- the positive and negative values in `d` are in range for 8-bits\n",
    "- the last value in `e` is too large for 8-bit so is 16-bit\n",
    "- the values in `f` can be cast to 32-bit\n",
    "\n",
    "Note that floats are always cast to 32-bits by this expression"
   ]
  },
  {
   "cell_type": "markdown",
   "id": "ae19598e-4c03-416e-85d8-51048622062d",
   "metadata": {},
   "source": [
    "## Effects of moving to lower precision\n",
    "\n",
    "### Size in memory\n",
    "We get the estimated size in bytes of a `DataFrame` with `estimated_size`. We can pass the `unit` argument to change from e.g. bytes to kilobytes"
   ]
  },
  {
   "cell_type": "code",
   "execution_count": null,
   "id": "8ac495b5-00d8-4833-b893-d43b9cab9597",
   "metadata": {},
   "outputs": [],
   "source": [
    "df = pl.DataFrame(\n",
    "    {\n",
    "        \"ints\":[0,1,2],\n",
    "        \"floats\":[0.0,1,2]\n",
    "    }\n",
    ")\n",
    "df.estimated_size(unit=\"b\")"
   ]
  },
  {
   "cell_type": "markdown",
   "id": "16dd5b99-8df7-4688-9667-8a215d2839ec",
   "metadata": {},
   "source": [
    "We compare this size with a `DataFrame` where both columns are cast to 32-bit representations"
   ]
  },
  {
   "cell_type": "code",
   "execution_count": null,
   "id": "180c9330-dadb-43e1-bf0b-33958b963144",
   "metadata": {},
   "outputs": [],
   "source": [
    "(\n",
    "    df\n",
    "    .with_columns(\n",
    "        [\n",
    "            pl.col(\"ints\").cast(pl.Int32),\n",
    "            pl.col(\"floats\").cast(pl.Float32),\n",
    "        ]\n",
    "    )\n",
    "    .estimated_size(unit=\"b\")\n",
    ")"
   ]
  },
  {
   "cell_type": "markdown",
   "id": "acf49926-7963-4c4f-a1c6-d3fd07310eb7",
   "metadata": {},
   "source": [
    "Memory usage is halved by moving from 64-bit to 32-bit representations and in a similar ratio when we move to 8 or 16-bit integer representations.\n",
    "\n",
    "### Computational speed\n",
    "The effect of lower precision on computational speed is not as simple.\n",
    "\n",
    "We explore the effect of reduced precision by creating a larger `DataFrame` of random values"
   ]
  },
  {
   "cell_type": "code",
   "execution_count": null,
   "id": "bf5d5140-ff82-4a50-bdde-5fba5b3d88aa",
   "metadata": {},
   "outputs": [],
   "source": [
    "N_rows = 1_000_000\n",
    "N_columns = 10\n",
    "df_num = pl.DataFrame(np.random.standard_normal((N_rows,N_columns)))\n",
    "df_num.head(2)"
   ]
  },
  {
   "cell_type": "markdown",
   "id": "0ed6fcf9-0502-4aca-bfc6-fac3ef225f8c",
   "metadata": {},
   "source": [
    "These columns all have dtype `pl.Float64`"
   ]
  },
  {
   "cell_type": "markdown",
   "id": "22234952-226f-4fa4-ab79-803e86350268",
   "metadata": {},
   "source": [
    "For comparison we create a new `DataFrame` where we cast all values to 32-bit"
   ]
  },
  {
   "cell_type": "code",
   "execution_count": null,
   "id": "17223b94-ed85-40fc-b070-d44d66ee8fcb",
   "metadata": {},
   "outputs": [],
   "source": [
    "df_num_32 = (\n",
    "        df_num\n",
    "        .select(\n",
    "            pl.all().cast(pl.Float32)\n",
    "        )\n",
    ")\n",
    "df_num_32.head(2)"
   ]
  },
  {
   "cell_type": "markdown",
   "id": "b8cfafca-b956-4b62-ab99-c916104a0a52",
   "metadata": {},
   "source": [
    "### Memory usage at lower precision\n",
    "The 32-bit `DataFrame` uses half as much memory"
   ]
  },
  {
   "cell_type": "code",
   "execution_count": null,
   "id": "9399e7c9-201f-4244-b7ba-a2dc88a5c73e",
   "metadata": {},
   "outputs": [],
   "source": [
    "print(f\"64-bit DataFrame: {round(df_num.estimated_size(unit='mb'))} Mb\")\n",
    "print(f\"32-bit DataFrame: {round(df_num_32.estimated_size(unit='mb'))} Mb\")"
   ]
  },
  {
   "cell_type": "markdown",
   "id": "9c21869d-87e9-4bab-824f-6b1be9c158b1",
   "metadata": {},
   "source": [
    "### Computational speed at lower precision\n",
    "\n",
    "Some calculations are faster with 32-bit data. To time the computation we use the IPython `timeit` magic.\n",
    "\n",
    "We start a cell we want to time with `%%timeit`. By default `timeit` does multiple runs of multiple loops where it runs the computation each time to produce an estimate of mean time taken and the standard deviation of time taken. \n",
    "\n",
    "In many cases, however, the number of runs and loops is more than we really need. We control the number of iterations by setting `n` for number of runs and `l` for the number of loops."
   ]
  },
  {
   "cell_type": "code",
   "execution_count": null,
   "id": "f924a9f5-d8af-4077-a22b-cf9f343a4c6a",
   "metadata": {},
   "outputs": [],
   "source": [
    "%%timeit -n1 -r3\n",
    "(\n",
    "    2 + 4\n",
    ")"
   ]
  },
  {
   "cell_type": "markdown",
   "id": "722e475e-82e8-48a4-8763-06651343e07e",
   "metadata": {},
   "source": [
    "In this example we compare performance of 64-bit and 32-bit data where we:\n",
    "- subtract the mean of each column and \n",
    "- divide by the standard deviation"
   ]
  },
  {
   "cell_type": "code",
   "execution_count": null,
   "id": "4598e2f9-6ea7-4ad0-9628-e3f166f350d1",
   "metadata": {},
   "outputs": [],
   "source": [
    "%%timeit -n1\n",
    "(\n",
    "    df_num\n",
    "    .select( \n",
    "        (pl.all()-pl.all().mean())/(pl.all().std())\n",
    "    )\n",
    ")"
   ]
  },
  {
   "cell_type": "code",
   "execution_count": null,
   "id": "38b7ada0-1d32-49b8-9463-213752fcc17f",
   "metadata": {},
   "outputs": [],
   "source": [
    "%%timeit -n1 \n",
    "(\n",
    "    df_num_32\n",
    "    .select( \n",
    "        (pl.all()-pl.all().mean())/(pl.all().std())\n",
    "    )\n",
    ")"
   ]
  },
  {
   "cell_type": "markdown",
   "id": "e7fd0cfc-5a30-4012-9be9-6100e4da9943",
   "metadata": {},
   "source": [
    "On my machine the 32-bit operation takes about 35% less time than 64-bit. It is not always the case, however, that operations at 32-bit are much faster, the difference depends on the transformations applied. Try it on your own data and transformations.\n",
    "\n",
    "### Difference in outputs?\n",
    "We can check the size of the differences between the outputs"
   ]
  },
  {
   "cell_type": "code",
   "execution_count": null,
   "id": "ad209734-be0e-4c7e-8f79-a6b2f49d4da0",
   "metadata": {},
   "outputs": [],
   "source": [
    "output64 = (\n",
    "    df_num\n",
    "    .select( \n",
    "        (pl.all()-pl.all().mean())/(pl.all().std())\n",
    "    )\n",
    ")\n",
    "output32 = (\n",
    "    df_num_32\n",
    "    .select( \n",
    "        (pl.all()-pl.all().mean())/(pl.all().std())\n",
    "    )\n",
    ")"
   ]
  },
  {
   "cell_type": "markdown",
   "id": "c876720c-c993-49c2-b755-a311fe57841b",
   "metadata": {},
   "source": [
    "We can see the size of the differences in the first two rows"
   ]
  },
  {
   "cell_type": "code",
   "execution_count": null,
   "id": "59947db7-96dd-40fa-96ca-1c983ea0ae81",
   "metadata": {},
   "outputs": [],
   "source": [
    "(output64 - output32).head(2)"
   ]
  },
  {
   "cell_type": "markdown",
   "id": "c03fb2fb-48ab-46c0-9515-134398dfc267",
   "metadata": {},
   "source": [
    "The overall maximum difference in this case is order `10^-5` or smaller"
   ]
  },
  {
   "cell_type": "code",
   "execution_count": null,
   "id": "c1c09af7-6b16-4efd-bcd9-e7d45736f6df",
   "metadata": {},
   "outputs": [],
   "source": [
    "(output64 - output32).max_horizontal().max()"
   ]
  },
  {
   "cell_type": "markdown",
   "id": "ed31e2e5-7ebd-47e3-9516-2372f70f55be",
   "metadata": {},
   "source": [
    "Before moving to a lower precision always **check that the size of the difference between outputs is negligible** for your analysis!\n",
    "\n",
    "Moving to a lower precision than 32-bit does not always lead to faster performance. Many CPUs do not have native support for 8-bit and 16-bit operations and so they emulate it with 32-bit operations and so lose the performance gains. See the exercises for an example of lowering precision below 32-bits for integers.\n",
    "\n",
    "## Exercises\n",
    "\n",
    "In the exercises you will develop your understanding of:\n",
    "- getting the upper and lower bounds for a dtype\n",
    "- getting the estimated size of a `DataFrame`\n",
    "- comparing performance between different precisions \n",
    "\n",
    "### Exercise 1\n",
    "We create a `DataFrame` with 10 columns of random integers between 1 and 10"
   ]
  },
  {
   "cell_type": "code",
   "execution_count": null,
   "id": "2762dd8a-012f-4f34-bf9c-13811c564c9f",
   "metadata": {},
   "outputs": [],
   "source": [
    "N_rows = 1_000_000\n",
    "N_columns = 10\n",
    "df_ints_64 = pl.DataFrame(np.random.randint(1,10,(N_rows,N_columns)))\n",
    "df_ints_64.head(2)"
   ]
  },
  {
   "cell_type": "markdown",
   "id": "6d037b49-1eba-4576-a094-b25d0d65895f",
   "metadata": {},
   "source": [
    "Create a `DataFrame` called `df_ints_8` where all the values in `df_ints_64` are cast to `pl.Int8'"
   ]
  },
  {
   "cell_type": "code",
   "execution_count": null,
   "id": "56133f54-0290-4289-b9bf-df4daabfb070",
   "metadata": {},
   "outputs": [],
   "source": [
    "df_ints_8 = (\n",
    "    <blank>\n",
    ")\n"
   ]
  },
  {
   "cell_type": "markdown",
   "id": "e8baf524-05e0-4028-bf8e-195c72acfa35",
   "metadata": {},
   "source": [
    "Compare the size of these `DataFrames` in memory in Mb"
   ]
  },
  {
   "cell_type": "code",
   "execution_count": null,
   "id": "7c0d6b98-95ca-4de4-b6f7-b5d98aca27e8",
   "metadata": {},
   "outputs": [],
   "source": [
    "print(f\"64-bit DataFrame: {} Mb\")\n",
    "print(f\"8-bit DataFrame: {} Mb\")"
   ]
  },
  {
   "cell_type": "markdown",
   "id": "7b0bfc57-a447-43a9-80ac-a5704eb49c32",
   "metadata": {},
   "source": [
    "Compare how long it takes to do a cumulative sum on all the columns of the `DataFrames`"
   ]
  },
  {
   "cell_type": "code",
   "execution_count": null,
   "id": "64f4b0eb-797f-4273-9abf-c85684ccdd24",
   "metadata": {},
   "outputs": [],
   "source": [
    "%%timeit -n1\n",
    "(\n",
    "    df_ints_64\n",
    ")"
   ]
  },
  {
   "cell_type": "code",
   "execution_count": null,
   "id": "7e8d97a0-38d6-41ca-9dd0-e47ed5dc12c4",
   "metadata": {},
   "outputs": [],
   "source": [
    "%%timeit -n1\n",
    "(\n",
    "    df_ints_8\n",
    ")"
   ]
  },
  {
   "cell_type": "markdown",
   "id": "9c4f0da9-ca67-40e9-9a5c-faef1f8cebe5",
   "metadata": {},
   "source": [
    "Compare how long it takes at 16- and 32-bit precision.\n",
    "\n",
    "Which precision is fastest?"
   ]
  },
  {
   "cell_type": "code",
   "execution_count": null,
   "id": "6db932e8-59ee-453a-80df-d6338b4b6527",
   "metadata": {},
   "outputs": [],
   "source": []
  },
  {
   "cell_type": "markdown",
   "id": "a20092f5-a3ce-4ba2-ad2c-19105c147323",
   "metadata": {},
   "source": [
    "## Solutions\n",
    "\n",
    "### Solution to exercise 1\n",
    "We create a `DataFrame` with 10 columns of random integers between 1 and 10"
   ]
  },
  {
   "cell_type": "code",
   "execution_count": null,
   "id": "ec60bfec-6d19-4f38-8340-344177a57beb",
   "metadata": {},
   "outputs": [],
   "source": [
    "N_rows = 1_000_000\n",
    "N_columns = 10\n",
    "df_ints_64 = pl.DataFrame(np.random.randint(1,10,(N_rows,N_columns)))\n",
    "df_ints_64.head(2)"
   ]
  },
  {
   "cell_type": "markdown",
   "id": "4eba3ab4-ad1a-4218-a030-00de14ddc8f6",
   "metadata": {},
   "source": [
    "Create a `DataFrame` called `df_ints_8` where all the values in `df_ints` are cast to `pl.Int8'"
   ]
  },
  {
   "cell_type": "code",
   "execution_count": null,
   "id": "61962bee-3d63-4422-a36d-c9903773afb3",
   "metadata": {
    "jupyter": {
     "source_hidden": true
    },
    "tags": []
   },
   "outputs": [],
   "source": [
    "df_ints_8 = (\n",
    "    df_ints_64\n",
    "    .select(\n",
    "        pl.all().cast(pl.Int8)\n",
    "    )\n",
    ")\n"
   ]
  },
  {
   "cell_type": "markdown",
   "id": "577f0a0e-c9c8-4b8e-9a4d-955443976f0d",
   "metadata": {},
   "source": [
    "Compare the size of these `DataFrames` in memory in Mb"
   ]
  },
  {
   "cell_type": "code",
   "execution_count": null,
   "id": "fade4481-e785-459c-a001-0bebc7522ac5",
   "metadata": {
    "jupyter": {
     "source_hidden": true
    },
    "tags": []
   },
   "outputs": [],
   "source": [
    "print(f\"64-bit DataFrame: {round(df_ints_64.estimated_size(unit='mb'))} Mb\")\n",
    "print(f\"8-bit DataFrame: {round(df_ints_8.estimated_size(unit='mb'))} Mb\")"
   ]
  },
  {
   "cell_type": "markdown",
   "id": "8801b1aa-b613-44c7-b014-379d350f490f",
   "metadata": {},
   "source": [
    "Compare how long it takes to do a cumulative sum on all the columns of the `DataFrames`"
   ]
  },
  {
   "cell_type": "code",
   "execution_count": null,
   "id": "e51c0eea-fb22-46cb-a8be-957a398d0590",
   "metadata": {
    "jupyter": {
     "source_hidden": true
    },
    "tags": []
   },
   "outputs": [],
   "source": [
    "%%timeit -n1\n",
    "(\n",
    "    df_ints_64\n",
    "    .select( \n",
    "        pl.all().cum_sum()\n",
    "    )\n",
    ")"
   ]
  },
  {
   "cell_type": "code",
   "execution_count": null,
   "id": "ae890780-e12c-44aa-9ecf-eba4d5b41a3e",
   "metadata": {
    "jupyter": {
     "source_hidden": true
    },
    "tags": []
   },
   "outputs": [],
   "source": [
    "%%timeit -n1\n",
    "(\n",
    "    df_ints_8\n",
    "    .select( \n",
    "        pl.all().cum_sum()\n",
    "    )\n",
    ")"
   ]
  },
  {
   "cell_type": "markdown",
   "id": "ec616654-7125-44ef-ad70-d47a943bb889",
   "metadata": {},
   "source": [
    "Compare how long it takes at 16- and 32-bit precision.\n",
    "\n",
    "Which precision is fastest?"
   ]
  },
  {
   "cell_type": "code",
   "execution_count": null,
   "id": "01991e95-3c20-487b-b84f-94ecd6416b56",
   "metadata": {
    "jupyter": {
     "source_hidden": true
    },
    "tags": []
   },
   "outputs": [],
   "source": [
    "df_ints_16 = (\n",
    "    df_ints_64\n",
    "    .select(\n",
    "        pl.all().cast(pl.Int16)\n",
    "    )\n",
    ")\n",
    "df_ints32 = (\n",
    "    df_ints_64\n",
    "    .select(\n",
    "        pl.all().cast(pl.Int32)\n",
    "    )\n",
    ")\n"
   ]
  },
  {
   "cell_type": "code",
   "execution_count": null,
   "id": "c58f8d85-2b37-4a80-908f-2225fedc556a",
   "metadata": {
    "jupyter": {
     "source_hidden": true
    },
    "tags": []
   },
   "outputs": [],
   "source": [
    "%%timeit -n1\n",
    "(\n",
    "    df_ints_16\n",
    "    .select( \n",
    "        pl.all().cum_sum()\n",
    "    )\n",
    ")"
   ]
  },
  {
   "cell_type": "code",
   "execution_count": null,
   "id": "04e743bf-82a1-4bdc-98a5-0c6f4d08a0ca",
   "metadata": {
    "jupyter": {
     "source_hidden": true
    },
    "tags": []
   },
   "outputs": [],
   "source": [
    "%%timeit -n1\n",
    "(\n",
    "    df_ints32\n",
    "    .select( \n",
    "        pl.all().cum_sum()\n",
    "    )\n",
    ")"
   ]
  },
  {
   "cell_type": "markdown",
   "id": "55a15d9a-30f8-4526-9143-4a0f3552f562",
   "metadata": {},
   "source": [
    "Many CPUs do not have native support for 8-bit and 16-bit calculations and so calculations at these precisions may not be faster than at 32-bit."
   ]
  }
 ],
 "metadata": {
  "kernelspec": {
   "display_name": "Python 3 (ipykernel)",
   "language": "python",
   "name": "python3"
  },
  "language_info": {
   "codemirror_mode": {
    "name": "ipython",
    "version": 3
   },
   "file_extension": ".py",
   "mimetype": "text/x-python",
   "name": "python",
   "nbconvert_exporter": "python",
   "pygments_lexer": "ipython3",
   "version": "3.10.1"
  }
 },
 "nbformat": 4,
 "nbformat_minor": 5
}
