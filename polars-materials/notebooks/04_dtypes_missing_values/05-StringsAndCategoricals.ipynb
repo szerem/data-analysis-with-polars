{
 "cells": [
  {
   "cell_type": "markdown",
   "id": "4a90af8d-3a3a-4ac8-9ce1-a021435b1fe4",
   "metadata": {},
   "source": [
    "## String and categorical dtypes\n",
    "By the end of this lecture you will be able to:\n",
    "- convert from string to categorical dtype\n",
    "- get the underlying integer values\n",
    "- sort categorical data\n",
    "\n",
    "When we have a string column with repeated values it is often faster and less memory intensive to cast the strings to the `pl.Categorical` dtype. The categorical dtype works in some surprising ways, however. In this lecture we go through the fundamentals of how Polars works with the categorical dtype. "
   ]
  },
  {
   "cell_type": "code",
   "execution_count": null,
   "id": "a1ff26da-d88d-4130-a7b5-9213701473d3",
   "metadata": {},
   "outputs": [],
   "source": [
    "import polars as pl"
   ]
  },
  {
   "cell_type": "markdown",
   "id": "7c958a67-d56e-4df3-b2c1-56e032f08066",
   "metadata": {},
   "source": [
    "## Categorical dtype\n",
    "The `pl.Categorical` dtype is useful when you have a string column with many repeated values.\n",
    "\n",
    "The `pl.Categorical` dtype replaces the strings with a unique mapping from each string to an integer.\n",
    "\n",
    "We first create a simple `DataFrame` with a string column"
   ]
  },
  {
   "cell_type": "code",
   "execution_count": null,
   "id": "af4b4cec-6174-4a1c-b8c8-9f75fa191c1f",
   "metadata": {},
   "outputs": [],
   "source": [
    "df = (\n",
    "    pl.DataFrame(\n",
    "        {\n",
    "            \"text\":[\"cat\",\"dog\",\"rabbit\",\"cat\"]\n",
    "        }\n",
    "    )\n",
    ")"
   ]
  },
  {
   "cell_type": "markdown",
   "id": "a1cc6ffd-a0ff-43d6-8526-c1d1ca2081c2",
   "metadata": {},
   "source": [
    "We convert from string to categorical with `cast`"
   ]
  },
  {
   "cell_type": "code",
   "execution_count": null,
   "id": "c4b67c54-4aac-497c-9f80-145803b5fbdc",
   "metadata": {},
   "outputs": [],
   "source": [
    "(\n",
    "    df\n",
    "    .with_columns(\n",
    "        pl.col(\"text\").cast(pl.Categorical).alias(\"text_cat\")\n",
    "    )\n",
    ")"
   ]
  },
  {
   "cell_type": "markdown",
   "id": "eb71c848-570c-4918-8f9d-4bab185812de",
   "metadata": {},
   "source": [
    "There is no difference in the printed appearance of values in a `pl.Categorical` column and the original string column.\n",
    "\n",
    "### Physical representation of categoricals\n",
    "\n",
    "In Polars the integer part of the categorical mapping is referred to as the **\"physical\"** representation.\n",
    "\n",
    "We can see the underlying integer values with the `to_physical` expression"
   ]
  },
  {
   "cell_type": "code",
   "execution_count": null,
   "id": "5b040731-5a57-4155-82ef-35f740bc899a",
   "metadata": {},
   "outputs": [],
   "source": [
    "(\n",
    "    df\n",
    "    .with_columns(\n",
    "        pl.col(\"text\").cast(pl.Categorical).alias(\"text_cat\")\n",
    "    )\n",
    "    .with_columns(\n",
    "        pl.col(\"text_cat\").to_physical().alias(\"cat_physical\")\n",
    "    )\n",
    ")"
   ]
  },
  {
   "cell_type": "markdown",
   "id": "2824d8d8-88c5-4339-891a-d705b6e3e859",
   "metadata": {},
   "source": [
    "The integer representation is set by the order of occurence in the column.\n",
    "\n",
    "The dtype for the categorical encoding is `pl.UInt32` - unsigned 32-bit integers.\n",
    "\n",
    "Polars can accommodate over 4 billion unique string mappings with `pl.UInt32` integers.\n",
    "\n",
    "## Sorting categoricals\n",
    "\n",
    "As categoricals have both a `lexical` (string) representation and an integer representation there are two ways to sort a categorical column.\n",
    "\n",
    "To illustrate this we create a `DataFrame` with:\n",
    "- some string values in the first column\n",
    "- their postion in the `values` column to keep track of where they started\n",
    "- a categorical column and\n",
    "- a physical column"
   ]
  },
  {
   "cell_type": "code",
   "execution_count": null,
   "id": "35864dd7-2f51-45df-9205-3c0fb93ec498",
   "metadata": {},
   "outputs": [],
   "source": [
    "df_physical = (\n",
    "    pl.DataFrame(\n",
    "            {\"strings\": [\"c\",\"b\",\"a\",\"c\"], \"values\": [0, 1, 2, 3]}\n",
    "    )\n",
    "    .with_columns(\n",
    "        pl.col(\"strings\").cast(pl.Categorical).alias(\"cats\")\n",
    "    )\n",
    "    .with_columns(\n",
    "        pl.col(\"cats\").to_physical().alias(\"physical\")\n",
    "    )\n",
    ")\n",
    "df_physical"
   ]
  },
  {
   "cell_type": "markdown",
   "id": "2dd213bf-128d-4b6c-975f-1a6894b2bd38",
   "metadata": {},
   "source": [
    "If we sort this `DataFrame` on the `cats` column we see that the `\"c\"` values come first rather than `\"a\"`! \n",
    "\n",
    "**In Polars the default is for sorting categoricals by the `physical` representation and not the string representation**"
   ]
  },
  {
   "cell_type": "code",
   "execution_count": null,
   "id": "649ee56e-d108-4c26-a4c0-97ec0d7de1b6",
   "metadata": {},
   "outputs": [],
   "source": [
    "df_physical.sort(\"cats\")"
   ]
  },
  {
   "cell_type": "markdown",
   "id": "3f3a6c24-ac3b-43cc-834f-a50afefe2310",
   "metadata": {},
   "source": [
    "We can change the ordering convention to sort by the string lexical representation. We do this by passing the `ordering` argument to `pl.Categorical`. If we already have a categorical column with the default physical ordering we can cast the column to a lexical ordering"
   ]
  },
  {
   "cell_type": "code",
   "execution_count": null,
   "id": "48188ef8-2e19-4e3e-85ec-2310b454819e",
   "metadata": {},
   "outputs": [],
   "source": [
    "df_lexical = (\n",
    "    df_physical\n",
    "    .with_columns(\n",
    "        pl.col(\"cats\").cast(pl.Categorical(ordering=\"lexical\")),\n",
    "    )\n",
    ")"
   ]
  },
  {
   "cell_type": "code",
   "execution_count": null,
   "id": "63b8826c-e02e-413f-9ffb-c91aa2d5f46d",
   "metadata": {},
   "outputs": [],
   "source": [
    "df_lexical.sort(\"cats\")"
   ]
  },
  {
   "cell_type": "markdown",
   "id": "5bb295ec-6a57-4b31-8ec7-185e18adb62a",
   "metadata": {},
   "source": [
    "We could also set the lexical ordering from the outset when we first create the categorical column"
   ]
  },
  {
   "cell_type": "code",
   "execution_count": null,
   "id": "b4422ba6-bd91-4f01-8bad-4d91ed6bfda9",
   "metadata": {},
   "outputs": [],
   "source": [
    "(\n",
    "    pl.DataFrame(\n",
    "            {\"strings\": [\"c\",\"b\",\"a\",\"c\"], \"values\": [0, 1, 2, 3]}\n",
    "    )\n",
    "    .with_columns(\n",
    "        pl.col(\"strings\").cast(pl.Categorical(\"lexical\")).alias(\"cats\")\n",
    "    )\n",
    "    .sort(\"cats\")\n",
    ")"
   ]
  },
  {
   "cell_type": "markdown",
   "id": "483bb57b-a653-4e51-903d-2f058b7f00ee",
   "metadata": {},
   "source": [
    "## Operations on categoricals\n",
    "Arithmetic operations on categorical columns lead to an exception - even when they work on string columns. \n",
    "\n",
    "You can see this behaviour by uncommenting the following cell"
   ]
  },
  {
   "cell_type": "code",
   "execution_count": null,
   "id": "9c95a2ee-419f-4849-bf9c-501e58645ea0",
   "metadata": {},
   "outputs": [],
   "source": [
    "# (\n",
    "#     df_lexical\n",
    "#     .select(\n",
    "#         pl.all().max()\n",
    "#     )\n",
    "# )"
   ]
  },
  {
   "cell_type": "markdown",
   "id": "3f4f4243-6e9d-4f37-bf4d-8599b0e06fbf",
   "metadata": {},
   "source": [
    "### Integers as categoricals?\n",
    "We might have an integer column that we consider to be a categorical column. However, only a string column can be converted to `pl.Categorical` in Polars.\n",
    "\n",
    "If we want to cast an integer column to categorical we first cast it to string dtype.\n",
    "\n",
    "\n",
    "### Saving categoricals\n",
    "\n",
    "If we save a `DataFrame` with a categorical column to:\n",
    "- a Parquet file then the categorical dtype is preserved when we read it back into a `DataFrame`\n",
    "- a CSV file then the categorical column is cast to string"
   ]
  },
  {
   "cell_type": "markdown",
   "id": "141a902e-f830-4f7c-a3d6-28dcc7275d7d",
   "metadata": {},
   "source": [
    "## Exercises\n",
    "\n",
    "In the exercises you will develop your understanding of:\n",
    "- casting a string column to categorical\n",
    "- accessing the physical values\n",
    "- sorting by a categorical column in alphabetical order\n",
    "\n",
    "### Exercise 1\n",
    "We have the following `DataFrame` of animals and their sizes"
   ]
  },
  {
   "cell_type": "code",
   "execution_count": null,
   "id": "00437a53-de1f-4cbf-b6eb-bb751a07e9bc",
   "metadata": {},
   "outputs": [],
   "source": [
    "df_animal_sizes = (\n",
    "    pl.DataFrame(\n",
    "        {\n",
    "            \"animals\":[\"dog\",\"cat\",\"mouse\",\"giraffe\"],\n",
    "            \"size\": [\"medium\",\"medium\",\"small\",\"big\"]\n",
    "        }\n",
    "    )\n",
    ")\n"
   ]
  },
  {
   "cell_type": "markdown",
   "id": "df4ca760-6bdd-452e-b0d7-93fc3bbb9f67",
   "metadata": {},
   "source": [
    "Cast the `size` column to categorical and call it `size_cats`"
   ]
  },
  {
   "cell_type": "code",
   "execution_count": null,
   "id": "4f48d5b8-11e9-42cd-9389-be98a662e875",
   "metadata": {},
   "outputs": [],
   "source": [
    "df_animal_sizes = (\n",
    "    pl.DataFrame(\n",
    "        {\n",
    "            \"animals\":[\"dog\",\"cat\",\"mouse\",\"giraffe\"],\n",
    "            \"size\": [\"medium\",\"medium\",\"small\",\"big\"]\n",
    "        }\n",
    "    )\n",
    "    <blank>\n",
    ")"
   ]
  },
  {
   "cell_type": "markdown",
   "id": "2940f9ba-0490-45cc-8054-5c742447572a",
   "metadata": {},
   "source": [
    "Add a column with the physical values of the categoricals"
   ]
  },
  {
   "cell_type": "code",
   "execution_count": null,
   "id": "15cd3bc6-80ff-42ee-b2b3-b72da9e4dfbc",
   "metadata": {},
   "outputs": [],
   "source": []
  },
  {
   "cell_type": "markdown",
   "id": "5de40973-41c9-45c2-b3bd-757a444bd3e1",
   "metadata": {},
   "source": [
    "Sort the `DataFrame` by `size_cats` in alphabetical order"
   ]
  },
  {
   "cell_type": "code",
   "execution_count": null,
   "id": "711f06d9-dc5e-4a84-b78f-9d621ddcb7d7",
   "metadata": {},
   "outputs": [],
   "source": []
  },
  {
   "cell_type": "markdown",
   "id": "a4946c6a-e69d-4566-aa73-d52c98499819",
   "metadata": {},
   "source": [
    "### Exercise 2\n",
    "Create a `DataFrame` with the Spotify data"
   ]
  },
  {
   "cell_type": "code",
   "execution_count": null,
   "id": "d033aedb-ecad-47a2-8486-cc3324cb38e3",
   "metadata": {},
   "outputs": [],
   "source": [
    "pl.Config.set_fmt_str_lengths(50)\n",
    "spotify_csv = \"../data/spotify-charts-2017-2021-global-top200.csv.gz\"\n",
    "spotify_df = pl.read_csv(spotify_csv,try_parse_dates=True)\n",
    "spotify_df.head(3)"
   ]
  },
  {
   "cell_type": "markdown",
   "id": "1e0eb7fa-aae2-4f56-9db6-e96d434f52f9",
   "metadata": {},
   "source": [
    "Get the estimated size of the `spotify_df` in megabytes"
   ]
  },
  {
   "cell_type": "code",
   "execution_count": null,
   "id": "16e68925-5bd0-49d4-908e-8eb399ef366d",
   "metadata": {},
   "outputs": [],
   "source": [
    "(\n",
    "    spotify_df\n",
    "    <blank>\n",
    ")"
   ]
  },
  {
   "cell_type": "markdown",
   "id": "b2c8941e-bacb-4bc5-8d10-46c5dc468e16",
   "metadata": {},
   "source": [
    "Create a new Spotify `DataFrame` where we:\n",
    "- cast any suitable columns to categorical\n",
    "- cast any numerical columns to the smallest possible precision\n",
    "\n",
    "See the following cell if you want a hint for a calculation to determine suitable columns to cast to categorical"
   ]
  },
  {
   "cell_type": "code",
   "execution_count": null,
   "id": "9c69f626-60d4-4124-9e96-000cabc3026b",
   "metadata": {
    "jupyter": {
     "source_hidden": true
    }
   },
   "outputs": [],
   "source": [
    "# Hint \n",
    "# We can count the number of unique entries in a column with .unique().count()\n",
    "(\n",
    "    spotify_df\n",
    "    .select(\n",
    "        pl.col(\"title\").unique().count()\n",
    "    )\n",
    ")"
   ]
  },
  {
   "cell_type": "code",
   "execution_count": null,
   "id": "83ed9ee8-43bf-497a-ae87-a1a9bfd83752",
   "metadata": {},
   "outputs": [],
   "source": [
    "(\n",
    "    spotify_df\n",
    "    .select(\n",
    "        <blank>\n",
    "    )\n",
    ")"
   ]
  },
  {
   "cell_type": "markdown",
   "id": "c037adef-efa4-4acf-a441-772a8dd5ec51",
   "metadata": {},
   "source": [
    "Create the new `DataFrame` with a smaller size in memory"
   ]
  },
  {
   "cell_type": "code",
   "execution_count": null,
   "id": "9b5e5e76-21f9-46d6-be94-0436612c8f3a",
   "metadata": {},
   "outputs": [],
   "source": [
    "new_spotify_df = (\n",
    "    spotify_df\n",
    "    <blank>\n",
    ")\n",
    "new_spotify_df.head(3)"
   ]
  },
  {
   "cell_type": "markdown",
   "id": "364020fb-6aa5-4a0b-aab6-b51aaab9657a",
   "metadata": {},
   "source": [
    "Get the estimated size of `new_spotify_df` in megabytes"
   ]
  },
  {
   "cell_type": "code",
   "execution_count": null,
   "id": "27efb8b4-4ce3-4c7a-ac26-f7b6f664ff6c",
   "metadata": {},
   "outputs": [],
   "source": [
    "(\n",
    "    new_spotify_df\n",
    "    <blank>\n",
    ")"
   ]
  },
  {
   "cell_type": "markdown",
   "id": "89f6c4ed-59be-4e7a-8caf-9d2e66b073ff",
   "metadata": {},
   "source": [
    "Find all rows where the artist is Taylor Swift"
   ]
  },
  {
   "cell_type": "code",
   "execution_count": null,
   "id": "753cd7ee-3c85-4758-9763-3008aa9ba049",
   "metadata": {},
   "outputs": [],
   "source": [
    "(\n",
    "    new_spotify_df\n",
    "    <blank>\n",
    "    .head(3)\n",
    ")"
   ]
  },
  {
   "cell_type": "markdown",
   "id": "96922122-2273-46d1-ad39-1de091b44b66",
   "metadata": {},
   "source": [
    "In the solutions we finish off with performance comparison of a group by operation on a string versus categorical column"
   ]
  },
  {
   "cell_type": "markdown",
   "id": "f6c0a3e5-4477-4c16-8bcf-2e912bd21996",
   "metadata": {},
   "source": [
    "## Solutions\n",
    "\n",
    "### Solution to Exercise 1 "
   ]
  },
  {
   "cell_type": "markdown",
   "id": "2a6c4d5d-1526-4a18-b30d-20fac86593d5",
   "metadata": {},
   "source": [
    "Cast the `size` column to categorical and call it `size_cats`"
   ]
  },
  {
   "cell_type": "code",
   "execution_count": null,
   "id": "6b11b559-0603-427c-82bd-4aca13862fc2",
   "metadata": {
    "jupyter": {
     "source_hidden": true
    },
    "tags": []
   },
   "outputs": [],
   "source": [
    "df_animal_sizes = (\n",
    "    pl.DataFrame(\n",
    "        {\n",
    "            \"animals\":[\"dog\",\"cat\",\"mouse\",\"giraffe\"],\n",
    "            \"size\": [\"medium\",\"medium\",\"small\",\"big\"]\n",
    "        }\n",
    "    )\n",
    "    .with_columns(\n",
    "        pl.col(\"size\").cast(pl.Categorical).alias(\"size_cats\")\n",
    "    )\n",
    ")\n",
    "df_animal_sizes"
   ]
  },
  {
   "cell_type": "markdown",
   "id": "fe2e1fbe-f081-40f3-a588-fbe635c0f209",
   "metadata": {},
   "source": [
    "Add a column with the physical values of the categoricals"
   ]
  },
  {
   "cell_type": "code",
   "execution_count": null,
   "id": "2ee32bf8-c604-4b9a-9219-96d37d737862",
   "metadata": {
    "jupyter": {
     "source_hidden": true
    },
    "tags": []
   },
   "outputs": [],
   "source": [
    "df_animal_sizes = (\n",
    "    pl.DataFrame(\n",
    "        {\n",
    "            \"animals\":[\"dog\",\"cat\",\"mouse\",\"giraffe\"],\n",
    "            \"size\": [\"medium\",\"medium\",\"small\",\"big\"]\n",
    "        }\n",
    "    )\n",
    "    .with_columns(\n",
    "        pl.col(\"size\").cast(pl.Categorical).alias(\"size_cats\")\n",
    "    )\n",
    "    .with_columns(\n",
    "        pl.col(\"size_cats\").to_physical().alias(\"physical\"),\n",
    "    )\n",
    "    .sort(\"size_cats\")\n",
    ")\n",
    "df_animal_sizes"
   ]
  },
  {
   "cell_type": "markdown",
   "id": "c0056a11-67c1-4194-b4ba-05e1fb0d0bae",
   "metadata": {},
   "source": [
    "Sort the `DataFrame` by `size_cats` in alphabetical order"
   ]
  },
  {
   "cell_type": "code",
   "execution_count": null,
   "id": "1468a8db-6236-422d-b01f-6f74054f3722",
   "metadata": {
    "jupyter": {
     "source_hidden": true
    },
    "tags": []
   },
   "outputs": [],
   "source": [
    "df_animal_sizes = (\n",
    "    pl.DataFrame(\n",
    "        {\n",
    "            \"animals\":[\"dog\",\"cat\",\"mouse\",\"giraffe\"],\n",
    "            \"size\": [\"medium\",\"medium\",\"small\",\"big\"]\n",
    "        }\n",
    "    )\n",
    "    .with_columns(\n",
    "        pl.col(\"size\").cast(pl.Categorical(\"lexical\")).alias(\"size_cats\")\n",
    "    )\n",
    "    .with_columns(\n",
    "        pl.col(\"size_cats\").to_physical().alias(\"physical\"),\n",
    "    )\n",
    "    .sort(\"size_cats\")\n",
    ")\n",
    "df_animal_sizes"
   ]
  },
  {
   "cell_type": "markdown",
   "id": "9c8214cd-06fd-4db9-9d71-59021f54b802",
   "metadata": {},
   "source": [
    "### Solution to Exercise 2\n",
    "Create a `DataFrame` with the Spotify data"
   ]
  },
  {
   "cell_type": "code",
   "execution_count": null,
   "id": "59c2c311-7675-4b5c-a850-1b52a84e0bc6",
   "metadata": {},
   "outputs": [],
   "source": [
    "pl.Config.set_fmt_str_lengths(50)\n",
    "spotify_csv = \"../data/spotify-charts-2017-2021-global-top200.csv.gz\"\n",
    "spotify_df = pl.read_csv(spotify_csv,try_parse_dates=True)\n",
    "spotify_df.head(3)"
   ]
  },
  {
   "cell_type": "markdown",
   "id": "db42ddbe-741d-4b2c-be88-599f598c8b6b",
   "metadata": {},
   "source": [
    "Get the estimated size of the `spotify_df` in megabytes"
   ]
  },
  {
   "cell_type": "code",
   "execution_count": null,
   "id": "898c40a4-3a47-461f-a651-65599960b3dd",
   "metadata": {
    "jupyter": {
     "source_hidden": true
    }
   },
   "outputs": [],
   "source": [
    "(\n",
    "    spotify_df\n",
    "    .estimated_size(unit=\"mb\")\n",
    ")"
   ]
  },
  {
   "cell_type": "markdown",
   "id": "4b39b303-9387-4a35-8190-d936341a08cb",
   "metadata": {},
   "source": [
    "Create a new Spotify `DataFrame` where we:\n",
    "- cast any suitable columns to categorical\n",
    "- cast any numerical columns to the smallest appropriate precision\n",
    "\n",
    "See the following cell if you want a hint for a calculation to determine suitable columns"
   ]
  },
  {
   "cell_type": "code",
   "execution_count": null,
   "id": "d5bf46d9-8da6-454e-a286-a45f6b904f0d",
   "metadata": {
    "jupyter": {
     "source_hidden": true
    }
   },
   "outputs": [],
   "source": [
    "# Hint \n",
    "# We can count the number of unique entries in a column with .unique().count()\n",
    "(\n",
    "    spotify_df\n",
    "    .select(\n",
    "        pl.col(\"title\").unique().count()\n",
    "    )\n",
    ")"
   ]
  },
  {
   "cell_type": "markdown",
   "id": "7183fbc0-f736-444f-8e49-169bf1696456",
   "metadata": {},
   "source": [
    "The count of unique values in the string columns"
   ]
  },
  {
   "cell_type": "code",
   "execution_count": null,
   "id": "ec9167db-2240-40ad-a2a3-5dafcc3d54b2",
   "metadata": {
    "jupyter": {
     "source_hidden": true
    }
   },
   "outputs": [],
   "source": [
    "(\n",
    "    spotify_df\n",
    "    .select(\n",
    "        pl.col(pl.Utf8).unique().count()\n",
    "    )\n",
    ")"
   ]
  },
  {
   "cell_type": "markdown",
   "id": "43702e13-71cc-41a5-a0dc-f90568bb898c",
   "metadata": {},
   "source": [
    "Suitable columns have a string dtype and have a small number of unique values. All string columns have a relatively small number of unique values"
   ]
  },
  {
   "cell_type": "code",
   "execution_count": null,
   "id": "e1bf4d4b-c60e-4374-b541-9e818b3d3b31",
   "metadata": {
    "jupyter": {
     "source_hidden": true
    }
   },
   "outputs": [],
   "source": [
    "new_spotify_df = (\n",
    "    spotify_df\n",
    "    .with_columns(\n",
    "        pl.col(pl.Utf8).cast(pl.Categorical),\n",
    "        pl.col(pl.NUMERIC_DTYPES).shrink_dtype()\n",
    "    )\n",
    ")\n",
    "new_spotify_df.head(3)"
   ]
  },
  {
   "cell_type": "markdown",
   "id": "57ae35a7-d482-4eb2-9f76-a2acaffdba0a",
   "metadata": {},
   "source": [
    "Get the estimated size of `new_spotify_df` in megabytes"
   ]
  },
  {
   "cell_type": "code",
   "execution_count": null,
   "id": "63f0e4ce-b621-490a-babf-6edde729c2f7",
   "metadata": {
    "jupyter": {
     "source_hidden": true
    }
   },
   "outputs": [],
   "source": [
    "(\n",
    "    new_spotify_df\n",
    "    .estimated_size(unit=\"mb\")\n",
    ")"
   ]
  },
  {
   "cell_type": "markdown",
   "id": "32e2c924-82b5-4e9a-9813-39a415ca315f",
   "metadata": {},
   "source": [
    "Find all rows where the artist is Taylor Swift"
   ]
  },
  {
   "cell_type": "code",
   "execution_count": null,
   "id": "1d24f73a-a611-4231-b360-554730a38ccc",
   "metadata": {
    "jupyter": {
     "source_hidden": true
    }
   },
   "outputs": [],
   "source": [
    "(\n",
    "    new_spotify_df\n",
    "    .filter(pl.col(\"artist\") == \"Taylor Swift\")\n",
    "    .head(3)\n",
    ")"
   ]
  },
  {
   "cell_type": "markdown",
   "id": "bcae7039-1620-4cb6-b4b1-eda0a992ef1c",
   "metadata": {},
   "source": [
    "Here we make a performance comparison of a group by operation on a string versus categorical column"
   ]
  },
  {
   "cell_type": "code",
   "execution_count": null,
   "id": "f640cb39-959f-4d1d-ae00-94c9e930b09f",
   "metadata": {
    "jupyter": {
     "source_hidden": true
    }
   },
   "outputs": [],
   "source": [
    "%%timeit -n1 -r3\n",
    "(\n",
    "    spotify_df\n",
    "    .group_by(\"title\")\n",
    "    .agg(\n",
    "        pl.col(\"streams\").sum()\n",
    "    )\n",
    ")"
   ]
  },
  {
   "cell_type": "code",
   "execution_count": null,
   "id": "1117ffd5-2fb7-4e97-b486-b4eec3b8dd92",
   "metadata": {
    "jupyter": {
     "source_hidden": true
    }
   },
   "outputs": [],
   "source": [
    "%%timeit -n1 -r3\n",
    "(\n",
    "    new_spotify_df\n",
    "    .group_by(\"title\")\n",
    "    .agg(\n",
    "        pl.col(\"streams\").sum()\n",
    "    )\n",
    ")"
   ]
  }
 ],
 "metadata": {
  "kernelspec": {
   "display_name": "Python 3 (ipykernel)",
   "language": "python",
   "name": "python3"
  },
  "language_info": {
   "codemirror_mode": {
    "name": "ipython",
    "version": 3
   },
   "file_extension": ".py",
   "mimetype": "text/x-python",
   "name": "python",
   "nbconvert_exporter": "python",
   "pygments_lexer": "ipython3",
   "version": "3.10.1"
  }
 },
 "nbformat": 4,
 "nbformat_minor": 5
}
