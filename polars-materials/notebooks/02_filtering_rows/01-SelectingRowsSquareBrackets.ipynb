{
 "cells": [
  {
   "cell_type": "markdown",
   "id": "b06a7473-8d52-4c0d-b469-37add3272a53",
   "metadata": {},
   "source": [
    "# Filtering rows 1: Indexing with `[]`\n",
    "\n",
    "By the end of this lecture you will be able to:\n",
    "- select single rows with `[]` indexing\n",
    "- select multiple rows with `[]` indexing\n"
   ]
  },
  {
   "cell_type": "code",
   "execution_count": null,
   "id": "9fd758ec-0727-4c1e-87ae-04fd47b267b6",
   "metadata": {
    "tags": []
   },
   "outputs": [],
   "source": [
    "import polars as pl"
   ]
  },
  {
   "cell_type": "code",
   "execution_count": null,
   "id": "43c1d48b-a1cc-4374-bfd5-83817c491923",
   "metadata": {
    "tags": []
   },
   "outputs": [],
   "source": [
    "csv_file = \"../data/titanic.csv\""
   ]
  },
  {
   "cell_type": "code",
   "execution_count": null,
   "id": "23ec4b89-5819-4654-a3c8-d43a7a7b31fd",
   "metadata": {
    "tags": []
   },
   "outputs": [],
   "source": [
    "df = pl.read_csv(csv_file)\n",
    "df.head()"
   ]
  },
  {
   "cell_type": "markdown",
   "id": "5273bbee-4c37-4847-985b-f28b949dcdd6",
   "metadata": {},
   "source": [
    "## Selecting individual rows with `[]`\n",
    "\n",
    "A Polars `DataFrame` doesn't have an explicit index as a Pandas `DataFrame` has. A Polars `DataFrame` does, however, have an implicit integer row number index. \n",
    "\n",
    "We select an individual row with the integer row number"
   ]
  },
  {
   "cell_type": "code",
   "execution_count": null,
   "id": "947a7318-66b7-4116-920f-c2b50d118045",
   "metadata": {
    "tags": []
   },
   "outputs": [],
   "source": [
    "df[0]"
   ]
  },
  {
   "cell_type": "markdown",
   "id": "e2f9c1c8-0c86-4ebe-a47f-3c9f535f5155",
   "metadata": {},
   "source": [
    "Note that if we select a single row as in this example the output is a one-row `DataFrame` - unlike Pandas where a one-row query selection becomes a `Series`"
   ]
  },
  {
   "cell_type": "markdown",
   "id": "5f51ffa4-155b-477e-967e-6e6d0d43562e",
   "metadata": {},
   "source": [
    "## Selecting multiple rows\n",
    "\n",
    "### List\n",
    "\n",
    "We can pass a list of integers to `[]`"
   ]
  },
  {
   "cell_type": "code",
   "execution_count": null,
   "id": "b9c3de88-109a-4ff4-9fe0-90c0fd8bd7f2",
   "metadata": {
    "tags": []
   },
   "outputs": [],
   "source": [
    "df[[2,3]]"
   ]
  },
  {
   "cell_type": "markdown",
   "id": "8c0971fb-244d-46d9-88d6-d42aa83e6596",
   "metadata": {},
   "source": [
    "### Slice\n",
    "\n",
    "We can use slice notation to select rows"
   ]
  },
  {
   "cell_type": "code",
   "execution_count": null,
   "id": "7c9a7d2f-7e1c-4b90-9af8-041e0ad37842",
   "metadata": {
    "tags": []
   },
   "outputs": [],
   "source": [
    "df[:2]"
   ]
  },
  {
   "cell_type": "markdown",
   "id": "a56f8b57-648e-4fec-804d-5f58f469c5f8",
   "metadata": {},
   "source": [
    "### Range\n",
    "We can use a range of integers "
   ]
  },
  {
   "cell_type": "code",
   "execution_count": null,
   "id": "35e9294a-992e-4f77-983f-ff456f701a1d",
   "metadata": {
    "tags": []
   },
   "outputs": [],
   "source": [
    "df[range(2,4)]"
   ]
  },
  {
   "cell_type": "markdown",
   "id": "2644cb1a-cb51-4045-91b8-cf0bbccca982",
   "metadata": {},
   "source": [
    "### Numpy array\n",
    "\n",
    "Polars can accept a Numpy array of row numbers in `[]`"
   ]
  },
  {
   "cell_type": "code",
   "execution_count": null,
   "id": "321754d2-af3b-4ff2-9836-f7cac1d2b35c",
   "metadata": {
    "tags": []
   },
   "outputs": [],
   "source": [
    "import numpy as np\n",
    "df[np.arange(0,3)]"
   ]
  },
  {
   "cell_type": "markdown",
   "id": "f4f14cad-7d15-4d19-84f9-7272e73c5186",
   "metadata": {},
   "source": [
    "## Data types not accepted in `[]`\n",
    "\n",
    "### Boolean lists\n",
    "We cannot pass a `list` of **Boolean values** in `[]`"
   ]
  },
  {
   "cell_type": "code",
   "execution_count": null,
   "id": "58c31022-89bc-49f4-b811-1a38782b9408",
   "metadata": {
    "tags": []
   },
   "outputs": [],
   "source": [
    "# #Passing this list of Boolean values produces an exception\n",
    "# df[\n",
    "#     [True for _ in range(len(df))]\n",
    "# ]"
   ]
  },
  {
   "cell_type": "markdown",
   "id": "3b482ff9-7b7e-45a2-b07f-d0c26be2a635",
   "metadata": {},
   "source": [
    "The Polars developers chose not to allow this functionality to discourage Pandas-style queries and encourage use of expressions as we see in the next lecture."
   ]
  },
  {
   "cell_type": "markdown",
   "id": "d93002bb-7a49-4930-929a-3252b57a6aed",
   "metadata": {},
   "source": [
    "### Boolean `Series`\n",
    "We cannot pass a Boolean `Series` to `[]` - but we see how to do this with `filter` in the next section."
   ]
  },
  {
   "cell_type": "code",
   "execution_count": null,
   "id": "4fa174a7-8cd4-41bc-ba0f-77c1eef3fa39",
   "metadata": {
    "tags": []
   },
   "outputs": [],
   "source": [
    "# df[df[\"Age\"]>30]"
   ]
  },
  {
   "cell_type": "markdown",
   "id": "80844b2e-b063-414e-96c8-2fec55e8e0ed",
   "metadata": {},
   "source": [
    "## Use case of indexing with `[]`\n",
    "\n",
    "Square bracket has a limited use case in Polars. It is limited because indexing with `[]` cannot be used in lazy mode and so we lose the advantages of query optimisation and streaming large datasets. \n",
    "\n",
    "We see in the next section that the `filter` method is the primary way to filter rows in Polars.\n",
    "\n",
    "There are good uses for `[]`, however.\n",
    "\n",
    "One example if when we are inspecting data in interactive mode and want to see e.g. the first row or the last rows.\n",
    "\n",
    "Square bracket indexing is also useful for extracting scalar values from a `DataFrame`.\n",
    "\n",
    "In this example we extract the first row from the `Age` column"
   ]
  },
  {
   "cell_type": "code",
   "execution_count": null,
   "id": "dafc94a7-b72f-42d7-9748-5fe8fd874e0e",
   "metadata": {},
   "outputs": [],
   "source": [
    "df[0,'Age']"
   ]
  },
  {
   "cell_type": "markdown",
   "id": "093cd417-6e17-435c-909b-b1117f11a426",
   "metadata": {},
   "source": [
    "# Exercises\n",
    "In the exercises you will develop your understanding of\n",
    "- selecting individual rows with `[]`\n",
    "- selecting multiple rows with `[]`\n",
    "\n",
    "## Exercise 1\n",
    "Select the fifth row using `[]`"
   ]
  },
  {
   "cell_type": "code",
   "execution_count": null,
   "id": "5b2218c2-c506-4105-8ec0-d20aa4ea36e8",
   "metadata": {
    "tags": []
   },
   "outputs": [],
   "source": [
    "df = pl.read_csv(csv_file)\n",
    "df<blank>"
   ]
  },
  {
   "cell_type": "markdown",
   "id": "53862545-339a-4395-8206-c4ad65a04cdd",
   "metadata": {},
   "source": [
    "Select the first 5 rows using a `slice`"
   ]
  },
  {
   "cell_type": "code",
   "execution_count": null,
   "id": "8ba81890-faaa-458c-b409-a6e6aa095b11",
   "metadata": {
    "tags": []
   },
   "outputs": [],
   "source": [
    "df = pl.read_csv(csv_file)\n",
    "df<blank>"
   ]
  },
  {
   "cell_type": "markdown",
   "id": "36cea19c-b546-4107-a724-132c5386e1b6",
   "metadata": {},
   "source": [
    "Select the second to fifth rows using a `range`"
   ]
  },
  {
   "cell_type": "code",
   "execution_count": null,
   "id": "84ebdc3f-1f1e-40e7-90d9-726a1931cd5d",
   "metadata": {
    "tags": []
   },
   "outputs": [],
   "source": [
    "df = pl.read_csv(csv_file)\n",
    "df<blank>"
   ]
  },
  {
   "cell_type": "markdown",
   "id": "86136046-4807-47bc-93fe-e6cca163b45d",
   "metadata": {},
   "source": [
    "## Solutions\n",
    "\n",
    "## Solution to Exercise 1\n",
    "Select the fifth row using `[]`"
   ]
  },
  {
   "cell_type": "code",
   "execution_count": null,
   "id": "038eb51e-b5da-4cb2-be81-c809c5929649",
   "metadata": {
    "jupyter": {
     "source_hidden": true
    }
   },
   "outputs": [],
   "source": [
    "df = pl.read_csv(csv_file)\n",
    "df[4]"
   ]
  },
  {
   "cell_type": "markdown",
   "id": "792b5847-10a8-4ca0-b5d5-c017e7893f57",
   "metadata": {},
   "source": [
    "Select the first 5 rows using a `slice`"
   ]
  },
  {
   "cell_type": "code",
   "execution_count": null,
   "id": "0a967ddd-fedb-48bf-a4f3-53c4659bc226",
   "metadata": {
    "jupyter": {
     "source_hidden": true
    }
   },
   "outputs": [],
   "source": [
    "df = pl.read_csv(csv_file)\n",
    "df[:5]"
   ]
  },
  {
   "cell_type": "markdown",
   "id": "638d7719-579c-421d-8643-13fc3c43c7d0",
   "metadata": {},
   "source": [
    "Select the second to fifth rows using a `range`"
   ]
  },
  {
   "cell_type": "code",
   "execution_count": null,
   "id": "1ba4e8a1-981d-44ed-b34e-1b54d889c5d1",
   "metadata": {
    "jupyter": {
     "source_hidden": true
    },
    "tags": []
   },
   "outputs": [],
   "source": [
    "df = pl.read_csv(csv_file)\n",
    "df[range(1,5)]"
   ]
  },
  {
   "cell_type": "code",
   "execution_count": null,
   "id": "4875727c-a508-4ae3-b78e-1c81b8b063b8",
   "metadata": {},
   "outputs": [],
   "source": []
  }
 ],
 "metadata": {
  "kernelspec": {
   "display_name": "Python 3 (ipykernel)",
   "language": "python",
   "name": "python3"
  },
  "language_info": {
   "codemirror_mode": {
    "name": "ipython",
    "version": 3
   },
   "file_extension": ".py",
   "mimetype": "text/x-python",
   "name": "python",
   "nbconvert_exporter": "python",
   "pygments_lexer": "ipython3",
   "version": "3.10.1"
  }
 },
 "nbformat": 4,
 "nbformat_minor": 5
}
