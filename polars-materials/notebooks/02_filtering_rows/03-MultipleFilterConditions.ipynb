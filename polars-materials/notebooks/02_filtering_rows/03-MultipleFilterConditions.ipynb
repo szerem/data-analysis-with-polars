{
 "cells": [
  {
   "cell_type": "markdown",
   "id": "b06a7473-8d52-4c0d-b469-37add3272a53",
   "metadata": {},
   "source": [
    "# Filtering rows 3: multiple filter conditions\n",
    "By the end of this lecture you will be able to:\n",
    "- use multiple AND conditions in `filter`\n",
    "- use multiple OR conditions in `filter`\n",
    "- optimise multiple conditions in lazy mode"
   ]
  },
  {
   "cell_type": "code",
   "execution_count": null,
   "id": "9fd758ec-0727-4c1e-87ae-04fd47b267b6",
   "metadata": {
    "tags": []
   },
   "outputs": [],
   "source": [
    "import polars as pl"
   ]
  },
  {
   "cell_type": "code",
   "execution_count": null,
   "id": "43c1d48b-a1cc-4374-bfd5-83817c491923",
   "metadata": {
    "tags": []
   },
   "outputs": [],
   "source": [
    "csv_file = \"../data/titanic.csv\""
   ]
  },
  {
   "cell_type": "code",
   "execution_count": null,
   "id": "44b5ec52-56cc-41a1-a678-5d207dc0ecac",
   "metadata": {},
   "outputs": [],
   "source": [
    "df = pl.read_csv(csv_file)"
   ]
  },
  {
   "cell_type": "markdown",
   "id": "0e928f73-529c-4629-84f8-86cdc7ea135c",
   "metadata": {},
   "source": [
    "## Multiple conditions\n",
    "\n",
    "### Apply `AND` conditions\n",
    "\n",
    "We can apply filter `AND` conditions where all conditions must be met in a number of ways.\n",
    "\n",
    "The first way is to **chaining** multiple calls to `filter`.\n",
    "\n",
    "In this example we keep all first class passengers that are over 70"
   ]
  },
  {
   "cell_type": "code",
   "execution_count": null,
   "id": "e3f138f1-9c08-467f-ac03-275c64be1d3e",
   "metadata": {},
   "outputs": [],
   "source": [
    "(\n",
    "    df\n",
    "    .filter(\n",
    "        Pclass = 1\n",
    "    )\n",
    "    .filter(\n",
    "        pl.col('Age') > 70\n",
    "    )\n",
    "    .head(3)\n",
    ")"
   ]
  },
  {
   "cell_type": "markdown",
   "id": "63553e25-92e5-4023-b6c6-555c4aaa01da",
   "metadata": {},
   "source": [
    "In eager mode chaining is inefficient. For each call to `filter` Polars has to do a full pass through the rows of the `DataFrame`. It is better to combine everything into a single condition \n",
    "\n",
    "One way to do this is to **concatenate** multiple `AND` conditions in a single `filter` call using `&`"
   ]
  },
  {
   "cell_type": "code",
   "execution_count": null,
   "id": "1d8ac535-9d42-48c1-8d15-6c77518195b0",
   "metadata": {},
   "outputs": [],
   "source": [
    "(\n",
    "    df\n",
    "    .filter(\n",
    "        (pl.col('Age') > 70) & (pl.col('Pclass') == 1)\n",
    "    )\n",
    "    .head(2)\n",
    ")"
   ]
  },
  {
   "cell_type": "markdown",
   "id": "812e9ed3-87d5-44fb-b033-e122dab4e6d9",
   "metadata": {},
   "source": [
    "There is a less verbose way to do this by passing the predicates as a comma-separated list of expressions"
   ]
  },
  {
   "cell_type": "code",
   "execution_count": null,
   "id": "efe2a9a8-983c-4747-b69f-cf03326e8a19",
   "metadata": {},
   "outputs": [],
   "source": [
    "(\n",
    "    df\n",
    "    .filter(\n",
    "        pl.col(\"Pclass\") == 1,\n",
    "        pl.col(\"Age\") > 70\n",
    "    )\n",
    "    .head(2)\n",
    ")"
   ]
  },
  {
   "cell_type": "markdown",
   "id": "a5d6da1f-b6d7-454f-8840-82631e47da58",
   "metadata": {},
   "source": [
    "If we are applying multiple *equality* conditions we can do this with keywords (note the single `=` in this format)"
   ]
  },
  {
   "cell_type": "code",
   "execution_count": null,
   "id": "aca48db4-a4de-4d6a-97e9-da4b90bdde0e",
   "metadata": {},
   "outputs": [],
   "source": [
    "(\n",
    "    df\n",
    "    .filter(\n",
    "        Pclass = 1,\n",
    "        Age = 70\n",
    "    )\n",
    ")"
   ]
  },
  {
   "cell_type": "markdown",
   "id": "5f5b53f8-5875-4870-868f-ecd22693ff4c",
   "metadata": {},
   "source": [
    "### Apply an AND condition using `pl.all_horizontal`\n",
    "Specifying multiple conditions in chained `filters` or using `&` is fine when we have a small number of conditions to apply. However, we can use the `pl.all_horizontal` method when we want to apply an AND condition on many columns.\n",
    "\n",
    "> The methods above with a comma-separate list of conditions are equivalent to `pl.all_horizontal`\n",
    "\n",
    "In this example we:\n",
    "- first call `pl.all().is_not_null()` to create a Boolean `DataFrame` where each call is True if the underlying value is not `null`\n",
    "- then call `pl.all_horizontal` to find rows where all values are `True` (i.e. all values are not `null`)"
   ]
  },
  {
   "cell_type": "code",
   "execution_count": null,
   "id": "e576b93c-2852-4748-9c25-c6d1c0dfaaf8",
   "metadata": {},
   "outputs": [],
   "source": [
    "(\n",
    "    df\n",
    "    .filter(\n",
    "        pl.all_horizontal(\n",
    "            pl.all().is_not_null()\n",
    "        )\n",
    "    )\n",
    "    .head(2)\n",
    ")"
   ]
  },
  {
   "cell_type": "markdown",
   "id": "313624e3-741e-4044-8c10-a5343624c262",
   "metadata": {},
   "source": [
    "### Apply `AND` condition on a range\n",
    "\n",
    "We use `in_between` to apply a condition on a range. In this case we are looking for values **greater than or equal to** 10 and **less than or equal to** 13"
   ]
  },
  {
   "cell_type": "code",
   "execution_count": null,
   "id": "2bd4617e-21ea-4238-bf70-afcafa84cdf0",
   "metadata": {},
   "outputs": [],
   "source": [
    "(\n",
    "    df\n",
    "    .filter(\n",
    "        pl.col(\"Age\").is_between(10,13)\n",
    "    )\n",
    "    .head(2)\n",
    ")"
   ]
  },
  {
   "cell_type": "markdown",
   "id": "142675e8-a439-4029-bb97-360aba0339ef",
   "metadata": {},
   "source": [
    "We use the `closed` argument to specify if we want the range to be open, closed on both sides or open on the left or right. The default is for the range to be closed (with a value of `\"both\"`). \n",
    "\n",
    "In this example we are looking for values from 10 to 13 exclusive of the boundaries"
   ]
  },
  {
   "cell_type": "code",
   "execution_count": null,
   "id": "a2b79193-d329-4486-93b1-d4e4199630c5",
   "metadata": {},
   "outputs": [],
   "source": [
    "(\n",
    "    df\n",
    "    .filter(\n",
    "        pl.col(\"Age\").is_between(10,13,closed=\"none\")\n",
    "    )\n",
    "    .head(2)\n",
    ")"
   ]
  },
  {
   "cell_type": "markdown",
   "id": "bbe05c69-50e9-46fe-8553-60a81e80dbe4",
   "metadata": {},
   "source": [
    "### Apply `OR` conditions\n",
    "\n",
    "We can apply an OR filter using the pipe `|` operator.\n",
    "\n",
    "In this example we look for rows where the passenger is over 70 OR the passenger is in first class"
   ]
  },
  {
   "cell_type": "code",
   "execution_count": null,
   "id": "98c1b23a-0c92-4792-b81c-58b81b018c40",
   "metadata": {},
   "outputs": [],
   "source": [
    "(\n",
    "    df\n",
    "    .filter(\n",
    "        (pl.col('Age') > 70) | (pl.col('Pclass') == 1)\n",
    "    )\n",
    "    .head(2)\n",
    ")"
   ]
  },
  {
   "cell_type": "markdown",
   "id": "5a3ea955-8860-4465-960d-d5870c89a5e5",
   "metadata": {},
   "source": [
    "One kind of OR condition is when we want to check if a row is equal to any value in a `list`. We can do this with `is_in`"
   ]
  },
  {
   "cell_type": "code",
   "execution_count": null,
   "id": "e4df1f4a-d817-4fc2-b686-b10d796a99b6",
   "metadata": {},
   "outputs": [],
   "source": [
    "(\n",
    "    df\n",
    "    .filter(\n",
    "        pl.col('Pclass').is_in([2,3])\n",
    "    )\n",
    "    .head(3)\n",
    ")"
   ]
  },
  {
   "cell_type": "markdown",
   "id": "3403a930-5f11-459f-bef1-e0220dbf7c11",
   "metadata": {},
   "source": [
    "### Multiple conditions in lazy mode\n",
    "In *lazy mode* if we pass multiple `filter` calls then the query optimizer combines these into a *single condition* inside `SELECTION`.\n",
    "\n",
    "In this example we filter for first class passengers over the age of 70."
   ]
  },
  {
   "cell_type": "code",
   "execution_count": null,
   "id": "53c6558a-67a0-496f-b80f-2e17999f31d1",
   "metadata": {
    "tags": []
   },
   "outputs": [],
   "source": [
    "df = (\n",
    "    pl.scan_csv(csv_file)\n",
    "    .filter(\n",
    "        pl.col('Pclass')==1\n",
    "    )\n",
    "    .filter(\n",
    "        (pl.col('Age') > 70)\n",
    "    )\n",
    ")\n",
    "print(df.explain())"
   ]
  },
  {
   "cell_type": "markdown",
   "id": "a60f326e-173a-4b1c-b359-8dddbd6f440b",
   "metadata": {},
   "source": [
    "In the query plan we see the conditionsa are combined to a single condition by the query optimiser"
   ]
  },
  {
   "cell_type": "markdown",
   "id": "11e79823-df64-4864-b6dc-b6fd9b45279e",
   "metadata": {},
   "source": [
    "## Exercises\n",
    "In the exercises you will develop your understanding of:\n",
    "- applying multiple AND conditions\n",
    "- applying multiple OR conditions"
   ]
  },
  {
   "cell_type": "markdown",
   "id": "3f4256c0-868c-4878-85a2-eaf501ce1289",
   "metadata": {},
   "source": [
    "### Exercise 1 \n",
    "Filter the `DataFrame` to find rows where `Age` is between 30 and 50 (including the lower bound) and the passenger is in 2nd class. Do this in eager mode in a single pass through the `DataFrame`"
   ]
  },
  {
   "cell_type": "code",
   "execution_count": null,
   "id": "919561ac-e2ed-450c-aca8-c1a885e6652a",
   "metadata": {
    "tags": []
   },
   "outputs": [],
   "source": [
    "(\n",
    "    pl.read_csv(csv_file)\n",
    "    <blank>\n",
    ")"
   ]
  },
  {
   "cell_type": "markdown",
   "id": "f00aab75-13f4-428c-95d3-6e72286370a3",
   "metadata": {},
   "source": [
    "Do this again combining the range condition with the keyword approach for the 2nd class condition - does the order you pass the conditions matter?"
   ]
  },
  {
   "cell_type": "code",
   "execution_count": null,
   "id": "d530acf8-c606-47cb-8a9b-ff17c37394f6",
   "metadata": {},
   "outputs": [],
   "source": []
  },
  {
   "cell_type": "markdown",
   "id": "318207a0-01a7-46fd-85a8-4d8f0756ebc3",
   "metadata": {},
   "source": [
    "### Exercise 2\n",
    "Return all the rows of the `DataFrame` where at least one column on the row is `null` (excluding the `Cabin` column with many `null` values)"
   ]
  },
  {
   "cell_type": "code",
   "execution_count": null,
   "id": "81fcc1ad-60b9-487d-8556-fa101748fc48",
   "metadata": {},
   "outputs": [],
   "source": [
    "(\n",
    "    pl.read_csv(csv_file)\n",
    "    .drop(\"Cabin\")\n",
    "    <blank>\n",
    ")"
   ]
  },
  {
   "cell_type": "markdown",
   "id": "37b21d3c-8373-4b39-99f0-9c0c90e7161f",
   "metadata": {},
   "source": [
    "### Exercise 3\n",
    "Create a `DataFrame` where the passengers got on in Cork (\"C\") or Southampton (\"S\") using the pipe operator"
   ]
  },
  {
   "cell_type": "code",
   "execution_count": null,
   "id": "9c72f72c-43c3-4475-9e78-0a65d68826a3",
   "metadata": {},
   "outputs": [],
   "source": [
    "(\n",
    "    pl.read_csv(csv_file)\n",
    "    <blank>\n",
    ")"
   ]
  },
  {
   "cell_type": "markdown",
   "id": "ee459927-5a61-42a9-be9d-4cacd4bae5c8",
   "metadata": {},
   "source": [
    "Do this again using the `is_in` approach"
   ]
  },
  {
   "cell_type": "code",
   "execution_count": null,
   "id": "1e022d24-6c42-47b8-b490-522035f7eec8",
   "metadata": {},
   "outputs": [],
   "source": []
  },
  {
   "cell_type": "markdown",
   "id": "d3ff25e0-ac53-4361-97df-9d2aa9e498f7",
   "metadata": {},
   "source": [
    "### Exercise 4\n",
    "Load the Spotify CSV data into a `DataFrame`"
   ]
  },
  {
   "cell_type": "code",
   "execution_count": null,
   "id": "1378fe5a-be10-4f1d-a6cc-fa4219840636",
   "metadata": {},
   "outputs": [],
   "source": [
    "pl.Config.set_fmt_str_lengths(30)\n",
    "spotify_csv = \"../data/spotify-charts-2017-2021-global-top200.csv.gz\"\n",
    "spotify_df = pl.read_csv(spotify_csv)\n",
    "spotify_df.head()"
   ]
  },
  {
   "cell_type": "markdown",
   "id": "4ed827f2-0940-42c4-b223-985199956db9",
   "metadata": {},
   "source": [
    "Find all rows where the number of streams is greater than 10 million and the trend is \"NEW_ENTRY\"  "
   ]
  },
  {
   "cell_type": "code",
   "execution_count": null,
   "id": "1488bc76-672f-491e-bd06-4b9fcf5169d4",
   "metadata": {},
   "outputs": [],
   "source": []
  },
  {
   "cell_type": "markdown",
   "id": "9e5a8bf8-d99f-47cd-b405-394cad1bac57",
   "metadata": {},
   "source": [
    "Find the rows where the artist is either Drake or Ed Sheeran and the rank is less than (better than) 5"
   ]
  },
  {
   "cell_type": "code",
   "execution_count": null,
   "id": "42b62879-f5b0-454c-88b8-13bcc7873703",
   "metadata": {},
   "outputs": [],
   "source": []
  },
  {
   "cell_type": "markdown",
   "id": "f08531e8-1030-42fd-9c55-36bf78faae63",
   "metadata": {},
   "source": [
    "## Solutions\n",
    "### Solution to Exercise 1\n",
    "Create a `DataFrame` where `Age` is between 30 and 50 (including the lower bound) and the passenger is in 2nd class. Do this in eager mode in a single pass through the `DataFrame`"
   ]
  },
  {
   "cell_type": "code",
   "execution_count": null,
   "id": "80da22aa-ae65-4c10-890d-bee420195c49",
   "metadata": {
    "jupyter": {
     "source_hidden": true
    },
    "tags": []
   },
   "outputs": [],
   "source": [
    "(\n",
    "    pl.read_csv(csv_file)\n",
    "    .filter(\n",
    "        (pl.col('Age').is_between(30,50,closed=\"left\")) & (pl.col('Pclass')==2)\n",
    "    )\n",
    "    .head()\n",
    ")"
   ]
  },
  {
   "cell_type": "markdown",
   "id": "10f51855-bd0a-4f33-a404-40ff04be6923",
   "metadata": {},
   "source": [
    "Do this again combining the range condition with the keyword approach for the 2nd class condition - does the order you pass the conditions matter?"
   ]
  },
  {
   "cell_type": "code",
   "execution_count": null,
   "id": "280ba7cd-0c67-4767-8199-b15d59beecb6",
   "metadata": {
    "jupyter": {
     "source_hidden": true
    }
   },
   "outputs": [],
   "source": [
    "(\n",
    "    pl.read_csv(csv_file)\n",
    "    .filter(\n",
    "        pl.col('Age').is_between(30,50,closed=\"left\"),\n",
    "        Pclass=2,\n",
    "    )\n",
    "    .head()\n",
    ")"
   ]
  },
  {
   "cell_type": "markdown",
   "id": "3dc2a4dc-47ff-4fb8-98f8-719d4e7b5564",
   "metadata": {},
   "source": [
    "The order you do this matters - Python keyword arguments must be the last on the list"
   ]
  },
  {
   "cell_type": "markdown",
   "id": "6c6dd0d7-7c84-4553-87c4-dd2cbcac579d",
   "metadata": {},
   "source": [
    "### Solution to Exercise 2\n",
    "Return all the rows of the `DataFrame` where at least one column on the row is `null` (excluding the `Cabin` column with many `null` values)"
   ]
  },
  {
   "cell_type": "code",
   "execution_count": null,
   "id": "f2fb4ec8-4a80-45a9-aa92-2c7f662b5a1f",
   "metadata": {
    "jupyter": {
     "source_hidden": true
    }
   },
   "outputs": [],
   "source": [
    "(\n",
    "    pl.read_csv(csv_file)\n",
    "    .drop(\"Cabin\")\n",
    "    .filter(\n",
    "        pl.any_horizontal(\n",
    "            pl.all().is_null()\n",
    "        )\n",
    "    )\n",
    "    .head()\n",
    ")"
   ]
  },
  {
   "cell_type": "markdown",
   "id": "d3a021b1-36af-4caf-a7e5-e6e482e7351b",
   "metadata": {},
   "source": [
    "### Solution to Exercise 3\n",
    "Create a `DataFrame` where the passengers got on in Cork (\"C\") or Southampton (\"S\") using the pipe operator"
   ]
  },
  {
   "cell_type": "code",
   "execution_count": null,
   "id": "a483e251-0b77-4cdd-9e31-16a4e538f9a6",
   "metadata": {
    "tags": []
   },
   "outputs": [],
   "source": [
    "(\n",
    "    pl.read_csv(csv_file)\n",
    "    .filter(\n",
    "        (pl.col('Embarked') == \"C\") | (pl.col('Embarked') == \"S\")\n",
    "    )\n",
    "    .head(3)\n",
    ")"
   ]
  },
  {
   "cell_type": "markdown",
   "id": "e41c0eab-a380-46be-a610-eccc2b2b47b9",
   "metadata": {},
   "source": [
    "Do this again using the `is_in` approach"
   ]
  },
  {
   "cell_type": "code",
   "execution_count": null,
   "id": "afcb94e2-365f-4e4c-89e0-ed10d3041736",
   "metadata": {},
   "outputs": [],
   "source": [
    "(\n",
    "    pl.read_csv(csv_file)\n",
    "    .filter(\n",
    "        pl.col('Embarked').is_in([\"C\",\"S\"])\n",
    "    )\n",
    "    .head()\n",
    ")"
   ]
  },
  {
   "cell_type": "markdown",
   "id": "b36fd92f-cbe5-4b85-a446-a4143f255b5c",
   "metadata": {},
   "source": [
    "### Solution to Exercise 4\n",
    "Load the Spotify CSV data into a `DataFrame`"
   ]
  },
  {
   "cell_type": "code",
   "execution_count": null,
   "id": "eeefcf53-6930-44dc-97ea-2b43616e1d14",
   "metadata": {},
   "outputs": [],
   "source": [
    "pl.Config.set_fmt_str_lengths(30)\n",
    "spotify_csv = \"../data/spotify-charts-2017-2021-global-top200.csv.gz\"\n",
    "spotify_df = pl.read_csv(spotify_csv)\n",
    "spotify_df.head()"
   ]
  },
  {
   "cell_type": "markdown",
   "id": "b2b9059a-4712-4587-8477-73df6581c39e",
   "metadata": {},
   "source": [
    "Find all rows where the number of streams is greater than 10 million and the trend is \"NEW_ENTRY\"  "
   ]
  },
  {
   "cell_type": "code",
   "execution_count": null,
   "id": "2959fa98-c15e-4199-b7a7-7b3b05692546",
   "metadata": {
    "jupyter": {
     "source_hidden": true
    }
   },
   "outputs": [],
   "source": [
    "(\n",
    "    spotify_df\n",
    "    .filter(\n",
    "        pl.col(\"streams\")>1e7,\n",
    "        trend = \"NEW_ENTRY\"\n",
    "    )\n",
    ")"
   ]
  },
  {
   "cell_type": "markdown",
   "id": "e15a0462-ca27-4699-b24e-4aa32a265141",
   "metadata": {},
   "source": [
    "Find the rows where the artist is either Drake or Ed Sheeran and the rank is less than (better than) 5"
   ]
  },
  {
   "cell_type": "code",
   "execution_count": null,
   "id": "7f1358d5-01f8-4b98-9cbc-2bc72b11bf83",
   "metadata": {
    "jupyter": {
     "source_hidden": true
    }
   },
   "outputs": [],
   "source": [
    "(\n",
    "    spotify_df\n",
    "    .filter(\n",
    "        pl.col(\"artist\").is_in([\"Drake\",\"Ed Sheeran\"])\n",
    "    )\n",
    "    .filter(pl.col(\"rank\")<5)\n",
    ")"
   ]
  }
 ],
 "metadata": {
  "kernelspec": {
   "display_name": "Python 3 (ipykernel)",
   "language": "python",
   "name": "python3"
  },
  "language_info": {
   "codemirror_mode": {
    "name": "ipython",
    "version": 3
   },
   "file_extension": ".py",
   "mimetype": "text/x-python",
   "name": "python",
   "nbconvert_exporter": "python",
   "pygments_lexer": "ipython3",
   "version": "3.10.1"
  }
 },
 "nbformat": 4,
 "nbformat_minor": 5
}
