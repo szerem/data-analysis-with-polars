{
 "cells": [
  {
   "cell_type": "markdown",
   "id": "5a3ba7c2-c749-4951-8c03-94ae632dca90",
   "metadata": {},
   "source": [
    "## Test installation\n",
    "In this notebook we test your installation and whether you are in the virtual environment.\n",
    "\n",
    "First we will check to see that we are running Jupyter from the `course_env` virtual environment.\n",
    "\n",
    "We do this by importing the built-in `sys` module and printing the output of `sys.executable`"
   ]
  },
  {
   "cell_type": "code",
   "execution_count": 1,
   "id": "10b6ab59-bd78-428f-a609-a09aabf28260",
   "metadata": {},
   "outputs": [
    {
     "data": {
      "text/plain": [
       "'/usr/local/bin/python'"
      ]
     },
     "execution_count": 1,
     "metadata": {},
     "output_type": "execute_result"
    }
   ],
   "source": [
    "import sys\n",
    "sys.executable"
   ]
  },
  {
   "cell_type": "markdown",
   "id": "22781391-c420-4940-9210-d437e8ce251a",
   "metadata": {},
   "source": [
    "On Linux or Mac the output should be something like\n",
    "```bash\n",
    "'<path-to-current-dir>/course_env/bin/python'\n",
    "```\n",
    "while on Windows it should be something like:\n",
    "```bash\n",
    "'C:\\\\<path-to-current-folder>\\\\course_env\\\\Scripts\\\\python.exe'\n",
    "```\n",
    "\n",
    "If it is not in your virtual environment you need to activate your virtual environment. \n",
    "\n",
    "If you have a pre-existing `conda` environment activated you may need to `deactivate` that environment before activating the course_env enviroment"
   ]
  },
  {
   "cell_type": "markdown",
   "id": "fd99aee8-4511-45be-8ca0-1d8870d1bd88",
   "metadata": {},
   "source": [
    "## Test imports\n",
    "You will need to be able to import Polars and (less importantly) Plotly.\n",
    "\n",
    "**If this cell runs for more than 15 seconds without finishing then restart the kernel and try again**"
   ]
  },
  {
   "cell_type": "code",
   "execution_count": 3,
   "id": "f3d26527-2e51-449e-9df1-d4102a89a6f4",
   "metadata": {},
   "outputs": [],
   "source": [
    "import polars as pl\n",
    "import pandas as pd\n",
    "import numpy as np\n",
    "import plotly.express as px"
   ]
  },
  {
   "cell_type": "markdown",
   "id": "601e565d-757b-4a6b-98b3-0a4c2a6b383a",
   "metadata": {},
   "source": [
    "## Test data read\n",
    "You will need to be able to read the following data files"
   ]
  },
  {
   "cell_type": "code",
   "execution_count": 5,
   "id": "3d5b8c92-806e-40df-9c7f-f1ba65ed1641",
   "metadata": {},
   "outputs": [
    {
     "data": {
      "text/html": [
       "<div><style>\n",
       ".dataframe > thead > tr,\n",
       ".dataframe > tbody > tr {\n",
       "  text-align: right;\n",
       "  white-space: pre-wrap;\n",
       "}\n",
       "</style>\n",
       "<small>shape: (2, 12)</small><table border=\"1\" class=\"dataframe\"><thead><tr><th>PassengerId</th><th>Survived</th><th>Pclass</th><th>Name</th><th>Sex</th><th>Age</th><th>SibSp</th><th>Parch</th><th>Ticket</th><th>Fare</th><th>Cabin</th><th>Embarked</th></tr><tr><td>i64</td><td>i64</td><td>i64</td><td>str</td><td>str</td><td>f64</td><td>i64</td><td>i64</td><td>str</td><td>f64</td><td>str</td><td>str</td></tr></thead><tbody><tr><td>1</td><td>0</td><td>3</td><td>&quot;Braund, Mr. Ow…</td><td>&quot;male&quot;</td><td>22.0</td><td>1</td><td>0</td><td>&quot;A/5 21171&quot;</td><td>7.25</td><td>null</td><td>&quot;S&quot;</td></tr><tr><td>2</td><td>1</td><td>1</td><td>&quot;Cumings, Mrs. …</td><td>&quot;female&quot;</td><td>38.0</td><td>1</td><td>0</td><td>&quot;PC 17599&quot;</td><td>71.2833</td><td>&quot;C85&quot;</td><td>&quot;C&quot;</td></tr></tbody></table></div>"
      ],
      "text/plain": [
       "shape: (2, 12)\n",
       "┌─────────────┬──────────┬────────┬───────────────────┬───┬───────────┬─────────┬───────┬──────────┐\n",
       "│ PassengerId ┆ Survived ┆ Pclass ┆ Name              ┆ … ┆ Ticket    ┆ Fare    ┆ Cabin ┆ Embarked │\n",
       "│ ---         ┆ ---      ┆ ---    ┆ ---               ┆   ┆ ---       ┆ ---     ┆ ---   ┆ ---      │\n",
       "│ i64         ┆ i64      ┆ i64    ┆ str               ┆   ┆ str       ┆ f64     ┆ str   ┆ str      │\n",
       "╞═════════════╪══════════╪════════╪═══════════════════╪═══╪═══════════╪═════════╪═══════╪══════════╡\n",
       "│ 1           ┆ 0        ┆ 3      ┆ Braund, Mr. Owen  ┆ … ┆ A/5 21171 ┆ 7.25    ┆ null  ┆ S        │\n",
       "│             ┆          ┆        ┆ Harris            ┆   ┆           ┆         ┆       ┆          │\n",
       "│ 2           ┆ 1        ┆ 1      ┆ Cumings, Mrs.     ┆ … ┆ PC 17599  ┆ 71.2833 ┆ C85   ┆ C        │\n",
       "│             ┆          ┆        ┆ John Bradley      ┆   ┆           ┆         ┆       ┆          │\n",
       "│             ┆          ┆        ┆ (Flor…            ┆   ┆           ┆         ┆       ┆          │\n",
       "└─────────────┴──────────┴────────┴───────────────────┴───┴───────────┴─────────┴───────┴──────────┘"
      ]
     },
     "execution_count": 5,
     "metadata": {},
     "output_type": "execute_result"
    }
   ],
   "source": [
    "pl.read_csv(\"data/titanic.csv\").head(2)"
   ]
  },
  {
   "cell_type": "markdown",
   "id": "38cb5abb-6ac5-4726-adee-e9d25be594f5",
   "metadata": {},
   "source": [
    "Ok, if all that worked you should be good to go!\n",
    "\n",
    "If not - let me know what happened: liam@rhosignal.com"
   ]
  },
  {
   "cell_type": "code",
   "execution_count": null,
   "id": "69d23b9c-512d-476d-a136-3cdad5f4375a",
   "metadata": {},
   "outputs": [],
   "source": []
  },
  {
   "cell_type": "code",
   "execution_count": null,
   "id": "096d8806-2dff-4e90-a1d5-c13dbb40b508",
   "metadata": {},
   "outputs": [],
   "source": []
  }
 ],
 "metadata": {
  "kernelspec": {
   "display_name": "Python 3 (ipykernel)",
   "language": "python",
   "name": "python3"
  },
  "language_info": {
   "codemirror_mode": {
    "name": "ipython",
    "version": 3
   },
   "file_extension": ".py",
   "mimetype": "text/x-python",
   "name": "python",
   "nbconvert_exporter": "python",
   "pygments_lexer": "ipython3",
   "version": "3.10.1"
  }
 },
 "nbformat": 4,
 "nbformat_minor": 5
}
